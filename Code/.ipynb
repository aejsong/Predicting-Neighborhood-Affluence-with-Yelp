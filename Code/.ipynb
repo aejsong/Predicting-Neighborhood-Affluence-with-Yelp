{
 "cells": [
  {
   "cell_type": "markdown",
   "metadata": {},
   "source": [
    "# making a new transformer class\n",
    "\n",
    "- countvectorize category column to make separate into separate individual categories\n",
    "- multiply price by category\n",
    "- \"standard scale\" it\n",
    "    - take average of category to get average price\n",
    "    - see whether an individual listing or group of listings is disproportionately high or low\n",
    "- feature engineer price * ratings? or ratings * category?"
   ]
  },
  {
   "cell_type": "code",
   "execution_count": 30,
   "metadata": {},
   "outputs": [],
   "source": [
    "import pandas as pd\n",
    "import numpy as np\n",
    "import matplotlib.pyplot as plt\n",
    "import seaborn as sns\n",
    "import time\n",
    "\n",
    "from sklearn.model_selection import train_test_split\n",
    "\n",
    "from sklearn.feature_extraction.text import CountVectorizer\n",
    "from sklearn.base import BaseEstimator, TransformerMixin\n",
    "from sklearn.preprocessing import OneHotEncoder, StandardScaler\n",
    "from sklearn.impute import SimpleImputer\n",
    "from sklearn.pipeline import FeatureUnion, Pipeline"
   ]
  },
  {
   "cell_type": "code",
   "execution_count": 24,
   "metadata": {},
   "outputs": [
    {
     "data": {
      "text/html": [
       "<div>\n",
       "<style scoped>\n",
       "    .dataframe tbody tr th:only-of-type {\n",
       "        vertical-align: middle;\n",
       "    }\n",
       "\n",
       "    .dataframe tbody tr th {\n",
       "        vertical-align: top;\n",
       "    }\n",
       "\n",
       "    .dataframe thead th {\n",
       "        text-align: right;\n",
       "    }\n",
       "</style>\n",
       "<table border=\"1\" class=\"dataframe\">\n",
       "  <thead>\n",
       "    <tr style=\"text-align: right;\">\n",
       "      <th></th>\n",
       "      <th>alias</th>\n",
       "      <th>categories</th>\n",
       "      <th>city</th>\n",
       "      <th>id</th>\n",
       "      <th>latitude</th>\n",
       "      <th>longitude</th>\n",
       "      <th>price</th>\n",
       "      <th>rating</th>\n",
       "      <th>review_count</th>\n",
       "      <th>zip_code</th>\n",
       "      <th>avg_agi</th>\n",
       "    </tr>\n",
       "  </thead>\n",
       "  <tbody>\n",
       "    <tr>\n",
       "      <td>0</td>\n",
       "      <td>重庆特色小面-chongqing-special-noodles-san-gabriel-3</td>\n",
       "      <td>['noodles', 'chinese']</td>\n",
       "      <td>San Gabriel</td>\n",
       "      <td>mm6l24khOfXhKqn4pKVojA</td>\n",
       "      <td>34.103070</td>\n",
       "      <td>-118.091840</td>\n",
       "      <td>1</td>\n",
       "      <td>4.0</td>\n",
       "      <td>204.0</td>\n",
       "      <td>91776</td>\n",
       "      <td>37.21102</td>\n",
       "    </tr>\n",
       "    <tr>\n",
       "      <td>1</td>\n",
       "      <td>yung-ho-cafe-san-gabriel-2</td>\n",
       "      <td>['taiwanese', 'chinese', 'breakfast_brunch']</td>\n",
       "      <td>San Gabriel</td>\n",
       "      <td>zO8V4fi49QQMn4Sa_0OS9g</td>\n",
       "      <td>34.081429</td>\n",
       "      <td>-118.084785</td>\n",
       "      <td>1</td>\n",
       "      <td>3.0</td>\n",
       "      <td>263.0</td>\n",
       "      <td>91776</td>\n",
       "      <td>37.21102</td>\n",
       "    </tr>\n",
       "    <tr>\n",
       "      <td>2</td>\n",
       "      <td>yun-nan-168-san-gabriel</td>\n",
       "      <td>['chinese']</td>\n",
       "      <td>San Gabriel</td>\n",
       "      <td>6J_4QelYHplaLHzof1VEyg</td>\n",
       "      <td>34.080849</td>\n",
       "      <td>-118.090324</td>\n",
       "      <td>1</td>\n",
       "      <td>3.0</td>\n",
       "      <td>4.0</td>\n",
       "      <td>91776</td>\n",
       "      <td>37.21102</td>\n",
       "    </tr>\n",
       "    <tr>\n",
       "      <td>3</td>\n",
       "      <td>yum-cha-cafe-san-gabriel</td>\n",
       "      <td>['dimsum', 'hotdogs']</td>\n",
       "      <td>San Gabriel</td>\n",
       "      <td>KD_fdBnwN3TbJYJ8mcvq4Q</td>\n",
       "      <td>34.078899</td>\n",
       "      <td>-118.092026</td>\n",
       "      <td>1</td>\n",
       "      <td>3.0</td>\n",
       "      <td>138.0</td>\n",
       "      <td>91776</td>\n",
       "      <td>37.21102</td>\n",
       "    </tr>\n",
       "    <tr>\n",
       "      <td>4</td>\n",
       "      <td>yuk-dae-jang-san-gabriel-2</td>\n",
       "      <td>['korean']</td>\n",
       "      <td>San Gabriel</td>\n",
       "      <td>DwvljRkxkMEljQBYX-MeTw</td>\n",
       "      <td>34.102080</td>\n",
       "      <td>-118.109870</td>\n",
       "      <td>2</td>\n",
       "      <td>4.5</td>\n",
       "      <td>158.0</td>\n",
       "      <td>91776</td>\n",
       "      <td>37.21102</td>\n",
       "    </tr>\n",
       "  </tbody>\n",
       "</table>\n",
       "</div>"
      ],
      "text/plain": [
       "                                            alias  \\\n",
       "0  重庆特色小面-chongqing-special-noodles-san-gabriel-3   \n",
       "1                      yung-ho-cafe-san-gabriel-2   \n",
       "2                         yun-nan-168-san-gabriel   \n",
       "3                        yum-cha-cafe-san-gabriel   \n",
       "4                      yuk-dae-jang-san-gabriel-2   \n",
       "\n",
       "                                     categories         city  \\\n",
       "0                        ['noodles', 'chinese']  San Gabriel   \n",
       "1  ['taiwanese', 'chinese', 'breakfast_brunch']  San Gabriel   \n",
       "2                                   ['chinese']  San Gabriel   \n",
       "3                         ['dimsum', 'hotdogs']  San Gabriel   \n",
       "4                                    ['korean']  San Gabriel   \n",
       "\n",
       "                       id   latitude   longitude  price  rating  review_count  \\\n",
       "0  mm6l24khOfXhKqn4pKVojA  34.103070 -118.091840      1     4.0         204.0   \n",
       "1  zO8V4fi49QQMn4Sa_0OS9g  34.081429 -118.084785      1     3.0         263.0   \n",
       "2  6J_4QelYHplaLHzof1VEyg  34.080849 -118.090324      1     3.0           4.0   \n",
       "3  KD_fdBnwN3TbJYJ8mcvq4Q  34.078899 -118.092026      1     3.0         138.0   \n",
       "4  DwvljRkxkMEljQBYX-MeTw  34.102080 -118.109870      2     4.5         158.0   \n",
       "\n",
       "   zip_code   avg_agi  \n",
       "0     91776  37.21102  \n",
       "1     91776  37.21102  \n",
       "2     91776  37.21102  \n",
       "3     91776  37.21102  \n",
       "4     91776  37.21102  "
      ]
     },
     "execution_count": 24,
     "metadata": {},
     "output_type": "execute_result"
    }
   ],
   "source": [
    "data = pd.read_csv('../data/data_income_jerry.csv')\n",
    "data.drop('Unnamed: 0', axis=1, inplace=True)\n",
    "data.head()"
   ]
  },
  {
   "cell_type": "code",
   "execution_count": 25,
   "metadata": {},
   "outputs": [
    {
     "data": {
      "text/plain": [
       "(28476, 11)"
      ]
     },
     "execution_count": 25,
     "metadata": {},
     "output_type": "execute_result"
    }
   ],
   "source": [
    "data.shape"
   ]
  },
  {
   "cell_type": "code",
   "execution_count": 49,
   "metadata": {},
   "outputs": [],
   "source": [
    "X = data.drop(columns='avg_agi')\n",
    "y = data['avg_agi']"
   ]
  },
  {
   "cell_type": "code",
   "execution_count": 50,
   "metadata": {},
   "outputs": [],
   "source": [
    "X_train, X_test, y_train, y_test = train_test_split(X, \n",
    "                                                    y, \n",
    "                                                    random_state=111)"
   ]
  },
  {
   "cell_type": "code",
   "execution_count": 51,
   "metadata": {},
   "outputs": [],
   "source": [
    "# https://stackoverflow.com/questions/46778392/\n",
    "# https://stackoverflow.com/questions/34734940/\n",
    "\n",
    "'''\n",
    "use function for both X_train and X_test\n",
    "you can save as a different DF or overwrite\n",
    "\n",
    "maybe this can go in a markdown cell:\n",
    "\n",
    "    We first use CountVectorizer() to create dummy columns for\n",
    "    each category. We multiply these columns the price by the \n",
    "    dummy categories so that we can get a price inside the\n",
    "    category column.\n",
    "    \n",
    "    e.g. if a Korean restaurant has a price of '3', then we \n",
    "    want that row to have a '3' in the 'korean' column.\n",
    "    \n",
    "    This allows us to standard scale each category column so\n",
    "    that we can assess the relative price of each business\n",
    "    listing given its category. That way, if one area has\n",
    "    relatively expensive Korean restaurants, and another area\n",
    "    has relatively inexpensive jewelry stores, those scaled\n",
    "    factors may have an effect in our ability to model.\n",
    "    \n",
    "'''\n",
    "\n",
    "def category_pricer(df):\n",
    "    '''\n",
    "    Adds scaled price columns to a Yelp Business DataFrame.\n",
    "    \n",
    "    Arguments:\n",
    "        df (pandas.DataFrame):      the DataFrame that contains all\n",
    "                                    Yelp businesses. Must include\n",
    "                                    'category' and 'price' column.\n",
    "                                    \n",
    "    Returns:\n",
    "        'price_sc':                 standard scaled price\n",
    "        'adj_price':                the average price of \n",
    "                                    category-scaled prices\n",
    "\n",
    "    Goal:   to standard scale the price of a business listing\n",
    "            given its category.\n",
    "    '''\n",
    "    \n",
    "    # instantiate CountVectorizer() and fit 'category'\n",
    "    cvect = CountVectorizer()\n",
    "    u = cvect.fit_transform(df['category']).toarray()\n",
    "    \n",
    "    # multiply 'price' by vectorized columns\n",
    "    v = df['price'].values\n",
    "    for i in range(len(df)):\n",
    "        u[i] = u[i] * v[i]\n",
    "        \n",
    "    # make into a DataFrame since that allows us to make\n",
    "    # quicker row calculations\n",
    "    categories = cvect.get_feature_names()\n",
    "    C = pd.DataFrame(u, columns=categories)\n",
    "    \n",
    "    # replace 0 with NaN so that it doesn't mess with\n",
    "    # standard scaling or finding the average, since the\n",
    "    # 0 values represent missing values anyway\n",
    "    C.replace(0, np.NaN, inplace=True)\n",
    "    \n",
    "    # standard scale each category\n",
    "    sc = StandardScaler()\n",
    "    S = pd.DataFrame(sc.fit_transform(C), columns=categories)\n",
    "    \n",
    "    df['price_sc'] = sc.fit_transform(df['price'])\n",
    "    \n",
    "    # right now if a listing belongs to multiple categories,\n",
    "    # it will take the average of the scaled category scores.\n",
    "    df['adj_price'] = S.mean(axis=1)\n",
    "    \n",
    "    return df"
   ]
  },
  {
   "cell_type": "code",
   "execution_count": 52,
   "metadata": {},
   "outputs": [
    {
     "ename": "KeyError",
     "evalue": "'category'",
     "output_type": "error",
     "traceback": [
      "\u001b[0;31m---------------------------------------------------------------------------\u001b[0m",
      "\u001b[0;31mKeyError\u001b[0m                                  Traceback (most recent call last)",
      "\u001b[0;32m/Users/Jelly/anaconda3/lib/python3.7/site-packages/pandas/core/indexes/base.py\u001b[0m in \u001b[0;36mget_loc\u001b[0;34m(self, key, method, tolerance)\u001b[0m\n\u001b[1;32m   2896\u001b[0m             \u001b[0;32mtry\u001b[0m\u001b[0;34m:\u001b[0m\u001b[0;34m\u001b[0m\u001b[0;34m\u001b[0m\u001b[0m\n\u001b[0;32m-> 2897\u001b[0;31m                 \u001b[0;32mreturn\u001b[0m \u001b[0mself\u001b[0m\u001b[0;34m.\u001b[0m\u001b[0m_engine\u001b[0m\u001b[0;34m.\u001b[0m\u001b[0mget_loc\u001b[0m\u001b[0;34m(\u001b[0m\u001b[0mkey\u001b[0m\u001b[0;34m)\u001b[0m\u001b[0;34m\u001b[0m\u001b[0;34m\u001b[0m\u001b[0m\n\u001b[0m\u001b[1;32m   2898\u001b[0m             \u001b[0;32mexcept\u001b[0m \u001b[0mKeyError\u001b[0m\u001b[0;34m:\u001b[0m\u001b[0;34m\u001b[0m\u001b[0;34m\u001b[0m\u001b[0m\n",
      "\u001b[0;32mpandas/_libs/index.pyx\u001b[0m in \u001b[0;36mpandas._libs.index.IndexEngine.get_loc\u001b[0;34m()\u001b[0m\n",
      "\u001b[0;32mpandas/_libs/index.pyx\u001b[0m in \u001b[0;36mpandas._libs.index.IndexEngine.get_loc\u001b[0;34m()\u001b[0m\n",
      "\u001b[0;32mpandas/_libs/hashtable_class_helper.pxi\u001b[0m in \u001b[0;36mpandas._libs.hashtable.PyObjectHashTable.get_item\u001b[0;34m()\u001b[0m\n",
      "\u001b[0;32mpandas/_libs/hashtable_class_helper.pxi\u001b[0m in \u001b[0;36mpandas._libs.hashtable.PyObjectHashTable.get_item\u001b[0;34m()\u001b[0m\n",
      "\u001b[0;31mKeyError\u001b[0m: 'category'",
      "\nDuring handling of the above exception, another exception occurred:\n",
      "\u001b[0;31mKeyError\u001b[0m                                  Traceback (most recent call last)",
      "\u001b[0;32m<ipython-input-52-768103180280>\u001b[0m in \u001b[0;36m<module>\u001b[0;34m\u001b[0m\n\u001b[0;32m----> 1\u001b[0;31m \u001b[0mX_train\u001b[0m \u001b[0;34m=\u001b[0m \u001b[0mcategory_pricer\u001b[0m\u001b[0;34m(\u001b[0m\u001b[0mX_train\u001b[0m\u001b[0;34m)\u001b[0m\u001b[0;34m\u001b[0m\u001b[0;34m\u001b[0m\u001b[0m\n\u001b[0m",
      "\u001b[0;32m<ipython-input-51-1eb4e824e0a9>\u001b[0m in \u001b[0;36mcategory_pricer\u001b[0;34m(df)\u001b[0m\n\u001b[1;32m     45\u001b[0m     \u001b[0;31m# instantiate CountVectorizer() and fit 'category'\u001b[0m\u001b[0;34m\u001b[0m\u001b[0;34m\u001b[0m\u001b[0;34m\u001b[0m\u001b[0m\n\u001b[1;32m     46\u001b[0m     \u001b[0mcvect\u001b[0m \u001b[0;34m=\u001b[0m \u001b[0mCountVectorizer\u001b[0m\u001b[0;34m(\u001b[0m\u001b[0;34m)\u001b[0m\u001b[0;34m\u001b[0m\u001b[0;34m\u001b[0m\u001b[0m\n\u001b[0;32m---> 47\u001b[0;31m     \u001b[0mu\u001b[0m \u001b[0;34m=\u001b[0m \u001b[0mcvect\u001b[0m\u001b[0;34m.\u001b[0m\u001b[0mfit_transform\u001b[0m\u001b[0;34m(\u001b[0m\u001b[0mdf\u001b[0m\u001b[0;34m[\u001b[0m\u001b[0;34m'category'\u001b[0m\u001b[0;34m]\u001b[0m\u001b[0;34m)\u001b[0m\u001b[0;34m.\u001b[0m\u001b[0mtoarray\u001b[0m\u001b[0;34m(\u001b[0m\u001b[0;34m)\u001b[0m\u001b[0;34m\u001b[0m\u001b[0;34m\u001b[0m\u001b[0m\n\u001b[0m\u001b[1;32m     48\u001b[0m \u001b[0;34m\u001b[0m\u001b[0m\n\u001b[1;32m     49\u001b[0m     \u001b[0;31m# multiply 'price' by vectorized columns\u001b[0m\u001b[0;34m\u001b[0m\u001b[0;34m\u001b[0m\u001b[0;34m\u001b[0m\u001b[0m\n",
      "\u001b[0;32m/Users/Jelly/anaconda3/lib/python3.7/site-packages/pandas/core/frame.py\u001b[0m in \u001b[0;36m__getitem__\u001b[0;34m(self, key)\u001b[0m\n\u001b[1;32m   2978\u001b[0m             \u001b[0;32mif\u001b[0m \u001b[0mself\u001b[0m\u001b[0;34m.\u001b[0m\u001b[0mcolumns\u001b[0m\u001b[0;34m.\u001b[0m\u001b[0mnlevels\u001b[0m \u001b[0;34m>\u001b[0m \u001b[0;36m1\u001b[0m\u001b[0;34m:\u001b[0m\u001b[0;34m\u001b[0m\u001b[0;34m\u001b[0m\u001b[0m\n\u001b[1;32m   2979\u001b[0m                 \u001b[0;32mreturn\u001b[0m \u001b[0mself\u001b[0m\u001b[0;34m.\u001b[0m\u001b[0m_getitem_multilevel\u001b[0m\u001b[0;34m(\u001b[0m\u001b[0mkey\u001b[0m\u001b[0;34m)\u001b[0m\u001b[0;34m\u001b[0m\u001b[0;34m\u001b[0m\u001b[0m\n\u001b[0;32m-> 2980\u001b[0;31m             \u001b[0mindexer\u001b[0m \u001b[0;34m=\u001b[0m \u001b[0mself\u001b[0m\u001b[0;34m.\u001b[0m\u001b[0mcolumns\u001b[0m\u001b[0;34m.\u001b[0m\u001b[0mget_loc\u001b[0m\u001b[0;34m(\u001b[0m\u001b[0mkey\u001b[0m\u001b[0;34m)\u001b[0m\u001b[0;34m\u001b[0m\u001b[0;34m\u001b[0m\u001b[0m\n\u001b[0m\u001b[1;32m   2981\u001b[0m             \u001b[0;32mif\u001b[0m \u001b[0mis_integer\u001b[0m\u001b[0;34m(\u001b[0m\u001b[0mindexer\u001b[0m\u001b[0;34m)\u001b[0m\u001b[0;34m:\u001b[0m\u001b[0;34m\u001b[0m\u001b[0;34m\u001b[0m\u001b[0m\n\u001b[1;32m   2982\u001b[0m                 \u001b[0mindexer\u001b[0m \u001b[0;34m=\u001b[0m \u001b[0;34m[\u001b[0m\u001b[0mindexer\u001b[0m\u001b[0;34m]\u001b[0m\u001b[0;34m\u001b[0m\u001b[0;34m\u001b[0m\u001b[0m\n",
      "\u001b[0;32m/Users/Jelly/anaconda3/lib/python3.7/site-packages/pandas/core/indexes/base.py\u001b[0m in \u001b[0;36mget_loc\u001b[0;34m(self, key, method, tolerance)\u001b[0m\n\u001b[1;32m   2897\u001b[0m                 \u001b[0;32mreturn\u001b[0m \u001b[0mself\u001b[0m\u001b[0;34m.\u001b[0m\u001b[0m_engine\u001b[0m\u001b[0;34m.\u001b[0m\u001b[0mget_loc\u001b[0m\u001b[0;34m(\u001b[0m\u001b[0mkey\u001b[0m\u001b[0;34m)\u001b[0m\u001b[0;34m\u001b[0m\u001b[0;34m\u001b[0m\u001b[0m\n\u001b[1;32m   2898\u001b[0m             \u001b[0;32mexcept\u001b[0m \u001b[0mKeyError\u001b[0m\u001b[0;34m:\u001b[0m\u001b[0;34m\u001b[0m\u001b[0;34m\u001b[0m\u001b[0m\n\u001b[0;32m-> 2899\u001b[0;31m                 \u001b[0;32mreturn\u001b[0m \u001b[0mself\u001b[0m\u001b[0;34m.\u001b[0m\u001b[0m_engine\u001b[0m\u001b[0;34m.\u001b[0m\u001b[0mget_loc\u001b[0m\u001b[0;34m(\u001b[0m\u001b[0mself\u001b[0m\u001b[0;34m.\u001b[0m\u001b[0m_maybe_cast_indexer\u001b[0m\u001b[0;34m(\u001b[0m\u001b[0mkey\u001b[0m\u001b[0;34m)\u001b[0m\u001b[0;34m)\u001b[0m\u001b[0;34m\u001b[0m\u001b[0;34m\u001b[0m\u001b[0m\n\u001b[0m\u001b[1;32m   2900\u001b[0m         \u001b[0mindexer\u001b[0m \u001b[0;34m=\u001b[0m \u001b[0mself\u001b[0m\u001b[0;34m.\u001b[0m\u001b[0mget_indexer\u001b[0m\u001b[0;34m(\u001b[0m\u001b[0;34m[\u001b[0m\u001b[0mkey\u001b[0m\u001b[0;34m]\u001b[0m\u001b[0;34m,\u001b[0m \u001b[0mmethod\u001b[0m\u001b[0;34m=\u001b[0m\u001b[0mmethod\u001b[0m\u001b[0;34m,\u001b[0m \u001b[0mtolerance\u001b[0m\u001b[0;34m=\u001b[0m\u001b[0mtolerance\u001b[0m\u001b[0;34m)\u001b[0m\u001b[0;34m\u001b[0m\u001b[0;34m\u001b[0m\u001b[0m\n\u001b[1;32m   2901\u001b[0m         \u001b[0;32mif\u001b[0m \u001b[0mindexer\u001b[0m\u001b[0;34m.\u001b[0m\u001b[0mndim\u001b[0m \u001b[0;34m>\u001b[0m \u001b[0;36m1\u001b[0m \u001b[0;32mor\u001b[0m \u001b[0mindexer\u001b[0m\u001b[0;34m.\u001b[0m\u001b[0msize\u001b[0m \u001b[0;34m>\u001b[0m \u001b[0;36m1\u001b[0m\u001b[0;34m:\u001b[0m\u001b[0;34m\u001b[0m\u001b[0;34m\u001b[0m\u001b[0m\n",
      "\u001b[0;32mpandas/_libs/index.pyx\u001b[0m in \u001b[0;36mpandas._libs.index.IndexEngine.get_loc\u001b[0;34m()\u001b[0m\n",
      "\u001b[0;32mpandas/_libs/index.pyx\u001b[0m in \u001b[0;36mpandas._libs.index.IndexEngine.get_loc\u001b[0;34m()\u001b[0m\n",
      "\u001b[0;32mpandas/_libs/hashtable_class_helper.pxi\u001b[0m in \u001b[0;36mpandas._libs.hashtable.PyObjectHashTable.get_item\u001b[0;34m()\u001b[0m\n",
      "\u001b[0;32mpandas/_libs/hashtable_class_helper.pxi\u001b[0m in \u001b[0;36mpandas._libs.hashtable.PyObjectHashTable.get_item\u001b[0;34m()\u001b[0m\n",
      "\u001b[0;31mKeyError\u001b[0m: 'category'"
     ]
    }
   ],
   "source": [
    "X_train = category_pricer(X_train)"
   ]
  },
  {
   "cell_type": "code",
   "execution_count": null,
   "metadata": {},
   "outputs": [],
   "source": []
  },
  {
   "cell_type": "code",
   "execution_count": 31,
   "metadata": {},
   "outputs": [
    {
     "data": {
      "text/plain": [
       "<28476x357 sparse matrix of type '<class 'numpy.int64'>'\n",
       "\twith 57560 stored elements in Compressed Sparse Row format>"
      ]
     },
     "execution_count": 31,
     "metadata": {},
     "output_type": "execute_result"
    }
   ],
   "source": [
    "cvect = CountVectorizer()\n",
    "\n"
   ]
  },
  {
   "cell_type": "code",
   "execution_count": 32,
   "metadata": {},
   "outputs": [],
   "source": [
    "# https://stackoverflow.com/questions/46778392/\n",
    "\n",
    "u = cvect.fit_transform(X['categories']).toarray()"
   ]
  },
  {
   "cell_type": "code",
   "execution_count": 33,
   "metadata": {},
   "outputs": [
    {
     "data": {
      "text/plain": [
       "array([1, 1, 1, ..., 2, 2, 1])"
      ]
     },
     "execution_count": 33,
     "metadata": {},
     "output_type": "execute_result"
    }
   ],
   "source": [
    "v = X['price'].values\n",
    "v"
   ]
  },
  {
   "cell_type": "code",
   "execution_count": 47,
   "metadata": {},
   "outputs": [
    {
     "name": "stdout",
     "output_type": "stream",
     "text": [
      "0.004271515210469564\n"
     ]
    }
   ],
   "source": [
    "start = time.time()\n",
    "for i in range(len(data)):\n",
    "    u[i] = u[i] * v[i]\n",
    "    \n",
    "end = time.time()\n",
    "\n",
    "print((end - start)/60)"
   ]
  },
  {
   "cell_type": "code",
   "execution_count": 35,
   "metadata": {},
   "outputs": [],
   "source": [
    "cvect_df = pd.DataFrame(u, columns=cvect.get_feature_names())"
   ]
  },
  {
   "cell_type": "code",
   "execution_count": 36,
   "metadata": {},
   "outputs": [],
   "source": [
    "cvect_df.replace(0, np.NaN, inplace=True)"
   ]
  },
  {
   "cell_type": "code",
   "execution_count": 37,
   "metadata": {},
   "outputs": [],
   "source": [
    "sc = StandardScaler()"
   ]
  },
  {
   "cell_type": "code",
   "execution_count": 38,
   "metadata": {},
   "outputs": [
    {
     "data": {
      "text/html": [
       "<div>\n",
       "<style scoped>\n",
       "    .dataframe tbody tr th:only-of-type {\n",
       "        vertical-align: middle;\n",
       "    }\n",
       "\n",
       "    .dataframe tbody tr th {\n",
       "        vertical-align: top;\n",
       "    }\n",
       "\n",
       "    .dataframe thead th {\n",
       "        text-align: right;\n",
       "    }\n",
       "</style>\n",
       "<table border=\"1\" class=\"dataframe\">\n",
       "  <thead>\n",
       "    <tr style=\"text-align: right;\">\n",
       "      <th></th>\n",
       "      <th>acaibowls</th>\n",
       "      <th>accessories</th>\n",
       "      <th>acupuncture</th>\n",
       "      <th>afghani</th>\n",
       "      <th>african</th>\n",
       "      <th>airportlounges</th>\n",
       "      <th>amusementparks</th>\n",
       "      <th>antiques</th>\n",
       "      <th>appliances</th>\n",
       "      <th>arabian</th>\n",
       "      <th>...</th>\n",
       "      <th>whiskeybars</th>\n",
       "      <th>wholesale_stores</th>\n",
       "      <th>wholesalers</th>\n",
       "      <th>wine_bars</th>\n",
       "      <th>wineries</th>\n",
       "      <th>winetasteclasses</th>\n",
       "      <th>winetastingroom</th>\n",
       "      <th>womenscloth</th>\n",
       "      <th>wraps</th>\n",
       "      <th>yoga</th>\n",
       "    </tr>\n",
       "  </thead>\n",
       "  <tbody>\n",
       "    <tr>\n",
       "      <td>0</td>\n",
       "      <td>NaN</td>\n",
       "      <td>NaN</td>\n",
       "      <td>NaN</td>\n",
       "      <td>NaN</td>\n",
       "      <td>NaN</td>\n",
       "      <td>NaN</td>\n",
       "      <td>NaN</td>\n",
       "      <td>NaN</td>\n",
       "      <td>NaN</td>\n",
       "      <td>NaN</td>\n",
       "      <td>...</td>\n",
       "      <td>NaN</td>\n",
       "      <td>NaN</td>\n",
       "      <td>NaN</td>\n",
       "      <td>NaN</td>\n",
       "      <td>NaN</td>\n",
       "      <td>NaN</td>\n",
       "      <td>NaN</td>\n",
       "      <td>NaN</td>\n",
       "      <td>NaN</td>\n",
       "      <td>NaN</td>\n",
       "    </tr>\n",
       "    <tr>\n",
       "      <td>1</td>\n",
       "      <td>NaN</td>\n",
       "      <td>NaN</td>\n",
       "      <td>NaN</td>\n",
       "      <td>NaN</td>\n",
       "      <td>NaN</td>\n",
       "      <td>NaN</td>\n",
       "      <td>NaN</td>\n",
       "      <td>NaN</td>\n",
       "      <td>NaN</td>\n",
       "      <td>NaN</td>\n",
       "      <td>...</td>\n",
       "      <td>NaN</td>\n",
       "      <td>NaN</td>\n",
       "      <td>NaN</td>\n",
       "      <td>NaN</td>\n",
       "      <td>NaN</td>\n",
       "      <td>NaN</td>\n",
       "      <td>NaN</td>\n",
       "      <td>NaN</td>\n",
       "      <td>NaN</td>\n",
       "      <td>NaN</td>\n",
       "    </tr>\n",
       "    <tr>\n",
       "      <td>2</td>\n",
       "      <td>NaN</td>\n",
       "      <td>NaN</td>\n",
       "      <td>NaN</td>\n",
       "      <td>NaN</td>\n",
       "      <td>NaN</td>\n",
       "      <td>NaN</td>\n",
       "      <td>NaN</td>\n",
       "      <td>NaN</td>\n",
       "      <td>NaN</td>\n",
       "      <td>NaN</td>\n",
       "      <td>...</td>\n",
       "      <td>NaN</td>\n",
       "      <td>NaN</td>\n",
       "      <td>NaN</td>\n",
       "      <td>NaN</td>\n",
       "      <td>NaN</td>\n",
       "      <td>NaN</td>\n",
       "      <td>NaN</td>\n",
       "      <td>NaN</td>\n",
       "      <td>NaN</td>\n",
       "      <td>NaN</td>\n",
       "    </tr>\n",
       "    <tr>\n",
       "      <td>3</td>\n",
       "      <td>NaN</td>\n",
       "      <td>NaN</td>\n",
       "      <td>NaN</td>\n",
       "      <td>NaN</td>\n",
       "      <td>NaN</td>\n",
       "      <td>NaN</td>\n",
       "      <td>NaN</td>\n",
       "      <td>NaN</td>\n",
       "      <td>NaN</td>\n",
       "      <td>NaN</td>\n",
       "      <td>...</td>\n",
       "      <td>NaN</td>\n",
       "      <td>NaN</td>\n",
       "      <td>NaN</td>\n",
       "      <td>NaN</td>\n",
       "      <td>NaN</td>\n",
       "      <td>NaN</td>\n",
       "      <td>NaN</td>\n",
       "      <td>NaN</td>\n",
       "      <td>NaN</td>\n",
       "      <td>NaN</td>\n",
       "    </tr>\n",
       "    <tr>\n",
       "      <td>4</td>\n",
       "      <td>NaN</td>\n",
       "      <td>NaN</td>\n",
       "      <td>NaN</td>\n",
       "      <td>NaN</td>\n",
       "      <td>NaN</td>\n",
       "      <td>NaN</td>\n",
       "      <td>NaN</td>\n",
       "      <td>NaN</td>\n",
       "      <td>NaN</td>\n",
       "      <td>NaN</td>\n",
       "      <td>...</td>\n",
       "      <td>NaN</td>\n",
       "      <td>NaN</td>\n",
       "      <td>NaN</td>\n",
       "      <td>NaN</td>\n",
       "      <td>NaN</td>\n",
       "      <td>NaN</td>\n",
       "      <td>NaN</td>\n",
       "      <td>NaN</td>\n",
       "      <td>NaN</td>\n",
       "      <td>NaN</td>\n",
       "    </tr>\n",
       "    <tr>\n",
       "      <td>...</td>\n",
       "      <td>...</td>\n",
       "      <td>...</td>\n",
       "      <td>...</td>\n",
       "      <td>...</td>\n",
       "      <td>...</td>\n",
       "      <td>...</td>\n",
       "      <td>...</td>\n",
       "      <td>...</td>\n",
       "      <td>...</td>\n",
       "      <td>...</td>\n",
       "      <td>...</td>\n",
       "      <td>...</td>\n",
       "      <td>...</td>\n",
       "      <td>...</td>\n",
       "      <td>...</td>\n",
       "      <td>...</td>\n",
       "      <td>...</td>\n",
       "      <td>...</td>\n",
       "      <td>...</td>\n",
       "      <td>...</td>\n",
       "      <td>...</td>\n",
       "    </tr>\n",
       "    <tr>\n",
       "      <td>28471</td>\n",
       "      <td>NaN</td>\n",
       "      <td>NaN</td>\n",
       "      <td>NaN</td>\n",
       "      <td>NaN</td>\n",
       "      <td>NaN</td>\n",
       "      <td>NaN</td>\n",
       "      <td>NaN</td>\n",
       "      <td>NaN</td>\n",
       "      <td>NaN</td>\n",
       "      <td>NaN</td>\n",
       "      <td>...</td>\n",
       "      <td>NaN</td>\n",
       "      <td>NaN</td>\n",
       "      <td>NaN</td>\n",
       "      <td>NaN</td>\n",
       "      <td>NaN</td>\n",
       "      <td>NaN</td>\n",
       "      <td>NaN</td>\n",
       "      <td>NaN</td>\n",
       "      <td>0.539331</td>\n",
       "      <td>NaN</td>\n",
       "    </tr>\n",
       "    <tr>\n",
       "      <td>28472</td>\n",
       "      <td>NaN</td>\n",
       "      <td>NaN</td>\n",
       "      <td>NaN</td>\n",
       "      <td>NaN</td>\n",
       "      <td>NaN</td>\n",
       "      <td>NaN</td>\n",
       "      <td>NaN</td>\n",
       "      <td>NaN</td>\n",
       "      <td>NaN</td>\n",
       "      <td>NaN</td>\n",
       "      <td>...</td>\n",
       "      <td>NaN</td>\n",
       "      <td>NaN</td>\n",
       "      <td>NaN</td>\n",
       "      <td>NaN</td>\n",
       "      <td>NaN</td>\n",
       "      <td>NaN</td>\n",
       "      <td>NaN</td>\n",
       "      <td>NaN</td>\n",
       "      <td>NaN</td>\n",
       "      <td>NaN</td>\n",
       "    </tr>\n",
       "    <tr>\n",
       "      <td>28473</td>\n",
       "      <td>NaN</td>\n",
       "      <td>NaN</td>\n",
       "      <td>NaN</td>\n",
       "      <td>NaN</td>\n",
       "      <td>NaN</td>\n",
       "      <td>NaN</td>\n",
       "      <td>NaN</td>\n",
       "      <td>NaN</td>\n",
       "      <td>NaN</td>\n",
       "      <td>NaN</td>\n",
       "      <td>...</td>\n",
       "      <td>NaN</td>\n",
       "      <td>NaN</td>\n",
       "      <td>NaN</td>\n",
       "      <td>NaN</td>\n",
       "      <td>NaN</td>\n",
       "      <td>NaN</td>\n",
       "      <td>NaN</td>\n",
       "      <td>NaN</td>\n",
       "      <td>NaN</td>\n",
       "      <td>NaN</td>\n",
       "    </tr>\n",
       "    <tr>\n",
       "      <td>28474</td>\n",
       "      <td>NaN</td>\n",
       "      <td>NaN</td>\n",
       "      <td>NaN</td>\n",
       "      <td>NaN</td>\n",
       "      <td>NaN</td>\n",
       "      <td>NaN</td>\n",
       "      <td>NaN</td>\n",
       "      <td>NaN</td>\n",
       "      <td>NaN</td>\n",
       "      <td>NaN</td>\n",
       "      <td>...</td>\n",
       "      <td>NaN</td>\n",
       "      <td>NaN</td>\n",
       "      <td>NaN</td>\n",
       "      <td>NaN</td>\n",
       "      <td>NaN</td>\n",
       "      <td>NaN</td>\n",
       "      <td>NaN</td>\n",
       "      <td>NaN</td>\n",
       "      <td>NaN</td>\n",
       "      <td>NaN</td>\n",
       "    </tr>\n",
       "    <tr>\n",
       "      <td>28475</td>\n",
       "      <td>NaN</td>\n",
       "      <td>NaN</td>\n",
       "      <td>NaN</td>\n",
       "      <td>NaN</td>\n",
       "      <td>NaN</td>\n",
       "      <td>NaN</td>\n",
       "      <td>NaN</td>\n",
       "      <td>NaN</td>\n",
       "      <td>NaN</td>\n",
       "      <td>NaN</td>\n",
       "      <td>...</td>\n",
       "      <td>NaN</td>\n",
       "      <td>NaN</td>\n",
       "      <td>NaN</td>\n",
       "      <td>NaN</td>\n",
       "      <td>NaN</td>\n",
       "      <td>NaN</td>\n",
       "      <td>NaN</td>\n",
       "      <td>NaN</td>\n",
       "      <td>NaN</td>\n",
       "      <td>NaN</td>\n",
       "    </tr>\n",
       "  </tbody>\n",
       "</table>\n",
       "<p>28476 rows × 357 columns</p>\n",
       "</div>"
      ],
      "text/plain": [
       "       acaibowls  accessories  acupuncture  afghani  african  airportlounges  \\\n",
       "0            NaN          NaN          NaN      NaN      NaN             NaN   \n",
       "1            NaN          NaN          NaN      NaN      NaN             NaN   \n",
       "2            NaN          NaN          NaN      NaN      NaN             NaN   \n",
       "3            NaN          NaN          NaN      NaN      NaN             NaN   \n",
       "4            NaN          NaN          NaN      NaN      NaN             NaN   \n",
       "...          ...          ...          ...      ...      ...             ...   \n",
       "28471        NaN          NaN          NaN      NaN      NaN             NaN   \n",
       "28472        NaN          NaN          NaN      NaN      NaN             NaN   \n",
       "28473        NaN          NaN          NaN      NaN      NaN             NaN   \n",
       "28474        NaN          NaN          NaN      NaN      NaN             NaN   \n",
       "28475        NaN          NaN          NaN      NaN      NaN             NaN   \n",
       "\n",
       "       amusementparks  antiques  appliances  arabian  ...  whiskeybars  \\\n",
       "0                 NaN       NaN         NaN      NaN  ...          NaN   \n",
       "1                 NaN       NaN         NaN      NaN  ...          NaN   \n",
       "2                 NaN       NaN         NaN      NaN  ...          NaN   \n",
       "3                 NaN       NaN         NaN      NaN  ...          NaN   \n",
       "4                 NaN       NaN         NaN      NaN  ...          NaN   \n",
       "...               ...       ...         ...      ...  ...          ...   \n",
       "28471             NaN       NaN         NaN      NaN  ...          NaN   \n",
       "28472             NaN       NaN         NaN      NaN  ...          NaN   \n",
       "28473             NaN       NaN         NaN      NaN  ...          NaN   \n",
       "28474             NaN       NaN         NaN      NaN  ...          NaN   \n",
       "28475             NaN       NaN         NaN      NaN  ...          NaN   \n",
       "\n",
       "       wholesale_stores  wholesalers  wine_bars  wineries  winetasteclasses  \\\n",
       "0                   NaN          NaN        NaN       NaN               NaN   \n",
       "1                   NaN          NaN        NaN       NaN               NaN   \n",
       "2                   NaN          NaN        NaN       NaN               NaN   \n",
       "3                   NaN          NaN        NaN       NaN               NaN   \n",
       "4                   NaN          NaN        NaN       NaN               NaN   \n",
       "...                 ...          ...        ...       ...               ...   \n",
       "28471               NaN          NaN        NaN       NaN               NaN   \n",
       "28472               NaN          NaN        NaN       NaN               NaN   \n",
       "28473               NaN          NaN        NaN       NaN               NaN   \n",
       "28474               NaN          NaN        NaN       NaN               NaN   \n",
       "28475               NaN          NaN        NaN       NaN               NaN   \n",
       "\n",
       "       winetastingroom  womenscloth     wraps  yoga  \n",
       "0                  NaN          NaN       NaN   NaN  \n",
       "1                  NaN          NaN       NaN   NaN  \n",
       "2                  NaN          NaN       NaN   NaN  \n",
       "3                  NaN          NaN       NaN   NaN  \n",
       "4                  NaN          NaN       NaN   NaN  \n",
       "...                ...          ...       ...   ...  \n",
       "28471              NaN          NaN  0.539331   NaN  \n",
       "28472              NaN          NaN       NaN   NaN  \n",
       "28473              NaN          NaN       NaN   NaN  \n",
       "28474              NaN          NaN       NaN   NaN  \n",
       "28475              NaN          NaN       NaN   NaN  \n",
       "\n",
       "[28476 rows x 357 columns]"
      ]
     },
     "execution_count": 38,
     "metadata": {},
     "output_type": "execute_result"
    }
   ],
   "source": [
    "sc_df = pd.DataFrame(sc.fit_transform(cvect_df), columns=cvect.get_feature_names())\n",
    "sc_df"
   ]
  },
  {
   "cell_type": "code",
   "execution_count": 39,
   "metadata": {},
   "outputs": [],
   "source": [
    "scprice = sc.fit_transform(data[['price']])"
   ]
  },
  {
   "cell_type": "code",
   "execution_count": 40,
   "metadata": {},
   "outputs": [],
   "source": [
    "X['price_sc'] = scprice"
   ]
  },
  {
   "cell_type": "code",
   "execution_count": 41,
   "metadata": {},
   "outputs": [],
   "source": [
    "# https://stackoverflow.com/questions/34734940/\n",
    "\n",
    "sc_df['avg'] = sc_df.mean(axis=1)"
   ]
  },
  {
   "cell_type": "code",
   "execution_count": 43,
   "metadata": {},
   "outputs": [],
   "source": [
    "X['price_2'] = sc_df['avg']"
   ]
  },
  {
   "cell_type": "code",
   "execution_count": 44,
   "metadata": {},
   "outputs": [
    {
     "data": {
      "text/html": [
       "<div>\n",
       "<style scoped>\n",
       "    .dataframe tbody tr th:only-of-type {\n",
       "        vertical-align: middle;\n",
       "    }\n",
       "\n",
       "    .dataframe tbody tr th {\n",
       "        vertical-align: top;\n",
       "    }\n",
       "\n",
       "    .dataframe thead th {\n",
       "        text-align: right;\n",
       "    }\n",
       "</style>\n",
       "<table border=\"1\" class=\"dataframe\">\n",
       "  <thead>\n",
       "    <tr style=\"text-align: right;\">\n",
       "      <th></th>\n",
       "      <th>alias</th>\n",
       "      <th>categories</th>\n",
       "      <th>city</th>\n",
       "      <th>id</th>\n",
       "      <th>latitude</th>\n",
       "      <th>longitude</th>\n",
       "      <th>price</th>\n",
       "      <th>rating</th>\n",
       "      <th>review_count</th>\n",
       "      <th>zip_code</th>\n",
       "      <th>price_sc</th>\n",
       "      <th>price_2</th>\n",
       "    </tr>\n",
       "  </thead>\n",
       "  <tbody>\n",
       "    <tr>\n",
       "      <td>0</td>\n",
       "      <td>重庆特色小面-chongqing-special-noodles-san-gabriel-3</td>\n",
       "      <td>['noodles', 'chinese']</td>\n",
       "      <td>San Gabriel</td>\n",
       "      <td>mm6l24khOfXhKqn4pKVojA</td>\n",
       "      <td>34.103070</td>\n",
       "      <td>-118.091840</td>\n",
       "      <td>1</td>\n",
       "      <td>4.0</td>\n",
       "      <td>204.0</td>\n",
       "      <td>91776</td>\n",
       "      <td>-0.832484</td>\n",
       "      <td>-0.886187</td>\n",
       "    </tr>\n",
       "    <tr>\n",
       "      <td>1</td>\n",
       "      <td>yung-ho-cafe-san-gabriel-2</td>\n",
       "      <td>['taiwanese', 'chinese', 'breakfast_brunch']</td>\n",
       "      <td>San Gabriel</td>\n",
       "      <td>zO8V4fi49QQMn4Sa_0OS9g</td>\n",
       "      <td>34.081429</td>\n",
       "      <td>-118.084785</td>\n",
       "      <td>1</td>\n",
       "      <td>3.0</td>\n",
       "      <td>263.0</td>\n",
       "      <td>91776</td>\n",
       "      <td>-0.832484</td>\n",
       "      <td>-0.858043</td>\n",
       "    </tr>\n",
       "    <tr>\n",
       "      <td>2</td>\n",
       "      <td>yun-nan-168-san-gabriel</td>\n",
       "      <td>['chinese']</td>\n",
       "      <td>San Gabriel</td>\n",
       "      <td>6J_4QelYHplaLHzof1VEyg</td>\n",
       "      <td>34.080849</td>\n",
       "      <td>-118.090324</td>\n",
       "      <td>1</td>\n",
       "      <td>3.0</td>\n",
       "      <td>4.0</td>\n",
       "      <td>91776</td>\n",
       "      <td>-0.832484</td>\n",
       "      <td>-0.763831</td>\n",
       "    </tr>\n",
       "    <tr>\n",
       "      <td>3</td>\n",
       "      <td>yum-cha-cafe-san-gabriel</td>\n",
       "      <td>['dimsum', 'hotdogs']</td>\n",
       "      <td>San Gabriel</td>\n",
       "      <td>KD_fdBnwN3TbJYJ8mcvq4Q</td>\n",
       "      <td>34.078899</td>\n",
       "      <td>-118.092026</td>\n",
       "      <td>1</td>\n",
       "      <td>3.0</td>\n",
       "      <td>138.0</td>\n",
       "      <td>91776</td>\n",
       "      <td>-0.832484</td>\n",
       "      <td>-0.944301</td>\n",
       "    </tr>\n",
       "    <tr>\n",
       "      <td>4</td>\n",
       "      <td>yuk-dae-jang-san-gabriel-2</td>\n",
       "      <td>['korean']</td>\n",
       "      <td>San Gabriel</td>\n",
       "      <td>DwvljRkxkMEljQBYX-MeTw</td>\n",
       "      <td>34.102080</td>\n",
       "      <td>-118.109870</td>\n",
       "      <td>2</td>\n",
       "      <td>4.5</td>\n",
       "      <td>158.0</td>\n",
       "      <td>91776</td>\n",
       "      <td>0.902172</td>\n",
       "      <td>0.450836</td>\n",
       "    </tr>\n",
       "  </tbody>\n",
       "</table>\n",
       "</div>"
      ],
      "text/plain": [
       "                                            alias  \\\n",
       "0  重庆特色小面-chongqing-special-noodles-san-gabriel-3   \n",
       "1                      yung-ho-cafe-san-gabriel-2   \n",
       "2                         yun-nan-168-san-gabriel   \n",
       "3                        yum-cha-cafe-san-gabriel   \n",
       "4                      yuk-dae-jang-san-gabriel-2   \n",
       "\n",
       "                                     categories         city  \\\n",
       "0                        ['noodles', 'chinese']  San Gabriel   \n",
       "1  ['taiwanese', 'chinese', 'breakfast_brunch']  San Gabriel   \n",
       "2                                   ['chinese']  San Gabriel   \n",
       "3                         ['dimsum', 'hotdogs']  San Gabriel   \n",
       "4                                    ['korean']  San Gabriel   \n",
       "\n",
       "                       id   latitude   longitude  price  rating  review_count  \\\n",
       "0  mm6l24khOfXhKqn4pKVojA  34.103070 -118.091840      1     4.0         204.0   \n",
       "1  zO8V4fi49QQMn4Sa_0OS9g  34.081429 -118.084785      1     3.0         263.0   \n",
       "2  6J_4QelYHplaLHzof1VEyg  34.080849 -118.090324      1     3.0           4.0   \n",
       "3  KD_fdBnwN3TbJYJ8mcvq4Q  34.078899 -118.092026      1     3.0         138.0   \n",
       "4  DwvljRkxkMEljQBYX-MeTw  34.102080 -118.109870      2     4.5         158.0   \n",
       "\n",
       "   zip_code  price_sc   price_2  \n",
       "0     91776 -0.832484 -0.886187  \n",
       "1     91776 -0.832484 -0.858043  \n",
       "2     91776 -0.832484 -0.763831  \n",
       "3     91776 -0.832484 -0.944301  \n",
       "4     91776  0.902172  0.450836  "
      ]
     },
     "execution_count": 44,
     "metadata": {},
     "output_type": "execute_result"
    }
   ],
   "source": [
    "X.head()"
   ]
  },
  {
   "cell_type": "code",
   "execution_count": 48,
   "metadata": {},
   "outputs": [
    {
     "ename": "IndentationError",
     "evalue": "expected an indented block (<ipython-input-48-0ea9c143eff9>, line 8)",
     "output_type": "error",
     "traceback": [
      "\u001b[0;36m  File \u001b[0;32m\"<ipython-input-48-0ea9c143eff9>\"\u001b[0;36m, line \u001b[0;32m8\u001b[0m\n\u001b[0;31m    def fit(self, X, y=None):\u001b[0m\n\u001b[0m      ^\u001b[0m\n\u001b[0;31mIndentationError\u001b[0m\u001b[0;31m:\u001b[0m expected an indented block\n"
     ]
    }
   ],
   "source": [
    "# https://towardsdatascience.com/custom-transformers-and-ml-data-pipelines-with-python-20ea2a7adb65\n",
    "# https://stackoverflow.com/questions/44408861/\n",
    "\n",
    "class CategoryPricer(BaseEstimator, TransformerMixin):\n",
    "    \n",
    "    def __init__(self):\n",
    "        \n",
    "        \n",
    "    def fit(self, X, y=None):\n",
    "        return self\n",
    "    \n",
    "    def transform(self, X, y=None):\n",
    "        cvect = CountVectorizer()\n",
    "        sc = StandardScaler()\n",
    "        \n",
    "        categories = cvect.get_feature_names()\n",
    "        \n",
    "        C = pd.DataFrame(cvect.fit_transform(X['categories']).toarray(),\n",
    "                         columns=categories)\n",
    "        \n",
    "        p = X['price'].values\n",
    "        \n",
    "        for i in range(len(C)):\n",
    "            C[i] = C[i] * p[i]\n",
    "        \n",
    "        C.replace(0, np.NaN, inplace=True)\n",
    "        \n",
    "        S = pd.DataFrame(sc.fit_transform(C),\n",
    "                         columns=categories)\n",
    "        \n",
    "        X['price_2'] = S.mean(axis=1)\n",
    "        X['price_sc'] = sc.fit_transform(X[['price']])\n",
    "        \n",
    "        return X.values"
   ]
  },
  {
   "cell_type": "code",
   "execution_count": 46,
   "metadata": {},
   "outputs": [],
   "source": [
    "# Don't uncomment this unless you actually want to create a new csv\n",
    "\n",
    "X.to_csv('../data/data_income_scaled_train_jerry.csv')"
   ]
  },
  {
   "cell_type": "code",
   "execution_count": 118,
   "metadata": {},
   "outputs": [
    {
     "data": {
      "text/html": [
       "<div>\n",
       "<style scoped>\n",
       "    .dataframe tbody tr th:only-of-type {\n",
       "        vertical-align: middle;\n",
       "    }\n",
       "\n",
       "    .dataframe tbody tr th {\n",
       "        vertical-align: top;\n",
       "    }\n",
       "\n",
       "    .dataframe thead th {\n",
       "        text-align: right;\n",
       "    }\n",
       "</style>\n",
       "<table border=\"1\" class=\"dataframe\">\n",
       "  <thead>\n",
       "    <tr style=\"text-align: right;\">\n",
       "      <th></th>\n",
       "      <th>avg_agi</th>\n",
       "      <th>price</th>\n",
       "      <th>price_2</th>\n",
       "      <th>price_sc</th>\n",
       "    </tr>\n",
       "    <tr>\n",
       "      <th>zip_code</th>\n",
       "      <th></th>\n",
       "      <th></th>\n",
       "      <th></th>\n",
       "      <th></th>\n",
       "    </tr>\n",
       "  </thead>\n",
       "  <tbody>\n",
       "    <tr>\n",
       "      <td>90001</td>\n",
       "      <td>25.152933</td>\n",
       "      <td>1.279570</td>\n",
       "      <td>-0.187469</td>\n",
       "      <td>-0.347526</td>\n",
       "    </tr>\n",
       "    <tr>\n",
       "      <td>90002</td>\n",
       "      <td>24.410496</td>\n",
       "      <td>1.095238</td>\n",
       "      <td>-0.403942</td>\n",
       "      <td>-0.667278</td>\n",
       "    </tr>\n",
       "    <tr>\n",
       "      <td>90003</td>\n",
       "      <td>23.404622</td>\n",
       "      <td>1.197183</td>\n",
       "      <td>-0.305208</td>\n",
       "      <td>-0.490439</td>\n",
       "    </tr>\n",
       "    <tr>\n",
       "      <td>90004</td>\n",
       "      <td>59.128947</td>\n",
       "      <td>1.529032</td>\n",
       "      <td>-0.054012</td>\n",
       "      <td>0.085205</td>\n",
       "    </tr>\n",
       "    <tr>\n",
       "      <td>90005</td>\n",
       "      <td>45.821128</td>\n",
       "      <td>1.639456</td>\n",
       "      <td>0.080057</td>\n",
       "      <td>0.276752</td>\n",
       "    </tr>\n",
       "    <tr>\n",
       "      <td>...</td>\n",
       "      <td>...</td>\n",
       "      <td>...</td>\n",
       "      <td>...</td>\n",
       "      <td>...</td>\n",
       "    </tr>\n",
       "    <tr>\n",
       "      <td>93551</td>\n",
       "      <td>66.457763</td>\n",
       "      <td>1.531746</td>\n",
       "      <td>0.178310</td>\n",
       "      <td>0.089913</td>\n",
       "    </tr>\n",
       "    <tr>\n",
       "      <td>93552</td>\n",
       "      <td>38.560511</td>\n",
       "      <td>1.125000</td>\n",
       "      <td>-0.445561</td>\n",
       "      <td>-0.615652</td>\n",
       "    </tr>\n",
       "    <tr>\n",
       "      <td>93553</td>\n",
       "      <td>48.930263</td>\n",
       "      <td>1.000000</td>\n",
       "      <td>-1.085897</td>\n",
       "      <td>-0.832484</td>\n",
       "    </tr>\n",
       "    <tr>\n",
       "      <td>93560</td>\n",
       "      <td>49.245950</td>\n",
       "      <td>1.500000</td>\n",
       "      <td>-0.170023</td>\n",
       "      <td>0.034844</td>\n",
       "    </tr>\n",
       "    <tr>\n",
       "      <td>93591</td>\n",
       "      <td>32.326840</td>\n",
       "      <td>1.000000</td>\n",
       "      <td>-0.767582</td>\n",
       "      <td>-0.832484</td>\n",
       "    </tr>\n",
       "  </tbody>\n",
       "</table>\n",
       "<p>340 rows × 4 columns</p>\n",
       "</div>"
      ],
      "text/plain": [
       "            avg_agi     price   price_2  price_sc\n",
       "zip_code                                         \n",
       "90001     25.152933  1.279570 -0.187469 -0.347526\n",
       "90002     24.410496  1.095238 -0.403942 -0.667278\n",
       "90003     23.404622  1.197183 -0.305208 -0.490439\n",
       "90004     59.128947  1.529032 -0.054012  0.085205\n",
       "90005     45.821128  1.639456  0.080057  0.276752\n",
       "...             ...       ...       ...       ...\n",
       "93551     66.457763  1.531746  0.178310  0.089913\n",
       "93552     38.560511  1.125000 -0.445561 -0.615652\n",
       "93553     48.930263  1.000000 -1.085897 -0.832484\n",
       "93560     49.245950  1.500000 -0.170023  0.034844\n",
       "93591     32.326840  1.000000 -0.767582 -0.832484\n",
       "\n",
       "[340 rows x 4 columns]"
      ]
     },
     "execution_count": 118,
     "metadata": {},
     "output_type": "execute_result"
    }
   ],
   "source": [
    "data_pivot = data.pivot_table(index='zip_code', values=['avg_agi', 'price', 'price_2', 'price_sc'])\n",
    "data_pivot"
   ]
  },
  {
   "cell_type": "code",
   "execution_count": 121,
   "metadata": {},
   "outputs": [
    {
     "data": {
      "text/html": [
       "<div>\n",
       "<style scoped>\n",
       "    .dataframe tbody tr th:only-of-type {\n",
       "        vertical-align: middle;\n",
       "    }\n",
       "\n",
       "    .dataframe tbody tr th {\n",
       "        vertical-align: top;\n",
       "    }\n",
       "\n",
       "    .dataframe thead th {\n",
       "        text-align: right;\n",
       "    }\n",
       "</style>\n",
       "<table border=\"1\" class=\"dataframe\">\n",
       "  <thead>\n",
       "    <tr style=\"text-align: right;\">\n",
       "      <th></th>\n",
       "      <th>price</th>\n",
       "    </tr>\n",
       "    <tr>\n",
       "      <th>zip_code</th>\n",
       "      <th></th>\n",
       "    </tr>\n",
       "  </thead>\n",
       "  <tbody>\n",
       "    <tr>\n",
       "      <td>90001</td>\n",
       "      <td>93</td>\n",
       "    </tr>\n",
       "    <tr>\n",
       "      <td>90002</td>\n",
       "      <td>21</td>\n",
       "    </tr>\n",
       "    <tr>\n",
       "      <td>90003</td>\n",
       "      <td>71</td>\n",
       "    </tr>\n",
       "    <tr>\n",
       "      <td>90004</td>\n",
       "      <td>155</td>\n",
       "    </tr>\n",
       "    <tr>\n",
       "      <td>90005</td>\n",
       "      <td>147</td>\n",
       "    </tr>\n",
       "    <tr>\n",
       "      <td>...</td>\n",
       "      <td>...</td>\n",
       "    </tr>\n",
       "    <tr>\n",
       "      <td>93551</td>\n",
       "      <td>126</td>\n",
       "    </tr>\n",
       "    <tr>\n",
       "      <td>93552</td>\n",
       "      <td>32</td>\n",
       "    </tr>\n",
       "    <tr>\n",
       "      <td>93553</td>\n",
       "      <td>2</td>\n",
       "    </tr>\n",
       "    <tr>\n",
       "      <td>93560</td>\n",
       "      <td>2</td>\n",
       "    </tr>\n",
       "    <tr>\n",
       "      <td>93591</td>\n",
       "      <td>7</td>\n",
       "    </tr>\n",
       "  </tbody>\n",
       "</table>\n",
       "<p>340 rows × 1 columns</p>\n",
       "</div>"
      ],
      "text/plain": [
       "          price\n",
       "zip_code       \n",
       "90001        93\n",
       "90002        21\n",
       "90003        71\n",
       "90004       155\n",
       "90005       147\n",
       "...         ...\n",
       "93551       126\n",
       "93552        32\n",
       "93553         2\n",
       "93560         2\n",
       "93591         7\n",
       "\n",
       "[340 rows x 1 columns]"
      ]
     },
     "execution_count": 121,
     "metadata": {},
     "output_type": "execute_result"
    }
   ],
   "source": [
    "data_pivot_2 = data.pivot_table(index='zip_code', values='price', aggfunc='count')\n",
    "data_pivot_2"
   ]
  },
  {
   "cell_type": "code",
   "execution_count": 122,
   "metadata": {},
   "outputs": [],
   "source": [
    "data_pivot_50 = data_pivot[data_pivot_2['price'] >= 50]"
   ]
  },
  {
   "cell_type": "code",
   "execution_count": 1,
   "metadata": {},
   "outputs": [
    {
     "ename": "NameError",
     "evalue": "name 'data_pivot_50' is not defined",
     "output_type": "error",
     "traceback": [
      "\u001b[0;31m---------------------------------------------------------------------------\u001b[0m",
      "\u001b[0;31mNameError\u001b[0m                                 Traceback (most recent call last)",
      "\u001b[0;32m<ipython-input-1-93160f525258>\u001b[0m in \u001b[0;36m<module>\u001b[0;34m\u001b[0m\n\u001b[0;32m----> 1\u001b[0;31m \u001b[0mlen\u001b[0m\u001b[0;34m(\u001b[0m\u001b[0mdata_pivot_50\u001b[0m\u001b[0;34m)\u001b[0m\u001b[0;34m\u001b[0m\u001b[0;34m\u001b[0m\u001b[0m\n\u001b[0m",
      "\u001b[0;31mNameError\u001b[0m: name 'data_pivot_50' is not defined"
     ]
    }
   ],
   "source": [
    "len(data_pivot_50)"
   ]
  },
  {
   "cell_type": "code",
   "execution_count": 124,
   "metadata": {},
   "outputs": [
    {
     "data": {
      "text/plain": [
       "<matplotlib.collections.PathCollection at 0x1f172823c8>"
      ]
     },
     "execution_count": 124,
     "metadata": {},
     "output_type": "execute_result"
    },
    {
     "data": {
      "image/png": "[encoded data removed]",
      "text/plain": [
       "<Figure size 432x288 with 1 Axes>"
      ]
     },
     "metadata": {
      "needs_background": "light"
     },
     "output_type": "display_data"
    }
   ],
   "source": [
    "plt.scatter(x=data_pivot_50['price_2'], y=data_pivot_50['avg_agi'])"
   ]
  },
  {
   "cell_type": "code",
   "execution_count": 125,
   "metadata": {},
   "outputs": [
    {
     "data": {
      "text/plain": [
       "<matplotlib.collections.PathCollection at 0x1f172c31d0>"
      ]
     },
     "execution_count": 125,
     "metadata": {},
     "output_type": "execute_result"
    },
    {
     "data": {
      "image/png": "[encoded data removed]",
      "text/plain": [
       "<Figure size 432x288 with 1 Axes>"
      ]
     },
     "metadata": {
      "needs_background": "light"
     },
     "output_type": "display_data"
    }
   ],
   "source": [
    "plt.scatter(x=data_pivot_50['price_sc'], y=data_pivot_50['avg_agi'])"
   ]
  },
  {
   "cell_type": "code",
   "execution_count": 106,
   "metadata": {},
   "outputs": [],
   "source": [
    "from sklearn.linear_model import LinearRegression"
   ]
  },
  {
   "cell_type": "code",
   "execution_count": 126,
   "metadata": {},
   "outputs": [],
   "source": [
    "lr = LinearRegression()"
   ]
  },
  {
   "cell_type": "code",
   "execution_count": 128,
   "metadata": {},
   "outputs": [
    {
     "name": "stdout",
     "output_type": "stream",
     "text": [
      "0.43045282538684915\n"
     ]
    }
   ],
   "source": [
    "lr.fit(data_pivot_50[['price_2']], data_pivot_50['avg_agi'])\n",
    "print(lr.score(data_pivot_50[['price_2']], data_pivot_50['avg_agi']))"
   ]
  },
  {
   "cell_type": "code",
   "execution_count": 129,
   "metadata": {},
   "outputs": [
    {
     "name": "stdout",
     "output_type": "stream",
     "text": [
      "0.41395180035664897\n"
     ]
    }
   ],
   "source": [
    "lr.fit(data_pivot_50[['price_sc']], data_pivot_50['avg_agi'])\n",
    "print(lr.score(data_pivot_50[['price_sc']], data_pivot_50['avg_agi']))"
   ]
  },
  {
   "cell_type": "code",
   "execution_count": null,
   "metadata": {},
   "outputs": [],
   "source": [
    "# https://towardsdatascience.com/custom-transformers-and-ml-data-pipelines-with-python-20ea2a7adb65\n",
    "# https://stackoverflow.com/questions/44408861/\n",
    "\n",
    "class CategoryPricer(BaseEstimator, TransformerMixin):\n",
    "    \n",
    "    def __init__(self):\n",
    "        \n",
    "    def fit(self, X, y=None):\n",
    "        return self\n",
    "    \n",
    "    def transform(self, X, y=None):\n",
    "        cvect = CountVectorizer()\n",
    "        sc = StandardScaler()\n",
    "        \n",
    "        categories = cvect.get_feature_names()\n",
    "        \n",
    "        C = pd.DataFrame(cvect.fit_transform(X['categories']).toarray(),\n",
    "                         columns=categories)\n",
    "        C.replace(0, np.NaN, inplace=True)\n",
    "        \n",
    "        S = pd.DataFrame(sc.fit_transform(C),\n",
    "                         columns=categories)\n",
    "        \n",
    "        \n",
    "        \n",
    "        X = X.drop('categories', axis=1)\n",
    "        X = X.join(C)"
   ]
  },
  {
   "cell_type": "code",
   "execution_count": 3,
   "metadata": {},
   "outputs": [
    {
     "data": {
      "text/html": [
       "<div>\n",
       "<style scoped>\n",
       "    .dataframe tbody tr th:only-of-type {\n",
       "        vertical-align: middle;\n",
       "    }\n",
       "\n",
       "    .dataframe tbody tr th {\n",
       "        vertical-align: top;\n",
       "    }\n",
       "\n",
       "    .dataframe thead th {\n",
       "        text-align: right;\n",
       "    }\n",
       "</style>\n",
       "<table border=\"1\" class=\"dataframe\">\n",
       "  <thead>\n",
       "    <tr style=\"text-align: right;\">\n",
       "      <th></th>\n",
       "      <th>alias</th>\n",
       "      <th>categories</th>\n",
       "      <th>city</th>\n",
       "      <th>id</th>\n",
       "      <th>latitude</th>\n",
       "      <th>longitude</th>\n",
       "      <th>price</th>\n",
       "      <th>rating</th>\n",
       "      <th>review_count</th>\n",
       "      <th>zip_code</th>\n",
       "      <th>avg_agi</th>\n",
       "    </tr>\n",
       "  </thead>\n",
       "  <tbody>\n",
       "    <tr>\n",
       "      <td>28475</td>\n",
       "      <td>a-bite-of-jersey-garden-grove-2</td>\n",
       "      <td>['cheesesteaks', 'sandwiches', 'chicken_wings']</td>\n",
       "      <td>Garden Grove</td>\n",
       "      <td>Gr4TtbfG10vmgOkFdnadYw</td>\n",
       "      <td>33.780935</td>\n",
       "      <td>-118.041427</td>\n",
       "      <td>1</td>\n",
       "      <td>4.0</td>\n",
       "      <td>161.0</td>\n",
       "      <td>92845</td>\n",
       "      <td>72.275806</td>\n",
       "    </tr>\n",
       "  </tbody>\n",
       "</table>\n",
       "</div>"
      ],
      "text/plain": [
       "                                 alias  \\\n",
       "28475  a-bite-of-jersey-garden-grove-2   \n",
       "\n",
       "                                            categories          city  \\\n",
       "28475  ['cheesesteaks', 'sandwiches', 'chicken_wings']  Garden Grove   \n",
       "\n",
       "                           id   latitude   longitude  price  rating  \\\n",
       "28475  Gr4TtbfG10vmgOkFdnadYw  33.780935 -118.041427      1     4.0   \n",
       "\n",
       "       review_count  zip_code    avg_agi  \n",
       "28475         161.0     92845  72.275806  "
      ]
     },
     "execution_count": 3,
     "metadata": {},
     "output_type": "execute_result"
    }
   ],
   "source": [
    "data[data['zip_code'] == 92845]"
   ]
  },
  {
   "cell_type": "code",
   "execution_count": 4,
   "metadata": {},
   "outputs": [
    {
     "data": {
      "text/html": [
       "<div>\n",
       "<style scoped>\n",
       "    .dataframe tbody tr th:only-of-type {\n",
       "        vertical-align: middle;\n",
       "    }\n",
       "\n",
       "    .dataframe tbody tr th {\n",
       "        vertical-align: top;\n",
       "    }\n",
       "\n",
       "    .dataframe thead th {\n",
       "        text-align: right;\n",
       "    }\n",
       "</style>\n",
       "<table border=\"1\" class=\"dataframe\">\n",
       "  <thead>\n",
       "    <tr style=\"text-align: right;\">\n",
       "      <th></th>\n",
       "      <th>latitude</th>\n",
       "      <th>longitude</th>\n",
       "      <th>price</th>\n",
       "      <th>rating</th>\n",
       "      <th>review_count</th>\n",
       "      <th>zip_code</th>\n",
       "      <th>avg_agi</th>\n",
       "    </tr>\n",
       "  </thead>\n",
       "  <tbody>\n",
       "    <tr>\n",
       "      <td>count</td>\n",
       "      <td>28476.000000</td>\n",
       "      <td>28476.000000</td>\n",
       "      <td>28476.000000</td>\n",
       "      <td>28476.000000</td>\n",
       "      <td>28476.000000</td>\n",
       "      <td>28476.000000</td>\n",
       "      <td>28476.000000</td>\n",
       "    </tr>\n",
       "    <tr>\n",
       "      <td>mean</td>\n",
       "      <td>34.048928</td>\n",
       "      <td>-118.242851</td>\n",
       "      <td>1.479913</td>\n",
       "      <td>3.586792</td>\n",
       "      <td>242.074062</td>\n",
       "      <td>90819.865290</td>\n",
       "      <td>75.439776</td>\n",
       "    </tr>\n",
       "    <tr>\n",
       "      <td>std</td>\n",
       "      <td>0.160146</td>\n",
       "      <td>0.204438</td>\n",
       "      <td>0.576493</td>\n",
       "      <td>0.812550</td>\n",
       "      <td>420.322936</td>\n",
       "      <td>773.298386</td>\n",
       "      <td>73.385458</td>\n",
       "    </tr>\n",
       "    <tr>\n",
       "      <td>min</td>\n",
       "      <td>33.167953</td>\n",
       "      <td>-119.174788</td>\n",
       "      <td>1.000000</td>\n",
       "      <td>0.000000</td>\n",
       "      <td>0.000000</td>\n",
       "      <td>90001.000000</td>\n",
       "      <td>23.390537</td>\n",
       "    </tr>\n",
       "    <tr>\n",
       "      <td>25%</td>\n",
       "      <td>33.948473</td>\n",
       "      <td>-118.385123</td>\n",
       "      <td>1.000000</td>\n",
       "      <td>3.000000</td>\n",
       "      <td>37.000000</td>\n",
       "      <td>90064.000000</td>\n",
       "      <td>39.288225</td>\n",
       "    </tr>\n",
       "    <tr>\n",
       "      <td>50%</td>\n",
       "      <td>34.051688</td>\n",
       "      <td>-118.263453</td>\n",
       "      <td>1.000000</td>\n",
       "      <td>4.000000</td>\n",
       "      <td>108.000000</td>\n",
       "      <td>90701.000000</td>\n",
       "      <td>55.424814</td>\n",
       "    </tr>\n",
       "    <tr>\n",
       "      <td>75%</td>\n",
       "      <td>34.131785</td>\n",
       "      <td>-118.122028</td>\n",
       "      <td>2.000000</td>\n",
       "      <td>4.000000</td>\n",
       "      <td>281.000000</td>\n",
       "      <td>91361.000000</td>\n",
       "      <td>85.202214</td>\n",
       "    </tr>\n",
       "    <tr>\n",
       "      <td>max</td>\n",
       "      <td>34.857667</td>\n",
       "      <td>-117.225868</td>\n",
       "      <td>4.000000</td>\n",
       "      <td>5.000000</td>\n",
       "      <td>16662.000000</td>\n",
       "      <td>93591.000000</td>\n",
       "      <td>811.582132</td>\n",
       "    </tr>\n",
       "  </tbody>\n",
       "</table>\n",
       "</div>"
      ],
      "text/plain": [
       "           latitude     longitude         price        rating  review_count  \\\n",
       "count  28476.000000  28476.000000  28476.000000  28476.000000  28476.000000   \n",
       "mean      34.048928   -118.242851      1.479913      3.586792    242.074062   \n",
       "std        0.160146      0.204438      0.576493      0.812550    420.322936   \n",
       "min       33.167953   -119.174788      1.000000      0.000000      0.000000   \n",
       "25%       33.948473   -118.385123      1.000000      3.000000     37.000000   \n",
       "50%       34.051688   -118.263453      1.000000      4.000000    108.000000   \n",
       "75%       34.131785   -118.122028      2.000000      4.000000    281.000000   \n",
       "max       34.857667   -117.225868      4.000000      5.000000  16662.000000   \n",
       "\n",
       "           zip_code       avg_agi  \n",
       "count  28476.000000  28476.000000  \n",
       "mean   90819.865290     75.439776  \n",
       "std      773.298386     73.385458  \n",
       "min    90001.000000     23.390537  \n",
       "25%    90064.000000     39.288225  \n",
       "50%    90701.000000     55.424814  \n",
       "75%    91361.000000     85.202214  \n",
       "max    93591.000000    811.582132  "
      ]
     },
     "execution_count": 4,
     "metadata": {},
     "output_type": "execute_result"
    }
   ],
   "source": [
    "DESCRIBE = data.describe()\n",
    "DESCRIBE"
   ]
  },
  {
   "cell_type": "code",
   "execution_count": 5,
   "metadata": {},
   "outputs": [],
   "source": [
    "MEAN = DESCRIBE.loc['mean', 'price']\n",
    "STDEV = DESCRIBE.loc['std', 'price']"
   ]
  },
  {
   "cell_type": "code",
   "execution_count": 6,
   "metadata": {},
   "outputs": [],
   "source": [
    "def businesss_scaler(df, zipcode):\n",
    "    \n",
    "    mean = df[df['zip_code'] == zipcode]['price'].mean()\n",
    "    agi = df[df['zip_code'] == zipcode]['avg_agi'].mean()\n",
    "    \n",
    "    count = df[df['zip_code'] == zipcode]['price'].count()\n",
    "    \n",
    "    z = (mean - MEAN) / STDEV\n",
    "    \n",
    "    return z, agi, count"
   ]
  },
  {
   "cell_type": "code",
   "execution_count": 7,
   "metadata": {},
   "outputs": [
    {
     "data": {
      "text/plain": [
       "340"
      ]
     },
     "execution_count": 7,
     "metadata": {},
     "output_type": "execute_result"
    }
   ],
   "source": [
    "zips = data['zip_code'].unique()\n",
    "len(zips)"
   ]
  },
  {
   "cell_type": "code",
   "execution_count": 8,
   "metadata": {},
   "outputs": [],
   "source": [
    "prices = []\n",
    "agis = []\n",
    "zs = []\n",
    "    \n",
    "for z in zips:\n",
    "    x, y, c = businesss_scaler(data, z)\n",
    "    if c > 50:\n",
    "        prices.append(x)\n",
    "        agis.append(y)\n",
    "        zs.append(z)"
   ]
  },
  {
   "cell_type": "code",
   "execution_count": 9,
   "metadata": {},
   "outputs": [
    {
     "data": {
      "text/plain": [
       "[-0.0965674455466888,\n",
       " -0.28973359270446297,\n",
       " 0.24912085516184282,\n",
       " 0.008876132727982829,\n",
       " 0.11590084988737036,\n",
       " 0.2571197196634542,\n",
       " 0.7615110420216531,\n",
       " -0.02456140354353931,\n",
       " 0.24271193236451424,\n",
       " -0.16013370960342266,\n",
       " 0.0852036777758422,\n",
       " 0.004936244008095692,\n",
       " -0.3916251319162794,\n",
       " -0.3029519210944526,\n",
       " 0.003868124825918409,\n",
       " 0.902156357036994,\n",
       " -0.2781043277309178,\n",
       " -0.15504146450829975,\n",
       " 1.0803070893897588,\n",
       " 0.40234899463784507,\n",
       " 0.024136015974146014,\n",
       " 0.4034515108784311,\n",
       " 0.09606565940985443,\n",
       " 0.02227383073329161,\n",
       " 0.1457031088592459,\n",
       " -0.14668699989911357,\n",
       " 0.2735001167670814,\n",
       " 0.3405869337743022,\n",
       " -0.4459982169442525,\n",
       " -0.5458788862513848,\n",
       " -0.013340461998048498,\n",
       " 0.3155680061678592,\n",
       " 0.34536297002152927,\n",
       " -0.5170827308450816,\n",
       " -0.055501499716767606,\n",
       " 0.4618283323351192,\n",
       " 0.41787003545286766,\n",
       " -0.3867667960781319,\n",
       " -0.010371776877705538,\n",
       " -0.26252079920909044,\n",
       " -0.17767676795937573,\n",
       " 0.24134662299666249,\n",
       " 0.42410994510821093,\n",
       " -0.391462698584333,\n",
       " 0.3831905157030655,\n",
       " -0.08905824402350326,\n",
       " 0.17578190719734837,\n",
       " 0.06375400697332324,\n",
       " -0.1900152867241094,\n",
       " 0.2060237342527301,\n",
       " 0.19746472659554667,\n",
       " -0.06558210873522831,\n",
       " 1.2068878729035661,\n",
       " 0.20830613629464603,\n",
       " -0.07123064328500528,\n",
       " 0.3773209336549614,\n",
       " -0.2106222988705456,\n",
       " -0.3861327955109331,\n",
       " -0.05808278774036284,\n",
       " 0.3282952722124956,\n",
       " -0.1510091565897845,\n",
       " 0.4723376362231501,\n",
       " 0.15108137582105013,\n",
       " 0.09266443283758803,\n",
       " 0.3417388710527898,\n",
       " -0.31886498114088124,\n",
       " 0.5044617183188189,\n",
       " 0.31389203945109007,\n",
       " 0.011817578208317355,\n",
       " 0.04265720972102214,\n",
       " -0.17789351487326502,\n",
       " 0.44194957797319157,\n",
       " -0.43707660579290575,\n",
       " 0.20513787044650733,\n",
       " -0.3338941859022189,\n",
       " -0.6661352377916012,\n",
       " -0.10042538394392202,\n",
       " -0.16980325366045387,\n",
       " -0.33456741604543216,\n",
       " 0.4269164798162076,\n",
       " -0.4904303536078597,\n",
       " -0.018257201090610527,\n",
       " 0.33813700582005474,\n",
       " -0.10634687078618628,\n",
       " 0.1312116673232739,\n",
       " -0.45580764641588745,\n",
       " -0.14960755223308134,\n",
       " -0.12685880084360698,\n",
       " -0.2621813421539327,\n",
       " -0.5460172688243291,\n",
       " -0.3014613728221815,\n",
       " -0.4876988987978339,\n",
       " -0.5526908800034133,\n",
       " 0.22026907113503136,\n",
       " 0.4333386403191914,\n",
       " -0.24393552543920619,\n",
       " -0.05577118652520311,\n",
       " -0.40766293722152025,\n",
       " -0.402174484280986,\n",
       " -0.3368618942886275,\n",
       " -0.2951957938015713,\n",
       " -0.4114435754363837,\n",
       " -0.11514283878825339,\n",
       " -0.13565380219301404,\n",
       " -0.10100058861459381,\n",
       " -0.47966399783124186,\n",
       " -0.38385913830442714,\n",
       " -0.5819121706619174,\n",
       " 0.1653242642132615,\n",
       " -0.49720543269547285,\n",
       " -0.02172029558189332,\n",
       " -0.4167324923079651,\n",
       " -0.5263588033148991,\n",
       " -0.18754431015451425,\n",
       " -0.1050455762986725,\n",
       " -0.30588643800548704,\n",
       " 0.4217985119076762,\n",
       " 0.43431129118375106,\n",
       " 0.27674714446310883,\n",
       " -0.0755416812817694,\n",
       " 0.416266846713221,\n",
       " 0.5579846205576547,\n",
       " -0.11408891576745528,\n",
       " -0.32228520897891433,\n",
       " -0.2665629864119966,\n",
       " -0.22445611478692162,\n",
       " -0.007612289041259478,\n",
       " -0.36470500105998993,\n",
       " -0.631617815130302,\n",
       " -0.59321049801117,\n",
       " -0.20749381216492294,\n",
       " -0.08731314789487553,\n",
       " -0.4321709905444446,\n",
       " -0.2007228518590222,\n",
       " -0.1257698959146328,\n",
       " -0.24703307106752023,\n",
       " -0.32061247459911113,\n",
       " -0.4855440844477023,\n",
       " -0.4659990078070728,\n",
       " -0.44885008238921253,\n",
       " -0.2873011642356028,\n",
       " 0.08488085664336262,\n",
       " -0.02441381351955767,\n",
       " -0.059904873404076985,\n",
       " -0.17375063082297615,\n",
       " -0.0536577225570569,\n",
       " -0.4742313091095117,\n",
       " -0.419463111043669,\n",
       " -0.32745162908868625,\n",
       " -0.491231381339033,\n",
       " -0.33282161738213095,\n",
       " -0.12983605988991628,\n",
       " -0.21382651548566378,\n",
       " -0.26157977268909627,\n",
       " -0.43928740306487923,\n",
       " -0.30453967903665485,\n",
       " -0.14183124361700203,\n",
       " -0.40905665853909695,\n",
       " -0.21783809376758362,\n",
       " 0.08991105894575332,\n",
       " -0.1923097649673051,\n",
       " 0.41093496182117234,\n",
       " 1.6290470644813584,\n",
       " 0.017143320375835845,\n",
       " 0.1708007189572218,\n",
       " 0.28151051738214117,\n",
       " 0.5636928347236535,\n",
       " -0.2846927047591276,\n",
       " 0.5884474806375279,\n",
       " 0.1475452412578864,\n",
       " 0.03484358110905884,\n",
       " -0.30244472064069367,\n",
       " 0.07255283223636054,\n",
       " -0.21296006915606538,\n",
       " -0.25426067753358633,\n",
       " -0.08079812234799916,\n",
       " 0.39197237119703204,\n",
       " -0.060117671729766155,\n",
       " -0.13324029019480446,\n",
       " -0.08079812234799916,\n",
       " -0.4425146133939133,\n",
       " -0.009070989824001017,\n",
       " -0.3823448427550111,\n",
       " -0.001294451221271663,\n",
       " -0.07706774481712624,\n",
       " -0.12222881138182716,\n",
       " 0.5996053886900398,\n",
       " 0.9424964861499213,\n",
       " -0.40157494945340544,\n",
       " -0.1526835055780623,\n",
       " 0.37651225041400305,\n",
       " -0.5220625171183524,\n",
       " 0.21261576499490875,\n",
       " -0.34752011580540726,\n",
       " -0.2632951856161689,\n",
       " -0.3008903966694968,\n",
       " 0.17939571043038124,\n",
       " 0.45354630052254485,\n",
       " 0.7395352115505062,\n",
       " 0.30292207548678424,\n",
       " -0.3368618942886275,\n",
       " -0.4229048284084624,\n",
       " 0.03484358110905884,\n",
       " 0.0034949265574467214,\n",
       " -0.17282285819762996,\n",
       " 0.03484358110905884,\n",
       " -0.47180447611617066,\n",
       " -0.1555421501921954,\n",
       " -0.5481043502523403,\n",
       " -0.10007173959084209,\n",
       " -0.47911954536675455,\n",
       " 0.15874540624162095,\n",
       " 0.1467549070352439,\n",
       " 0.04741333148482607,\n",
       " 0.15171551545395778,\n",
       " 0.5867698930631993,\n",
       " -0.4659990078070728,\n",
       " -0.1200337003066437,\n",
       " 1.2579769830587113,\n",
       " 0.7462349591173651,\n",
       " 0.2669413662165345,\n",
       " -0.4855440844477023,\n",
       " -0.579502968506562]"
      ]
     },
     "execution_count": 9,
     "metadata": {},
     "output_type": "execute_result"
    }
   ],
   "source": [
    "prices"
   ]
  },
  {
   "cell_type": "code",
   "execution_count": 10,
   "metadata": {},
   "outputs": [],
   "source": [
    "summary_df = pd.DataFrame()"
   ]
  },
  {
   "cell_type": "code",
   "execution_count": 11,
   "metadata": {},
   "outputs": [],
   "source": [
    "summary_df['zip_code'] = zs\n",
    "summary_df['price'] = prices\n",
    "summary_df['avg_agi'] = agis"
   ]
  },
  {
   "cell_type": "code",
   "execution_count": 12,
   "metadata": {},
   "outputs": [],
   "source": [
    "summary_df = summary_df.sort_values(by='price')"
   ]
  },
  {
   "cell_type": "code",
   "execution_count": 13,
   "metadata": {},
   "outputs": [
    {
     "data": {
      "text/plain": [
       "(223, 3)"
      ]
     },
     "execution_count": 13,
     "metadata": {},
     "output_type": "execute_result"
    }
   ],
   "source": [
    "summary_df.shape"
   ]
  },
  {
   "cell_type": "code",
   "execution_count": 14,
   "metadata": {},
   "outputs": [
    {
     "data": {
      "text/plain": [
       "<matplotlib.collections.PathCollection at 0x1a205e92e8>"
      ]
     },
     "execution_count": 14,
     "metadata": {},
     "output_type": "execute_result"
    },
    {
     "data": {
      "image/png": "[encoded data removed]",
      "text/plain": [
       "<Figure size 432x288 with 1 Axes>"
      ]
     },
     "metadata": {
      "needs_background": "light"
     },
     "output_type": "display_data"
    }
   ],
   "source": [
    "plt.scatter(x=summary_df['price'], y=summary_df['avg_agi'])"
   ]
  },
  {
   "cell_type": "code",
   "execution_count": 15,
   "metadata": {},
   "outputs": [],
   "source": [
    "df = data.copy()\n",
    "df.drop(['alias', 'city', 'id'], axis=1, inplace=True)"
   ]
  },
  {
   "cell_type": "code",
   "execution_count": 16,
   "metadata": {},
   "outputs": [],
   "source": [
    "df['zip_code'] = df['zip_code'].astype(str)"
   ]
  },
  {
   "cell_type": "code",
   "execution_count": 17,
   "metadata": {},
   "outputs": [],
   "source": [
    "df = df.dropna(axis=0, how='any')"
   ]
  },
  {
   "cell_type": "code",
   "execution_count": 25,
   "metadata": {},
   "outputs": [
    {
     "data": {
      "text/html": [
       "<div>\n",
       "<style scoped>\n",
       "    .dataframe tbody tr th:only-of-type {\n",
       "        vertical-align: middle;\n",
       "    }\n",
       "\n",
       "    .dataframe tbody tr th {\n",
       "        vertical-align: top;\n",
       "    }\n",
       "\n",
       "    .dataframe thead th {\n",
       "        text-align: right;\n",
       "    }\n",
       "</style>\n",
       "<table border=\"1\" class=\"dataframe\">\n",
       "  <thead>\n",
       "    <tr style=\"text-align: right;\">\n",
       "      <th></th>\n",
       "      <th>categories</th>\n",
       "      <th>latitude</th>\n",
       "      <th>longitude</th>\n",
       "      <th>price</th>\n",
       "      <th>rating</th>\n",
       "      <th>review_count</th>\n",
       "      <th>zip_code</th>\n",
       "      <th>avg_agi</th>\n",
       "    </tr>\n",
       "  </thead>\n",
       "  <tbody>\n",
       "    <tr>\n",
       "      <td>11778</td>\n",
       "      <td>['mexican', 'bars']</td>\n",
       "      <td>34.039080</td>\n",
       "      <td>-118.240428</td>\n",
       "      <td>2</td>\n",
       "      <td>4.0</td>\n",
       "      <td>1082.0</td>\n",
       "      <td>90021</td>\n",
       "      <td>73.61</td>\n",
       "    </tr>\n",
       "    <tr>\n",
       "      <td>11779</td>\n",
       "      <td>['japanese']</td>\n",
       "      <td>34.028189</td>\n",
       "      <td>-118.239372</td>\n",
       "      <td>1</td>\n",
       "      <td>2.0</td>\n",
       "      <td>31.0</td>\n",
       "      <td>90021</td>\n",
       "      <td>73.61</td>\n",
       "    </tr>\n",
       "    <tr>\n",
       "      <td>11780</td>\n",
       "      <td>['icecream']</td>\n",
       "      <td>34.031520</td>\n",
       "      <td>-118.236490</td>\n",
       "      <td>2</td>\n",
       "      <td>4.5</td>\n",
       "      <td>42.0</td>\n",
       "      <td>90021</td>\n",
       "      <td>73.61</td>\n",
       "    </tr>\n",
       "    <tr>\n",
       "      <td>11781</td>\n",
       "      <td>['grocery', 'breakfast_brunch', 'markets']</td>\n",
       "      <td>34.036139</td>\n",
       "      <td>-118.231635</td>\n",
       "      <td>2</td>\n",
       "      <td>4.0</td>\n",
       "      <td>335.0</td>\n",
       "      <td>90021</td>\n",
       "      <td>73.61</td>\n",
       "    </tr>\n",
       "    <tr>\n",
       "      <td>11782</td>\n",
       "      <td>['bbq', 'foodstands', 'sandwiches']</td>\n",
       "      <td>34.031520</td>\n",
       "      <td>-118.236490</td>\n",
       "      <td>2</td>\n",
       "      <td>4.5</td>\n",
       "      <td>62.0</td>\n",
       "      <td>90021</td>\n",
       "      <td>73.61</td>\n",
       "    </tr>\n",
       "    <tr>\n",
       "      <td>...</td>\n",
       "      <td>...</td>\n",
       "      <td>...</td>\n",
       "      <td>...</td>\n",
       "      <td>...</td>\n",
       "      <td>...</td>\n",
       "      <td>...</td>\n",
       "      <td>...</td>\n",
       "      <td>...</td>\n",
       "    </tr>\n",
       "    <tr>\n",
       "      <td>11872</td>\n",
       "      <td>['persian']</td>\n",
       "      <td>34.026611</td>\n",
       "      <td>-118.242798</td>\n",
       "      <td>1</td>\n",
       "      <td>4.0</td>\n",
       "      <td>59.0</td>\n",
       "      <td>90021</td>\n",
       "      <td>73.61</td>\n",
       "    </tr>\n",
       "    <tr>\n",
       "      <td>11873</td>\n",
       "      <td>['italian', 'seafood', 'supperclubs']</td>\n",
       "      <td>34.031496</td>\n",
       "      <td>-118.238998</td>\n",
       "      <td>3</td>\n",
       "      <td>4.0</td>\n",
       "      <td>65.0</td>\n",
       "      <td>90021</td>\n",
       "      <td>73.61</td>\n",
       "    </tr>\n",
       "    <tr>\n",
       "      <td>11874</td>\n",
       "      <td>['mexican', 'foodtrucks']</td>\n",
       "      <td>34.031748</td>\n",
       "      <td>-118.231928</td>\n",
       "      <td>1</td>\n",
       "      <td>4.5</td>\n",
       "      <td>39.0</td>\n",
       "      <td>90021</td>\n",
       "      <td>73.61</td>\n",
       "    </tr>\n",
       "    <tr>\n",
       "      <td>11875</td>\n",
       "      <td>['convenience', 'coffee']</td>\n",
       "      <td>34.026867</td>\n",
       "      <td>-118.238764</td>\n",
       "      <td>1</td>\n",
       "      <td>2.5</td>\n",
       "      <td>12.0</td>\n",
       "      <td>90021</td>\n",
       "      <td>73.61</td>\n",
       "    </tr>\n",
       "    <tr>\n",
       "      <td>11876</td>\n",
       "      <td>['coffee', 'convenience']</td>\n",
       "      <td>34.024665</td>\n",
       "      <td>-118.249983</td>\n",
       "      <td>1</td>\n",
       "      <td>3.5</td>\n",
       "      <td>3.0</td>\n",
       "      <td>90021</td>\n",
       "      <td>73.61</td>\n",
       "    </tr>\n",
       "  </tbody>\n",
       "</table>\n",
       "<p>99 rows × 8 columns</p>\n",
       "</div>"
      ],
      "text/plain": [
       "                                       categories   latitude   longitude  \\\n",
       "11778                         ['mexican', 'bars']  34.039080 -118.240428   \n",
       "11779                                ['japanese']  34.028189 -118.239372   \n",
       "11780                                ['icecream']  34.031520 -118.236490   \n",
       "11781  ['grocery', 'breakfast_brunch', 'markets']  34.036139 -118.231635   \n",
       "11782         ['bbq', 'foodstands', 'sandwiches']  34.031520 -118.236490   \n",
       "...                                           ...        ...         ...   \n",
       "11872                                 ['persian']  34.026611 -118.242798   \n",
       "11873       ['italian', 'seafood', 'supperclubs']  34.031496 -118.238998   \n",
       "11874                   ['mexican', 'foodtrucks']  34.031748 -118.231928   \n",
       "11875                   ['convenience', 'coffee']  34.026867 -118.238764   \n",
       "11876                   ['coffee', 'convenience']  34.024665 -118.249983   \n",
       "\n",
       "       price  rating  review_count zip_code  avg_agi  \n",
       "11778      2     4.0        1082.0    90021    73.61  \n",
       "11779      1     2.0          31.0    90021    73.61  \n",
       "11780      2     4.5          42.0    90021    73.61  \n",
       "11781      2     4.0         335.0    90021    73.61  \n",
       "11782      2     4.5          62.0    90021    73.61  \n",
       "...      ...     ...           ...      ...      ...  \n",
       "11872      1     4.0          59.0    90021    73.61  \n",
       "11873      3     4.0          65.0    90021    73.61  \n",
       "11874      1     4.5          39.0    90021    73.61  \n",
       "11875      1     2.5          12.0    90021    73.61  \n",
       "11876      1     3.5           3.0    90021    73.61  \n",
       "\n",
       "[99 rows x 8 columns]"
      ]
     },
     "execution_count": 25,
     "metadata": {},
     "output_type": "execute_result"
    }
   ],
   "source": [
    "df[df['zip_code'] == '90021']"
   ]
  },
  {
   "cell_type": "markdown",
   "metadata": {},
   "source": [
    "# use scipy cKDTree to calculate nearest neighbor distances"
   ]
  },
  {
   "cell_type": "code",
   "execution_count": 19,
   "metadata": {},
   "outputs": [],
   "source": [
    "# https://stackoverflow.com/questions/12923586/\n",
    "# https://stackoverflow.com/questions/36798782/\n",
    "\n",
    "coords = df.copy()\n",
    "coords = coords[['latitude', 'longitude']]"
   ]
  },
  {
   "cell_type": "code",
   "execution_count": 20,
   "metadata": {},
   "outputs": [],
   "source": [
    "temp_point = list(coords.iloc[4])"
   ]
  },
  {
   "cell_type": "code",
   "execution_count": 21,
   "metadata": {},
   "outputs": [],
   "source": [
    "# making the tree\n",
    "\n",
    "distance_tree = cKDTree(coords)"
   ]
  },
  {
   "cell_type": "code",
   "execution_count": 22,
   "metadata": {},
   "outputs": [
    {
     "name": "stdout",
     "output_type": "stream",
     "text": [
      "alias           yuk-dae-jang-san-gabriel-2\n",
      "categories                      ['korean']\n",
      "city                           San Gabriel\n",
      "id                  DwvljRkxkMEljQBYX-MeTw\n",
      "latitude                           34.1021\n",
      "longitude                          -118.11\n",
      "price                                    2\n",
      "rating                                 4.5\n",
      "review_count                           158\n",
      "zip_code                             91776\n",
      "avg_agi                             37.211\n",
      "Name: 4, dtype: object\n",
      "alias           half-and-half-good-old-time-san-gabriel\n",
      "categories                   ['taiwanese', 'bubbletea']\n",
      "city                                        San Gabriel\n",
      "id                               QhhWJVDP4L805y_YgwM3BQ\n",
      "latitude                                        34.1021\n",
      "longitude                                       -118.11\n",
      "price                                                 1\n",
      "rating                                                4\n",
      "review_count                                        209\n",
      "zip_code                                          91776\n",
      "avg_agi                                          37.211\n",
      "Name: 126, dtype: object\n",
      "alias           one-one-dumplings-san-gabriel-3\n",
      "categories               ['chinese', 'noodles']\n",
      "city                                San Gabriel\n",
      "id                       zYLMGP1d95ALFMAh31_jIg\n",
      "latitude                                34.1021\n",
      "longitude                               -118.11\n",
      "price                                         1\n",
      "rating                                      4.5\n",
      "review_count                                141\n",
      "zip_code                                  91776\n",
      "avg_agi                                  37.211\n",
      "Name: 77, dtype: object\n",
      "alias           hui-tou-xiang-san-gabriel\n",
      "categories                    ['chinese']\n",
      "city                          San Gabriel\n",
      "id                 S0WkMzdxC17YvQ5bOZQnoA\n",
      "latitude                           34.102\n",
      "longitude                         -118.11\n",
      "price                                   1\n",
      "rating                                  4\n",
      "review_count                          503\n",
      "zip_code                            91776\n",
      "avg_agi                            37.211\n",
      "Name: 117, dtype: object\n",
      "alias                     taipei-bistro-san-gabriel\n",
      "categories      ['taiwanese', 'chinese', 'noodles']\n",
      "city                                    San Gabriel\n",
      "id                           4RYImutEccSKoaZHTwJIKQ\n",
      "latitude                                    34.1022\n",
      "longitude                                   -118.11\n",
      "price                                             1\n",
      "rating                                            4\n",
      "review_count                                    326\n",
      "zip_code                                      91776\n",
      "avg_agi                                      37.211\n",
      "Name: 33, dtype: object\n",
      "alias           fortune-bakery-san-gabriel\n",
      "categories                    ['bakeries']\n",
      "city                           San Gabriel\n",
      "id                  lSJ78wgp5DCgUweF65J2MQ\n",
      "latitude                           34.1021\n",
      "longitude                          -118.11\n",
      "price                                    1\n",
      "rating                                 4.5\n",
      "review_count                           302\n",
      "zip_code                             91776\n",
      "avg_agi                             37.211\n",
      "Name: 138, dtype: object\n",
      "alias           vietnam-house-san-gabriel\n",
      "categories                 ['vietnamese']\n",
      "city                          San Gabriel\n",
      "id                 mlEUSRm6gzzuSyQW0MEcRQ\n",
      "latitude                          34.1018\n",
      "longitude                         -118.11\n",
      "price                                   1\n",
      "rating                                3.5\n",
      "review_count                          535\n",
      "zip_code                            91776\n",
      "avg_agi                            37.211\n",
      "Name: 14, dtype: object\n",
      "alias           swirlz-creamery-san-gabriel\n",
      "categories                     ['icecream']\n",
      "city                            San Gabriel\n",
      "id                   vyqSYvHYzAuMibqr8RT82g\n",
      "latitude                            34.1018\n",
      "longitude                           -118.11\n",
      "price                                     1\n",
      "rating                                    5\n",
      "review_count                            212\n",
      "zip_code                              91776\n",
      "avg_agi                              37.211\n",
      "Name: 38, dtype: object\n",
      "alias                      bonchon-san-gabriel-san-gabriel\n",
      "categories      ['korean', 'asianfusion', 'chicken_wings']\n",
      "city                                           San Gabriel\n",
      "id                                  6JT64rixRt6S6akPj7zgMQ\n",
      "latitude                                           34.1018\n",
      "longitude                                          -118.11\n",
      "price                                                    2\n",
      "rating                                                   4\n",
      "review_count                                           819\n",
      "zip_code                                             91776\n",
      "avg_agi                                             37.211\n",
      "Name: 173, dtype: object\n",
      "alias           el-pollo-loco-san-gabriel-2\n",
      "categories           ['hotdogs', 'mexican']\n",
      "city                            San Gabriel\n",
      "id                   AEqK6D-Pp-WVlRN8XGfkyw\n",
      "latitude                            34.1025\n",
      "longitude                           -118.11\n",
      "price                                     1\n",
      "rating                                  1.5\n",
      "review_count                            127\n",
      "zip_code                              91776\n",
      "avg_agi                              37.211\n",
      "Name: 144, dtype: object\n",
      "alias           casa-calderon-san-gabriel\n",
      "categories                    ['mexican']\n",
      "city                          San Gabriel\n",
      "id                 g6vEVCiTsLopNHJSkThLWA\n",
      "latitude                          34.1023\n",
      "longitude                        -118.109\n",
      "price                                   2\n",
      "rating                                  4\n",
      "review_count                           89\n",
      "zip_code                            91776\n",
      "avg_agi                            37.211\n",
      "Name: 166, dtype: object\n",
      "alias           punjab-indian-market-and-cuisine-san-gabriel\n",
      "categories                         ['indpak', 'intlgrocery']\n",
      "city                                             San Gabriel\n",
      "id                                    -Zvw7Gzw8PFZpKPCyCr_Ww\n",
      "latitude                                             34.1022\n",
      "longitude                                           -118.109\n",
      "price                                                      1\n",
      "rating                                                   4.5\n",
      "review_count                                              82\n",
      "zip_code                                               91776\n",
      "avg_agi                                               37.211\n",
      "Name: 63, dtype: object\n",
      "alias                         golden-leaf-san-gabriel-2\n",
      "categories      ['taiwanese', 'comfortfood', 'noodles']\n",
      "city                                        San Gabriel\n",
      "id                               33GO98H-QioyLDxPPcmLSw\n",
      "latitude                                        34.1025\n",
      "longitude                                      -118.111\n",
      "price                                                 1\n",
      "rating                                                4\n",
      "review_count                                        227\n",
      "zip_code                                          91776\n",
      "avg_agi                                          37.211\n",
      "Name: 132, dtype: object\n",
      "alias                        baskin-robbins-san-gabriel\n",
      "categories      ['icecream', 'desserts', 'customcakes']\n",
      "city                                        San Gabriel\n",
      "id                               2KmS0ceHeYTRIQod83CrCg\n",
      "latitude                                        34.1026\n",
      "longitude                                      -118.109\n",
      "price                                                 1\n",
      "rating                                              3.5\n",
      "review_count                                         53\n",
      "zip_code                                          91776\n",
      "avg_agi                                          37.211\n",
      "Name: 184, dtype: object\n",
      "alias                  kingburg-kitchen-san-gabriel\n",
      "categories      ['chinese', 'taiwanese', 'noodles']\n",
      "city                                    San Gabriel\n",
      "id                           H58wLAqOmsV3a5lzyhJq1Q\n",
      "latitude                                    34.1028\n",
      "longitude                                   -118.11\n",
      "price                                             1\n",
      "rating                                            4\n",
      "review_count                                    157\n",
      "zip_code                                      91776\n",
      "avg_agi                                      37.211\n",
      "Name: 105, dtype: object\n",
      "alias                   bubble-republic-san-gabriel\n",
      "categories      ['taiwanese', 'cafes', 'bubbletea']\n",
      "city                                    San Gabriel\n",
      "id                           8cuN2HajMMFPn1_KugI86g\n",
      "latitude                                     34.102\n",
      "longitude                                  -118.111\n",
      "price                                             1\n",
      "rating                                            4\n",
      "review_count                                    240\n",
      "zip_code                                      91776\n",
      "avg_agi                                      37.211\n",
      "Name: 169, dtype: object\n",
      "alias           d-ange-bakery-san-gabriel\n",
      "categories                   ['bakeries']\n",
      "city                          San Gabriel\n",
      "id                 OB5bNPEhtUVOOPYRV-IG7g\n",
      "latitude                           34.102\n",
      "longitude                        -118.111\n",
      "price                                   1\n",
      "rating                                  4\n",
      "review_count                          272\n",
      "zip_code                            91776\n",
      "avg_agi                            37.211\n",
      "Name: 154, dtype: object\n",
      "alias              7-eleven-san-gabriel-4\n",
      "categories      ['convenience', 'coffee']\n",
      "city                          San Gabriel\n",
      "id                 dTQP8xlZ09HEbX8n7Bjd-g\n",
      "latitude                          34.1029\n",
      "longitude                        -118.111\n",
      "price                                   1\n",
      "rating                                3.5\n",
      "review_count                           10\n",
      "zip_code                            91776\n",
      "avg_agi                            37.211\n",
      "Name: 196, dtype: object\n",
      "alias                       labobatory-san-gabriel-6\n",
      "categories      ['bubbletea', 'juicebars', 'coffee']\n",
      "city                                     San Gabriel\n",
      "id                            psXgyblQ-FOOZJc8wnAT0w\n",
      "latitude                                     34.1024\n",
      "longitude                                   -118.112\n",
      "price                                              1\n",
      "rating                                             4\n",
      "review_count                                     622\n",
      "zip_code                                       91776\n",
      "avg_agi                                       37.211\n",
      "Name: 103, dtype: object\n",
      "alias           benten-ramen-san-gabriel\n",
      "categories                     ['ramen']\n",
      "city                         San Gabriel\n",
      "id                gmnioyshZlZX92Q6Q2oG-Q\n",
      "latitude                         34.1024\n",
      "longitude                       -118.112\n",
      "price                                  1\n",
      "rating                                 4\n",
      "review_count                         994\n",
      "zip_code                           91776\n",
      "avg_agi                           37.211\n",
      "Name: 180, dtype: object\n"
     ]
    }
   ],
   "source": [
    "# returns six closest points, including itself\n",
    "# first array shows distances\n",
    "# second array appears to show which indices are closest?\n",
    "\n",
    "_, idx = distance_tree.query(temp_point, k=20)\n",
    "for i in idx:\n",
    "    print(data.iloc[i])"
   ]
  },
  {
   "cell_type": "code",
   "execution_count": 23,
   "metadata": {},
   "outputs": [
    {
     "ename": "KeyError",
     "evalue": "0",
     "output_type": "error",
     "traceback": [
      "\u001b[0;31m---------------------------------------------------------------------------\u001b[0m",
      "\u001b[0;31mKeyError\u001b[0m                                  Traceback (most recent call last)",
      "\u001b[0;32m/Users/Jelly/anaconda3/lib/python3.7/site-packages/pandas/core/indexes/base.py\u001b[0m in \u001b[0;36mget_loc\u001b[0;34m(self, key, method, tolerance)\u001b[0m\n\u001b[1;32m   2896\u001b[0m             \u001b[0;32mtry\u001b[0m\u001b[0;34m:\u001b[0m\u001b[0;34m\u001b[0m\u001b[0;34m\u001b[0m\u001b[0m\n\u001b[0;32m-> 2897\u001b[0;31m                 \u001b[0;32mreturn\u001b[0m \u001b[0mself\u001b[0m\u001b[0;34m.\u001b[0m\u001b[0m_engine\u001b[0m\u001b[0;34m.\u001b[0m\u001b[0mget_loc\u001b[0m\u001b[0;34m(\u001b[0m\u001b[0mkey\u001b[0m\u001b[0;34m)\u001b[0m\u001b[0;34m\u001b[0m\u001b[0;34m\u001b[0m\u001b[0m\n\u001b[0m\u001b[1;32m   2898\u001b[0m             \u001b[0;32mexcept\u001b[0m \u001b[0mKeyError\u001b[0m\u001b[0;34m:\u001b[0m\u001b[0;34m\u001b[0m\u001b[0;34m\u001b[0m\u001b[0m\n",
      "\u001b[0;32mpandas/_libs/index.pyx\u001b[0m in \u001b[0;36mpandas._libs.index.IndexEngine.get_loc\u001b[0;34m()\u001b[0m\n",
      "\u001b[0;32mpandas/_libs/index.pyx\u001b[0m in \u001b[0;36mpandas._libs.index.IndexEngine.get_loc\u001b[0;34m()\u001b[0m\n",
      "\u001b[0;32mpandas/_libs/hashtable_class_helper.pxi\u001b[0m in \u001b[0;36mpandas._libs.hashtable.PyObjectHashTable.get_item\u001b[0;34m()\u001b[0m\n",
      "\u001b[0;32mpandas/_libs/hashtable_class_helper.pxi\u001b[0m in \u001b[0;36mpandas._libs.hashtable.PyObjectHashTable.get_item\u001b[0;34m()\u001b[0m\n",
      "\u001b[0;31mKeyError\u001b[0m: 0",
      "\nDuring handling of the above exception, another exception occurred:\n",
      "\u001b[0;31mKeyError\u001b[0m                                  Traceback (most recent call last)",
      "\u001b[0;32m<ipython-input-23-29e65dfe26aa>\u001b[0m in \u001b[0;36m<module>\u001b[0;34m\u001b[0m\n\u001b[0;32m----> 1\u001b[0;31m \u001b[0mcoords\u001b[0m\u001b[0;34m[\u001b[0m\u001b[0mKDTree\u001b[0m\u001b[0;34m(\u001b[0m\u001b[0mcoords\u001b[0m\u001b[0;34m)\u001b[0m\u001b[0;34m.\u001b[0m\u001b[0mquery\u001b[0m\u001b[0;34m(\u001b[0m\u001b[0mlist\u001b[0m\u001b[0;34m(\u001b[0m\u001b[0mcoords\u001b[0m\u001b[0;34m.\u001b[0m\u001b[0miloc\u001b[0m\u001b[0;34m[\u001b[0m\u001b[0;36m0\u001b[0m\u001b[0;34m]\u001b[0m\u001b[0;34m)\u001b[0m\u001b[0;34m)\u001b[0m\u001b[0;34m[\u001b[0m\u001b[0;36m1\u001b[0m\u001b[0;34m]\u001b[0m\u001b[0;34m]\u001b[0m\u001b[0;34m\u001b[0m\u001b[0;34m\u001b[0m\u001b[0m\n\u001b[0m",
      "\u001b[0;32m/Users/Jelly/anaconda3/lib/python3.7/site-packages/pandas/core/frame.py\u001b[0m in \u001b[0;36m__getitem__\u001b[0;34m(self, key)\u001b[0m\n\u001b[1;32m   2978\u001b[0m             \u001b[0;32mif\u001b[0m \u001b[0mself\u001b[0m\u001b[0;34m.\u001b[0m\u001b[0mcolumns\u001b[0m\u001b[0;34m.\u001b[0m\u001b[0mnlevels\u001b[0m \u001b[0;34m>\u001b[0m \u001b[0;36m1\u001b[0m\u001b[0;34m:\u001b[0m\u001b[0;34m\u001b[0m\u001b[0;34m\u001b[0m\u001b[0m\n\u001b[1;32m   2979\u001b[0m                 \u001b[0;32mreturn\u001b[0m \u001b[0mself\u001b[0m\u001b[0;34m.\u001b[0m\u001b[0m_getitem_multilevel\u001b[0m\u001b[0;34m(\u001b[0m\u001b[0mkey\u001b[0m\u001b[0;34m)\u001b[0m\u001b[0;34m\u001b[0m\u001b[0;34m\u001b[0m\u001b[0m\n\u001b[0;32m-> 2980\u001b[0;31m             \u001b[0mindexer\u001b[0m \u001b[0;34m=\u001b[0m \u001b[0mself\u001b[0m\u001b[0;34m.\u001b[0m\u001b[0mcolumns\u001b[0m\u001b[0;34m.\u001b[0m\u001b[0mget_loc\u001b[0m\u001b[0;34m(\u001b[0m\u001b[0mkey\u001b[0m\u001b[0;34m)\u001b[0m\u001b[0;34m\u001b[0m\u001b[0;34m\u001b[0m\u001b[0m\n\u001b[0m\u001b[1;32m   2981\u001b[0m             \u001b[0;32mif\u001b[0m \u001b[0mis_integer\u001b[0m\u001b[0;34m(\u001b[0m\u001b[0mindexer\u001b[0m\u001b[0;34m)\u001b[0m\u001b[0;34m:\u001b[0m\u001b[0;34m\u001b[0m\u001b[0;34m\u001b[0m\u001b[0m\n\u001b[1;32m   2982\u001b[0m                 \u001b[0mindexer\u001b[0m \u001b[0;34m=\u001b[0m \u001b[0;34m[\u001b[0m\u001b[0mindexer\u001b[0m\u001b[0;34m]\u001b[0m\u001b[0;34m\u001b[0m\u001b[0;34m\u001b[0m\u001b[0m\n",
      "\u001b[0;32m/Users/Jelly/anaconda3/lib/python3.7/site-packages/pandas/core/indexes/base.py\u001b[0m in \u001b[0;36mget_loc\u001b[0;34m(self, key, method, tolerance)\u001b[0m\n\u001b[1;32m   2897\u001b[0m                 \u001b[0;32mreturn\u001b[0m \u001b[0mself\u001b[0m\u001b[0;34m.\u001b[0m\u001b[0m_engine\u001b[0m\u001b[0;34m.\u001b[0m\u001b[0mget_loc\u001b[0m\u001b[0;34m(\u001b[0m\u001b[0mkey\u001b[0m\u001b[0;34m)\u001b[0m\u001b[0;34m\u001b[0m\u001b[0;34m\u001b[0m\u001b[0m\n\u001b[1;32m   2898\u001b[0m             \u001b[0;32mexcept\u001b[0m \u001b[0mKeyError\u001b[0m\u001b[0;34m:\u001b[0m\u001b[0;34m\u001b[0m\u001b[0;34m\u001b[0m\u001b[0m\n\u001b[0;32m-> 2899\u001b[0;31m                 \u001b[0;32mreturn\u001b[0m \u001b[0mself\u001b[0m\u001b[0;34m.\u001b[0m\u001b[0m_engine\u001b[0m\u001b[0;34m.\u001b[0m\u001b[0mget_loc\u001b[0m\u001b[0;34m(\u001b[0m\u001b[0mself\u001b[0m\u001b[0;34m.\u001b[0m\u001b[0m_maybe_cast_indexer\u001b[0m\u001b[0;34m(\u001b[0m\u001b[0mkey\u001b[0m\u001b[0;34m)\u001b[0m\u001b[0;34m)\u001b[0m\u001b[0;34m\u001b[0m\u001b[0;34m\u001b[0m\u001b[0m\n\u001b[0m\u001b[1;32m   2900\u001b[0m         \u001b[0mindexer\u001b[0m \u001b[0;34m=\u001b[0m \u001b[0mself\u001b[0m\u001b[0;34m.\u001b[0m\u001b[0mget_indexer\u001b[0m\u001b[0;34m(\u001b[0m\u001b[0;34m[\u001b[0m\u001b[0mkey\u001b[0m\u001b[0;34m]\u001b[0m\u001b[0;34m,\u001b[0m \u001b[0mmethod\u001b[0m\u001b[0;34m=\u001b[0m\u001b[0mmethod\u001b[0m\u001b[0;34m,\u001b[0m \u001b[0mtolerance\u001b[0m\u001b[0;34m=\u001b[0m\u001b[0mtolerance\u001b[0m\u001b[0;34m)\u001b[0m\u001b[0;34m\u001b[0m\u001b[0;34m\u001b[0m\u001b[0m\n\u001b[1;32m   2901\u001b[0m         \u001b[0;32mif\u001b[0m \u001b[0mindexer\u001b[0m\u001b[0;34m.\u001b[0m\u001b[0mndim\u001b[0m \u001b[0;34m>\u001b[0m \u001b[0;36m1\u001b[0m \u001b[0;32mor\u001b[0m \u001b[0mindexer\u001b[0m\u001b[0;34m.\u001b[0m\u001b[0msize\u001b[0m \u001b[0;34m>\u001b[0m \u001b[0;36m1\u001b[0m\u001b[0;34m:\u001b[0m\u001b[0;34m\u001b[0m\u001b[0;34m\u001b[0m\u001b[0m\n",
      "\u001b[0;32mpandas/_libs/index.pyx\u001b[0m in \u001b[0;36mpandas._libs.index.IndexEngine.get_loc\u001b[0;34m()\u001b[0m\n",
      "\u001b[0;32mpandas/_libs/index.pyx\u001b[0m in \u001b[0;36mpandas._libs.index.IndexEngine.get_loc\u001b[0;34m()\u001b[0m\n",
      "\u001b[0;32mpandas/_libs/hashtable_class_helper.pxi\u001b[0m in \u001b[0;36mpandas._libs.hashtable.PyObjectHashTable.get_item\u001b[0;34m()\u001b[0m\n",
      "\u001b[0;32mpandas/_libs/hashtable_class_helper.pxi\u001b[0m in \u001b[0;36mpandas._libs.hashtable.PyObjectHashTable.get_item\u001b[0;34m()\u001b[0m\n",
      "\u001b[0;31mKeyError\u001b[0m: 0"
     ]
    }
   ],
   "source": [
    "coords[KDTree(coords).query(list(coords.iloc[0]))[1]]"
   ]
  },
  {
   "cell_type": "markdown",
   "metadata": {},
   "source": [
    "# use CountVectorizer"
   ]
  },
  {
   "cell_type": "code",
   "execution_count": null,
   "metadata": {},
   "outputs": [],
   "source": [
    "X = df[['categories', 'price', 'rating', 'review_count', 'zip_code']]\n",
    "y = df['avg_agi']"
   ]
  },
  {
   "cell_type": "code",
   "execution_count": null,
   "metadata": {},
   "outputs": [],
   "source": [
    "X_train, X_test, y_train, y_test = train_test_split(X, y, random_state=111)"
   ]
  },
  {
   "cell_type": "code",
   "execution_count": null,
   "metadata": {},
   "outputs": [],
   "source": [
    "cvect = CountVectorizer()"
   ]
  },
  {
   "cell_type": "code",
   "execution_count": null,
   "metadata": {},
   "outputs": [],
   "source": [
    "V_train = cvect.fit_transform(X_train['categories'])"
   ]
  },
  {
   "cell_type": "code",
   "execution_count": null,
   "metadata": {},
   "outputs": [],
   "source": [
    "categories = list(cvect.get_feature_names())"
   ]
  },
  {
   "cell_type": "code",
   "execution_count": null,
   "metadata": {},
   "outputs": [],
   "source": [
    "categories"
   ]
  },
  {
   "cell_type": "code",
   "execution_count": null,
   "metadata": {},
   "outputs": [],
   "source": [
    "V_df = pd.DataFrame(data=V_train.toarray(), columns=categories)"
   ]
  },
  {
   "cell_type": "code",
   "execution_count": null,
   "metadata": {},
   "outputs": [],
   "source": [
    "V_df.shape"
   ]
  },
  {
   "cell_type": "code",
   "execution_count": null,
   "metadata": {},
   "outputs": [],
   "source": [
    "X_train.shape"
   ]
  },
  {
   "cell_type": "code",
   "execution_count": null,
   "metadata": {},
   "outputs": [],
   "source": [
    "X_train = X_train.join(V_df)"
   ]
  },
  {
   "cell_type": "code",
   "execution_count": null,
   "metadata": {},
   "outputs": [],
   "source": [
    "X_train[X_train['zip_code'] == '90001']"
   ]
  },
  {
   "cell_type": "code",
   "execution_count": null,
   "metadata": {},
   "outputs": [],
   "source": [
    "# https://stackoverflow.com/questions/42935334/\n",
    "\n",
    "X_train.iloc[:, 5:-1] = X_train.iloc[:, 5:-1].mul(X_train.iloc[:, 1], axis=0)"
   ]
  },
  {
   "cell_type": "code",
   "execution_count": null,
   "metadata": {},
   "outputs": [],
   "source": [
    "X_train_nan = X_train.replace(0, np.NaN)"
   ]
  },
  {
   "cell_type": "code",
   "execution_count": null,
   "metadata": {},
   "outputs": [],
   "source": [
    "pd.set_option('display.max_rows', 500)\n",
    "pd.set_option('display.max_columns', 500)"
   ]
  },
  {
   "cell_type": "code",
   "execution_count": null,
   "metadata": {},
   "outputs": [],
   "source": [
    "X_train_nan.describe().T[X_train_nan.describe().T['count'] > 200].sort_values(by='count', ascending=False)"
   ]
  },
  {
   "cell_type": "code",
   "execution_count": null,
   "metadata": {},
   "outputs": [],
   "source": [
    "X_train_nan.describe().T[X_train_nan.describe().T['count'] > 200].sort_values(by='mean', ascending=False)"
   ]
  },
  {
   "cell_type": "code",
   "execution_count": null,
   "metadata": {},
   "outputs": [],
   "source": [
    "X_train_nan[X_train_nan['zip_code'] == '90001'].describe().T.sort_values(by='mean', ascending=False)"
   ]
  },
  {
   "cell_type": "code",
   "execution_count": null,
   "metadata": {},
   "outputs": [],
   "source": [
    "X_train[X_train['zip_code'] == '90001']"
   ]
  },
  {
   "cell_type": "code",
   "execution_count": null,
   "metadata": {},
   "outputs": [],
   "source": [
    "def numeric_filter(df):\n",
    "    features = ['price', 'rating', 'review_count']\n",
    "    return df[features]\n",
    "\n",
    "Numeric = FunctionTransformer(numeric_filter, validate=False)"
   ]
  },
  {
   "cell_type": "code",
   "execution_count": null,
   "metadata": {},
   "outputs": [],
   "source": [
    "def category_filter(df):\n",
    "    return df['categories']\n",
    "\n",
    "Categories = FunctionTransformer(category_filter, validate=False)"
   ]
  },
  {
   "cell_type": "code",
   "execution_count": null,
   "metadata": {},
   "outputs": [],
   "source": [
    "numeric_transformer = Pipeline([\n",
    "    ('num_filt', Numeric),\n",
    "    ('poly', PolynomialFeatures()),\n",
    "    ('scaler', StandardScaler())\n",
    "])\n",
    "\n",
    "categorical_transformer = Pipeline([\n",
    "    ('cat_filt', Categories),\n",
    "    ('cvect', CountVectorizer())\n",
    "])"
   ]
  },
  {
   "cell_type": "code",
   "execution_count": null,
   "metadata": {},
   "outputs": [],
   "source": [
    "pipe = Pipeline([\n",
    "    ('union', FeatureUnion([\n",
    "        ('num', numeric_transformer),\n",
    "        ('cat', categorical_transformer)\n",
    "    ])),\n",
    "    ('rfr', RandomForestRegressor(n_estimators=10,\n",
    "                                  verbose=1))\n",
    "])"
   ]
  },
  {
   "cell_type": "code",
   "execution_count": null,
   "metadata": {},
   "outputs": [],
   "source": [
    "pipe.fit_transform(X_train, y_train)"
   ]
  },
  {
   "cell_type": "code",
   "execution_count": null,
   "metadata": {},
   "outputs": [],
   "source": [
    "print(pipe.score(X_train, y_train))\n",
    "print(pipe.score(X_test, y_test))"
   ]
  },
  {
   "cell_type": "code",
   "execution_count": null,
   "metadata": {},
   "outputs": [],
   "source": [
    "list(pipe.named_steps['rfr'].feature_importances_)"
   ]
  },
  {
   "cell_type": "code",
   "execution_count": null,
   "metadata": {},
   "outputs": [],
   "source": [
    "pipe.named_steps['union'].get_feature_names()"
   ]
  },
  {
   "cell_type": "code",
   "execution_count": null,
   "metadata": {},
   "outputs": [],
   "source": [
    "sns.heatmap(df.corr(),\n",
    "           annot = True,\n",
    "           cmap = 'coolwarm')"
   ]
  },
  {
   "cell_type": "code",
   "execution_count": null,
   "metadata": {},
   "outputs": [],
   "source": [
    "plt.figure(figsize=(21, 15))\n",
    "plt.scatter(df['longitude'], df['latitude'], s=2, alpha=0.2)"
   ]
  },
  {
   "cell_type": "markdown",
   "metadata": {},
   "source": [
    "# KMeans Clustering"
   ]
  },
  {
   "cell_type": "code",
   "execution_count": null,
   "metadata": {},
   "outputs": [],
   "source": [
    "df._get_numeric_data()"
   ]
  },
  {
   "cell_type": "code",
   "execution_count": null,
   "metadata": {},
   "outputs": [],
   "source": [
    "# Try to pick interesting columns for clustering\n",
    "\n",
    "sns.pairplot(df._get_numeric_data())"
   ]
  },
  {
   "cell_type": "code",
   "execution_count": null,
   "metadata": {},
   "outputs": [],
   "source": [
    "# Function to create KMeans Clustering for 2 features from original dataframe\n",
    "\n",
    "def kmean(var1, var2):\n",
    "    features = [var1, var2]\n",
    "    X = df[features]\n",
    "\n",
    "    sc = StandardScaler()\n",
    "    X = sc.fit_transform(X)\n",
    "\n",
    "    km = KMeans(n_clusters=3,\n",
    "           random_state=42)\n",
    "    km.fit(X)\n",
    "\n",
    "    df_copy = df.copy()\n",
    "    df_copy['cluster'] = km.labels_\n",
    "\n",
    "    print(f' Cluster Centers: \\n{km.cluster_centers_}')\n",
    "\n",
    "    centroids = pd.DataFrame(\n",
    "        sc.inverse_transform(km.cluster_centers_),\n",
    "        columns = features\n",
    "    )\n",
    "\n",
    "    print(f' Centroids for Plot: \\n{centroids}')\n",
    "\n",
    "\n",
    "    # Visualizing Clusters\n",
    "    plt.figure(figsize=(7,7));\n",
    "\n",
    "    ## Plot scatter by cluster / color, and centroids\n",
    "    colors = [\"red\", \"green\", \"blue\"]\n",
    "    df_copy['color'] = df_copy['cluster'].map(lambda p: colors[p])\n",
    "\n",
    "    ax = df.plot(    \n",
    "        kind=\"scatter\", \n",
    "        x=var1, y=var2,\n",
    "        figsize=(10,8),\n",
    "        c = df_copy['color']\n",
    "    )\n",
    "\n",
    "    centroids.plot(\n",
    "        kind=\"scatter\", \n",
    "        x=var1, y=var2, \n",
    "        marker=\"*\", c=[\"r\", \"g\", \"b\"], s=550,\n",
    "        ax=ax\n",
    "    );"
   ]
  },
  {
   "cell_type": "code",
   "execution_count": null,
   "metadata": {},
   "outputs": [],
   "source": [
    "kmean('latitude', 'longitude')"
   ]
  },
  {
   "cell_type": "code",
   "execution_count": null,
   "metadata": {},
   "outputs": [],
   "source": [
    "kmean('longitude', 'zip_code')"
   ]
  },
  {
   "cell_type": "code",
   "execution_count": null,
   "metadata": {},
   "outputs": [],
   "source": [
    "kmean('latitude', 'zip_code')"
   ]
  },
  {
   "cell_type": "markdown",
   "metadata": {},
   "source": [
    "# Linear Regression Model\n",
    "- Only price, rating, dummied zip_code as features.\n",
    "- Target: ave_agi"
   ]
  },
  {
   "cell_type": "code",
   "execution_count": null,
   "metadata": {},
   "outputs": [],
   "source": [
    "df['zip_code'] = df['zip_code'].astype(int).astype(str)"
   ]
  },
  {
   "cell_type": "code",
   "execution_count": null,
   "metadata": {},
   "outputs": [],
   "source": [
    "df_dummied_city = pd.get_dummies(data=df,columns=['zip_code'])"
   ]
  },
  {
   "cell_type": "code",
   "execution_count": null,
   "metadata": {},
   "outputs": [],
   "source": [
    "df_dummied_city._get_numeric_data().head(2)"
   ]
  },
  {
   "cell_type": "code",
   "execution_count": null,
   "metadata": {},
   "outputs": [],
   "source": [
    "features = df_dummied_city._get_numeric_data().drop(columns=['ave_agi', 'review_count', 'latitude', 'longitude', 'price*rating'])\n",
    "\n",
    "X = features\n",
    "y = df_dummied_city['ave_agi']\n",
    "\n",
    "\n",
    "X_train, X_test, y_train, y_test = train_test_split(X,y,\n",
    "                                                   random_state = 42)\n",
    "\n",
    "sc = StandardScaler()\n",
    "\n",
    "X_train = sc.fit_transform(X_train)\n",
    "x_test = sc.transform(X_test)"
   ]
  },
  {
   "cell_type": "code",
   "execution_count": null,
   "metadata": {},
   "outputs": [],
   "source": [
    "lr = LinearRegression()\n",
    "lr.fit(X_train, y_train)"
   ]
  },
  {
   "cell_type": "code",
   "execution_count": null,
   "metadata": {},
   "outputs": [],
   "source": [
    "lr.score(X_train, y_train)"
   ]
  },
  {
   "cell_type": "code",
   "execution_count": null,
   "metadata": {},
   "outputs": [],
   "source": [
    "lr.score(X_test, y_test)"
   ]
  },
  {
   "cell_type": "code",
   "execution_count": null,
   "metadata": {},
   "outputs": [],
   "source": [
    "cross_val_score(lr, X_train, y_train, cv = 5).mean()"
   ]
  },
  {
   "cell_type": "code",
   "execution_count": null,
   "metadata": {},
   "outputs": [],
   "source": []
  },
  {
   "cell_type": "markdown",
   "metadata": {},
   "source": [
    "# Linear Regression Model\n",
    "- This was really really really bad - Aerika"
   ]
  },
  {
   "cell_type": "code",
   "execution_count": null,
   "metadata": {},
   "outputs": [],
   "source": [
    "df_dummied_city = pd.get_dummies(data=df,columns=['city'])"
   ]
  },
  {
   "cell_type": "code",
   "execution_count": null,
   "metadata": {},
   "outputs": [],
   "source": [
    "df_dummied_city.head(2)"
   ]
  },
  {
   "cell_type": "code",
   "execution_count": null,
   "metadata": {},
   "outputs": [],
   "source": [
    "features = df_dummied_city._get_numeric_data().drop(columns=['ave_agi'])\n",
    "\n",
    "X = features\n",
    "y = df_dummied_city['ave_agi']\n",
    "\n",
    "\n",
    "X_train, X_test, y_train, y_test = train_test_split(X,y,\n",
    "                                                   random_state = 42)\n",
    "\n",
    "sc = StandardScaler()\n",
    "\n",
    "X_train = sc.fit_transform(X_train)\n",
    "x_test = sc.transform(X_test)"
   ]
  },
  {
   "cell_type": "code",
   "execution_count": null,
   "metadata": {},
   "outputs": [],
   "source": [
    "lr = LinearRegression()\n",
    "lr.fit(X_train, y_train)"
   ]
  },
  {
   "cell_type": "code",
   "execution_count": null,
   "metadata": {},
   "outputs": [],
   "source": [
    "lr.score(X_train, y_train)"
   ]
  },
  {
   "cell_type": "code",
   "execution_count": null,
   "metadata": {},
   "outputs": [],
   "source": [
    "lr.score(X_test, y_test)"
   ]
  },
  {
   "cell_type": "code",
   "execution_count": null,
   "metadata": {},
   "outputs": [],
   "source": [
    "cross_val_score(lr, X_train, y_train, cv = 5).mean()"
   ]
  },
  {
   "cell_type": "code",
   "execution_count": null,
   "metadata": {},
   "outputs": [],
   "source": []
  },
  {
   "cell_type": "code",
   "execution_count": null,
   "metadata": {},
   "outputs": [],
   "source": []
  },
  {
   "cell_type": "code",
   "execution_count": null,
   "metadata": {},
   "outputs": [],
   "source": []
  },
  {
   "cell_type": "code",
   "execution_count": null,
   "metadata": {},
   "outputs": [],
   "source": []
  },
  {
   "cell_type": "markdown",
   "metadata": {},
   "source": [
    "Jerry's code from previous project, trying to use it to perform a bunch of different models for this project  \n",
    "Still need to tweak functions so they can be used for this project."
   ]
  },
  {
   "cell_type": "code",
   "execution_count": null,
   "metadata": {},
   "outputs": [],
   "source": [
    "from sklearn.preprocessing import OneHotEncoder, FunctionTransformer\n",
    "from sklearn.preprocessing import StandardScaler, PowerTransformer, PolynomialFeatures\n",
    "from sklearn.impute import SimpleImputer\n",
    "from sklearn.compose import ColumnTransformer\n",
    "from sklearn.pipeline import Pipeline"
   ]
  },
  {
   "cell_type": "code",
   "execution_count": null,
   "metadata": {},
   "outputs": [],
   "source": [
    "# numeric columns that seem like continuous features.\n",
    "numeric_features = ['price', 'rating', 'review_count', 'ave_agi']\n",
    "\n",
    "# columns that should get dummied out\n",
    "categorical_features = ['zip_code']"
   ]
  },
  {
   "cell_type": "code",
   "execution_count": null,
   "metadata": {},
   "outputs": [],
   "source": [
    "# transforms numeric columns\n",
    "# just comment out whichever transformers you want to leave out\n",
    "\n",
    "numeric_transformer = Pipeline([\n",
    "    ('poly', PolynomialFeatures(include_bias=False, \n",
    "                                interaction_only=False)),\n",
    "    ('power', PowerTransformer()),\n",
    "#     ('imputer', SimpleImputer(strategy=)),\n",
    "    ('scaler', StandardScaler())\n",
    "])"
   ]
  },
  {
   "cell_type": "code",
   "execution_count": null,
   "metadata": {},
   "outputs": [],
   "source": [
    "# transforms categorical columns into dummy columns\n",
    "\n",
    "categorical_transformer = Pipeline([\n",
    "    ('imputer', SimpleImputer(strategy='constant', fill_value='unknown')),\n",
    "    ('onehot', OneHotEncoder(handle_unknown='ignore'))\n",
    "])"
   ]
  },
  {
   "cell_type": "code",
   "execution_count": null,
   "metadata": {},
   "outputs": [],
   "source": [
    "filter_transformer = ColumnTransformer(transformers=[\n",
    "    ('num', numeric_transformer, numeric_features),\n",
    "    ('cat', categorical_transformer, categorical_features)\n",
    "])"
   ]
  },
  {
   "cell_type": "code",
   "execution_count": null,
   "metadata": {},
   "outputs": [],
   "source": [
    "# put alias as keys to dictionary\n",
    "# put instantiation of model, including parameters you don't want to gridsearch, as value\n",
    "\n",
    "est_dict = {\n",
    "    'logreg': LogisticRegression(solver='lbfgs'),\n",
    "    'knn': KNeighborsClassifier(),\n",
    "    'rand': RandomForestClassifier(n_estimators=100, random_state=111),\n",
    "    'extra': ExtraTreesClassifier(n_estimators=100, random_state=111),\n",
    "    'ada': AdaBoostClassifier(base_estimator=DecisionTreeClassifier(), random_state=111)\n",
    "}\n",
    "\n",
    "# list of aliases so we can loop through models\n",
    "estimators = ['logreg', 'knn', 'rand', 'extra', 'ada']"
   ]
  },
  {
   "cell_type": "code",
   "execution_count": null,
   "metadata": {},
   "outputs": [],
   "source": [
    "'''\n",
    "to access parameters, follow this format:\n",
    "\n",
    "grid_params = {'filter__num__poly__param': [],\n",
    "    'estimatoralias__param': []\n",
    "    }\n",
    "'''\n",
    "\n",
    "pipe = Pipeline([\n",
    "    ('filter', filter_transformer),\n",
    "    ('estimator', Estimator())\n",
    "])"
   ]
  },
  {
   "cell_type": "code",
   "execution_count": null,
   "metadata": {},
   "outputs": [],
   "source": []
  },
  {
   "cell_type": "code",
   "execution_count": null,
   "metadata": {},
   "outputs": [],
   "source": []
  }
 ],
 "metadata": {
  "kernelspec": {
   "display_name": "Python 3",
   "language": "python",
   "name": "python3"
  },
  "language_info": {
   "codemirror_mode": {
    "name": "ipython",
    "version": 3
   },
   "file_extension": ".py",
   "mimetype": "text/x-python",
   "name": "python",
   "nbconvert_exporter": "python",
   "pygments_lexer": "ipython3",
   "version": "3.7.3"
  }
 },
 "nbformat": 4,
 "nbformat_minor": 2
}
