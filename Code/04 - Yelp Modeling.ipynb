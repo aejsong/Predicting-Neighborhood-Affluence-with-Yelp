{
 "cells": [
  {
   "cell_type": "markdown",
   "metadata": {},
   "source": [
    "# Cheap Models\n",
    "- Jerry's code from previous project, trying to use it to perform a bunch of different models for this project\n",
    "- Still need to tweak functions so they can be used for this project."
   ]
  },
  {
   "cell_type": "code",
   "execution_count": 1,
   "metadata": {},
   "outputs": [],
   "source": [
    "# Copied and pasted from my imports from project 3, \n",
    "# delete if we dont need(Aerika)\n",
    "\n",
    "import pandas as pd\n",
    "import numpy as np\n",
    "import matplotlib.pyplot as plt\n",
    "import seaborn as sns\n",
    "import os\n",
    "\n",
    "from sklearn.feature_extraction.text import CountVectorizer, TfidfVectorizer\n",
    "from sklearn.feature_extraction import stop_words\n",
    "\n",
    "from sklearn.pipeline import Pipeline\n",
    "\n",
    "from sklearn.model_selection import train_test_split, GridSearchCV\n",
    "\n",
    "from sklearn.linear_model import LogisticRegression\n",
    "\n",
    "from sklearn.naive_bayes import MultinomialNB, ComplementNB, GaussianNB, BernoulliNB\n",
    "\n",
    "from sklearn.metrics import confusion_matrix, accuracy_score, roc_curve, auc\n",
    "\n",
    "from nltk.stem import WordNetLemmatizer\n",
    "from nltk.stem.porter import PorterStemmer\n",
    "from nltk.stem import SnowballStemmer\n",
    "from nltk.tokenize import ToktokTokenizer\n",
    "from nltk.sentiment.vader import SentimentIntensityAnalyzer\n",
    "from nltk.corpus import stopwords \n",
    "\n",
    "import regex as re\n",
    "\n",
    "from scipy.stats import ttest_ind"
   ]
  },
  {
   "cell_type": "code",
   "execution_count": 3,
   "metadata": {},
   "outputs": [
    {
     "data": {
      "text/html": [
       "<div>\n",
       "<style scoped>\n",
       "    .dataframe tbody tr th:only-of-type {\n",
       "        vertical-align: middle;\n",
       "    }\n",
       "\n",
       "    .dataframe tbody tr th {\n",
       "        vertical-align: top;\n",
       "    }\n",
       "\n",
       "    .dataframe thead th {\n",
       "        text-align: right;\n",
       "    }\n",
       "</style>\n",
       "<table border=\"1\" class=\"dataframe\">\n",
       "  <thead>\n",
       "    <tr style=\"text-align: right;\">\n",
       "      <th></th>\n",
       "      <th>Unnamed: 0</th>\n",
       "      <th>alias</th>\n",
       "      <th>category</th>\n",
       "      <th>city</th>\n",
       "      <th>id</th>\n",
       "      <th>latitude</th>\n",
       "      <th>longitude</th>\n",
       "      <th>price</th>\n",
       "      <th>rating</th>\n",
       "      <th>review_count</th>\n",
       "      <th>zip_code</th>\n",
       "      <th>ave_agi</th>\n",
       "    </tr>\n",
       "  </thead>\n",
       "  <tbody>\n",
       "    <tr>\n",
       "      <td>0</td>\n",
       "      <td>0</td>\n",
       "      <td>いざかや-おせん-izakaya-osen-los-angeles</td>\n",
       "      <td>['sushi', 'izakaya', 'seafood']</td>\n",
       "      <td>Los Angeles</td>\n",
       "      <td>us0WnDOySVXXXwCqs0AaCw</td>\n",
       "      <td>34.083192</td>\n",
       "      <td>-118.273245</td>\n",
       "      <td>$$</td>\n",
       "      <td>4.5</td>\n",
       "      <td>651.0</td>\n",
       "      <td>90026.0</td>\n",
       "      <td>44.191297</td>\n",
       "    </tr>\n",
       "    <tr>\n",
       "      <td>1</td>\n",
       "      <td>1</td>\n",
       "      <td>yummy-crepe-stand-los-angeles</td>\n",
       "      <td>['streetvendors', 'creperies']</td>\n",
       "      <td>Los Angeles</td>\n",
       "      <td>xFMzCotq4cURN37cvTr9eQ</td>\n",
       "      <td>34.078743</td>\n",
       "      <td>-118.263756</td>\n",
       "      <td>$</td>\n",
       "      <td>4.5</td>\n",
       "      <td>3.0</td>\n",
       "      <td>90026.0</td>\n",
       "      <td>44.191297</td>\n",
       "    </tr>\n",
       "    <tr>\n",
       "      <td>2</td>\n",
       "      <td>2</td>\n",
       "      <td>yum-yum-shave-ice-los-angeles-2</td>\n",
       "      <td>['shavedice', 'foodstands']</td>\n",
       "      <td>Los Angeles</td>\n",
       "      <td>Tub-psQGYAjbtny6MnfQmg</td>\n",
       "      <td>34.077049</td>\n",
       "      <td>-118.258873</td>\n",
       "      <td>$</td>\n",
       "      <td>5.0</td>\n",
       "      <td>2.0</td>\n",
       "      <td>90026.0</td>\n",
       "      <td>44.191297</td>\n",
       "    </tr>\n",
       "    <tr>\n",
       "      <td>3</td>\n",
       "      <td>3</td>\n",
       "      <td>yoga-urt-los-angeles</td>\n",
       "      <td>['icecream', 'juicebars', 'vegan']</td>\n",
       "      <td>Los Angeles</td>\n",
       "      <td>vsRKNraKeeddoOXL2btQ5A</td>\n",
       "      <td>34.077688</td>\n",
       "      <td>-118.265555</td>\n",
       "      <td>$</td>\n",
       "      <td>4.5</td>\n",
       "      <td>46.0</td>\n",
       "      <td>90026.0</td>\n",
       "      <td>44.191297</td>\n",
       "    </tr>\n",
       "    <tr>\n",
       "      <td>4</td>\n",
       "      <td>4</td>\n",
       "      <td>yami-yaki-los-angeles-2</td>\n",
       "      <td>['teppanyaki']</td>\n",
       "      <td>Los Angeles</td>\n",
       "      <td>Bcp6NEv7CGTOtnIgvo6Unw</td>\n",
       "      <td>34.077917</td>\n",
       "      <td>-118.263523</td>\n",
       "      <td>$</td>\n",
       "      <td>4.5</td>\n",
       "      <td>74.0</td>\n",
       "      <td>90026.0</td>\n",
       "      <td>44.191297</td>\n",
       "    </tr>\n",
       "  </tbody>\n",
       "</table>\n",
       "</div>"
      ],
      "text/plain": [
       "   Unnamed: 0                              alias  \\\n",
       "0           0  いざかや-おせん-izakaya-osen-los-angeles   \n",
       "1           1      yummy-crepe-stand-los-angeles   \n",
       "2           2    yum-yum-shave-ice-los-angeles-2   \n",
       "3           3               yoga-urt-los-angeles   \n",
       "4           4            yami-yaki-los-angeles-2   \n",
       "\n",
       "                             category         city                      id  \\\n",
       "0     ['sushi', 'izakaya', 'seafood']  Los Angeles  us0WnDOySVXXXwCqs0AaCw   \n",
       "1      ['streetvendors', 'creperies']  Los Angeles  xFMzCotq4cURN37cvTr9eQ   \n",
       "2         ['shavedice', 'foodstands']  Los Angeles  Tub-psQGYAjbtny6MnfQmg   \n",
       "3  ['icecream', 'juicebars', 'vegan']  Los Angeles  vsRKNraKeeddoOXL2btQ5A   \n",
       "4                      ['teppanyaki']  Los Angeles  Bcp6NEv7CGTOtnIgvo6Unw   \n",
       "\n",
       "    latitude   longitude price  rating  review_count  zip_code    ave_agi  \n",
       "0  34.083192 -118.273245    $$     4.5         651.0   90026.0  44.191297  \n",
       "1  34.078743 -118.263756     $     4.5           3.0   90026.0  44.191297  \n",
       "2  34.077049 -118.258873     $     5.0           2.0   90026.0  44.191297  \n",
       "3  34.077688 -118.265555     $     4.5          46.0   90026.0  44.191297  \n",
       "4  34.077917 -118.263523     $     4.5          74.0   90026.0  44.191297  "
      ]
     },
     "execution_count": 3,
     "metadata": {},
     "output_type": "execute_result"
    }
   ],
   "source": [
    "df = pd.read_csv('../data/data_income.csv')\n",
    "df.head()"
   ]
  },
  {
   "cell_type": "code",
   "execution_count": 6,
   "metadata": {},
   "outputs": [],
   "source": [
    "df = df.drop(columns='Unnamed: 0')"
   ]
  },
  {
   "cell_type": "code",
   "execution_count": 8,
   "metadata": {},
   "outputs": [
    {
     "data": {
      "text/plain": [
       "<matplotlib.axes._subplots.AxesSubplot at 0x1a1bfc91d0>"
      ]
     },
     "execution_count": 8,
     "metadata": {},
     "output_type": "execute_result"
    },
    {
     "data": {
      "image/png": "[encoded data removed]",
      "text/plain": [
       "<Figure size 432x288 with 2 Axes>"
      ]
     },
     "metadata": {
      "needs_background": "light"
     },
     "output_type": "display_data"
    }
   ],
   "source": [
    "sns.heatmap(df.corr(),\n",
    "           annot = True,\n",
    "           cmap = 'coolwarm')"
   ]
  },
  {
   "cell_type": "code",
   "execution_count": null,
   "metadata": {},
   "outputs": [],
   "source": []
  },
  {
   "cell_type": "code",
   "execution_count": null,
   "metadata": {},
   "outputs": [],
   "source": []
  },
  {
   "cell_type": "code",
   "execution_count": null,
   "metadata": {},
   "outputs": [],
   "source": []
  },
  {
   "cell_type": "code",
   "execution_count": null,
   "metadata": {},
   "outputs": [],
   "source": []
  },
  {
   "cell_type": "code",
   "execution_count": 16,
   "metadata": {},
   "outputs": [],
   "source": [
    "# Not sure if this is how we should be splitting this\n",
    "\n",
    "X = master_df.drop('zip_code', axis = 1)\n",
    "y = master_df['zip_code']\n",
    "\n",
    "X_train, X_test, y_train, y_test = train_test_split(X, y,\n",
    "                                                   random_state = 42)"
   ]
  },
  {
   "cell_type": "code",
   "execution_count": null,
   "metadata": {},
   "outputs": [],
   "source": [
    "def get_continuous(df):\n",
    "    to_keep = ['age', \n",
    "               'fnlwgt', \n",
    "               'education-num', \n",
    "               'capital-gain', \n",
    "               'capital-loss',\n",
    "               'hours-per-week',\n",
    "               'agesq',\n",
    "               'hrssq',\n",
    "               'fnlwgtsq',\n",
    "               'edusq',\n",
    "               'gainsq',\n",
    "               'lossq'\n",
    "              ]\n",
    "    return df[to_keep]\n",
    "\n",
    "GetContinuous = FunctionTransformer(get_continuous, validate=False)"
   ]
  },
  {
   "cell_type": "code",
   "execution_count": 15,
   "metadata": {},
   "outputs": [
    {
     "ename": "NameError",
     "evalue": "name 'estimators' is not defined",
     "output_type": "error",
     "traceback": [
      "\u001b[0;31m---------------------------------------------------------------------------\u001b[0m",
      "\u001b[0;31mNameError\u001b[0m                                 Traceback (most recent call last)",
      "\u001b[0;32m<ipython-input-15-39d2c60a6e3e>\u001b[0m in \u001b[0;36m<module>\u001b[0;34m\u001b[0m\n\u001b[0;32m----> 1\u001b[0;31m \u001b[0;32mfor\u001b[0m \u001b[0mestimator\u001b[0m \u001b[0;32min\u001b[0m \u001b[0mestimators\u001b[0m\u001b[0;34m:\u001b[0m\u001b[0;34m\u001b[0m\u001b[0;34m\u001b[0m\u001b[0m\n\u001b[0m\u001b[1;32m      2\u001b[0m     pipe = Pipeline([\n\u001b[1;32m      3\u001b[0m         ('union', FeatureUnion([\n\u001b[1;32m      4\u001b[0m             ('continuous', Pipeline([\n\u001b[1;32m      5\u001b[0m                 \u001b[0;34m(\u001b[0m\u001b[0;34m'get_continuous'\u001b[0m\u001b[0;34m,\u001b[0m \u001b[0mGetContinuous\u001b[0m\u001b[0;34m)\u001b[0m\u001b[0;34m,\u001b[0m\u001b[0;34m\u001b[0m\u001b[0;34m\u001b[0m\u001b[0m\n",
      "\u001b[0;31mNameError\u001b[0m: name 'estimators' is not defined"
     ]
    }
   ],
   "source": [
    "for estimator in estimators:\n",
    "    pipe = Pipeline([\n",
    "        ('union', FeatureUnion([\n",
    "            ('continuous', Pipeline([\n",
    "                ('get_continuous', GetContinuous),\n",
    "                ('sc', StandardScaler())\n",
    "            ])),\n",
    "            ('categorical', GetCategorical)\n",
    "        ])),\n",
    "        (estimator, eval(f\"est_dict['{estimator}']\"))\n",
    "    ])"
   ]
  },
  {
   "cell_type": "code",
   "execution_count": null,
   "metadata": {},
   "outputs": [],
   "source": [
    "est_dict = {\n",
    "    'logreg': LogisticRegression(solver='lbfgs'),\n",
    "    'knn': KNeighborsClassifier(),\n",
    "    'rand': RandomForestClassifier(n_estimators=100, random_state=111),\n",
    "    'extra': ExtraTreesClassifier(n_estimators=100, random_state=111),\n",
    "    'ada': AdaBoostClassifier(base_estimator=DecisionTreeClassifier(), random_state=111)\n",
    "}\n",
    "\n",
    "estimators = ['logreg', 'knn', 'rand', 'extra', 'ada']"
   ]
  },
  {
   "cell_type": "code",
   "execution_count": null,
   "metadata": {},
   "outputs": [],
   "source": []
  }
 ],
 "metadata": {
  "kernelspec": {
   "display_name": "Python 3",
   "language": "python",
   "name": "python3"
  },
  "language_info": {
   "codemirror_mode": {
    "name": "ipython",
    "version": 3
   },
   "file_extension": ".py",
   "mimetype": "text/x-python",
   "name": "python",
   "nbconvert_exporter": "python",
   "pygments_lexer": "ipython3",
   "version": "3.7.3"
  }
 },
 "nbformat": 4,
 "nbformat_minor": 2
}
