{
 "cells": [
  {
   "cell_type": "markdown",
   "metadata": {},
   "source": [
    "# Yelp API Webscraping"
   ]
  },
  {
   "cell_type": "code",
   "execution_count": 12,
   "metadata": {},
   "outputs": [],
   "source": [
    "import pandas as pd \n",
    "import json\n",
    "import requests"
   ]
  },
  {
   "cell_type": "markdown",
   "metadata": {},
   "source": [
    "# Compiled Code\n",
    "- Don't forget to comment so we can understand!\n",
    "\n",
    "## known issues:\n",
    "- function populates dataframe with NaN rows\n",
    "- do we want business name?\n",
    "- businesses have multiple categories and function only picks up one at a time\n",
    "    - currently the 'alias' portion picks up the alias of the business (name), not the category alias"
   ]
  },
  {
   "cell_type": "code",
   "execution_count": 10,
   "metadata": {},
   "outputs": [],
   "source": [
    "# NOTHING IN THIS CELL NEEDS TO GET CHANGED \n",
    "# IF YOU HAVE YOUR API KEY IN 'creds.json' IN ./Assets\n",
    "\n",
    "# format your json file as a dictionary containing api key with DOUBLE QUOTES\n",
    "# {\"api\": \"your_super_long_api_key\"}\n",
    "creds_file = open('../Assets/creds.json')\n",
    "\n",
    "# load credentials into variable\n",
    "yelp_credentials = json.loads(creds_file.read())\n",
    "api_key = yelp_credentials['api']\n",
    "headers = {'Authorization': 'Bearer %s' % api_key}\n",
    "\n",
    "# this is the url we use to make broad business searches\n",
    "# https://www.yelp.com/developers/documentation/v3/business_search\n",
    "\n",
    "url = 'https://api.yelp.com/v3/businesses/search'"
   ]
  },
  {
   "cell_type": "code",
   "execution_count": 11,
   "metadata": {},
   "outputs": [],
   "source": [
    "# depending on what we want to search we can change values in this dictionary\n",
    "params = {'term':'food', 'location': 'Los Angeles'}"
   ]
  },
  {
   "cell_type": "code",
   "execution_count": 13,
   "metadata": {},
   "outputs": [
    {
     "name": "stdout",
     "output_type": "stream",
     "text": [
      "Status Code: 200\n"
     ]
    }
   ],
   "source": [
    "# ONLY RUN THIS CELL IF YOU WANT TO MAKE A REQUEST\n",
    "req = requests.get(url, params=params, headers=headers)\n",
    "print(f'Status Code: {req.status_code}')"
   ]
  },
  {
   "cell_type": "code",
   "execution_count": 19,
   "metadata": {},
   "outputs": [],
   "source": [
    "yelp = json.loads(req.text)"
   ]
  },
  {
   "cell_type": "code",
   "execution_count": 60,
   "metadata": {},
   "outputs": [
    {
     "data": {
      "text/plain": [
       "{'id': 'ptxjMkVBFfGxOiSEGGNVZg',\n",
       " 'alias': 'nadri-korean-tea-house-los-angeles',\n",
       " 'name': 'Nadri Korean Tea House',\n",
       " 'image_url': 'https://s3-media4.fl.yelpcdn.com/bphoto/-uioZ1kDD0aOgSI40Mi60Q/o.jpg',\n",
       " 'is_closed': False,\n",
       " 'url': 'https://www.yelp.com/biz/nadri-korean-tea-house-los-angeles?adjust_creative=hJX25nxjhHdw1ByNun2Ocw&utm_campaign=yelp_api_v3&utm_medium=api_v3_business_search&utm_source=hJX25nxjhHdw1ByNun2Ocw',\n",
       " 'review_count': 9,\n",
       " 'categories': [{'alias': 'desserts', 'title': 'Desserts'},\n",
       "  {'alias': 'korean', 'title': 'Korean'},\n",
       "  {'alias': 'coffee', 'title': 'Coffee & Tea'}],\n",
       " 'rating': 5.0,\n",
       " 'coordinates': {'latitude': 34.06369, 'longitude': -118.31087},\n",
       " 'transactions': [],\n",
       " 'location': {'address1': '4011 W 6th St',\n",
       "  'address2': 'Ste 100',\n",
       "  'address3': None,\n",
       "  'city': 'Los Angeles',\n",
       "  'zip_code': '90020',\n",
       "  'country': 'US',\n",
       "  'state': 'CA',\n",
       "  'display_address': ['4011 W 6th St', 'Ste 100', 'Los Angeles, CA 90020']},\n",
       " 'phone': '',\n",
       " 'display_phone': '',\n",
       " 'distance': 993.2991921392055}"
      ]
     },
     "execution_count": 60,
     "metadata": {},
     "output_type": "execute_result"
    }
   ],
   "source": [
    "businesses_object = yelp['businesses']\n",
    "businesses_object[15]\n",
    "\n",
    "# id\n",
    "# coordinates\n",
    "# price\n",
    "# review_count\n",
    "# rating\n",
    "# location > zip_code\n",
    "# location > city\n",
    "# categories > alias"
   ]
  },
  {
   "cell_type": "code",
   "execution_count": 58,
   "metadata": {},
   "outputs": [],
   "source": [
    "# stole this function from project 3 - jerry\n",
    "\n",
    "def get_price(yelp_object):\n",
    "    \n",
    "    # empty list container containing dictionaries representing each unique business\n",
    "    businesses = []\n",
    "    businesses_object = yelp_object['businesses']\n",
    "    \n",
    "    # looking at each subreddit which is passed into our function\n",
    "    for i, business in enumerate(list(businesses_object)):\n",
    "        \n",
    "        # each dictionary will contain all of the desired information from each post\n",
    "        business_dict = {}\n",
    "\n",
    "        if 'price' in businesses_object[i].keys():\n",
    "            business_dict['id']           = business['id']\n",
    "            business_dict['latitude']     = business['coordinates']['latitude']\n",
    "            business_dict['longitude']    = business['coordinates']['longitude']\n",
    "            business_dict['price']        = business['price']\n",
    "            business_dict['review_count'] = business['review_count']\n",
    "            business_dict['rating']       = business['rating']\n",
    "            business_dict['zip_code']     = business['location']['zip_code']\n",
    "            business_dict['city']         = business['location']['city']\n",
    "            business_dict['alias']        = business['alias']\n",
    "\n",
    "        # populate the posts list with each post dictionary\n",
    "        businesses.append(business_dict)\n",
    "\n",
    "        # just a little sanity check to see how far along our function is going\n",
    "        print(f'{i+1} out of {len(businesses_object)}')\n",
    "    \n",
    "    businesses = pd.DataFrame(businesses)\n",
    "    \n",
    "    return businesses"
   ]
  },
  {
   "cell_type": "code",
   "execution_count": 59,
   "metadata": {},
   "outputs": [
    {
     "name": "stdout",
     "output_type": "stream",
     "text": [
      "1 out of 20\n",
      "2 out of 20\n",
      "3 out of 20\n",
      "4 out of 20\n",
      "5 out of 20\n",
      "6 out of 20\n",
      "7 out of 20\n",
      "8 out of 20\n",
      "9 out of 20\n",
      "10 out of 20\n",
      "11 out of 20\n",
      "12 out of 20\n",
      "13 out of 20\n",
      "14 out of 20\n",
      "15 out of 20\n",
      "16 out of 20\n",
      "17 out of 20\n",
      "18 out of 20\n",
      "19 out of 20\n",
      "20 out of 20\n"
     ]
    },
    {
     "data": {
      "text/html": [
       "<div>\n",
       "<style scoped>\n",
       "    .dataframe tbody tr th:only-of-type {\n",
       "        vertical-align: middle;\n",
       "    }\n",
       "\n",
       "    .dataframe tbody tr th {\n",
       "        vertical-align: top;\n",
       "    }\n",
       "\n",
       "    .dataframe thead th {\n",
       "        text-align: right;\n",
       "    }\n",
       "</style>\n",
       "<table border=\"1\" class=\"dataframe\">\n",
       "  <thead>\n",
       "    <tr style=\"text-align: right;\">\n",
       "      <th></th>\n",
       "      <th>id</th>\n",
       "      <th>latitude</th>\n",
       "      <th>longitude</th>\n",
       "      <th>price</th>\n",
       "      <th>review_count</th>\n",
       "      <th>rating</th>\n",
       "      <th>zip_code</th>\n",
       "      <th>city</th>\n",
       "      <th>alias</th>\n",
       "    </tr>\n",
       "  </thead>\n",
       "  <tbody>\n",
       "    <tr>\n",
       "      <td>0</td>\n",
       "      <td>pjh40JY5YwWeV8aKhkXERg</td>\n",
       "      <td>34.065770</td>\n",
       "      <td>-118.308470</td>\n",
       "      <td>$</td>\n",
       "      <td>702.0</td>\n",
       "      <td>4.5</td>\n",
       "      <td>90020</td>\n",
       "      <td>Los Angeles</td>\n",
       "      <td>myungrang-hot-dog-california-market-la-los-ang...</td>\n",
       "    </tr>\n",
       "    <tr>\n",
       "      <td>1</td>\n",
       "      <td>6QeZEUhFk1_vZhWvktKnmA</td>\n",
       "      <td>34.094545</td>\n",
       "      <td>-118.338175</td>\n",
       "      <td>$$</td>\n",
       "      <td>2017.0</td>\n",
       "      <td>4.0</td>\n",
       "      <td>90028</td>\n",
       "      <td>Los Angeles</td>\n",
       "      <td>fat-sals-deli-hollywood-los-angeles</td>\n",
       "    </tr>\n",
       "    <tr>\n",
       "      <td>2</td>\n",
       "      <td>NaN</td>\n",
       "      <td>NaN</td>\n",
       "      <td>NaN</td>\n",
       "      <td>NaN</td>\n",
       "      <td>NaN</td>\n",
       "      <td>NaN</td>\n",
       "      <td>NaN</td>\n",
       "      <td>NaN</td>\n",
       "      <td>NaN</td>\n",
       "    </tr>\n",
       "    <tr>\n",
       "      <td>3</td>\n",
       "      <td>kF_lSWagvBreXwEpCMdHhQ</td>\n",
       "      <td>34.050629</td>\n",
       "      <td>-118.248635</td>\n",
       "      <td>$$</td>\n",
       "      <td>2502.0</td>\n",
       "      <td>4.0</td>\n",
       "      <td>90013</td>\n",
       "      <td>Los Angeles</td>\n",
       "      <td>grand-central-market-los-angeles</td>\n",
       "    </tr>\n",
       "    <tr>\n",
       "      <td>4</td>\n",
       "      <td>DrToq9357afdpOyO5w0Y5w</td>\n",
       "      <td>34.064009</td>\n",
       "      <td>-118.300701</td>\n",
       "      <td>$$</td>\n",
       "      <td>1961.0</td>\n",
       "      <td>4.5</td>\n",
       "      <td>90020</td>\n",
       "      <td>Los Angeles</td>\n",
       "      <td>yup-dduk-la-los-angeles</td>\n",
       "    </tr>\n",
       "    <tr>\n",
       "      <td>5</td>\n",
       "      <td>CcqraT0cuGKYEcZ1ri_kxg</td>\n",
       "      <td>34.040403</td>\n",
       "      <td>-118.253512</td>\n",
       "      <td>$$</td>\n",
       "      <td>689.0</td>\n",
       "      <td>5.0</td>\n",
       "      <td>90015</td>\n",
       "      <td>Los Angeles</td>\n",
       "      <td>broken-mouth-lees-homestyle-los-angeles-5</td>\n",
       "    </tr>\n",
       "    <tr>\n",
       "      <td>6</td>\n",
       "      <td>omaJSGvnj2vaIJ_MBxeyBw</td>\n",
       "      <td>34.032251</td>\n",
       "      <td>-118.334644</td>\n",
       "      <td>$</td>\n",
       "      <td>96.0</td>\n",
       "      <td>4.5</td>\n",
       "      <td>90018</td>\n",
       "      <td>Los Angeles</td>\n",
       "      <td>l-a-birria-los-angeles</td>\n",
       "    </tr>\n",
       "    <tr>\n",
       "      <td>7</td>\n",
       "      <td>ohosmz6FXVAeoW5nUkYwng</td>\n",
       "      <td>34.090596</td>\n",
       "      <td>-118.277172</td>\n",
       "      <td>$$</td>\n",
       "      <td>2151.0</td>\n",
       "      <td>4.5</td>\n",
       "      <td>90026</td>\n",
       "      <td>Los Angeles</td>\n",
       "      <td>pine-and-crane-los-angeles</td>\n",
       "    </tr>\n",
       "    <tr>\n",
       "      <td>8</td>\n",
       "      <td>PQGsaaJ9YVL_Sgiy7aB70Q</td>\n",
       "      <td>34.063440</td>\n",
       "      <td>-118.298310</td>\n",
       "      <td>$</td>\n",
       "      <td>223.0</td>\n",
       "      <td>4.0</td>\n",
       "      <td>90020</td>\n",
       "      <td>Los Angeles</td>\n",
       "      <td>street-food-of-seoul-los-angeles</td>\n",
       "    </tr>\n",
       "    <tr>\n",
       "      <td>9</td>\n",
       "      <td>fxeuGYnoRWwm5aGDg1FRJA</td>\n",
       "      <td>34.050023</td>\n",
       "      <td>-118.239935</td>\n",
       "      <td>$$</td>\n",
       "      <td>3558.0</td>\n",
       "      <td>4.5</td>\n",
       "      <td>90012</td>\n",
       "      <td>Los Angeles</td>\n",
       "      <td>marugame-monzo-los-angeles-2</td>\n",
       "    </tr>\n",
       "    <tr>\n",
       "      <td>10</td>\n",
       "      <td>eXZyAF5Xk1u-d9vnkeNPXg</td>\n",
       "      <td>34.041836</td>\n",
       "      <td>-118.259047</td>\n",
       "      <td>$$</td>\n",
       "      <td>1762.0</td>\n",
       "      <td>4.0</td>\n",
       "      <td>90015</td>\n",
       "      <td>Los Angeles</td>\n",
       "      <td>birdies-los-angeles-3</td>\n",
       "    </tr>\n",
       "    <tr>\n",
       "      <td>11</td>\n",
       "      <td>23Qrcz2i9e2e8MstUIIO0A</td>\n",
       "      <td>34.062181</td>\n",
       "      <td>-118.348153</td>\n",
       "      <td>$$</td>\n",
       "      <td>1527.0</td>\n",
       "      <td>4.5</td>\n",
       "      <td>90036</td>\n",
       "      <td>Los Angeles</td>\n",
       "      <td>yuko-kitchen-los-angeles</td>\n",
       "    </tr>\n",
       "    <tr>\n",
       "      <td>12</td>\n",
       "      <td>HXWdcnzYG1zmf0vDplmEEQ</td>\n",
       "      <td>34.059960</td>\n",
       "      <td>-118.419820</td>\n",
       "      <td>$$</td>\n",
       "      <td>354.0</td>\n",
       "      <td>4.0</td>\n",
       "      <td>90067</td>\n",
       "      <td>Los Angeles</td>\n",
       "      <td>the-crack-shack-los-angeles-2</td>\n",
       "    </tr>\n",
       "    <tr>\n",
       "      <td>13</td>\n",
       "      <td>PXYKRPkEcf4Mczfp_AfP0w</td>\n",
       "      <td>34.072577</td>\n",
       "      <td>-118.214695</td>\n",
       "      <td>$</td>\n",
       "      <td>901.0</td>\n",
       "      <td>4.5</td>\n",
       "      <td>90031</td>\n",
       "      <td>Los Angeles</td>\n",
       "      <td>corn-man-los-angeles-3</td>\n",
       "    </tr>\n",
       "    <tr>\n",
       "      <td>14</td>\n",
       "      <td>gEZzvxvK0VtlTXQKelsSxw</td>\n",
       "      <td>34.098325</td>\n",
       "      <td>-118.329669</td>\n",
       "      <td>$$</td>\n",
       "      <td>143.0</td>\n",
       "      <td>4.5</td>\n",
       "      <td>90028</td>\n",
       "      <td>Los Angeles</td>\n",
       "      <td>waku-waku-sakebar-los-angeles</td>\n",
       "    </tr>\n",
       "    <tr>\n",
       "      <td>15</td>\n",
       "      <td>NaN</td>\n",
       "      <td>NaN</td>\n",
       "      <td>NaN</td>\n",
       "      <td>NaN</td>\n",
       "      <td>NaN</td>\n",
       "      <td>NaN</td>\n",
       "      <td>NaN</td>\n",
       "      <td>NaN</td>\n",
       "      <td>NaN</td>\n",
       "    </tr>\n",
       "    <tr>\n",
       "      <td>16</td>\n",
       "      <td>f2Kf3p31IQMiFl2jHXrVaA</td>\n",
       "      <td>34.160466</td>\n",
       "      <td>-118.264551</td>\n",
       "      <td>$</td>\n",
       "      <td>1270.0</td>\n",
       "      <td>4.0</td>\n",
       "      <td>91202</td>\n",
       "      <td>Glendale</td>\n",
       "      <td>brick-and-flour-glendale-4</td>\n",
       "    </tr>\n",
       "    <tr>\n",
       "      <td>17</td>\n",
       "      <td>KQBGm5G8IDkE8LeNY45mbA</td>\n",
       "      <td>34.045605</td>\n",
       "      <td>-118.236061</td>\n",
       "      <td>$$</td>\n",
       "      <td>8205.0</td>\n",
       "      <td>4.0</td>\n",
       "      <td>90013</td>\n",
       "      <td>Los Angeles</td>\n",
       "      <td>wurstküche-los-angeles-2</td>\n",
       "    </tr>\n",
       "    <tr>\n",
       "      <td>18</td>\n",
       "      <td>uzAbw27XQTXTivjgf2bN2w</td>\n",
       "      <td>34.065414</td>\n",
       "      <td>-118.309570</td>\n",
       "      <td>$$</td>\n",
       "      <td>2122.0</td>\n",
       "      <td>4.5</td>\n",
       "      <td>90020</td>\n",
       "      <td>Los Angeles</td>\n",
       "      <td>han-bat-sul-lung-tang-los-angeles-2</td>\n",
       "    </tr>\n",
       "    <tr>\n",
       "      <td>19</td>\n",
       "      <td>aQFguaddjBna3ZIBsxjeeA</td>\n",
       "      <td>34.072893</td>\n",
       "      <td>-118.371790</td>\n",
       "      <td>$$</td>\n",
       "      <td>2260.0</td>\n",
       "      <td>4.0</td>\n",
       "      <td>90048</td>\n",
       "      <td>Los Angeles</td>\n",
       "      <td>joans-on-third-los-angeles</td>\n",
       "    </tr>\n",
       "  </tbody>\n",
       "</table>\n",
       "</div>"
      ],
      "text/plain": [
       "                        id   latitude   longitude price  review_count  rating  \\\n",
       "0   pjh40JY5YwWeV8aKhkXERg  34.065770 -118.308470     $         702.0     4.5   \n",
       "1   6QeZEUhFk1_vZhWvktKnmA  34.094545 -118.338175    $$        2017.0     4.0   \n",
       "2                      NaN        NaN         NaN   NaN           NaN     NaN   \n",
       "3   kF_lSWagvBreXwEpCMdHhQ  34.050629 -118.248635    $$        2502.0     4.0   \n",
       "4   DrToq9357afdpOyO5w0Y5w  34.064009 -118.300701    $$        1961.0     4.5   \n",
       "5   CcqraT0cuGKYEcZ1ri_kxg  34.040403 -118.253512    $$         689.0     5.0   \n",
       "6   omaJSGvnj2vaIJ_MBxeyBw  34.032251 -118.334644     $          96.0     4.5   \n",
       "7   ohosmz6FXVAeoW5nUkYwng  34.090596 -118.277172    $$        2151.0     4.5   \n",
       "8   PQGsaaJ9YVL_Sgiy7aB70Q  34.063440 -118.298310     $         223.0     4.0   \n",
       "9   fxeuGYnoRWwm5aGDg1FRJA  34.050023 -118.239935    $$        3558.0     4.5   \n",
       "10  eXZyAF5Xk1u-d9vnkeNPXg  34.041836 -118.259047    $$        1762.0     4.0   \n",
       "11  23Qrcz2i9e2e8MstUIIO0A  34.062181 -118.348153    $$        1527.0     4.5   \n",
       "12  HXWdcnzYG1zmf0vDplmEEQ  34.059960 -118.419820    $$         354.0     4.0   \n",
       "13  PXYKRPkEcf4Mczfp_AfP0w  34.072577 -118.214695     $         901.0     4.5   \n",
       "14  gEZzvxvK0VtlTXQKelsSxw  34.098325 -118.329669    $$         143.0     4.5   \n",
       "15                     NaN        NaN         NaN   NaN           NaN     NaN   \n",
       "16  f2Kf3p31IQMiFl2jHXrVaA  34.160466 -118.264551     $        1270.0     4.0   \n",
       "17  KQBGm5G8IDkE8LeNY45mbA  34.045605 -118.236061    $$        8205.0     4.0   \n",
       "18  uzAbw27XQTXTivjgf2bN2w  34.065414 -118.309570    $$        2122.0     4.5   \n",
       "19  aQFguaddjBna3ZIBsxjeeA  34.072893 -118.371790    $$        2260.0     4.0   \n",
       "\n",
       "   zip_code         city                                              alias  \n",
       "0     90020  Los Angeles  myungrang-hot-dog-california-market-la-los-ang...  \n",
       "1     90028  Los Angeles                fat-sals-deli-hollywood-los-angeles  \n",
       "2       NaN          NaN                                                NaN  \n",
       "3     90013  Los Angeles                   grand-central-market-los-angeles  \n",
       "4     90020  Los Angeles                            yup-dduk-la-los-angeles  \n",
       "5     90015  Los Angeles          broken-mouth-lees-homestyle-los-angeles-5  \n",
       "6     90018  Los Angeles                             l-a-birria-los-angeles  \n",
       "7     90026  Los Angeles                         pine-and-crane-los-angeles  \n",
       "8     90020  Los Angeles                   street-food-of-seoul-los-angeles  \n",
       "9     90012  Los Angeles                       marugame-monzo-los-angeles-2  \n",
       "10    90015  Los Angeles                              birdies-los-angeles-3  \n",
       "11    90036  Los Angeles                           yuko-kitchen-los-angeles  \n",
       "12    90067  Los Angeles                      the-crack-shack-los-angeles-2  \n",
       "13    90031  Los Angeles                             corn-man-los-angeles-3  \n",
       "14    90028  Los Angeles                      waku-waku-sakebar-los-angeles  \n",
       "15      NaN          NaN                                                NaN  \n",
       "16    91202     Glendale                         brick-and-flour-glendale-4  \n",
       "17    90013  Los Angeles                           wurstküche-los-angeles-2  \n",
       "18    90020  Los Angeles                han-bat-sul-lung-tang-los-angeles-2  \n",
       "19    90048  Los Angeles                         joans-on-third-los-angeles  "
      ]
     },
     "execution_count": 59,
     "metadata": {},
     "output_type": "execute_result"
    }
   ],
   "source": [
    "get_price(yelp)"
   ]
  },
  {
   "cell_type": "markdown",
   "metadata": {},
   "source": [
    "## aerika section"
   ]
  },
  {
   "cell_type": "code",
   "execution_count": 1,
   "metadata": {},
   "outputs": [
    {
     "ename": "NameError",
     "evalue": "name 'hi' is not defined",
     "output_type": "error",
     "traceback": [
      "\u001b[0;31m---------------------------------------------------------------------------\u001b[0m",
      "\u001b[0;31mNameError\u001b[0m                                 Traceback (most recent call last)",
      "\u001b[0;32m<ipython-input-1-55ca6286e3e4>\u001b[0m in \u001b[0;36m<module>\u001b[0;34m\u001b[0m\n\u001b[0;32m----> 1\u001b[0;31m \u001b[0mhi\u001b[0m\u001b[0;34m\u001b[0m\u001b[0;34m\u001b[0m\u001b[0m\n\u001b[0m",
      "\u001b[0;31mNameError\u001b[0m: name 'hi' is not defined"
     ]
    }
   ],
   "source": [
    "hi"
   ]
  },
  {
   "cell_type": "code",
   "execution_count": 2,
   "metadata": {},
   "outputs": [
    {
     "ename": "NameError",
     "evalue": "name 'my' is not defined",
     "output_type": "error",
     "traceback": [
      "\u001b[0;31m---------------------------------------------------------------------------\u001b[0m",
      "\u001b[0;31mNameError\u001b[0m                                 Traceback (most recent call last)",
      "\u001b[0;32m<ipython-input-2-8c42a99f2faf>\u001b[0m in \u001b[0;36m<module>\u001b[0;34m\u001b[0m\n\u001b[0;32m----> 1\u001b[0;31m \u001b[0mmy\u001b[0m\u001b[0;34m\u001b[0m\u001b[0;34m\u001b[0m\u001b[0m\n\u001b[0m",
      "\u001b[0;31mNameError\u001b[0m: name 'my' is not defined"
     ]
    }
   ],
   "source": [
    "my"
   ]
  },
  {
   "cell_type": "code",
   "execution_count": 3,
   "metadata": {},
   "outputs": [
    {
     "ename": "NameError",
     "evalue": "name 'name' is not defined",
     "output_type": "error",
     "traceback": [
      "\u001b[0;31m---------------------------------------------------------------------------\u001b[0m",
      "\u001b[0;31mNameError\u001b[0m                                 Traceback (most recent call last)",
      "\u001b[0;32m<ipython-input-3-9bc0cb2ed6de>\u001b[0m in \u001b[0;36m<module>\u001b[0;34m\u001b[0m\n\u001b[0;32m----> 1\u001b[0;31m \u001b[0mname\u001b[0m\u001b[0;34m\u001b[0m\u001b[0;34m\u001b[0m\u001b[0m\n\u001b[0m",
      "\u001b[0;31mNameError\u001b[0m: name 'name' is not defined"
     ]
    }
   ],
   "source": [
    "name"
   ]
  },
  {
   "cell_type": "markdown",
   "metadata": {},
   "source": [
    "## echo section"
   ]
  },
  {
   "cell_type": "markdown",
   "metadata": {},
   "source": [
    "added comment"
   ]
  },
  {
   "cell_type": "code",
   "execution_count": null,
   "metadata": {},
   "outputs": [],
   "source": [
    "added cell"
   ]
  },
  {
   "cell_type": "markdown",
   "metadata": {},
   "source": [
    "## jerry section"
   ]
  },
  {
   "cell_type": "code",
   "execution_count": null,
   "metadata": {},
   "outputs": [],
   "source": [
    "# ds;alkfjds;lfkas;dghas'dlfjas;dlkfjas'dfj"
   ]
  },
  {
   "cell_type": "code",
   "execution_count": 1,
   "metadata": {},
   "outputs": [],
   "source": [
    "# this is another change a;sdfja;dfkasd;fajsd;fasdkfjas;fwef"
   ]
  },
  {
   "cell_type": "code",
   "execution_count": 2,
   "metadata": {},
   "outputs": [],
   "source": [
    "# yet another change ;asdlfkjas;dknva;djaweoifsd;laknfas;dfknasd"
   ]
  },
  {
   "cell_type": "code",
   "execution_count": 3,
   "metadata": {},
   "outputs": [
    {
     "data": {
      "text/plain": [
       "3.831008000716577e+22"
      ]
     },
     "execution_count": 3,
     "metadata": {},
     "output_type": "execute_result"
    }
   ],
   "source": [
    "x = np.exp(52)\n",
    "x"
   ]
  },
  {
   "cell_type": "code",
   "execution_count": null,
   "metadata": {},
   "outputs": [],
   "source": []
  },
  {
   "cell_type": "code",
   "execution_count": null,
   "metadata": {},
   "outputs": [],
   "source": []
  },
  {
   "cell_type": "code",
   "execution_count": null,
   "metadata": {},
   "outputs": [],
   "source": []
  },
  {
   "cell_type": "code",
   "execution_count": null,
   "metadata": {},
   "outputs": [],
   "source": []
  },
  {
   "cell_type": "code",
   "execution_count": null,
   "metadata": {},
   "outputs": [],
   "source": []
  },
  {
   "cell_type": "code",
   "execution_count": null,
   "metadata": {},
   "outputs": [],
   "source": []
  },
  {
   "cell_type": "code",
   "execution_count": null,
   "metadata": {},
   "outputs": [],
   "source": []
  },
  {
   "cell_type": "code",
   "execution_count": null,
   "metadata": {},
   "outputs": [],
   "source": []
  }
 ],
 "metadata": {
  "kernelspec": {
   "display_name": "Python 3",
   "language": "python",
   "name": "python3"
  },
  "language_info": {
   "codemirror_mode": {
    "name": "ipython",
    "version": 3
   },
   "file_extension": ".py",
   "mimetype": "text/x-python",
   "name": "python",
   "nbconvert_exporter": "python",
   "pygments_lexer": "ipython3",
   "version": "3.7.3"
  }
 },
 "nbformat": 4,
 "nbformat_minor": 2
}
