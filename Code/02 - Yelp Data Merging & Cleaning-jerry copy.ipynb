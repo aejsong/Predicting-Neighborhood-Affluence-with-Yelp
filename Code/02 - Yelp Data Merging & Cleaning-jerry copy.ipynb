{
 "cells": [
  {
   "cell_type": "markdown",
   "metadata": {},
   "source": [
    "# Yelp Data Merging"
   ]
  },
  {
   "cell_type": "code",
   "execution_count": 1,
   "metadata": {},
   "outputs": [],
   "source": [
    "# Copied and pasted from my imports from project 3, \n",
    "# delete if we dont need(Aerika)\n",
    "\n",
    "import pandas as pd\n",
    "import numpy as np\n",
    "import matplotlib.pyplot as plt\n",
    "import seaborn as sns\n",
    "import os\n",
    "\n",
    "from sklearn.feature_extraction.text import CountVectorizer, TfidfVectorizer\n",
    "from sklearn.feature_extraction import stop_words\n",
    "\n",
    "from sklearn.pipeline import Pipeline\n",
    "\n",
    "from sklearn.model_selection import train_test_split, GridSearchCV\n",
    "\n",
    "from sklearn.linear_model import LogisticRegression\n",
    "\n",
    "from sklearn.naive_bayes import MultinomialNB, ComplementNB, GaussianNB, BernoulliNB\n",
    "\n",
    "from sklearn.metrics import confusion_matrix, accuracy_score, roc_curve, auc\n",
    "\n",
    "from nltk.stem import WordNetLemmatizer\n",
    "from nltk.stem.porter import PorterStemmer\n",
    "from nltk.stem import SnowballStemmer\n",
    "from nltk.tokenize import ToktokTokenizer\n",
    "from nltk.sentiment.vader import SentimentIntensityAnalyzer\n",
    "from nltk.corpus import stopwords \n",
    "\n",
    "import regex as re\n",
    "\n",
    "from scipy.stats import ttest_ind"
   ]
  },
  {
   "cell_type": "code",
   "execution_count": 2,
   "metadata": {
    "scrolled": true
   },
   "outputs": [],
   "source": [
    "file_paths = []\n",
    "for file in os.listdir('../data'):\n",
    "    if 'businesses2019' in file:\n",
    "        file_paths.append('../data/'+file)"
   ]
  },
  {
   "cell_type": "code",
   "execution_count": 3,
   "metadata": {},
   "outputs": [],
   "source": [
    "master_df = {\n",
    "    'id': [],\n",
    "    'latitude': [],\n",
    "    'longitude': [],\n",
    "    'price': [],\n",
    "    'review_count': [],\n",
    "    'rating': [],\n",
    "    'zip_code': [],\n",
    "    'city': [],\n",
    "    'alias': [],\n",
    "    'category': [],\n",
    "}\n",
    "\n",
    "master_df = pd.DataFrame(master_df)"
   ]
  },
  {
   "cell_type": "code",
   "execution_count": 4,
   "metadata": {},
   "outputs": [
    {
     "name": "stderr",
     "output_type": "stream",
     "text": [
      "C:\\Users\\m6zha\\Anaconda3\\lib\\site-packages\\ipykernel_launcher.py:3: FutureWarning: Sorting because non-concatenation axis is not aligned. A future version\n",
      "of pandas will change to not sort by default.\n",
      "\n",
      "To accept the future behavior, pass 'sort=False'.\n",
      "\n",
      "To retain the current behavior and silence the warning, pass 'sort=True'.\n",
      "\n",
      "  This is separate from the ipykernel package so we can avoid doing imports until\n"
     ]
    },
    {
     "data": {
      "text/html": [
       "<div>\n",
       "<style scoped>\n",
       "    .dataframe tbody tr th:only-of-type {\n",
       "        vertical-align: middle;\n",
       "    }\n",
       "\n",
       "    .dataframe tbody tr th {\n",
       "        vertical-align: top;\n",
       "    }\n",
       "\n",
       "    .dataframe thead th {\n",
       "        text-align: right;\n",
       "    }\n",
       "</style>\n",
       "<table border=\"1\" class=\"dataframe\">\n",
       "  <thead>\n",
       "    <tr style=\"text-align: right;\">\n",
       "      <th></th>\n",
       "      <th>alias</th>\n",
       "      <th>category</th>\n",
       "      <th>city</th>\n",
       "      <th>id</th>\n",
       "      <th>latitude</th>\n",
       "      <th>longitude</th>\n",
       "      <th>price</th>\n",
       "      <th>rating</th>\n",
       "      <th>review_count</th>\n",
       "      <th>zip_code</th>\n",
       "    </tr>\n",
       "  </thead>\n",
       "  <tbody>\n",
       "    <tr>\n",
       "      <td>0</td>\n",
       "      <td>jack-in-the-box-lebec-3</td>\n",
       "      <td>['hotdogs', 'breakfast_brunch', 'burgers']</td>\n",
       "      <td>Lebec</td>\n",
       "      <td>g9QI0mMCq4D07jxATL5qRA</td>\n",
       "      <td>34.818608</td>\n",
       "      <td>-118.882458</td>\n",
       "      <td>$</td>\n",
       "      <td>2.0</td>\n",
       "      <td>77.0</td>\n",
       "      <td>93243</td>\n",
       "    </tr>\n",
       "    <tr>\n",
       "      <td>1</td>\n",
       "      <td>los-pinos-mexican-restaurant-lebec-2</td>\n",
       "      <td>['mexican']</td>\n",
       "      <td>Lebec</td>\n",
       "      <td>qRsFaV-cukBGL2nlJoktYw</td>\n",
       "      <td>34.818766</td>\n",
       "      <td>-118.883621</td>\n",
       "      <td>$$</td>\n",
       "      <td>4.0</td>\n",
       "      <td>268.0</td>\n",
       "      <td>93243</td>\n",
       "    </tr>\n",
       "    <tr>\n",
       "      <td>2</td>\n",
       "      <td>subway-restaurants-lebec</td>\n",
       "      <td>['sandwiches']</td>\n",
       "      <td>Lebec</td>\n",
       "      <td>UP21YTmGG5uDMXlPQVpskQ</td>\n",
       "      <td>34.818628</td>\n",
       "      <td>-118.884271</td>\n",
       "      <td>$</td>\n",
       "      <td>3.5</td>\n",
       "      <td>11.0</td>\n",
       "      <td>93243</td>\n",
       "    </tr>\n",
       "    <tr>\n",
       "      <td>3</td>\n",
       "      <td>quiznos-lebec</td>\n",
       "      <td>['hotdogs', 'sandwiches']</td>\n",
       "      <td>Lebec</td>\n",
       "      <td>2zcJfPZ8lDq-HU9n56gBuw</td>\n",
       "      <td>34.818439</td>\n",
       "      <td>-118.885094</td>\n",
       "      <td>$</td>\n",
       "      <td>3.5</td>\n",
       "      <td>5.0</td>\n",
       "      <td>93243</td>\n",
       "    </tr>\n",
       "    <tr>\n",
       "      <td>4</td>\n",
       "      <td>china-red-house-chinese-restaurant-lebec</td>\n",
       "      <td>['chinese']</td>\n",
       "      <td>Lebec</td>\n",
       "      <td>uNzapwAHu-WaTtrN41p-UA</td>\n",
       "      <td>34.818343</td>\n",
       "      <td>-118.885659</td>\n",
       "      <td>$</td>\n",
       "      <td>4.0</td>\n",
       "      <td>42.0</td>\n",
       "      <td>93243</td>\n",
       "    </tr>\n",
       "  </tbody>\n",
       "</table>\n",
       "</div>"
      ],
      "text/plain": [
       "                                      alias  \\\n",
       "0                   jack-in-the-box-lebec-3   \n",
       "1      los-pinos-mexican-restaurant-lebec-2   \n",
       "2                  subway-restaurants-lebec   \n",
       "3                             quiznos-lebec   \n",
       "4  china-red-house-chinese-restaurant-lebec   \n",
       "\n",
       "                                     category   city                      id  \\\n",
       "0  ['hotdogs', 'breakfast_brunch', 'burgers']  Lebec  g9QI0mMCq4D07jxATL5qRA   \n",
       "1                                 ['mexican']  Lebec  qRsFaV-cukBGL2nlJoktYw   \n",
       "2                              ['sandwiches']  Lebec  UP21YTmGG5uDMXlPQVpskQ   \n",
       "3                   ['hotdogs', 'sandwiches']  Lebec  2zcJfPZ8lDq-HU9n56gBuw   \n",
       "4                                 ['chinese']  Lebec  uNzapwAHu-WaTtrN41p-UA   \n",
       "\n",
       "    latitude   longitude price  rating  review_count zip_code  \n",
       "0  34.818608 -118.882458     $     2.0          77.0    93243  \n",
       "1  34.818766 -118.883621    $$     4.0         268.0    93243  \n",
       "2  34.818628 -118.884271     $     3.5          11.0    93243  \n",
       "3  34.818439 -118.885094     $     3.5           5.0    93243  \n",
       "4  34.818343 -118.885659     $     4.0          42.0    93243  "
      ]
     },
     "execution_count": 4,
     "metadata": {},
     "output_type": "execute_result"
    }
   ],
   "source": [
    "for path in file_paths:\n",
    "    \n",
    "    master_df = pd.concat([master_df, pd.read_csv(path)])\n",
    "\n",
    "master_df.head()"
   ]
  },
  {
   "cell_type": "code",
   "execution_count": 5,
   "metadata": {},
   "outputs": [
    {
     "data": {
      "text/plain": [
       "(102673, 10)"
      ]
     },
     "execution_count": 5,
     "metadata": {},
     "output_type": "execute_result"
    }
   ],
   "source": [
    "# Seeing shape of dataframe BEFORE dropping duplicates \n",
    "\n",
    "master_df.shape"
   ]
  },
  {
   "cell_type": "code",
   "execution_count": 6,
   "metadata": {},
   "outputs": [],
   "source": [
    "# Dropping duplicates\n",
    "\n",
    "master_df = master_df.sort_values(['alias',\n",
    "                       'id', 'latitude', 'longitude', 'review_count'],\n",
    "                      ascending = False).drop_duplicates(subset = ['id'],\n",
    "                                                         keep ='first')"
   ]
  },
  {
   "cell_type": "code",
   "execution_count": 7,
   "metadata": {},
   "outputs": [
    {
     "data": {
      "text/plain": [
       "(28884, 10)"
      ]
     },
     "execution_count": 7,
     "metadata": {},
     "output_type": "execute_result"
    }
   ],
   "source": [
    "# Shape of df AFTER dropping duplicates\n",
    "\n",
    "master_df.shape"
   ]
  },
  {
   "cell_type": "code",
   "execution_count": 8,
   "metadata": {},
   "outputs": [],
   "source": [
    "# Resetting master_df index\n",
    "\n",
    "master_df.reset_index(inplace=True)\n",
    "master_df.drop(columns='index', inplace=True)"
   ]
  },
  {
   "cell_type": "markdown",
   "metadata": {},
   "source": [
    "# NaNs in master_df"
   ]
  },
  {
   "cell_type": "code",
   "execution_count": 9,
   "metadata": {},
   "outputs": [
    {
     "data": {
      "text/plain": [
       "alias             1\n",
       "category          1\n",
       "city              1\n",
       "id                1\n",
       "latitude         17\n",
       "longitude        17\n",
       "price             1\n",
       "rating            1\n",
       "review_count      1\n",
       "zip_code        124\n",
       "dtype: int64"
      ]
     },
     "execution_count": 9,
     "metadata": {},
     "output_type": "execute_result"
    }
   ],
   "source": [
    "master_df.isna().sum()"
   ]
  },
  {
   "cell_type": "code",
   "execution_count": 10,
   "metadata": {},
   "outputs": [
    {
     "data": {
      "text/plain": [
       "(28712, 10)"
      ]
     },
     "execution_count": 10,
     "metadata": {},
     "output_type": "execute_result"
    }
   ],
   "source": [
    "# Dropping rows w/ prices that aren't $, $$, $$$, or $$$$.\n",
    "\n",
    "data_drop_df = master_df.loc[(master_df['price'] != '$') & (master_df['price'] != '$$') & (master_df['price'] != '$$$') & (master_df['price'] != '$$$$')]\n",
    "drop_indexes = list(data_drop_df.index)\n",
    "\n",
    "master_df.drop(index=drop_indexes, inplace = True)\n",
    "master_df.shape\n"
   ]
  },
  {
   "cell_type": "code",
   "execution_count": 11,
   "metadata": {},
   "outputs": [
    {
     "data": {
      "text/plain": [
       "(28595, 10)"
      ]
     },
     "execution_count": 11,
     "metadata": {},
     "output_type": "execute_result"
    }
   ],
   "source": [
    "# Businesses that don't have latitude/zipcodes = Food Trucks, Caterers --> dropped\n",
    "\n",
    "food_trucks = master_df.loc[(master_df['latitude'].isna()) | (master_df['zip_code'].isna())].index.tolist()\n",
    "\n",
    "master_df.drop(index = food_trucks, inplace = True)\n",
    "master_df.shape\n"
   ]
  },
  {
   "cell_type": "code",
   "execution_count": 12,
   "metadata": {
    "scrolled": true
   },
   "outputs": [
    {
     "data": {
      "text/plain": [
       "alias           0\n",
       "category        0\n",
       "city            0\n",
       "id              0\n",
       "latitude        0\n",
       "longitude       0\n",
       "price           0\n",
       "rating          0\n",
       "review_count    0\n",
       "zip_code        0\n",
       "dtype: int64"
      ]
     },
     "execution_count": 12,
     "metadata": {},
     "output_type": "execute_result"
    }
   ],
   "source": [
    "master_df.isna().sum()"
   ]
  },
  {
   "cell_type": "markdown",
   "metadata": {},
   "source": [
    "# Replacing \\\\$ in price to numbers"
   ]
  },
  {
   "cell_type": "code",
   "execution_count": 13,
   "metadata": {},
   "outputs": [],
   "source": [
    "master_df['price'] = master_df['price'].map({'$$$$':4, '$$$':3, '$$':2,'$':1})"
   ]
  },
  {
   "cell_type": "code",
   "execution_count": 14,
   "metadata": {
    "scrolled": false
   },
   "outputs": [
    {
     "data": {
      "text/html": [
       "<div>\n",
       "<style scoped>\n",
       "    .dataframe tbody tr th:only-of-type {\n",
       "        vertical-align: middle;\n",
       "    }\n",
       "\n",
       "    .dataframe tbody tr th {\n",
       "        vertical-align: top;\n",
       "    }\n",
       "\n",
       "    .dataframe thead th {\n",
       "        text-align: right;\n",
       "    }\n",
       "</style>\n",
       "<table border=\"1\" class=\"dataframe\">\n",
       "  <thead>\n",
       "    <tr style=\"text-align: right;\">\n",
       "      <th></th>\n",
       "      <th>alias</th>\n",
       "      <th>category</th>\n",
       "      <th>city</th>\n",
       "      <th>id</th>\n",
       "      <th>latitude</th>\n",
       "      <th>longitude</th>\n",
       "      <th>price</th>\n",
       "      <th>rating</th>\n",
       "      <th>review_count</th>\n",
       "      <th>zip_code</th>\n",
       "    </tr>\n",
       "  </thead>\n",
       "  <tbody>\n",
       "    <tr>\n",
       "      <td>0</td>\n",
       "      <td>重庆特色小面-chongqing-special-noodles-san-gabriel-3</td>\n",
       "      <td>['noodles', 'chinese']</td>\n",
       "      <td>San Gabriel</td>\n",
       "      <td>mm6l24khOfXhKqn4pKVojA</td>\n",
       "      <td>34.103070</td>\n",
       "      <td>-118.091840</td>\n",
       "      <td>1</td>\n",
       "      <td>4.0</td>\n",
       "      <td>204.0</td>\n",
       "      <td>91776</td>\n",
       "    </tr>\n",
       "    <tr>\n",
       "      <td>1</td>\n",
       "      <td>重庆小面-best-noodle-house-rosemead-3</td>\n",
       "      <td>['noodles', 'szechuan']</td>\n",
       "      <td>Rosemead</td>\n",
       "      <td>DgXxBgUEvARu45x7RSgYRw</td>\n",
       "      <td>34.081182</td>\n",
       "      <td>-118.066226</td>\n",
       "      <td>1</td>\n",
       "      <td>4.0</td>\n",
       "      <td>141.0</td>\n",
       "      <td>91770</td>\n",
       "    </tr>\n",
       "  </tbody>\n",
       "</table>\n",
       "</div>"
      ],
      "text/plain": [
       "                                            alias                 category  \\\n",
       "0  重庆特色小面-chongqing-special-noodles-san-gabriel-3   ['noodles', 'chinese']   \n",
       "1               重庆小面-best-noodle-house-rosemead-3  ['noodles', 'szechuan']   \n",
       "\n",
       "          city                      id   latitude   longitude  price  rating  \\\n",
       "0  San Gabriel  mm6l24khOfXhKqn4pKVojA  34.103070 -118.091840      1     4.0   \n",
       "1     Rosemead  DgXxBgUEvARu45x7RSgYRw  34.081182 -118.066226      1     4.0   \n",
       "\n",
       "   review_count zip_code  \n",
       "0         204.0    91776  \n",
       "1         141.0    91770  "
      ]
     },
     "execution_count": 14,
     "metadata": {},
     "output_type": "execute_result"
    }
   ],
   "source": [
    "master_df.head(2)"
   ]
  },
  {
   "cell_type": "markdown",
   "metadata": {},
   "source": [
    "# Dropping Rows \n",
    "- convert zip_codes from float -> int -> str\n",
    "- zipcodes that don't start with '9'"
   ]
  },
  {
   "cell_type": "code",
   "execution_count": 15,
   "metadata": {},
   "outputs": [],
   "source": [
    "master_df = master_df.reset_index(drop=True)"
   ]
  },
  {
   "cell_type": "code",
   "execution_count": 16,
   "metadata": {},
   "outputs": [],
   "source": [
    "master_df['zip_code'] = master_df['zip_code'].astype(int).astype(str)"
   ]
  },
  {
   "cell_type": "code",
   "execution_count": 17,
   "metadata": {},
   "outputs": [],
   "source": [
    "notin_la = []\n",
    "for i in range(len(master_df['zip_code'])):\n",
    "    if master_df['zip_code'][i].startswith('9') == False:\n",
    "        notin_la.append(master_df['zip_code'].index[i])"
   ]
  },
  {
   "cell_type": "code",
   "execution_count": 18,
   "metadata": {},
   "outputs": [
    {
     "data": {
      "text/plain": [
       "[941,\n",
       " 1716,\n",
       " 3009,\n",
       " 4514,\n",
       " 6610,\n",
       " 8017,\n",
       " 9538,\n",
       " 9823,\n",
       " 9827,\n",
       " 9838,\n",
       " 9842,\n",
       " 9848,\n",
       " 9852,\n",
       " 9858,\n",
       " 9860,\n",
       " 9869,\n",
       " 9871,\n",
       " 9883,\n",
       " 9892,\n",
       " 9914,\n",
       " 9935,\n",
       " 9936,\n",
       " 9953,\n",
       " 9957,\n",
       " 9959,\n",
       " 9964,\n",
       " 9966,\n",
       " 9967,\n",
       " 9968,\n",
       " 9983,\n",
       " 9985,\n",
       " 9988,\n",
       " 9996,\n",
       " 14656,\n",
       " 14872,\n",
       " 15115,\n",
       " 16420,\n",
       " 18577,\n",
       " 23914,\n",
       " 25246,\n",
       " 25384,\n",
       " 26870]"
      ]
     },
     "execution_count": 18,
     "metadata": {},
     "output_type": "execute_result"
    }
   ],
   "source": [
    "notin_la"
   ]
  },
  {
   "cell_type": "code",
   "execution_count": 19,
   "metadata": {},
   "outputs": [
    {
     "data": {
      "text/plain": [
       "(28595, 10)"
      ]
     },
     "execution_count": 19,
     "metadata": {},
     "output_type": "execute_result"
    }
   ],
   "source": [
    "master_df.shape"
   ]
  },
  {
   "cell_type": "code",
   "execution_count": 20,
   "metadata": {},
   "outputs": [],
   "source": [
    "master_df = master_df.drop(index=notin_la).reset_index(drop=True)"
   ]
  },
  {
   "cell_type": "code",
   "execution_count": 21,
   "metadata": {},
   "outputs": [
    {
     "data": {
      "text/plain": [
       "(28553, 10)"
      ]
     },
     "execution_count": 21,
     "metadata": {},
     "output_type": "execute_result"
    }
   ],
   "source": [
    "master_df.shape"
   ]
  },
  {
   "cell_type": "markdown",
   "metadata": {},
   "source": [
    "# Removing rows that aren't around the same latitude/longitude"
   ]
  },
  {
   "cell_type": "code",
   "execution_count": 22,
   "metadata": {},
   "outputs": [
    {
     "data": {
      "text/html": [
       "<div>\n",
       "<style scoped>\n",
       "    .dataframe tbody tr th:only-of-type {\n",
       "        vertical-align: middle;\n",
       "    }\n",
       "\n",
       "    .dataframe tbody tr th {\n",
       "        vertical-align: top;\n",
       "    }\n",
       "\n",
       "    .dataframe thead th {\n",
       "        text-align: right;\n",
       "    }\n",
       "</style>\n",
       "<table border=\"1\" class=\"dataframe\">\n",
       "  <thead>\n",
       "    <tr style=\"text-align: right;\">\n",
       "      <th></th>\n",
       "      <th>latitude</th>\n",
       "      <th>longitude</th>\n",
       "      <th>price</th>\n",
       "      <th>rating</th>\n",
       "      <th>review_count</th>\n",
       "    </tr>\n",
       "  </thead>\n",
       "  <tbody>\n",
       "    <tr>\n",
       "      <td>count</td>\n",
       "      <td>28553.000000</td>\n",
       "      <td>28553.000000</td>\n",
       "      <td>28553.000000</td>\n",
       "      <td>28553.000000</td>\n",
       "      <td>28553.000000</td>\n",
       "    </tr>\n",
       "    <tr>\n",
       "      <td>mean</td>\n",
       "      <td>34.050451</td>\n",
       "      <td>-118.242524</td>\n",
       "      <td>1.482226</td>\n",
       "      <td>3.585455</td>\n",
       "      <td>242.046895</td>\n",
       "    </tr>\n",
       "    <tr>\n",
       "      <td>std</td>\n",
       "      <td>0.241629</td>\n",
       "      <td>0.386881</td>\n",
       "      <td>0.578135</td>\n",
       "      <td>0.812601</td>\n",
       "      <td>420.873217</td>\n",
       "    </tr>\n",
       "    <tr>\n",
       "      <td>min</td>\n",
       "      <td>33.167953</td>\n",
       "      <td>-149.429066</td>\n",
       "      <td>1.000000</td>\n",
       "      <td>0.000000</td>\n",
       "      <td>0.000000</td>\n",
       "    </tr>\n",
       "    <tr>\n",
       "      <td>25%</td>\n",
       "      <td>33.950983</td>\n",
       "      <td>-118.384980</td>\n",
       "      <td>1.000000</td>\n",
       "      <td>3.000000</td>\n",
       "      <td>37.000000</td>\n",
       "    </tr>\n",
       "    <tr>\n",
       "      <td>50%</td>\n",
       "      <td>34.052071</td>\n",
       "      <td>-118.263988</td>\n",
       "      <td>1.000000</td>\n",
       "      <td>3.500000</td>\n",
       "      <td>107.000000</td>\n",
       "    </tr>\n",
       "    <tr>\n",
       "      <td>75%</td>\n",
       "      <td>34.131160</td>\n",
       "      <td>-118.123680</td>\n",
       "      <td>2.000000</td>\n",
       "      <td>4.000000</td>\n",
       "      <td>280.000000</td>\n",
       "    </tr>\n",
       "    <tr>\n",
       "      <td>max</td>\n",
       "      <td>61.581385</td>\n",
       "      <td>-84.414552</td>\n",
       "      <td>4.000000</td>\n",
       "      <td>5.000000</td>\n",
       "      <td>16662.000000</td>\n",
       "    </tr>\n",
       "  </tbody>\n",
       "</table>\n",
       "</div>"
      ],
      "text/plain": [
       "           latitude     longitude         price        rating  review_count\n",
       "count  28553.000000  28553.000000  28553.000000  28553.000000  28553.000000\n",
       "mean      34.050451   -118.242524      1.482226      3.585455    242.046895\n",
       "std        0.241629      0.386881      0.578135      0.812601    420.873217\n",
       "min       33.167953   -149.429066      1.000000      0.000000      0.000000\n",
       "25%       33.950983   -118.384980      1.000000      3.000000     37.000000\n",
       "50%       34.052071   -118.263988      1.000000      3.500000    107.000000\n",
       "75%       34.131160   -118.123680      2.000000      4.000000    280.000000\n",
       "max       61.581385    -84.414552      4.000000      5.000000  16662.000000"
      ]
     },
     "execution_count": 22,
     "metadata": {},
     "output_type": "execute_result"
    }
   ],
   "source": [
    "master_df.describe()"
   ]
  },
  {
   "cell_type": "code",
   "execution_count": 23,
   "metadata": {},
   "outputs": [],
   "source": [
    "master_df = master_df.drop(index=master_df.loc[(master_df['longitude'] > -117) |\n",
    "                                               (master_df['latitude'] > 35) | \n",
    "                                               (master_df['longitude'] < -120)].index).reset_index(drop=True)"
   ]
  },
  {
   "cell_type": "code",
   "execution_count": 24,
   "metadata": {},
   "outputs": [
    {
     "data": {
      "text/plain": [
       "(28545, 10)"
      ]
     },
     "execution_count": 24,
     "metadata": {},
     "output_type": "execute_result"
    }
   ],
   "source": [
    "master_df.shape"
   ]
  },
  {
   "cell_type": "markdown",
   "metadata": {},
   "source": [
    "# Feature Engineering"
   ]
  },
  {
   "cell_type": "markdown",
   "metadata": {},
   "source": [
    "## Save the cleaned data to a CSV"
   ]
  },
  {
   "cell_type": "code",
   "execution_count": 25,
   "metadata": {},
   "outputs": [],
   "source": [
    "import os"
   ]
  },
  {
   "cell_type": "code",
   "execution_count": 26,
   "metadata": {},
   "outputs": [
    {
     "data": {
      "text/plain": [
       "'C:\\\\Users\\\\m6zha\\\\Desktop\\\\github\\\\Predicting-Neighborhood-Affluence-with-Yelp\\\\Code'"
      ]
     },
     "execution_count": 26,
     "metadata": {},
     "output_type": "execute_result"
    }
   ],
   "source": [
    "os.getcwd()"
   ]
  },
  {
   "cell_type": "code",
   "execution_count": 28,
   "metadata": {},
   "outputs": [],
   "source": [
    "# Don't uncomment this unless you actually want to create a new csv\n",
    "\n",
    "master_df.to_csv('../data/master.csv')"
   ]
  },
  {
   "cell_type": "code",
   "execution_count": null,
   "metadata": {},
   "outputs": [],
   "source": []
  }
 ],
 "metadata": {
  "kernelspec": {
   "display_name": "Python 3",
   "language": "python",
   "name": "python3"
  },
  "language_info": {
   "codemirror_mode": {
    "name": "ipython",
    "version": 3
   },
   "file_extension": ".py",
   "mimetype": "text/x-python",
   "name": "python",
   "nbconvert_exporter": "python",
   "pygments_lexer": "ipython3",
   "version": "3.7.3"
  }
 },
 "nbformat": 4,
 "nbformat_minor": 2
}
