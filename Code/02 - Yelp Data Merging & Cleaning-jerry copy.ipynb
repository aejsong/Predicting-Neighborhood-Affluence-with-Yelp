{
 "cells": [
  {
   "cell_type": "markdown",
   "metadata": {},
   "source": [
    "# Yelp Data Merging"
   ]
  },
  {
   "cell_type": "code",
   "execution_count": 1,
   "metadata": {},
   "outputs": [],
   "source": [
    "# Copied and pasted from my imports from project 3, \n",
    "# delete if we dont need(Aerika)\n",
    "\n",
    "import pandas as pd\n",
    "import numpy as np\n",
    "import matplotlib.pyplot as plt\n",
    "import seaborn as sns\n",
    "import os\n",
    "\n",
    "from sklearn.feature_extraction.text import CountVectorizer, TfidfVectorizer\n",
    "from sklearn.feature_extraction import stop_words\n",
    "\n",
    "from sklearn.pipeline import Pipeline\n",
    "\n",
    "from sklearn.model_selection import train_test_split, GridSearchCV\n",
    "\n",
    "from sklearn.linear_model import LogisticRegression\n",
    "\n",
    "from sklearn.naive_bayes import MultinomialNB, ComplementNB, GaussianNB, BernoulliNB\n",
    "\n",
    "from sklearn.metrics import confusion_matrix, accuracy_score, roc_curve, auc\n",
    "\n",
    "from nltk.stem import WordNetLemmatizer\n",
    "from nltk.stem.porter import PorterStemmer\n",
    "from nltk.stem import SnowballStemmer\n",
    "from nltk.tokenize import ToktokTokenizer\n",
    "from nltk.sentiment.vader import SentimentIntensityAnalyzer\n",
    "from nltk.corpus import stopwords \n",
    "\n",
    "import regex as re\n",
    "\n",
    "from scipy.stats import ttest_ind"
   ]
  },
  {
   "cell_type": "code",
   "execution_count": 2,
   "metadata": {
    "scrolled": true
   },
   "outputs": [],
   "source": [
    "file_paths = []\n",
    "for file in os.listdir('../data'):\n",
    "    if 'businesses2019' in file:\n",
    "        file_paths.append('../data/'+file)"
   ]
  },
  {
   "cell_type": "code",
   "execution_count": 3,
   "metadata": {},
   "outputs": [],
   "source": [
    "master_df = {\n",
    "    'id': [],\n",
    "    'latitude': [],\n",
    "    'longitude': [],\n",
    "    'price': [],\n",
    "    'review_count': [],\n",
    "    'rating': [],\n",
    "    'zip_code': [],\n",
    "    'city': [],\n",
    "    'alias': [],\n",
    "    'category': [],\n",
    "}\n",
    "\n",
    "master_df = pd.DataFrame(master_df)"
   ]
  },
  {
   "cell_type": "code",
   "execution_count": 4,
   "metadata": {},
   "outputs": [
    {
     "name": "stderr",
     "output_type": "stream",
     "text": [
      "/Users/Jelly/anaconda3/lib/python3.7/site-packages/ipykernel_launcher.py:3: FutureWarning: Sorting because non-concatenation axis is not aligned. A future version\n",
      "of pandas will change to not sort by default.\n",
      "\n",
      "To accept the future behavior, pass 'sort=False'.\n",
      "\n",
      "To retain the current behavior and silence the warning, pass 'sort=True'.\n",
      "\n",
      "  This is separate from the ipykernel package so we can avoid doing imports until\n"
     ]
    },
    {
     "data": {
      "text/html": [
       "<div>\n",
       "<style scoped>\n",
       "    .dataframe tbody tr th:only-of-type {\n",
       "        vertical-align: middle;\n",
       "    }\n",
       "\n",
       "    .dataframe tbody tr th {\n",
       "        vertical-align: top;\n",
       "    }\n",
       "\n",
       "    .dataframe thead th {\n",
       "        text-align: right;\n",
       "    }\n",
       "</style>\n",
       "<table border=\"1\" class=\"dataframe\">\n",
       "  <thead>\n",
       "    <tr style=\"text-align: right;\">\n",
       "      <th></th>\n",
       "      <th>alias</th>\n",
       "      <th>categories</th>\n",
       "      <th>category</th>\n",
       "      <th>city</th>\n",
       "      <th>id</th>\n",
       "      <th>latitude</th>\n",
       "      <th>longitude</th>\n",
       "      <th>price</th>\n",
       "      <th>rating</th>\n",
       "      <th>review_count</th>\n",
       "      <th>zip_code</th>\n",
       "    </tr>\n",
       "  </thead>\n",
       "  <tbody>\n",
       "    <tr>\n",
       "      <td>0</td>\n",
       "      <td>chichen-itza-restaurant-los-angeles-3</td>\n",
       "      <td>NaN</td>\n",
       "      <td>['mexican', 'sandwiches', 'soup']</td>\n",
       "      <td>Los Angeles</td>\n",
       "      <td>vC_6J_nGyf4J8xt-Vu6Shw</td>\n",
       "      <td>34.017440</td>\n",
       "      <td>-118.278300</td>\n",
       "      <td>$$</td>\n",
       "      <td>4.5</td>\n",
       "      <td>1190.0</td>\n",
       "      <td>90007</td>\n",
       "    </tr>\n",
       "    <tr>\n",
       "      <td>1</td>\n",
       "      <td>NaN</td>\n",
       "      <td>NaN</td>\n",
       "      <td>['childrensmuseums']</td>\n",
       "      <td>NaN</td>\n",
       "      <td>NaN</td>\n",
       "      <td>NaN</td>\n",
       "      <td>NaN</td>\n",
       "      <td>NaN</td>\n",
       "      <td>NaN</td>\n",
       "      <td>NaN</td>\n",
       "      <td>NaN</td>\n",
       "    </tr>\n",
       "    <tr>\n",
       "      <td>2</td>\n",
       "      <td>NaN</td>\n",
       "      <td>NaN</td>\n",
       "      <td>['museums']</td>\n",
       "      <td>NaN</td>\n",
       "      <td>NaN</td>\n",
       "      <td>NaN</td>\n",
       "      <td>NaN</td>\n",
       "      <td>NaN</td>\n",
       "      <td>NaN</td>\n",
       "      <td>NaN</td>\n",
       "      <td>NaN</td>\n",
       "    </tr>\n",
       "    <tr>\n",
       "      <td>3</td>\n",
       "      <td>figueroa-philly-cheese-steak-los-angeles-2</td>\n",
       "      <td>NaN</td>\n",
       "      <td>['cheesesteaks', 'sandwiches', 'breakfast_brun...</td>\n",
       "      <td>Los Angeles</td>\n",
       "      <td>vfHJzF0ShYtwmotXE-0PiA</td>\n",
       "      <td>34.014196</td>\n",
       "      <td>-118.282417</td>\n",
       "      <td>$$</td>\n",
       "      <td>4.5</td>\n",
       "      <td>1076.0</td>\n",
       "      <td>90037</td>\n",
       "    </tr>\n",
       "    <tr>\n",
       "      <td>4</td>\n",
       "      <td>dirt-dog-los-angeles-4</td>\n",
       "      <td>NaN</td>\n",
       "      <td>['hotdog', 'beerbar']</td>\n",
       "      <td>Los Angeles</td>\n",
       "      <td>0z23Jk7U_MpvtqKINPL2fA</td>\n",
       "      <td>34.028292</td>\n",
       "      <td>-118.275208</td>\n",
       "      <td>$</td>\n",
       "      <td>4.5</td>\n",
       "      <td>1900.0</td>\n",
       "      <td>90007</td>\n",
       "    </tr>\n",
       "  </tbody>\n",
       "</table>\n",
       "</div>"
      ],
      "text/plain": [
       "                                        alias categories  \\\n",
       "0       chichen-itza-restaurant-los-angeles-3        NaN   \n",
       "1                                         NaN        NaN   \n",
       "2                                         NaN        NaN   \n",
       "3  figueroa-philly-cheese-steak-los-angeles-2        NaN   \n",
       "4                      dirt-dog-los-angeles-4        NaN   \n",
       "\n",
       "                                            category         city  \\\n",
       "0                  ['mexican', 'sandwiches', 'soup']  Los Angeles   \n",
       "1                               ['childrensmuseums']          NaN   \n",
       "2                                        ['museums']          NaN   \n",
       "3  ['cheesesteaks', 'sandwiches', 'breakfast_brun...  Los Angeles   \n",
       "4                              ['hotdog', 'beerbar']  Los Angeles   \n",
       "\n",
       "                       id   latitude   longitude price  rating  review_count  \\\n",
       "0  vC_6J_nGyf4J8xt-Vu6Shw  34.017440 -118.278300    $$     4.5        1190.0   \n",
       "1                     NaN        NaN         NaN   NaN     NaN           NaN   \n",
       "2                     NaN        NaN         NaN   NaN     NaN           NaN   \n",
       "3  vfHJzF0ShYtwmotXE-0PiA  34.014196 -118.282417    $$     4.5        1076.0   \n",
       "4  0z23Jk7U_MpvtqKINPL2fA  34.028292 -118.275208     $     4.5        1900.0   \n",
       "\n",
       "  zip_code  \n",
       "0    90007  \n",
       "1      NaN  \n",
       "2      NaN  \n",
       "3    90037  \n",
       "4    90007  "
      ]
     },
     "execution_count": 4,
     "metadata": {},
     "output_type": "execute_result"
    }
   ],
   "source": [
    "for path in file_paths:\n",
    "    \n",
    "    master_df = pd.concat([master_df, pd.read_csv(path)])\n",
    "\n",
    "master_df.head()"
   ]
  },
  {
   "cell_type": "code",
   "execution_count": 5,
   "metadata": {},
   "outputs": [
    {
     "data": {
      "text/plain": [
       "(127508, 11)"
      ]
     },
     "execution_count": 5,
     "metadata": {},
     "output_type": "execute_result"
    }
   ],
   "source": [
    "# Seeing shape of dataframe BEFORE dropping duplicates \n",
    "\n",
    "master_df.shape"
   ]
  },
  {
   "cell_type": "code",
   "execution_count": 6,
   "metadata": {},
   "outputs": [],
   "source": [
    "# Dropping duplicates\n",
    "\n",
    "master_df = master_df.sort_values(['alias',\n",
    "                       'id', 'latitude', 'longitude', 'review_count'],\n",
    "                      ascending = False).drop_duplicates(subset = ['id'],\n",
    "                                                         keep ='first')"
   ]
  },
  {
   "cell_type": "code",
   "execution_count": 7,
   "metadata": {},
   "outputs": [
    {
     "data": {
      "text/plain": [
       "(29164, 11)"
      ]
     },
     "execution_count": 7,
     "metadata": {},
     "output_type": "execute_result"
    }
   ],
   "source": [
    "# Shape of df AFTER dropping duplicates\n",
    "\n",
    "master_df.shape"
   ]
  },
  {
   "cell_type": "code",
   "execution_count": 8,
   "metadata": {},
   "outputs": [],
   "source": [
    "# Resetting master_df index\n",
    "\n",
    "master_df.reset_index(inplace=True)\n",
    "master_df.drop(columns='index', inplace=True)"
   ]
  },
  {
   "cell_type": "markdown",
   "metadata": {},
   "source": [
    "# NaNs in master_df"
   ]
  },
  {
   "cell_type": "code",
   "execution_count": 9,
   "metadata": {},
   "outputs": [
    {
     "data": {
      "text/plain": [
       "alias               1\n",
       "categories      24450\n",
       "category         4715\n",
       "city                1\n",
       "id                  1\n",
       "latitude           17\n",
       "longitude          17\n",
       "price               1\n",
       "rating              1\n",
       "review_count        1\n",
       "zip_code          125\n",
       "dtype: int64"
      ]
     },
     "execution_count": 9,
     "metadata": {},
     "output_type": "execute_result"
    }
   ],
   "source": [
    "master_df.isna().sum()"
   ]
  },
  {
   "cell_type": "code",
   "execution_count": 10,
   "metadata": {},
   "outputs": [],
   "source": [
    "master_df_copy = master_df.copy()"
   ]
  },
  {
   "cell_type": "code",
   "execution_count": 11,
   "metadata": {},
   "outputs": [],
   "source": [
    "master_df_copy.rename(columns={'category': 'categories_'}, inplace=True)"
   ]
  },
  {
   "cell_type": "code",
   "execution_count": 12,
   "metadata": {},
   "outputs": [],
   "source": [
    "master_df_copy.drop(columns='categories', inplace=True)"
   ]
  },
  {
   "cell_type": "code",
   "execution_count": 13,
   "metadata": {},
   "outputs": [],
   "source": [
    "master_df_copy.rename(columns={'categories_': 'categories'}, inplace=True)"
   ]
  },
  {
   "cell_type": "code",
   "execution_count": 14,
   "metadata": {},
   "outputs": [],
   "source": [
    "master_df = master_df.combine_first(master_df_copy)"
   ]
  },
  {
   "cell_type": "code",
   "execution_count": 15,
   "metadata": {},
   "outputs": [],
   "source": [
    "master_df.drop(columns='category', inplace=True)"
   ]
  },
  {
   "cell_type": "code",
   "execution_count": 16,
   "metadata": {},
   "outputs": [
    {
     "data": {
      "text/plain": [
       "alias             1\n",
       "categories        1\n",
       "city              1\n",
       "id                1\n",
       "latitude         17\n",
       "longitude        17\n",
       "price             1\n",
       "rating            1\n",
       "review_count      1\n",
       "zip_code        125\n",
       "dtype: int64"
      ]
     },
     "execution_count": 16,
     "metadata": {},
     "output_type": "execute_result"
    }
   ],
   "source": [
    "master_df.isna().sum()"
   ]
  },
  {
   "cell_type": "code",
   "execution_count": 17,
   "metadata": {},
   "outputs": [
    {
     "data": {
      "text/plain": [
       "(28992, 10)"
      ]
     },
     "execution_count": 17,
     "metadata": {},
     "output_type": "execute_result"
    }
   ],
   "source": [
    "# Dropping rows w/ prices that aren't $, $$, $$$, or $$$$.\n",
    "\n",
    "data_drop_df = master_df.loc[(master_df['price'] != '$') & (master_df['price'] != '$$') & (master_df['price'] != '$$$') & (master_df['price'] != '$$$$')]\n",
    "drop_indexes = list(data_drop_df.index)\n",
    "\n",
    "master_df.drop(index=drop_indexes, inplace = True)\n",
    "master_df.shape\n"
   ]
  },
  {
   "cell_type": "code",
   "execution_count": 18,
   "metadata": {},
   "outputs": [
    {
     "data": {
      "text/plain": [
       "(28874, 10)"
      ]
     },
     "execution_count": 18,
     "metadata": {},
     "output_type": "execute_result"
    }
   ],
   "source": [
    "# Businesses that don't have latitude/zipcodes = Food Trucks, Caterers --> dropped\n",
    "\n",
    "food_trucks = master_df.loc[(master_df['latitude'].isna()) | (master_df['zip_code'].isna())].index.tolist()\n",
    "\n",
    "master_df.drop(index = food_trucks, inplace = True)\n",
    "master_df.shape\n"
   ]
  },
  {
   "cell_type": "code",
   "execution_count": 19,
   "metadata": {
    "scrolled": true
   },
   "outputs": [
    {
     "data": {
      "text/plain": [
       "alias           0\n",
       "categories      0\n",
       "city            0\n",
       "id              0\n",
       "latitude        0\n",
       "longitude       0\n",
       "price           0\n",
       "rating          0\n",
       "review_count    0\n",
       "zip_code        0\n",
       "dtype: int64"
      ]
     },
     "execution_count": 19,
     "metadata": {},
     "output_type": "execute_result"
    }
   ],
   "source": [
    "master_df.isna().sum()"
   ]
  },
  {
   "cell_type": "markdown",
   "metadata": {},
   "source": [
    "# Replacing \\\\$ in price to numbers"
   ]
  },
  {
   "cell_type": "code",
   "execution_count": 20,
   "metadata": {},
   "outputs": [],
   "source": [
    "master_df['price'] = master_df['price'].map({'$$$$':4, '$$$':3, '$$':2,'$':1})"
   ]
  },
  {
   "cell_type": "code",
   "execution_count": 21,
   "metadata": {
    "scrolled": false
   },
   "outputs": [
    {
     "data": {
      "text/html": [
       "<div>\n",
       "<style scoped>\n",
       "    .dataframe tbody tr th:only-of-type {\n",
       "        vertical-align: middle;\n",
       "    }\n",
       "\n",
       "    .dataframe tbody tr th {\n",
       "        vertical-align: top;\n",
       "    }\n",
       "\n",
       "    .dataframe thead th {\n",
       "        text-align: right;\n",
       "    }\n",
       "</style>\n",
       "<table border=\"1\" class=\"dataframe\">\n",
       "  <thead>\n",
       "    <tr style=\"text-align: right;\">\n",
       "      <th></th>\n",
       "      <th>alias</th>\n",
       "      <th>categories</th>\n",
       "      <th>city</th>\n",
       "      <th>id</th>\n",
       "      <th>latitude</th>\n",
       "      <th>longitude</th>\n",
       "      <th>price</th>\n",
       "      <th>rating</th>\n",
       "      <th>review_count</th>\n",
       "      <th>zip_code</th>\n",
       "    </tr>\n",
       "  </thead>\n",
       "  <tbody>\n",
       "    <tr>\n",
       "      <td>0</td>\n",
       "      <td>重庆特色小面-chongqing-special-noodles-san-gabriel-3</td>\n",
       "      <td>['noodles', 'chinese']</td>\n",
       "      <td>San Gabriel</td>\n",
       "      <td>mm6l24khOfXhKqn4pKVojA</td>\n",
       "      <td>34.103070</td>\n",
       "      <td>-118.091840</td>\n",
       "      <td>1</td>\n",
       "      <td>4.0</td>\n",
       "      <td>204.0</td>\n",
       "      <td>91776</td>\n",
       "    </tr>\n",
       "    <tr>\n",
       "      <td>1</td>\n",
       "      <td>重庆小面-best-noodle-house-rosemead-3</td>\n",
       "      <td>['noodles', 'szechuan']</td>\n",
       "      <td>Rosemead</td>\n",
       "      <td>DgXxBgUEvARu45x7RSgYRw</td>\n",
       "      <td>34.081182</td>\n",
       "      <td>-118.066226</td>\n",
       "      <td>1</td>\n",
       "      <td>4.0</td>\n",
       "      <td>141.0</td>\n",
       "      <td>91770</td>\n",
       "    </tr>\n",
       "  </tbody>\n",
       "</table>\n",
       "</div>"
      ],
      "text/plain": [
       "                                            alias               categories  \\\n",
       "0  重庆特色小面-chongqing-special-noodles-san-gabriel-3   ['noodles', 'chinese']   \n",
       "1               重庆小面-best-noodle-house-rosemead-3  ['noodles', 'szechuan']   \n",
       "\n",
       "          city                      id   latitude   longitude  price  rating  \\\n",
       "0  San Gabriel  mm6l24khOfXhKqn4pKVojA  34.103070 -118.091840      1     4.0   \n",
       "1     Rosemead  DgXxBgUEvARu45x7RSgYRw  34.081182 -118.066226      1     4.0   \n",
       "\n",
       "   review_count zip_code  \n",
       "0         204.0    91776  \n",
       "1         141.0    91770  "
      ]
     },
     "execution_count": 21,
     "metadata": {},
     "output_type": "execute_result"
    }
   ],
   "source": [
    "master_df.head(2)"
   ]
  },
  {
   "cell_type": "markdown",
   "metadata": {},
   "source": [
    "# Dropping Rows \n",
    "- convert zip_codes from float -> int -> str\n",
    "- zipcodes that don't start with '9'"
   ]
  },
  {
   "cell_type": "code",
   "execution_count": 22,
   "metadata": {},
   "outputs": [],
   "source": [
    "master_df = master_df.reset_index(drop=True)"
   ]
  },
  {
   "cell_type": "code",
   "execution_count": 23,
   "metadata": {},
   "outputs": [],
   "source": [
    "master_df['zip_code'] = master_df['zip_code'].astype(int).astype(str)"
   ]
  },
  {
   "cell_type": "code",
   "execution_count": 24,
   "metadata": {},
   "outputs": [],
   "source": [
    "notin_la = []\n",
    "for i in range(len(master_df['zip_code'])):\n",
    "    if master_df['zip_code'][i].startswith('9') == False:\n",
    "        notin_la.append(master_df['zip_code'].index[i])"
   ]
  },
  {
   "cell_type": "code",
   "execution_count": 25,
   "metadata": {},
   "outputs": [
    {
     "data": {
      "text/plain": [
       "[958,\n",
       " 1738,\n",
       " 3040,\n",
       " 4562,\n",
       " 6685,\n",
       " 8107,\n",
       " 9653,\n",
       " 9942,\n",
       " 9947,\n",
       " 9958,\n",
       " 9962,\n",
       " 9968,\n",
       " 9972,\n",
       " 9978,\n",
       " 9980,\n",
       " 9989,\n",
       " 9991,\n",
       " 10003,\n",
       " 10012,\n",
       " 10034,\n",
       " 10056,\n",
       " 10057,\n",
       " 10074,\n",
       " 10078,\n",
       " 10080,\n",
       " 10085,\n",
       " 10087,\n",
       " 10088,\n",
       " 10089,\n",
       " 10104,\n",
       " 10106,\n",
       " 10109,\n",
       " 10117,\n",
       " 14818,\n",
       " 15037,\n",
       " 15282,\n",
       " 16596,\n",
       " 18768,\n",
       " 24158,\n",
       " 25502,\n",
       " 25643,\n",
       " 27140]"
      ]
     },
     "execution_count": 25,
     "metadata": {},
     "output_type": "execute_result"
    }
   ],
   "source": [
    "notin_la"
   ]
  },
  {
   "cell_type": "code",
   "execution_count": 26,
   "metadata": {},
   "outputs": [
    {
     "data": {
      "text/plain": [
       "(28874, 10)"
      ]
     },
     "execution_count": 26,
     "metadata": {},
     "output_type": "execute_result"
    }
   ],
   "source": [
    "master_df.shape"
   ]
  },
  {
   "cell_type": "code",
   "execution_count": 27,
   "metadata": {},
   "outputs": [],
   "source": [
    "master_df = master_df.drop(index=notin_la).reset_index(drop=True)"
   ]
  },
  {
   "cell_type": "code",
   "execution_count": 28,
   "metadata": {},
   "outputs": [
    {
     "data": {
      "text/plain": [
       "(28832, 10)"
      ]
     },
     "execution_count": 28,
     "metadata": {},
     "output_type": "execute_result"
    }
   ],
   "source": [
    "master_df.shape"
   ]
  },
  {
   "cell_type": "markdown",
   "metadata": {},
   "source": [
    "# Removing rows that aren't around the same latitude/longitude"
   ]
  },
  {
   "cell_type": "code",
   "execution_count": 29,
   "metadata": {},
   "outputs": [
    {
     "data": {
      "text/html": [
       "<div>\n",
       "<style scoped>\n",
       "    .dataframe tbody tr th:only-of-type {\n",
       "        vertical-align: middle;\n",
       "    }\n",
       "\n",
       "    .dataframe tbody tr th {\n",
       "        vertical-align: top;\n",
       "    }\n",
       "\n",
       "    .dataframe thead th {\n",
       "        text-align: right;\n",
       "    }\n",
       "</style>\n",
       "<table border=\"1\" class=\"dataframe\">\n",
       "  <thead>\n",
       "    <tr style=\"text-align: right;\">\n",
       "      <th></th>\n",
       "      <th>latitude</th>\n",
       "      <th>longitude</th>\n",
       "      <th>price</th>\n",
       "      <th>rating</th>\n",
       "      <th>review_count</th>\n",
       "    </tr>\n",
       "  </thead>\n",
       "  <tbody>\n",
       "    <tr>\n",
       "      <td>count</td>\n",
       "      <td>28832.000000</td>\n",
       "      <td>28832.000000</td>\n",
       "      <td>28832.000000</td>\n",
       "      <td>28832.000000</td>\n",
       "      <td>28832.000000</td>\n",
       "    </tr>\n",
       "    <tr>\n",
       "      <td>mean</td>\n",
       "      <td>34.051109</td>\n",
       "      <td>-118.241874</td>\n",
       "      <td>1.480751</td>\n",
       "      <td>3.584940</td>\n",
       "      <td>241.149695</td>\n",
       "    </tr>\n",
       "    <tr>\n",
       "      <td>std</td>\n",
       "      <td>0.242592</td>\n",
       "      <td>0.385936</td>\n",
       "      <td>0.577380</td>\n",
       "      <td>0.812564</td>\n",
       "      <td>419.532416</td>\n",
       "    </tr>\n",
       "    <tr>\n",
       "      <td>min</td>\n",
       "      <td>33.167953</td>\n",
       "      <td>-149.429066</td>\n",
       "      <td>1.000000</td>\n",
       "      <td>0.000000</td>\n",
       "      <td>0.000000</td>\n",
       "    </tr>\n",
       "    <tr>\n",
       "      <td>25%</td>\n",
       "      <td>33.949684</td>\n",
       "      <td>-118.384977</td>\n",
       "      <td>1.000000</td>\n",
       "      <td>3.000000</td>\n",
       "      <td>37.000000</td>\n",
       "    </tr>\n",
       "    <tr>\n",
       "      <td>50%</td>\n",
       "      <td>34.052069</td>\n",
       "      <td>-118.263453</td>\n",
       "      <td>1.000000</td>\n",
       "      <td>3.500000</td>\n",
       "      <td>107.000000</td>\n",
       "    </tr>\n",
       "    <tr>\n",
       "      <td>75%</td>\n",
       "      <td>34.132193</td>\n",
       "      <td>-118.122784</td>\n",
       "      <td>2.000000</td>\n",
       "      <td>4.000000</td>\n",
       "      <td>279.000000</td>\n",
       "    </tr>\n",
       "    <tr>\n",
       "      <td>max</td>\n",
       "      <td>61.581385</td>\n",
       "      <td>-84.414552</td>\n",
       "      <td>4.000000</td>\n",
       "      <td>5.000000</td>\n",
       "      <td>16662.000000</td>\n",
       "    </tr>\n",
       "  </tbody>\n",
       "</table>\n",
       "</div>"
      ],
      "text/plain": [
       "           latitude     longitude         price        rating  review_count\n",
       "count  28832.000000  28832.000000  28832.000000  28832.000000  28832.000000\n",
       "mean      34.051109   -118.241874      1.480751      3.584940    241.149695\n",
       "std        0.242592      0.385936      0.577380      0.812564    419.532416\n",
       "min       33.167953   -149.429066      1.000000      0.000000      0.000000\n",
       "25%       33.949684   -118.384977      1.000000      3.000000     37.000000\n",
       "50%       34.052069   -118.263453      1.000000      3.500000    107.000000\n",
       "75%       34.132193   -118.122784      2.000000      4.000000    279.000000\n",
       "max       61.581385    -84.414552      4.000000      5.000000  16662.000000"
      ]
     },
     "execution_count": 29,
     "metadata": {},
     "output_type": "execute_result"
    }
   ],
   "source": [
    "master_df.describe()"
   ]
  },
  {
   "cell_type": "code",
   "execution_count": 30,
   "metadata": {},
   "outputs": [],
   "source": [
    "master_df = master_df.drop(index=master_df.loc[(master_df['longitude'] > -117) | (master_df['latitude'] > 35)].index).reset_index(drop=True)"
   ]
  },
  {
   "cell_type": "code",
   "execution_count": 31,
   "metadata": {},
   "outputs": [
    {
     "data": {
      "text/plain": [
       "(28823, 10)"
      ]
     },
     "execution_count": 31,
     "metadata": {},
     "output_type": "execute_result"
    }
   ],
   "source": [
    "master_df.shape"
   ]
  },
  {
   "cell_type": "markdown",
   "metadata": {},
   "source": [
    "# Feature Engineering"
   ]
  },
  {
   "cell_type": "markdown",
   "metadata": {},
   "source": [
    "## Save the cleaned data to a CSV"
   ]
  },
  {
   "cell_type": "code",
   "execution_count": 32,
   "metadata": {},
   "outputs": [],
   "source": [
    "# Don't uncomment this unless you actually want to create a new csv\n",
    "\n",
    "master_df.to_csv('../data/master_jerry.csv')"
   ]
  },
  {
   "cell_type": "code",
   "execution_count": null,
   "metadata": {},
   "outputs": [],
   "source": []
  }
 ],
 "metadata": {
  "kernelspec": {
   "display_name": "Python 3",
   "language": "python",
   "name": "python3"
  },
  "language_info": {
   "codemirror_mode": {
    "name": "ipython",
    "version": 3
   },
   "file_extension": ".py",
   "mimetype": "text/x-python",
   "name": "python",
   "nbconvert_exporter": "python",
   "pygments_lexer": "ipython3",
   "version": "3.7.3"
  }
 },
 "nbformat": 4,
 "nbformat_minor": 2
}
