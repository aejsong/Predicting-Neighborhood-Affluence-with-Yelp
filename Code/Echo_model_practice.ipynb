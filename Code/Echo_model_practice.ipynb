{
 "cells": [
  {
   "cell_type": "markdown",
   "metadata": {},
   "source": [
    "### Data Cleaning Notebook: For a dataset with zipcode as rows, we did dummied the ratings and Price.\n",
    "### For the categories I used countvectorizer to assign the matrix to the original data set.\n",
    "### As the Countvecrizer does not perform well, I saved the data with two copies, one with countvecrizer one without"
   ]
  },
  {
   "cell_type": "code",
   "execution_count": 1,
   "metadata": {},
   "outputs": [],
   "source": [
    "import numpy as np\n",
    "import pandas as pd\n",
    "import matplotlib.pyplot as plt\n",
    "from sklearn.feature_extraction.text import CountVectorizer, TfidfVectorizer\n",
    "from sklearn.model_selection import train_test_split\n",
    "from sklearn.preprocessing import StandardScaler\n",
    "from sklearn.linear_model import LinearRegression\n",
    "from sklearn.neighbors import KNeighborsRegressor\n",
    "from sklearn.tree import DecisionTreeRegressor\n",
    "from sklearn.ensemble import BaggingRegressor, RandomForestRegressor, AdaBoostRegressor\n",
    "from sklearn.svm import SVR\n",
    "from sklearn.metrics import mean_squared_error\n",
    "\n",
    "from sklearn.pipeline import Pipeline\n",
    "from sklearn.model_selection import GridSearchCV\n",
    "\n",
    "from sklearn.preprocessing import PolynomialFeatures\n",
    "from sklearn.linear_model import Lasso\n",
    "from sklearn.linear_model import LassoCV\n",
    "\n",
    "from sklearn.preprocessing import FunctionTransformer\n",
    "from sklearn.pipeline import FeatureUnion\n",
    "from sklearn.cluster import KMeans\n",
    "\n",
    "import pickle"
   ]
  },
  {
   "cell_type": "code",
   "execution_count": 2,
   "metadata": {
    "scrolled": true
   },
   "outputs": [
    {
     "data": {
      "text/html": [
       "<div>\n",
       "<style scoped>\n",
       "    .dataframe tbody tr th:only-of-type {\n",
       "        vertical-align: middle;\n",
       "    }\n",
       "\n",
       "    .dataframe tbody tr th {\n",
       "        vertical-align: top;\n",
       "    }\n",
       "\n",
       "    .dataframe thead th {\n",
       "        text-align: right;\n",
       "    }\n",
       "</style>\n",
       "<table border=\"1\" class=\"dataframe\">\n",
       "  <thead>\n",
       "    <tr style=\"text-align: right;\">\n",
       "      <th></th>\n",
       "      <th>Unnamed: 0</th>\n",
       "      <th>alias</th>\n",
       "      <th>category</th>\n",
       "      <th>city</th>\n",
       "      <th>id</th>\n",
       "      <th>latitude</th>\n",
       "      <th>longitude</th>\n",
       "      <th>price</th>\n",
       "      <th>rating</th>\n",
       "      <th>review_count</th>\n",
       "      <th>zip_code</th>\n",
       "      <th>ave_agi</th>\n",
       "      <th>count</th>\n",
       "    </tr>\n",
       "  </thead>\n",
       "  <tbody>\n",
       "    <tr>\n",
       "      <td>0</td>\n",
       "      <td>0</td>\n",
       "      <td>重庆特色小面-chongqing-special-noodles-san-gabriel-3</td>\n",
       "      <td>['noodles', 'chinese']</td>\n",
       "      <td>San Gabriel</td>\n",
       "      <td>mm6l24khOfXhKqn4pKVojA</td>\n",
       "      <td>34.103070</td>\n",
       "      <td>-118.091840</td>\n",
       "      <td>1</td>\n",
       "      <td>4.0</td>\n",
       "      <td>204.0</td>\n",
       "      <td>91776</td>\n",
       "      <td>37.21102</td>\n",
       "      <td>198</td>\n",
       "    </tr>\n",
       "    <tr>\n",
       "      <td>1</td>\n",
       "      <td>1</td>\n",
       "      <td>yung-ho-cafe-san-gabriel-2</td>\n",
       "      <td>['taiwanese', 'chinese', 'breakfast_brunch']</td>\n",
       "      <td>San Gabriel</td>\n",
       "      <td>zO8V4fi49QQMn4Sa_0OS9g</td>\n",
       "      <td>34.081429</td>\n",
       "      <td>-118.084785</td>\n",
       "      <td>1</td>\n",
       "      <td>3.0</td>\n",
       "      <td>263.0</td>\n",
       "      <td>91776</td>\n",
       "      <td>37.21102</td>\n",
       "      <td>198</td>\n",
       "    </tr>\n",
       "    <tr>\n",
       "      <td>2</td>\n",
       "      <td>2</td>\n",
       "      <td>yun-nan-168-san-gabriel</td>\n",
       "      <td>['chinese']</td>\n",
       "      <td>San Gabriel</td>\n",
       "      <td>6J_4QelYHplaLHzof1VEyg</td>\n",
       "      <td>34.080849</td>\n",
       "      <td>-118.090324</td>\n",
       "      <td>1</td>\n",
       "      <td>3.0</td>\n",
       "      <td>4.0</td>\n",
       "      <td>91776</td>\n",
       "      <td>37.21102</td>\n",
       "      <td>198</td>\n",
       "    </tr>\n",
       "    <tr>\n",
       "      <td>3</td>\n",
       "      <td>3</td>\n",
       "      <td>yum-cha-cafe-san-gabriel</td>\n",
       "      <td>['dimsum', 'hotdogs']</td>\n",
       "      <td>San Gabriel</td>\n",
       "      <td>KD_fdBnwN3TbJYJ8mcvq4Q</td>\n",
       "      <td>34.078899</td>\n",
       "      <td>-118.092026</td>\n",
       "      <td>1</td>\n",
       "      <td>3.0</td>\n",
       "      <td>138.0</td>\n",
       "      <td>91776</td>\n",
       "      <td>37.21102</td>\n",
       "      <td>198</td>\n",
       "    </tr>\n",
       "    <tr>\n",
       "      <td>4</td>\n",
       "      <td>4</td>\n",
       "      <td>yuk-dae-jang-san-gabriel-2</td>\n",
       "      <td>['korean']</td>\n",
       "      <td>San Gabriel</td>\n",
       "      <td>DwvljRkxkMEljQBYX-MeTw</td>\n",
       "      <td>34.102080</td>\n",
       "      <td>-118.109870</td>\n",
       "      <td>2</td>\n",
       "      <td>4.5</td>\n",
       "      <td>158.0</td>\n",
       "      <td>91776</td>\n",
       "      <td>37.21102</td>\n",
       "      <td>198</td>\n",
       "    </tr>\n",
       "  </tbody>\n",
       "</table>\n",
       "</div>"
      ],
      "text/plain": [
       "   Unnamed: 0                                           alias  \\\n",
       "0           0  重庆特色小面-chongqing-special-noodles-san-gabriel-3   \n",
       "1           1                      yung-ho-cafe-san-gabriel-2   \n",
       "2           2                         yun-nan-168-san-gabriel   \n",
       "3           3                        yum-cha-cafe-san-gabriel   \n",
       "4           4                      yuk-dae-jang-san-gabriel-2   \n",
       "\n",
       "                                       category         city  \\\n",
       "0                        ['noodles', 'chinese']  San Gabriel   \n",
       "1  ['taiwanese', 'chinese', 'breakfast_brunch']  San Gabriel   \n",
       "2                                   ['chinese']  San Gabriel   \n",
       "3                         ['dimsum', 'hotdogs']  San Gabriel   \n",
       "4                                    ['korean']  San Gabriel   \n",
       "\n",
       "                       id   latitude   longitude  price  rating  review_count  \\\n",
       "0  mm6l24khOfXhKqn4pKVojA  34.103070 -118.091840      1     4.0         204.0   \n",
       "1  zO8V4fi49QQMn4Sa_0OS9g  34.081429 -118.084785      1     3.0         263.0   \n",
       "2  6J_4QelYHplaLHzof1VEyg  34.080849 -118.090324      1     3.0           4.0   \n",
       "3  KD_fdBnwN3TbJYJ8mcvq4Q  34.078899 -118.092026      1     3.0         138.0   \n",
       "4  DwvljRkxkMEljQBYX-MeTw  34.102080 -118.109870      2     4.5         158.0   \n",
       "\n",
       "   zip_code   ave_agi  count  \n",
       "0     91776  37.21102    198  \n",
       "1     91776  37.21102    198  \n",
       "2     91776  37.21102    198  \n",
       "3     91776  37.21102    198  \n",
       "4     91776  37.21102    198  "
      ]
     },
     "execution_count": 2,
     "metadata": {},
     "output_type": "execute_result"
    }
   ],
   "source": [
    "df= pd.read_csv('../data/data_income.csv')\n",
    "df.head()"
   ]
  },
  {
   "cell_type": "code",
   "execution_count": 3,
   "metadata": {},
   "outputs": [
    {
     "data": {
      "text/plain": [
       "(28209, 13)"
      ]
     },
     "execution_count": 3,
     "metadata": {},
     "output_type": "execute_result"
    }
   ],
   "source": [
    "df.shape"
   ]
  },
  {
   "cell_type": "code",
   "execution_count": 4,
   "metadata": {},
   "outputs": [],
   "source": [
    "df.drop(columns = ['id','Unnamed: 0'], inplace = True)"
   ]
  },
  {
   "cell_type": "markdown",
   "metadata": {},
   "source": [
    "## change the data set from restaurant based to zipcode based"
   ]
  },
  {
   "cell_type": "code",
   "execution_count": 5,
   "metadata": {
    "scrolled": false
   },
   "outputs": [
    {
     "data": {
      "text/html": [
       "<div>\n",
       "<style scoped>\n",
       "    .dataframe tbody tr th:only-of-type {\n",
       "        vertical-align: middle;\n",
       "    }\n",
       "\n",
       "    .dataframe tbody tr th {\n",
       "        vertical-align: top;\n",
       "    }\n",
       "\n",
       "    .dataframe thead th {\n",
       "        text-align: right;\n",
       "    }\n",
       "</style>\n",
       "<table border=\"1\" class=\"dataframe\">\n",
       "  <thead>\n",
       "    <tr style=\"text-align: right;\">\n",
       "      <th></th>\n",
       "      <th>ave_agi</th>\n",
       "      <th>count</th>\n",
       "      <th>latitude</th>\n",
       "      <th>longitude</th>\n",
       "      <th>price</th>\n",
       "      <th>rating</th>\n",
       "      <th>review_count</th>\n",
       "    </tr>\n",
       "    <tr>\n",
       "      <th>zip_code</th>\n",
       "      <th></th>\n",
       "      <th></th>\n",
       "      <th></th>\n",
       "      <th></th>\n",
       "      <th></th>\n",
       "      <th></th>\n",
       "      <th></th>\n",
       "    </tr>\n",
       "  </thead>\n",
       "  <tbody>\n",
       "    <tr>\n",
       "      <td>90001</td>\n",
       "      <td>25.152933</td>\n",
       "      <td>93</td>\n",
       "      <td>33.976603</td>\n",
       "      <td>-118.248763</td>\n",
       "      <td>1.279570</td>\n",
       "      <td>3.623656</td>\n",
       "      <td>49.483871</td>\n",
       "    </tr>\n",
       "    <tr>\n",
       "      <td>90002</td>\n",
       "      <td>24.410496</td>\n",
       "      <td>21</td>\n",
       "      <td>33.954426</td>\n",
       "      <td>-118.245431</td>\n",
       "      <td>1.095238</td>\n",
       "      <td>3.380952</td>\n",
       "      <td>27.904762</td>\n",
       "    </tr>\n",
       "    <tr>\n",
       "      <td>90003</td>\n",
       "      <td>23.404622</td>\n",
       "      <td>71</td>\n",
       "      <td>33.972703</td>\n",
       "      <td>-118.271297</td>\n",
       "      <td>1.197183</td>\n",
       "      <td>3.281690</td>\n",
       "      <td>35.929577</td>\n",
       "    </tr>\n",
       "    <tr>\n",
       "      <td>90004</td>\n",
       "      <td>59.128947</td>\n",
       "      <td>155</td>\n",
       "      <td>34.075176</td>\n",
       "      <td>-118.305680</td>\n",
       "      <td>1.529032</td>\n",
       "      <td>3.835484</td>\n",
       "      <td>240.987097</td>\n",
       "    </tr>\n",
       "    <tr>\n",
       "      <td>90005</td>\n",
       "      <td>45.821128</td>\n",
       "      <td>147</td>\n",
       "      <td>34.059249</td>\n",
       "      <td>-118.300776</td>\n",
       "      <td>1.639456</td>\n",
       "      <td>3.717687</td>\n",
       "      <td>358.482993</td>\n",
       "    </tr>\n",
       "  </tbody>\n",
       "</table>\n",
       "</div>"
      ],
      "text/plain": [
       "            ave_agi  count   latitude   longitude     price    rating  \\\n",
       "zip_code                                                                \n",
       "90001     25.152933     93  33.976603 -118.248763  1.279570  3.623656   \n",
       "90002     24.410496     21  33.954426 -118.245431  1.095238  3.380952   \n",
       "90003     23.404622     71  33.972703 -118.271297  1.197183  3.281690   \n",
       "90004     59.128947    155  34.075176 -118.305680  1.529032  3.835484   \n",
       "90005     45.821128    147  34.059249 -118.300776  1.639456  3.717687   \n",
       "\n",
       "          review_count  \n",
       "zip_code                \n",
       "90001        49.483871  \n",
       "90002        27.904762  \n",
       "90003        35.929577  \n",
       "90004       240.987097  \n",
       "90005       358.482993  "
      ]
     },
     "execution_count": 5,
     "metadata": {},
     "output_type": "execute_result"
    }
   ],
   "source": [
    "df_pivot = df.pivot_table(index = ['zip_code'])\n",
    "df_pivot.head()"
   ]
  },
  {
   "cell_type": "markdown",
   "metadata": {},
   "source": [
    "##  Create New column for the combo of Price*review_count"
   ]
  },
  {
   "cell_type": "code",
   "execution_count": 6,
   "metadata": {},
   "outputs": [],
   "source": [
    "df_pivot['price*review_count']=df_pivot['price']*df_pivot['review_count']"
   ]
  },
  {
   "cell_type": "code",
   "execution_count": 7,
   "metadata": {
    "scrolled": true
   },
   "outputs": [
    {
     "data": {
      "text/html": [
       "<div>\n",
       "<style scoped>\n",
       "    .dataframe tbody tr th:only-of-type {\n",
       "        vertical-align: middle;\n",
       "    }\n",
       "\n",
       "    .dataframe tbody tr th {\n",
       "        vertical-align: top;\n",
       "    }\n",
       "\n",
       "    .dataframe thead th {\n",
       "        text-align: right;\n",
       "    }\n",
       "</style>\n",
       "<table border=\"1\" class=\"dataframe\">\n",
       "  <thead>\n",
       "    <tr style=\"text-align: right;\">\n",
       "      <th></th>\n",
       "      <th>ave_agi</th>\n",
       "      <th>count</th>\n",
       "      <th>latitude</th>\n",
       "      <th>longitude</th>\n",
       "      <th>price</th>\n",
       "      <th>rating</th>\n",
       "      <th>review_count</th>\n",
       "      <th>price*review_count</th>\n",
       "    </tr>\n",
       "    <tr>\n",
       "      <th>zip_code</th>\n",
       "      <th></th>\n",
       "      <th></th>\n",
       "      <th></th>\n",
       "      <th></th>\n",
       "      <th></th>\n",
       "      <th></th>\n",
       "      <th></th>\n",
       "      <th></th>\n",
       "    </tr>\n",
       "  </thead>\n",
       "  <tbody>\n",
       "    <tr>\n",
       "      <td>90001</td>\n",
       "      <td>25.152933</td>\n",
       "      <td>93</td>\n",
       "      <td>33.976603</td>\n",
       "      <td>-118.248763</td>\n",
       "      <td>1.279570</td>\n",
       "      <td>3.623656</td>\n",
       "      <td>49.483871</td>\n",
       "      <td>63.318071</td>\n",
       "    </tr>\n",
       "    <tr>\n",
       "      <td>90002</td>\n",
       "      <td>24.410496</td>\n",
       "      <td>21</td>\n",
       "      <td>33.954426</td>\n",
       "      <td>-118.245431</td>\n",
       "      <td>1.095238</td>\n",
       "      <td>3.380952</td>\n",
       "      <td>27.904762</td>\n",
       "      <td>30.562358</td>\n",
       "    </tr>\n",
       "    <tr>\n",
       "      <td>90003</td>\n",
       "      <td>23.404622</td>\n",
       "      <td>71</td>\n",
       "      <td>33.972703</td>\n",
       "      <td>-118.271297</td>\n",
       "      <td>1.197183</td>\n",
       "      <td>3.281690</td>\n",
       "      <td>35.929577</td>\n",
       "      <td>43.014283</td>\n",
       "    </tr>\n",
       "    <tr>\n",
       "      <td>90004</td>\n",
       "      <td>59.128947</td>\n",
       "      <td>155</td>\n",
       "      <td>34.075176</td>\n",
       "      <td>-118.305680</td>\n",
       "      <td>1.529032</td>\n",
       "      <td>3.835484</td>\n",
       "      <td>240.987097</td>\n",
       "      <td>368.477045</td>\n",
       "    </tr>\n",
       "    <tr>\n",
       "      <td>90005</td>\n",
       "      <td>45.821128</td>\n",
       "      <td>147</td>\n",
       "      <td>34.059249</td>\n",
       "      <td>-118.300776</td>\n",
       "      <td>1.639456</td>\n",
       "      <td>3.717687</td>\n",
       "      <td>358.482993</td>\n",
       "      <td>587.717016</td>\n",
       "    </tr>\n",
       "  </tbody>\n",
       "</table>\n",
       "</div>"
      ],
      "text/plain": [
       "            ave_agi  count   latitude   longitude     price    rating  \\\n",
       "zip_code                                                                \n",
       "90001     25.152933     93  33.976603 -118.248763  1.279570  3.623656   \n",
       "90002     24.410496     21  33.954426 -118.245431  1.095238  3.380952   \n",
       "90003     23.404622     71  33.972703 -118.271297  1.197183  3.281690   \n",
       "90004     59.128947    155  34.075176 -118.305680  1.529032  3.835484   \n",
       "90005     45.821128    147  34.059249 -118.300776  1.639456  3.717687   \n",
       "\n",
       "          review_count  price*review_count  \n",
       "zip_code                                    \n",
       "90001        49.483871           63.318071  \n",
       "90002        27.904762           30.562358  \n",
       "90003        35.929577           43.014283  \n",
       "90004       240.987097          368.477045  \n",
       "90005       358.482993          587.717016  "
      ]
     },
     "execution_count": 7,
     "metadata": {},
     "output_type": "execute_result"
    }
   ],
   "source": [
    "df_pivot.head()"
   ]
  },
  {
   "cell_type": "code",
   "execution_count": null,
   "metadata": {},
   "outputs": [],
   "source": []
  },
  {
   "cell_type": "markdown",
   "metadata": {},
   "source": [
    "## Breakdown the price from original Pivot table(average) to count how many we have for each price category"
   ]
  },
  {
   "cell_type": "code",
   "execution_count": 8,
   "metadata": {
    "scrolled": true
   },
   "outputs": [
    {
     "data": {
      "text/html": [
       "<div>\n",
       "<style scoped>\n",
       "    .dataframe tbody tr th:only-of-type {\n",
       "        vertical-align: middle;\n",
       "    }\n",
       "\n",
       "    .dataframe tbody tr th {\n",
       "        vertical-align: top;\n",
       "    }\n",
       "\n",
       "    .dataframe thead th {\n",
       "        text-align: right;\n",
       "    }\n",
       "</style>\n",
       "<table border=\"1\" class=\"dataframe\">\n",
       "  <thead>\n",
       "    <tr style=\"text-align: right;\">\n",
       "      <th></th>\n",
       "      <th>price_1</th>\n",
       "      <th>price_2</th>\n",
       "      <th>price_3</th>\n",
       "      <th>price_4</th>\n",
       "    </tr>\n",
       "    <tr>\n",
       "      <th>zip_code</th>\n",
       "      <th></th>\n",
       "      <th></th>\n",
       "      <th></th>\n",
       "      <th></th>\n",
       "    </tr>\n",
       "  </thead>\n",
       "  <tbody>\n",
       "    <tr>\n",
       "      <td>90001</td>\n",
       "      <td>67</td>\n",
       "      <td>26</td>\n",
       "      <td>0</td>\n",
       "      <td>0</td>\n",
       "    </tr>\n",
       "    <tr>\n",
       "      <td>90002</td>\n",
       "      <td>19</td>\n",
       "      <td>2</td>\n",
       "      <td>0</td>\n",
       "      <td>0</td>\n",
       "    </tr>\n",
       "    <tr>\n",
       "      <td>90003</td>\n",
       "      <td>60</td>\n",
       "      <td>9</td>\n",
       "      <td>1</td>\n",
       "      <td>1</td>\n",
       "    </tr>\n",
       "    <tr>\n",
       "      <td>90004</td>\n",
       "      <td>77</td>\n",
       "      <td>74</td>\n",
       "      <td>4</td>\n",
       "      <td>0</td>\n",
       "    </tr>\n",
       "    <tr>\n",
       "      <td>90005</td>\n",
       "      <td>56</td>\n",
       "      <td>88</td>\n",
       "      <td>3</td>\n",
       "      <td>0</td>\n",
       "    </tr>\n",
       "  </tbody>\n",
       "</table>\n",
       "</div>"
      ],
      "text/plain": [
       "          price_1  price_2  price_3  price_4\n",
       "zip_code                                    \n",
       "90001          67       26        0        0\n",
       "90002          19        2        0        0\n",
       "90003          60        9        1        1\n",
       "90004          77       74        4        0\n",
       "90005          56       88        3        0"
      ]
     },
     "execution_count": 8,
     "metadata": {},
     "output_type": "execute_result"
    }
   ],
   "source": [
    "count_price = (pd.crosstab(df[\"zip_code\"], df['price']))\n",
    "count_price.columns = ['price_1','price_2','price_3','price_4']\n",
    "count_price.head()"
   ]
  },
  {
   "cell_type": "markdown",
   "metadata": {},
   "source": [
    "# Break Down for Rating column"
   ]
  },
  {
   "cell_type": "code",
   "execution_count": 9,
   "metadata": {},
   "outputs": [
    {
     "data": {
      "text/html": [
       "<div>\n",
       "<style scoped>\n",
       "    .dataframe tbody tr th:only-of-type {\n",
       "        vertical-align: middle;\n",
       "    }\n",
       "\n",
       "    .dataframe tbody tr th {\n",
       "        vertical-align: top;\n",
       "    }\n",
       "\n",
       "    .dataframe thead th {\n",
       "        text-align: right;\n",
       "    }\n",
       "</style>\n",
       "<table border=\"1\" class=\"dataframe\">\n",
       "  <thead>\n",
       "    <tr style=\"text-align: right;\">\n",
       "      <th></th>\n",
       "      <th>rating_0.0</th>\n",
       "      <th>rating_1.0</th>\n",
       "      <th>rating_1.5</th>\n",
       "      <th>rating_2.0</th>\n",
       "      <th>rating_2.5</th>\n",
       "      <th>rating_3.0</th>\n",
       "      <th>rating_3.5</th>\n",
       "      <th>rating_4.0</th>\n",
       "      <th>rating_4.5</th>\n",
       "      <th>rating_5</th>\n",
       "    </tr>\n",
       "    <tr>\n",
       "      <th>zip_code</th>\n",
       "      <th></th>\n",
       "      <th></th>\n",
       "      <th></th>\n",
       "      <th></th>\n",
       "      <th></th>\n",
       "      <th></th>\n",
       "      <th></th>\n",
       "      <th></th>\n",
       "      <th></th>\n",
       "      <th></th>\n",
       "    </tr>\n",
       "  </thead>\n",
       "  <tbody>\n",
       "    <tr>\n",
       "      <td>90001</td>\n",
       "      <td>0</td>\n",
       "      <td>0</td>\n",
       "      <td>4</td>\n",
       "      <td>8</td>\n",
       "      <td>9</td>\n",
       "      <td>9</td>\n",
       "      <td>14</td>\n",
       "      <td>20</td>\n",
       "      <td>17</td>\n",
       "      <td>12</td>\n",
       "    </tr>\n",
       "    <tr>\n",
       "      <td>90002</td>\n",
       "      <td>0</td>\n",
       "      <td>0</td>\n",
       "      <td>3</td>\n",
       "      <td>4</td>\n",
       "      <td>1</td>\n",
       "      <td>0</td>\n",
       "      <td>1</td>\n",
       "      <td>6</td>\n",
       "      <td>3</td>\n",
       "      <td>3</td>\n",
       "    </tr>\n",
       "    <tr>\n",
       "      <td>90003</td>\n",
       "      <td>0</td>\n",
       "      <td>2</td>\n",
       "      <td>7</td>\n",
       "      <td>10</td>\n",
       "      <td>7</td>\n",
       "      <td>7</td>\n",
       "      <td>8</td>\n",
       "      <td>11</td>\n",
       "      <td>10</td>\n",
       "      <td>9</td>\n",
       "    </tr>\n",
       "    <tr>\n",
       "      <td>90004</td>\n",
       "      <td>0</td>\n",
       "      <td>0</td>\n",
       "      <td>1</td>\n",
       "      <td>2</td>\n",
       "      <td>12</td>\n",
       "      <td>15</td>\n",
       "      <td>27</td>\n",
       "      <td>57</td>\n",
       "      <td>27</td>\n",
       "      <td>14</td>\n",
       "    </tr>\n",
       "    <tr>\n",
       "      <td>90005</td>\n",
       "      <td>0</td>\n",
       "      <td>1</td>\n",
       "      <td>2</td>\n",
       "      <td>5</td>\n",
       "      <td>5</td>\n",
       "      <td>19</td>\n",
       "      <td>26</td>\n",
       "      <td>58</td>\n",
       "      <td>30</td>\n",
       "      <td>1</td>\n",
       "    </tr>\n",
       "  </tbody>\n",
       "</table>\n",
       "</div>"
      ],
      "text/plain": [
       "          rating_0.0  rating_1.0  rating_1.5  rating_2.0  rating_2.5  \\\n",
       "zip_code                                                               \n",
       "90001              0           0           4           8           9   \n",
       "90002              0           0           3           4           1   \n",
       "90003              0           2           7          10           7   \n",
       "90004              0           0           1           2          12   \n",
       "90005              0           1           2           5           5   \n",
       "\n",
       "          rating_3.0  rating_3.5  rating_4.0  rating_4.5  rating_5  \n",
       "zip_code                                                            \n",
       "90001              9          14          20          17        12  \n",
       "90002              0           1           6           3         3  \n",
       "90003              7           8          11          10         9  \n",
       "90004             15          27          57          27        14  \n",
       "90005             19          26          58          30         1  "
      ]
     },
     "execution_count": 9,
     "metadata": {},
     "output_type": "execute_result"
    }
   ],
   "source": [
    "count_rating = (pd.crosstab(df[\"zip_code\"], df['rating']))\n",
    "count_rating.columns = ['rating_0.0','rating_1.0','rating_1.5','rating_2.0','rating_2.5','rating_3.0','rating_3.5','rating_4.0','rating_4.5','rating_5']\n",
    "count_rating.head()"
   ]
  },
  {
   "cell_type": "markdown",
   "metadata": {},
   "source": [
    "## combine price and rating to zipcode file"
   ]
  },
  {
   "cell_type": "code",
   "execution_count": 10,
   "metadata": {},
   "outputs": [
    {
     "data": {
      "text/html": [
       "<div>\n",
       "<style scoped>\n",
       "    .dataframe tbody tr th:only-of-type {\n",
       "        vertical-align: middle;\n",
       "    }\n",
       "\n",
       "    .dataframe tbody tr th {\n",
       "        vertical-align: top;\n",
       "    }\n",
       "\n",
       "    .dataframe thead th {\n",
       "        text-align: right;\n",
       "    }\n",
       "</style>\n",
       "<table border=\"1\" class=\"dataframe\">\n",
       "  <thead>\n",
       "    <tr style=\"text-align: right;\">\n",
       "      <th></th>\n",
       "      <th>price_1</th>\n",
       "      <th>price_2</th>\n",
       "      <th>price_3</th>\n",
       "      <th>price_4</th>\n",
       "      <th>rating_0.0</th>\n",
       "      <th>rating_1.0</th>\n",
       "      <th>rating_1.5</th>\n",
       "      <th>rating_2.0</th>\n",
       "      <th>rating_2.5</th>\n",
       "      <th>rating_3.0</th>\n",
       "      <th>rating_3.5</th>\n",
       "      <th>rating_4.0</th>\n",
       "      <th>rating_4.5</th>\n",
       "      <th>rating_5</th>\n",
       "    </tr>\n",
       "    <tr>\n",
       "      <th>zip_code</th>\n",
       "      <th></th>\n",
       "      <th></th>\n",
       "      <th></th>\n",
       "      <th></th>\n",
       "      <th></th>\n",
       "      <th></th>\n",
       "      <th></th>\n",
       "      <th></th>\n",
       "      <th></th>\n",
       "      <th></th>\n",
       "      <th></th>\n",
       "      <th></th>\n",
       "      <th></th>\n",
       "      <th></th>\n",
       "    </tr>\n",
       "  </thead>\n",
       "  <tbody>\n",
       "    <tr>\n",
       "      <td>90001</td>\n",
       "      <td>67</td>\n",
       "      <td>26</td>\n",
       "      <td>0</td>\n",
       "      <td>0</td>\n",
       "      <td>0</td>\n",
       "      <td>0</td>\n",
       "      <td>4</td>\n",
       "      <td>8</td>\n",
       "      <td>9</td>\n",
       "      <td>9</td>\n",
       "      <td>14</td>\n",
       "      <td>20</td>\n",
       "      <td>17</td>\n",
       "      <td>12</td>\n",
       "    </tr>\n",
       "    <tr>\n",
       "      <td>90002</td>\n",
       "      <td>19</td>\n",
       "      <td>2</td>\n",
       "      <td>0</td>\n",
       "      <td>0</td>\n",
       "      <td>0</td>\n",
       "      <td>0</td>\n",
       "      <td>3</td>\n",
       "      <td>4</td>\n",
       "      <td>1</td>\n",
       "      <td>0</td>\n",
       "      <td>1</td>\n",
       "      <td>6</td>\n",
       "      <td>3</td>\n",
       "      <td>3</td>\n",
       "    </tr>\n",
       "    <tr>\n",
       "      <td>90003</td>\n",
       "      <td>60</td>\n",
       "      <td>9</td>\n",
       "      <td>1</td>\n",
       "      <td>1</td>\n",
       "      <td>0</td>\n",
       "      <td>2</td>\n",
       "      <td>7</td>\n",
       "      <td>10</td>\n",
       "      <td>7</td>\n",
       "      <td>7</td>\n",
       "      <td>8</td>\n",
       "      <td>11</td>\n",
       "      <td>10</td>\n",
       "      <td>9</td>\n",
       "    </tr>\n",
       "    <tr>\n",
       "      <td>90004</td>\n",
       "      <td>77</td>\n",
       "      <td>74</td>\n",
       "      <td>4</td>\n",
       "      <td>0</td>\n",
       "      <td>0</td>\n",
       "      <td>0</td>\n",
       "      <td>1</td>\n",
       "      <td>2</td>\n",
       "      <td>12</td>\n",
       "      <td>15</td>\n",
       "      <td>27</td>\n",
       "      <td>57</td>\n",
       "      <td>27</td>\n",
       "      <td>14</td>\n",
       "    </tr>\n",
       "    <tr>\n",
       "      <td>90005</td>\n",
       "      <td>56</td>\n",
       "      <td>88</td>\n",
       "      <td>3</td>\n",
       "      <td>0</td>\n",
       "      <td>0</td>\n",
       "      <td>1</td>\n",
       "      <td>2</td>\n",
       "      <td>5</td>\n",
       "      <td>5</td>\n",
       "      <td>19</td>\n",
       "      <td>26</td>\n",
       "      <td>58</td>\n",
       "      <td>30</td>\n",
       "      <td>1</td>\n",
       "    </tr>\n",
       "  </tbody>\n",
       "</table>\n",
       "</div>"
      ],
      "text/plain": [
       "          price_1  price_2  price_3  price_4  rating_0.0  rating_1.0  \\\n",
       "zip_code                                                               \n",
       "90001          67       26        0        0           0           0   \n",
       "90002          19        2        0        0           0           0   \n",
       "90003          60        9        1        1           0           2   \n",
       "90004          77       74        4        0           0           0   \n",
       "90005          56       88        3        0           0           1   \n",
       "\n",
       "          rating_1.5  rating_2.0  rating_2.5  rating_3.0  rating_3.5  \\\n",
       "zip_code                                                               \n",
       "90001              4           8           9           9          14   \n",
       "90002              3           4           1           0           1   \n",
       "90003              7          10           7           7           8   \n",
       "90004              1           2          12          15          27   \n",
       "90005              2           5           5          19          26   \n",
       "\n",
       "          rating_4.0  rating_4.5  rating_5  \n",
       "zip_code                                    \n",
       "90001             20          17        12  \n",
       "90002              6           3         3  \n",
       "90003             11          10         9  \n",
       "90004             57          27        14  \n",
       "90005             58          30         1  "
      ]
     },
     "execution_count": 10,
     "metadata": {},
     "output_type": "execute_result"
    }
   ],
   "source": [
    "df_count = pd.merge(count_price, count_rating, left_on = 'zip_code', right_on = 'zip_code')\n",
    "df_count.head()"
   ]
  },
  {
   "cell_type": "code",
   "execution_count": 11,
   "metadata": {
    "scrolled": true
   },
   "outputs": [
    {
     "data": {
      "text/plain": [
       "(344, 14)"
      ]
     },
     "execution_count": 11,
     "metadata": {},
     "output_type": "execute_result"
    }
   ],
   "source": [
    "df_count.shape"
   ]
  },
  {
   "cell_type": "code",
   "execution_count": 12,
   "metadata": {},
   "outputs": [
    {
     "data": {
      "text/plain": [
       "(344, 8)"
      ]
     },
     "execution_count": 12,
     "metadata": {},
     "output_type": "execute_result"
    }
   ],
   "source": [
    "df_pivot.shape"
   ]
  },
  {
   "cell_type": "markdown",
   "metadata": {},
   "source": [
    "## Below is the combined data for zipcode, price, and rating, without countvecrizer the catogory"
   ]
  },
  {
   "cell_type": "code",
   "execution_count": 13,
   "metadata": {},
   "outputs": [
    {
     "data": {
      "text/html": [
       "<div>\n",
       "<style scoped>\n",
       "    .dataframe tbody tr th:only-of-type {\n",
       "        vertical-align: middle;\n",
       "    }\n",
       "\n",
       "    .dataframe tbody tr th {\n",
       "        vertical-align: top;\n",
       "    }\n",
       "\n",
       "    .dataframe thead th {\n",
       "        text-align: right;\n",
       "    }\n",
       "</style>\n",
       "<table border=\"1\" class=\"dataframe\">\n",
       "  <thead>\n",
       "    <tr style=\"text-align: right;\">\n",
       "      <th></th>\n",
       "      <th>zip_code</th>\n",
       "      <th>ave_agi</th>\n",
       "      <th>count</th>\n",
       "      <th>latitude</th>\n",
       "      <th>longitude</th>\n",
       "      <th>review_count</th>\n",
       "      <th>price*review_count</th>\n",
       "      <th>price_1</th>\n",
       "      <th>price_2</th>\n",
       "      <th>price_3</th>\n",
       "      <th>...</th>\n",
       "      <th>rating_0.0</th>\n",
       "      <th>rating_1.0</th>\n",
       "      <th>rating_1.5</th>\n",
       "      <th>rating_2.0</th>\n",
       "      <th>rating_2.5</th>\n",
       "      <th>rating_3.0</th>\n",
       "      <th>rating_3.5</th>\n",
       "      <th>rating_4.0</th>\n",
       "      <th>rating_4.5</th>\n",
       "      <th>rating_5</th>\n",
       "    </tr>\n",
       "  </thead>\n",
       "  <tbody>\n",
       "    <tr>\n",
       "      <td>0</td>\n",
       "      <td>90001</td>\n",
       "      <td>25.152933</td>\n",
       "      <td>93</td>\n",
       "      <td>33.976603</td>\n",
       "      <td>-118.248763</td>\n",
       "      <td>49.483871</td>\n",
       "      <td>63.318071</td>\n",
       "      <td>67</td>\n",
       "      <td>26</td>\n",
       "      <td>0</td>\n",
       "      <td>...</td>\n",
       "      <td>0</td>\n",
       "      <td>0</td>\n",
       "      <td>4</td>\n",
       "      <td>8</td>\n",
       "      <td>9</td>\n",
       "      <td>9</td>\n",
       "      <td>14</td>\n",
       "      <td>20</td>\n",
       "      <td>17</td>\n",
       "      <td>12</td>\n",
       "    </tr>\n",
       "    <tr>\n",
       "      <td>1</td>\n",
       "      <td>90002</td>\n",
       "      <td>24.410496</td>\n",
       "      <td>21</td>\n",
       "      <td>33.954426</td>\n",
       "      <td>-118.245431</td>\n",
       "      <td>27.904762</td>\n",
       "      <td>30.562358</td>\n",
       "      <td>19</td>\n",
       "      <td>2</td>\n",
       "      <td>0</td>\n",
       "      <td>...</td>\n",
       "      <td>0</td>\n",
       "      <td>0</td>\n",
       "      <td>3</td>\n",
       "      <td>4</td>\n",
       "      <td>1</td>\n",
       "      <td>0</td>\n",
       "      <td>1</td>\n",
       "      <td>6</td>\n",
       "      <td>3</td>\n",
       "      <td>3</td>\n",
       "    </tr>\n",
       "    <tr>\n",
       "      <td>2</td>\n",
       "      <td>90003</td>\n",
       "      <td>23.404622</td>\n",
       "      <td>71</td>\n",
       "      <td>33.972703</td>\n",
       "      <td>-118.271297</td>\n",
       "      <td>35.929577</td>\n",
       "      <td>43.014283</td>\n",
       "      <td>60</td>\n",
       "      <td>9</td>\n",
       "      <td>1</td>\n",
       "      <td>...</td>\n",
       "      <td>0</td>\n",
       "      <td>2</td>\n",
       "      <td>7</td>\n",
       "      <td>10</td>\n",
       "      <td>7</td>\n",
       "      <td>7</td>\n",
       "      <td>8</td>\n",
       "      <td>11</td>\n",
       "      <td>10</td>\n",
       "      <td>9</td>\n",
       "    </tr>\n",
       "    <tr>\n",
       "      <td>3</td>\n",
       "      <td>90004</td>\n",
       "      <td>59.128947</td>\n",
       "      <td>155</td>\n",
       "      <td>34.075176</td>\n",
       "      <td>-118.305680</td>\n",
       "      <td>240.987097</td>\n",
       "      <td>368.477045</td>\n",
       "      <td>77</td>\n",
       "      <td>74</td>\n",
       "      <td>4</td>\n",
       "      <td>...</td>\n",
       "      <td>0</td>\n",
       "      <td>0</td>\n",
       "      <td>1</td>\n",
       "      <td>2</td>\n",
       "      <td>12</td>\n",
       "      <td>15</td>\n",
       "      <td>27</td>\n",
       "      <td>57</td>\n",
       "      <td>27</td>\n",
       "      <td>14</td>\n",
       "    </tr>\n",
       "    <tr>\n",
       "      <td>4</td>\n",
       "      <td>90005</td>\n",
       "      <td>45.821128</td>\n",
       "      <td>147</td>\n",
       "      <td>34.059249</td>\n",
       "      <td>-118.300776</td>\n",
       "      <td>358.482993</td>\n",
       "      <td>587.717016</td>\n",
       "      <td>56</td>\n",
       "      <td>88</td>\n",
       "      <td>3</td>\n",
       "      <td>...</td>\n",
       "      <td>0</td>\n",
       "      <td>1</td>\n",
       "      <td>2</td>\n",
       "      <td>5</td>\n",
       "      <td>5</td>\n",
       "      <td>19</td>\n",
       "      <td>26</td>\n",
       "      <td>58</td>\n",
       "      <td>30</td>\n",
       "      <td>1</td>\n",
       "    </tr>\n",
       "  </tbody>\n",
       "</table>\n",
       "<p>5 rows × 21 columns</p>\n",
       "</div>"
      ],
      "text/plain": [
       "   zip_code    ave_agi  count   latitude   longitude  review_count  \\\n",
       "0     90001  25.152933     93  33.976603 -118.248763     49.483871   \n",
       "1     90002  24.410496     21  33.954426 -118.245431     27.904762   \n",
       "2     90003  23.404622     71  33.972703 -118.271297     35.929577   \n",
       "3     90004  59.128947    155  34.075176 -118.305680    240.987097   \n",
       "4     90005  45.821128    147  34.059249 -118.300776    358.482993   \n",
       "\n",
       "   price*review_count  price_1  price_2  price_3  ...  rating_0.0  rating_1.0  \\\n",
       "0           63.318071       67       26        0  ...           0           0   \n",
       "1           30.562358       19        2        0  ...           0           0   \n",
       "2           43.014283       60        9        1  ...           0           2   \n",
       "3          368.477045       77       74        4  ...           0           0   \n",
       "4          587.717016       56       88        3  ...           0           1   \n",
       "\n",
       "   rating_1.5  rating_2.0  rating_2.5  rating_3.0  rating_3.5  rating_4.0  \\\n",
       "0           4           8           9           9          14          20   \n",
       "1           3           4           1           0           1           6   \n",
       "2           7          10           7           7           8          11   \n",
       "3           1           2          12          15          27          57   \n",
       "4           2           5           5          19          26          58   \n",
       "\n",
       "   rating_4.5  rating_5  \n",
       "0          17        12  \n",
       "1           3         3  \n",
       "2          10         9  \n",
       "3          27        14  \n",
       "4          30         1  \n",
       "\n",
       "[5 rows x 21 columns]"
      ]
     },
     "execution_count": 13,
     "metadata": {},
     "output_type": "execute_result"
    }
   ],
   "source": [
    "df_dummy = pd.merge(df_pivot, df_count, on=\"zip_code\")\n",
    "df_dummy.drop(columns = ['price','rating'] ,inplace = True)\n",
    "df_dummy.reset_index(inplace = True)\n",
    "df_dummy.head()"
   ]
  },
  {
   "cell_type": "code",
   "execution_count": 14,
   "metadata": {},
   "outputs": [],
   "source": [
    "df_dummy['zip_code'] = df_dummy['zip_code'].astype(str)"
   ]
  },
  {
   "cell_type": "code",
   "execution_count": 15,
   "metadata": {},
   "outputs": [
    {
     "data": {
      "text/plain": [
       "zip_code               object\n",
       "ave_agi               float64\n",
       "count                   int64\n",
       "latitude              float64\n",
       "longitude             float64\n",
       "review_count          float64\n",
       "price*review_count    float64\n",
       "price_1                 int64\n",
       "price_2                 int64\n",
       "price_3                 int64\n",
       "price_4                 int64\n",
       "rating_0.0              int64\n",
       "rating_1.0              int64\n",
       "rating_1.5              int64\n",
       "rating_2.0              int64\n",
       "rating_2.5              int64\n",
       "rating_3.0              int64\n",
       "rating_3.5              int64\n",
       "rating_4.0              int64\n",
       "rating_4.5              int64\n",
       "rating_5                int64\n",
       "dtype: object"
      ]
     },
     "execution_count": 15,
     "metadata": {},
     "output_type": "execute_result"
    }
   ],
   "source": [
    "df_dummy.dtypes"
   ]
  },
  {
   "cell_type": "code",
   "execution_count": 16,
   "metadata": {},
   "outputs": [],
   "source": [
    "#df_dummy = df_dummy[df_dummy['count']>=50]"
   ]
  },
  {
   "cell_type": "code",
   "execution_count": null,
   "metadata": {},
   "outputs": [],
   "source": []
  },
  {
   "cell_type": "code",
   "execution_count": 17,
   "metadata": {},
   "outputs": [],
   "source": [
    "#df_dummy.to_csv('../data/data_nocv.csv')"
   ]
  },
  {
   "cell_type": "markdown",
   "metadata": {},
   "source": [
    "# Making the category a matrix via countvectrizor "
   ]
  },
  {
   "cell_type": "code",
   "execution_count": 18,
   "metadata": {
    "scrolled": true
   },
   "outputs": [],
   "source": [
    "cate_dict = df['category'].to_dict()"
   ]
  },
  {
   "cell_type": "code",
   "execution_count": 19,
   "metadata": {},
   "outputs": [],
   "source": [
    "for i in cate_dict:\n",
    "    cate_dict[i] = cate_dict[i].replace('[', '')\n",
    "    cate_dict[i] = cate_dict[i].replace(']', '')\n",
    "    cate_dict[i] = cate_dict[i].replace('\\'', '')\n",
    "    cate_dict[i] = cate_dict[i].split(', ')"
   ]
  },
  {
   "cell_type": "code",
   "execution_count": 20,
   "metadata": {},
   "outputs": [
    {
     "data": {
      "text/html": [
       "<div>\n",
       "<style scoped>\n",
       "    .dataframe tbody tr th:only-of-type {\n",
       "        vertical-align: middle;\n",
       "    }\n",
       "\n",
       "    .dataframe tbody tr th {\n",
       "        vertical-align: top;\n",
       "    }\n",
       "\n",
       "    .dataframe thead th {\n",
       "        text-align: right;\n",
       "    }\n",
       "</style>\n",
       "<table border=\"1\" class=\"dataframe\">\n",
       "  <thead>\n",
       "    <tr style=\"text-align: right;\">\n",
       "      <th></th>\n",
       "      <th>0</th>\n",
       "      <th>1</th>\n",
       "      <th>2</th>\n",
       "      <th>3</th>\n",
       "      <th>4</th>\n",
       "    </tr>\n",
       "  </thead>\n",
       "  <tbody>\n",
       "    <tr>\n",
       "      <td>0</td>\n",
       "      <td>noodles</td>\n",
       "      <td>chinese</td>\n",
       "      <td>None</td>\n",
       "      <td>None</td>\n",
       "      <td>None</td>\n",
       "    </tr>\n",
       "    <tr>\n",
       "      <td>1</td>\n",
       "      <td>taiwanese</td>\n",
       "      <td>chinese</td>\n",
       "      <td>breakfast_brunch</td>\n",
       "      <td>None</td>\n",
       "      <td>None</td>\n",
       "    </tr>\n",
       "    <tr>\n",
       "      <td>2</td>\n",
       "      <td>chinese</td>\n",
       "      <td>None</td>\n",
       "      <td>None</td>\n",
       "      <td>None</td>\n",
       "      <td>None</td>\n",
       "    </tr>\n",
       "    <tr>\n",
       "      <td>3</td>\n",
       "      <td>dimsum</td>\n",
       "      <td>hotdogs</td>\n",
       "      <td>None</td>\n",
       "      <td>None</td>\n",
       "      <td>None</td>\n",
       "    </tr>\n",
       "    <tr>\n",
       "      <td>4</td>\n",
       "      <td>korean</td>\n",
       "      <td>None</td>\n",
       "      <td>None</td>\n",
       "      <td>None</td>\n",
       "      <td>None</td>\n",
       "    </tr>\n",
       "  </tbody>\n",
       "</table>\n",
       "</div>"
      ],
      "text/plain": [
       "           0        1                 2     3     4\n",
       "0    noodles  chinese              None  None  None\n",
       "1  taiwanese  chinese  breakfast_brunch  None  None\n",
       "2    chinese     None              None  None  None\n",
       "3     dimsum  hotdogs              None  None  None\n",
       "4     korean     None              None  None  None"
      ]
     },
     "execution_count": 20,
     "metadata": {},
     "output_type": "execute_result"
    }
   ],
   "source": [
    "df_cate= pd.DataFrame.from_dict(cate_dict, orient = 'index')\n",
    "df_cate.head()"
   ]
  },
  {
   "cell_type": "code",
   "execution_count": 21,
   "metadata": {},
   "outputs": [
    {
     "data": {
      "text/html": [
       "<div>\n",
       "<style scoped>\n",
       "    .dataframe tbody tr th:only-of-type {\n",
       "        vertical-align: middle;\n",
       "    }\n",
       "\n",
       "    .dataframe tbody tr th {\n",
       "        vertical-align: top;\n",
       "    }\n",
       "\n",
       "    .dataframe thead th {\n",
       "        text-align: right;\n",
       "    }\n",
       "</style>\n",
       "<table border=\"1\" class=\"dataframe\">\n",
       "  <thead>\n",
       "    <tr style=\"text-align: right;\">\n",
       "      <th></th>\n",
       "      <th>0</th>\n",
       "      <th>1</th>\n",
       "      <th>2</th>\n",
       "      <th>3</th>\n",
       "      <th>4</th>\n",
       "      <th>zip_code</th>\n",
       "    </tr>\n",
       "  </thead>\n",
       "  <tbody>\n",
       "    <tr>\n",
       "      <td>0</td>\n",
       "      <td>noodles</td>\n",
       "      <td>chinese</td>\n",
       "      <td>None</td>\n",
       "      <td>None</td>\n",
       "      <td>None</td>\n",
       "      <td>91776</td>\n",
       "    </tr>\n",
       "    <tr>\n",
       "      <td>1</td>\n",
       "      <td>taiwanese</td>\n",
       "      <td>chinese</td>\n",
       "      <td>breakfast_brunch</td>\n",
       "      <td>None</td>\n",
       "      <td>None</td>\n",
       "      <td>91776</td>\n",
       "    </tr>\n",
       "    <tr>\n",
       "      <td>2</td>\n",
       "      <td>chinese</td>\n",
       "      <td>None</td>\n",
       "      <td>None</td>\n",
       "      <td>None</td>\n",
       "      <td>None</td>\n",
       "      <td>91776</td>\n",
       "    </tr>\n",
       "    <tr>\n",
       "      <td>3</td>\n",
       "      <td>dimsum</td>\n",
       "      <td>hotdogs</td>\n",
       "      <td>None</td>\n",
       "      <td>None</td>\n",
       "      <td>None</td>\n",
       "      <td>91776</td>\n",
       "    </tr>\n",
       "    <tr>\n",
       "      <td>4</td>\n",
       "      <td>korean</td>\n",
       "      <td>None</td>\n",
       "      <td>None</td>\n",
       "      <td>None</td>\n",
       "      <td>None</td>\n",
       "      <td>91776</td>\n",
       "    </tr>\n",
       "    <tr>\n",
       "      <td>...</td>\n",
       "      <td>...</td>\n",
       "      <td>...</td>\n",
       "      <td>...</td>\n",
       "      <td>...</td>\n",
       "      <td>...</td>\n",
       "      <td>...</td>\n",
       "    </tr>\n",
       "    <tr>\n",
       "      <td>28204</td>\n",
       "      <td>foodtrucks</td>\n",
       "      <td>burgers</td>\n",
       "      <td>sandwiches</td>\n",
       "      <td>None</td>\n",
       "      <td>None</td>\n",
       "      <td>92807</td>\n",
       "    </tr>\n",
       "    <tr>\n",
       "      <td>28205</td>\n",
       "      <td>burgers</td>\n",
       "      <td>hotdogs</td>\n",
       "      <td>None</td>\n",
       "      <td>None</td>\n",
       "      <td>None</td>\n",
       "      <td>93955</td>\n",
       "    </tr>\n",
       "    <tr>\n",
       "      <td>28206</td>\n",
       "      <td>foodstands</td>\n",
       "      <td>None</td>\n",
       "      <td>None</td>\n",
       "      <td>None</td>\n",
       "      <td>None</td>\n",
       "      <td>92056</td>\n",
       "    </tr>\n",
       "    <tr>\n",
       "      <td>28207</td>\n",
       "      <td>cheesesteaks</td>\n",
       "      <td>sandwiches</td>\n",
       "      <td>chicken_wings</td>\n",
       "      <td>None</td>\n",
       "      <td>None</td>\n",
       "      <td>92845</td>\n",
       "    </tr>\n",
       "    <tr>\n",
       "      <td>28208</td>\n",
       "      <td>burgers</td>\n",
       "      <td>None</td>\n",
       "      <td>None</td>\n",
       "      <td>None</td>\n",
       "      <td>None</td>\n",
       "      <td>98188</td>\n",
       "    </tr>\n",
       "  </tbody>\n",
       "</table>\n",
       "<p>28209 rows × 6 columns</p>\n",
       "</div>"
      ],
      "text/plain": [
       "                  0           1                 2     3     4  zip_code\n",
       "0           noodles     chinese              None  None  None     91776\n",
       "1         taiwanese     chinese  breakfast_brunch  None  None     91776\n",
       "2           chinese        None              None  None  None     91776\n",
       "3            dimsum     hotdogs              None  None  None     91776\n",
       "4            korean        None              None  None  None     91776\n",
       "...             ...         ...               ...   ...   ...       ...\n",
       "28204    foodtrucks     burgers        sandwiches  None  None     92807\n",
       "28205       burgers     hotdogs              None  None  None     93955\n",
       "28206    foodstands        None              None  None  None     92056\n",
       "28207  cheesesteaks  sandwiches     chicken_wings  None  None     92845\n",
       "28208       burgers        None              None  None  None     98188\n",
       "\n",
       "[28209 rows x 6 columns]"
      ]
     },
     "execution_count": 21,
     "metadata": {},
     "output_type": "execute_result"
    }
   ],
   "source": [
    "df_cate['zip_code'] = df['zip_code']\n",
    "df_cate"
   ]
  },
  {
   "cell_type": "code",
   "execution_count": 22,
   "metadata": {},
   "outputs": [],
   "source": [
    "categories_df = df_cate.astype(str).groupby('zip_code').agg(lambda x: ' '.join(x.unique())) ##borrowwed from Erin Hwang "
   ]
  },
  {
   "cell_type": "code",
   "execution_count": 23,
   "metadata": {},
   "outputs": [
    {
     "data": {
      "text/html": [
       "<div>\n",
       "<style scoped>\n",
       "    .dataframe tbody tr th:only-of-type {\n",
       "        vertical-align: middle;\n",
       "    }\n",
       "\n",
       "    .dataframe tbody tr th {\n",
       "        vertical-align: top;\n",
       "    }\n",
       "\n",
       "    .dataframe thead th {\n",
       "        text-align: right;\n",
       "    }\n",
       "</style>\n",
       "<table border=\"1\" class=\"dataframe\">\n",
       "  <thead>\n",
       "    <tr style=\"text-align: right;\">\n",
       "      <th></th>\n",
       "      <th>0</th>\n",
       "      <th>1</th>\n",
       "      <th>2</th>\n",
       "      <th>3</th>\n",
       "      <th>4</th>\n",
       "      <th>cate_text_by_zip</th>\n",
       "    </tr>\n",
       "    <tr>\n",
       "      <th>zip_code</th>\n",
       "      <th></th>\n",
       "      <th></th>\n",
       "      <th></th>\n",
       "      <th></th>\n",
       "      <th></th>\n",
       "      <th></th>\n",
       "    </tr>\n",
       "  </thead>\n",
       "  <tbody>\n",
       "    <tr>\n",
       "      <td>90001</td>\n",
       "      <td>foodtrucks chicken_wings donuts hotdogs street...</td>\n",
       "      <td>comfortfood None coffee asianfusion japanese v...</td>\n",
       "      <td>sandwiches None hotdog food catering mexican m...</td>\n",
       "      <td>None</td>\n",
       "      <td>None</td>\n",
       "      <td>foodtrucks chicken_wings donuts hotdogs street...</td>\n",
       "    </tr>\n",
       "    <tr>\n",
       "      <td>90002</td>\n",
       "      <td>coffee hotdogs mexican tacos sandwiches salvad...</td>\n",
       "      <td>breakfast_brunch burgers None foodstands hotdo...</td>\n",
       "      <td>None coffee mexican chicken_wings breakfast_br...</td>\n",
       "      <td>None</td>\n",
       "      <td>None</td>\n",
       "      <td>coffee hotdogs mexican tacos sandwiches salvad...</td>\n",
       "    </tr>\n",
       "    <tr>\n",
       "      <td>90003</td>\n",
       "      <td>sportsbars japanese donuts soulfood burgers ta...</td>\n",
       "      <td>None sandwiches coffee mexican hotdogs foodsta...</td>\n",
       "      <td>None coffee sandwiches meats customcakes chick...</td>\n",
       "      <td>None</td>\n",
       "      <td>None</td>\n",
       "      <td>sportsbars japanese donuts soulfood burgers ta...</td>\n",
       "    </tr>\n",
       "    <tr>\n",
       "      <td>90004</td>\n",
       "      <td>korean japanese desserts bbq streetvendors piz...</td>\n",
       "      <td>chinese None coffee noodles korean seafood mex...</td>\n",
       "      <td>noodles None korean smokehouse raw_food italia...</td>\n",
       "      <td>None</td>\n",
       "      <td>None</td>\n",
       "      <td>korean japanese desserts bbq streetvendors piz...</td>\n",
       "    </tr>\n",
       "    <tr>\n",
       "      <td>90005</td>\n",
       "      <td>korean donuts coffee hotdogs chinese thai chic...</td>\n",
       "      <td>None noodles coffee bubbletea asianfusion chic...</td>\n",
       "      <td>None sandwiches juicebars italian korean sushi...</td>\n",
       "      <td>None</td>\n",
       "      <td>None</td>\n",
       "      <td>korean donuts coffee hotdogs chinese thai chic...</td>\n",
       "    </tr>\n",
       "  </tbody>\n",
       "</table>\n",
       "</div>"
      ],
      "text/plain": [
       "                                                          0  \\\n",
       "zip_code                                                      \n",
       "90001     foodtrucks chicken_wings donuts hotdogs street...   \n",
       "90002     coffee hotdogs mexican tacos sandwiches salvad...   \n",
       "90003     sportsbars japanese donuts soulfood burgers ta...   \n",
       "90004     korean japanese desserts bbq streetvendors piz...   \n",
       "90005     korean donuts coffee hotdogs chinese thai chic...   \n",
       "\n",
       "                                                          1  \\\n",
       "zip_code                                                      \n",
       "90001     comfortfood None coffee asianfusion japanese v...   \n",
       "90002     breakfast_brunch burgers None foodstands hotdo...   \n",
       "90003     None sandwiches coffee mexican hotdogs foodsta...   \n",
       "90004     chinese None coffee noodles korean seafood mex...   \n",
       "90005     None noodles coffee bubbletea asianfusion chic...   \n",
       "\n",
       "                                                          2     3     4  \\\n",
       "zip_code                                                                  \n",
       "90001     sandwiches None hotdog food catering mexican m...  None  None   \n",
       "90002     None coffee mexican chicken_wings breakfast_br...  None  None   \n",
       "90003     None coffee sandwiches meats customcakes chick...  None  None   \n",
       "90004     noodles None korean smokehouse raw_food italia...  None  None   \n",
       "90005     None sandwiches juicebars italian korean sushi...  None  None   \n",
       "\n",
       "                                           cate_text_by_zip  \n",
       "zip_code                                                     \n",
       "90001     foodtrucks chicken_wings donuts hotdogs street...  \n",
       "90002     coffee hotdogs mexican tacos sandwiches salvad...  \n",
       "90003     sportsbars japanese donuts soulfood burgers ta...  \n",
       "90004     korean japanese desserts bbq streetvendors piz...  \n",
       "90005     korean donuts coffee hotdogs chinese thai chic...  "
      ]
     },
     "execution_count": 23,
     "metadata": {},
     "output_type": "execute_result"
    }
   ],
   "source": [
    "categories_df['cate_text_by_zip'] = categories_df[0] + ' ' + categories_df[1] + ' ' + categories_df[2] + ' ' + categories_df[3] + ' ' + categories_df[4]\n",
    "categories_df.head()##borrowwed from Erin Hwang"
   ]
  },
  {
   "cell_type": "code",
   "execution_count": 24,
   "metadata": {},
   "outputs": [],
   "source": [
    "cvec = CountVectorizer()"
   ]
  },
  {
   "cell_type": "code",
   "execution_count": 25,
   "metadata": {},
   "outputs": [],
   "source": [
    "categories_df.reset_index(inplace = True)"
   ]
  },
  {
   "cell_type": "code",
   "execution_count": 26,
   "metadata": {},
   "outputs": [],
   "source": [
    "X = categories_df['cate_text_by_zip']\n",
    "y = categories_df['zip_code']"
   ]
  },
  {
   "cell_type": "code",
   "execution_count": 27,
   "metadata": {},
   "outputs": [
    {
     "data": {
      "text/html": [
       "<div>\n",
       "<style scoped>\n",
       "    .dataframe tbody tr th:only-of-type {\n",
       "        vertical-align: middle;\n",
       "    }\n",
       "\n",
       "    .dataframe tbody tr th {\n",
       "        vertical-align: top;\n",
       "    }\n",
       "\n",
       "    .dataframe thead th {\n",
       "        text-align: right;\n",
       "    }\n",
       "</style>\n",
       "<table border=\"1\" class=\"dataframe\">\n",
       "  <thead>\n",
       "    <tr style=\"text-align: right;\">\n",
       "      <th></th>\n",
       "      <th>acaibowls</th>\n",
       "      <th>accessories</th>\n",
       "      <th>acupuncture</th>\n",
       "      <th>afghani</th>\n",
       "      <th>african</th>\n",
       "      <th>airportlounges</th>\n",
       "      <th>amusementparks</th>\n",
       "      <th>antiques</th>\n",
       "      <th>appliances</th>\n",
       "      <th>arabian</th>\n",
       "      <th>...</th>\n",
       "      <th>whiskeybars</th>\n",
       "      <th>wholesale_stores</th>\n",
       "      <th>wholesalers</th>\n",
       "      <th>wine_bars</th>\n",
       "      <th>wineries</th>\n",
       "      <th>winetasteclasses</th>\n",
       "      <th>winetastingroom</th>\n",
       "      <th>womenscloth</th>\n",
       "      <th>wraps</th>\n",
       "      <th>yoga</th>\n",
       "    </tr>\n",
       "  </thead>\n",
       "  <tbody>\n",
       "    <tr>\n",
       "      <td>0</td>\n",
       "      <td>0</td>\n",
       "      <td>0</td>\n",
       "      <td>0</td>\n",
       "      <td>0</td>\n",
       "      <td>0</td>\n",
       "      <td>0</td>\n",
       "      <td>0</td>\n",
       "      <td>0</td>\n",
       "      <td>0</td>\n",
       "      <td>0</td>\n",
       "      <td>...</td>\n",
       "      <td>0</td>\n",
       "      <td>0</td>\n",
       "      <td>0</td>\n",
       "      <td>0</td>\n",
       "      <td>0</td>\n",
       "      <td>0</td>\n",
       "      <td>0</td>\n",
       "      <td>0</td>\n",
       "      <td>0</td>\n",
       "      <td>0</td>\n",
       "    </tr>\n",
       "    <tr>\n",
       "      <td>1</td>\n",
       "      <td>0</td>\n",
       "      <td>0</td>\n",
       "      <td>0</td>\n",
       "      <td>0</td>\n",
       "      <td>0</td>\n",
       "      <td>0</td>\n",
       "      <td>0</td>\n",
       "      <td>0</td>\n",
       "      <td>0</td>\n",
       "      <td>0</td>\n",
       "      <td>...</td>\n",
       "      <td>0</td>\n",
       "      <td>0</td>\n",
       "      <td>0</td>\n",
       "      <td>0</td>\n",
       "      <td>0</td>\n",
       "      <td>0</td>\n",
       "      <td>0</td>\n",
       "      <td>0</td>\n",
       "      <td>0</td>\n",
       "      <td>0</td>\n",
       "    </tr>\n",
       "    <tr>\n",
       "      <td>2</td>\n",
       "      <td>0</td>\n",
       "      <td>0</td>\n",
       "      <td>0</td>\n",
       "      <td>0</td>\n",
       "      <td>0</td>\n",
       "      <td>0</td>\n",
       "      <td>0</td>\n",
       "      <td>0</td>\n",
       "      <td>0</td>\n",
       "      <td>0</td>\n",
       "      <td>...</td>\n",
       "      <td>0</td>\n",
       "      <td>0</td>\n",
       "      <td>0</td>\n",
       "      <td>0</td>\n",
       "      <td>0</td>\n",
       "      <td>0</td>\n",
       "      <td>0</td>\n",
       "      <td>0</td>\n",
       "      <td>0</td>\n",
       "      <td>0</td>\n",
       "    </tr>\n",
       "    <tr>\n",
       "      <td>3</td>\n",
       "      <td>1</td>\n",
       "      <td>0</td>\n",
       "      <td>0</td>\n",
       "      <td>0</td>\n",
       "      <td>0</td>\n",
       "      <td>0</td>\n",
       "      <td>0</td>\n",
       "      <td>0</td>\n",
       "      <td>0</td>\n",
       "      <td>0</td>\n",
       "      <td>...</td>\n",
       "      <td>0</td>\n",
       "      <td>0</td>\n",
       "      <td>0</td>\n",
       "      <td>0</td>\n",
       "      <td>0</td>\n",
       "      <td>0</td>\n",
       "      <td>0</td>\n",
       "      <td>0</td>\n",
       "      <td>0</td>\n",
       "      <td>0</td>\n",
       "    </tr>\n",
       "    <tr>\n",
       "      <td>4</td>\n",
       "      <td>0</td>\n",
       "      <td>0</td>\n",
       "      <td>0</td>\n",
       "      <td>0</td>\n",
       "      <td>0</td>\n",
       "      <td>0</td>\n",
       "      <td>0</td>\n",
       "      <td>0</td>\n",
       "      <td>0</td>\n",
       "      <td>0</td>\n",
       "      <td>...</td>\n",
       "      <td>0</td>\n",
       "      <td>0</td>\n",
       "      <td>0</td>\n",
       "      <td>0</td>\n",
       "      <td>0</td>\n",
       "      <td>0</td>\n",
       "      <td>0</td>\n",
       "      <td>0</td>\n",
       "      <td>0</td>\n",
       "      <td>0</td>\n",
       "    </tr>\n",
       "  </tbody>\n",
       "</table>\n",
       "<p>5 rows × 355 columns</p>\n",
       "</div>"
      ],
      "text/plain": [
       "   acaibowls  accessories  acupuncture  afghani  african  airportlounges  \\\n",
       "0          0            0            0        0        0               0   \n",
       "1          0            0            0        0        0               0   \n",
       "2          0            0            0        0        0               0   \n",
       "3          1            0            0        0        0               0   \n",
       "4          0            0            0        0        0               0   \n",
       "\n",
       "   amusementparks  antiques  appliances  arabian  ...  whiskeybars  \\\n",
       "0               0         0           0        0  ...            0   \n",
       "1               0         0           0        0  ...            0   \n",
       "2               0         0           0        0  ...            0   \n",
       "3               0         0           0        0  ...            0   \n",
       "4               0         0           0        0  ...            0   \n",
       "\n",
       "   wholesale_stores  wholesalers  wine_bars  wineries  winetasteclasses  \\\n",
       "0                 0            0          0         0                 0   \n",
       "1                 0            0          0         0                 0   \n",
       "2                 0            0          0         0                 0   \n",
       "3                 0            0          0         0                 0   \n",
       "4                 0            0          0         0                 0   \n",
       "\n",
       "   winetastingroom  womenscloth  wraps  yoga  \n",
       "0                0            0      0     0  \n",
       "1                0            0      0     0  \n",
       "2                0            0      0     0  \n",
       "3                0            0      0     0  \n",
       "4                0            0      0     0  \n",
       "\n",
       "[5 rows x 355 columns]"
      ]
     },
     "execution_count": 27,
     "metadata": {},
     "output_type": "execute_result"
    }
   ],
   "source": [
    "df_cate = pd.DataFrame(cvec.fit_transform(X).toarray(),\n",
    "                columns=cvec.get_feature_names() ) #\n",
    "df_cate.head()"
   ]
  },
  {
   "cell_type": "markdown",
   "metadata": {},
   "source": [
    "## save the data with countvecrizer"
   ]
  },
  {
   "cell_type": "code",
   "execution_count": 28,
   "metadata": {
    "scrolled": true
   },
   "outputs": [
    {
     "data": {
      "text/html": [
       "<div>\n",
       "<style scoped>\n",
       "    .dataframe tbody tr th:only-of-type {\n",
       "        vertical-align: middle;\n",
       "    }\n",
       "\n",
       "    .dataframe tbody tr th {\n",
       "        vertical-align: top;\n",
       "    }\n",
       "\n",
       "    .dataframe thead th {\n",
       "        text-align: right;\n",
       "    }\n",
       "</style>\n",
       "<table border=\"1\" class=\"dataframe\">\n",
       "  <thead>\n",
       "    <tr style=\"text-align: right;\">\n",
       "      <th></th>\n",
       "      <th>zip_code</th>\n",
       "      <th>ave_agi</th>\n",
       "      <th>count</th>\n",
       "      <th>latitude</th>\n",
       "      <th>longitude</th>\n",
       "      <th>review_count</th>\n",
       "      <th>price*review_count</th>\n",
       "      <th>price_1</th>\n",
       "      <th>price_2</th>\n",
       "      <th>price_3</th>\n",
       "      <th>...</th>\n",
       "      <th>whiskeybars</th>\n",
       "      <th>wholesale_stores</th>\n",
       "      <th>wholesalers</th>\n",
       "      <th>wine_bars</th>\n",
       "      <th>wineries</th>\n",
       "      <th>winetasteclasses</th>\n",
       "      <th>winetastingroom</th>\n",
       "      <th>womenscloth</th>\n",
       "      <th>wraps</th>\n",
       "      <th>yoga</th>\n",
       "    </tr>\n",
       "  </thead>\n",
       "  <tbody>\n",
       "    <tr>\n",
       "      <td>0</td>\n",
       "      <td>90001</td>\n",
       "      <td>25.152933</td>\n",
       "      <td>93</td>\n",
       "      <td>33.976603</td>\n",
       "      <td>-118.248763</td>\n",
       "      <td>49.483871</td>\n",
       "      <td>63.318071</td>\n",
       "      <td>67</td>\n",
       "      <td>26</td>\n",
       "      <td>0</td>\n",
       "      <td>...</td>\n",
       "      <td>0</td>\n",
       "      <td>0</td>\n",
       "      <td>0</td>\n",
       "      <td>0</td>\n",
       "      <td>0</td>\n",
       "      <td>0</td>\n",
       "      <td>0</td>\n",
       "      <td>0</td>\n",
       "      <td>0</td>\n",
       "      <td>0</td>\n",
       "    </tr>\n",
       "    <tr>\n",
       "      <td>1</td>\n",
       "      <td>90002</td>\n",
       "      <td>24.410496</td>\n",
       "      <td>21</td>\n",
       "      <td>33.954426</td>\n",
       "      <td>-118.245431</td>\n",
       "      <td>27.904762</td>\n",
       "      <td>30.562358</td>\n",
       "      <td>19</td>\n",
       "      <td>2</td>\n",
       "      <td>0</td>\n",
       "      <td>...</td>\n",
       "      <td>0</td>\n",
       "      <td>0</td>\n",
       "      <td>0</td>\n",
       "      <td>0</td>\n",
       "      <td>0</td>\n",
       "      <td>0</td>\n",
       "      <td>0</td>\n",
       "      <td>0</td>\n",
       "      <td>0</td>\n",
       "      <td>0</td>\n",
       "    </tr>\n",
       "    <tr>\n",
       "      <td>2</td>\n",
       "      <td>90003</td>\n",
       "      <td>23.404622</td>\n",
       "      <td>71</td>\n",
       "      <td>33.972703</td>\n",
       "      <td>-118.271297</td>\n",
       "      <td>35.929577</td>\n",
       "      <td>43.014283</td>\n",
       "      <td>60</td>\n",
       "      <td>9</td>\n",
       "      <td>1</td>\n",
       "      <td>...</td>\n",
       "      <td>0</td>\n",
       "      <td>0</td>\n",
       "      <td>0</td>\n",
       "      <td>0</td>\n",
       "      <td>0</td>\n",
       "      <td>0</td>\n",
       "      <td>0</td>\n",
       "      <td>0</td>\n",
       "      <td>0</td>\n",
       "      <td>0</td>\n",
       "    </tr>\n",
       "    <tr>\n",
       "      <td>3</td>\n",
       "      <td>90004</td>\n",
       "      <td>59.128947</td>\n",
       "      <td>155</td>\n",
       "      <td>34.075176</td>\n",
       "      <td>-118.305680</td>\n",
       "      <td>240.987097</td>\n",
       "      <td>368.477045</td>\n",
       "      <td>77</td>\n",
       "      <td>74</td>\n",
       "      <td>4</td>\n",
       "      <td>...</td>\n",
       "      <td>0</td>\n",
       "      <td>0</td>\n",
       "      <td>0</td>\n",
       "      <td>0</td>\n",
       "      <td>0</td>\n",
       "      <td>0</td>\n",
       "      <td>0</td>\n",
       "      <td>0</td>\n",
       "      <td>0</td>\n",
       "      <td>0</td>\n",
       "    </tr>\n",
       "    <tr>\n",
       "      <td>4</td>\n",
       "      <td>90005</td>\n",
       "      <td>45.821128</td>\n",
       "      <td>147</td>\n",
       "      <td>34.059249</td>\n",
       "      <td>-118.300776</td>\n",
       "      <td>358.482993</td>\n",
       "      <td>587.717016</td>\n",
       "      <td>56</td>\n",
       "      <td>88</td>\n",
       "      <td>3</td>\n",
       "      <td>...</td>\n",
       "      <td>0</td>\n",
       "      <td>0</td>\n",
       "      <td>0</td>\n",
       "      <td>0</td>\n",
       "      <td>0</td>\n",
       "      <td>0</td>\n",
       "      <td>0</td>\n",
       "      <td>0</td>\n",
       "      <td>0</td>\n",
       "      <td>0</td>\n",
       "    </tr>\n",
       "  </tbody>\n",
       "</table>\n",
       "<p>5 rows × 376 columns</p>\n",
       "</div>"
      ],
      "text/plain": [
       "  zip_code    ave_agi  count   latitude   longitude  review_count  \\\n",
       "0    90001  25.152933     93  33.976603 -118.248763     49.483871   \n",
       "1    90002  24.410496     21  33.954426 -118.245431     27.904762   \n",
       "2    90003  23.404622     71  33.972703 -118.271297     35.929577   \n",
       "3    90004  59.128947    155  34.075176 -118.305680    240.987097   \n",
       "4    90005  45.821128    147  34.059249 -118.300776    358.482993   \n",
       "\n",
       "   price*review_count  price_1  price_2  price_3  ...  whiskeybars  \\\n",
       "0           63.318071       67       26        0  ...            0   \n",
       "1           30.562358       19        2        0  ...            0   \n",
       "2           43.014283       60        9        1  ...            0   \n",
       "3          368.477045       77       74        4  ...            0   \n",
       "4          587.717016       56       88        3  ...            0   \n",
       "\n",
       "   wholesale_stores  wholesalers  wine_bars  wineries  winetasteclasses  \\\n",
       "0                 0            0          0         0                 0   \n",
       "1                 0            0          0         0                 0   \n",
       "2                 0            0          0         0                 0   \n",
       "3                 0            0          0         0                 0   \n",
       "4                 0            0          0         0                 0   \n",
       "\n",
       "   winetastingroom  womenscloth  wraps  yoga  \n",
       "0                0            0      0     0  \n",
       "1                0            0      0     0  \n",
       "2                0            0      0     0  \n",
       "3                0            0      0     0  \n",
       "4                0            0      0     0  \n",
       "\n",
       "[5 rows x 376 columns]"
      ]
     },
     "execution_count": 28,
     "metadata": {},
     "output_type": "execute_result"
    }
   ],
   "source": [
    "df = pd.concat([df_dummy, df_cate], axis=1, sort=False)\n",
    "df.head()"
   ]
  },
  {
   "cell_type": "code",
   "execution_count": 29,
   "metadata": {},
   "outputs": [],
   "source": [
    "df.to_csv('../data/data_cv.csv')"
   ]
  },
  {
   "cell_type": "code",
   "execution_count": 30,
   "metadata": {},
   "outputs": [],
   "source": [
    "#count_price_rating = (pd.crosstab(df[\"zip_code\"], df['price*rating']))\n",
    "#count_price_rating.head()"
   ]
  },
  {
   "cell_type": "code",
   "execution_count": 31,
   "metadata": {},
   "outputs": [],
   "source": [
    "#numeric_data = df._get_numeric_data().columns"
   ]
  },
  {
   "cell_type": "markdown",
   "metadata": {},
   "source": [
    "## Begin to Model"
   ]
  },
  {
   "cell_type": "markdown",
   "metadata": {},
   "source": [
    "## Tried both data with vecorizer and without, turns out the data without vectorizer performs better, so I will stick with this one"
   ]
  },
  {
   "cell_type": "markdown",
   "metadata": {},
   "source": [
    "## Jerry's way to countvectorizer"
   ]
  },
  {
   "cell_type": "code",
   "execution_count": null,
   "metadata": {},
   "outputs": [],
   "source": []
  },
  {
   "cell_type": "code",
   "execution_count": null,
   "metadata": {},
   "outputs": [],
   "source": []
  },
  {
   "cell_type": "code",
   "execution_count": 32,
   "metadata": {},
   "outputs": [],
   "source": [
    "#df_dummy = pd.read_csv('../data/data_income.csv')"
   ]
  },
  {
   "cell_type": "code",
   "execution_count": 33,
   "metadata": {},
   "outputs": [],
   "source": [
    "# X = df_dummy.drop(columns=['ave_agi','latitude','longitude'])\n",
    "# #features = list(X.columns)\n",
    "# y = df_dummy['ave_agi']"
   ]
  },
  {
   "cell_type": "code",
   "execution_count": 34,
   "metadata": {},
   "outputs": [],
   "source": [
    "\n",
    "# # https://stackoverflow.com/questions/46778392/\n",
    "# # https://stackoverflow.com/questions/34734940/\n",
    "\n",
    "# '''\n",
    "# use function for both X_train and X_test\n",
    "# you can save as a different DF or overwrite\n",
    "\n",
    "# maybe this can go in a markdown cell:\n",
    "\n",
    "#     We first use CountVectorizer() to create dummy columns for\n",
    "#     each category. We multiply these columns the price by the \n",
    "#     dummy categories so that we can get a price inside the\n",
    "#     category column.\n",
    "    \n",
    "#     e.g. if a Korean restaurant has a price of '3', then we \n",
    "#     want that row to have a '3' in the 'korean' column.\n",
    "    \n",
    "#     This allows us to standard scale each category column so\n",
    "#     that we can assess the relative price of each business\n",
    "#     listing given its category. That way, if one area has\n",
    "#     relatively expensive Korean restaurants, and another area\n",
    "#     has relatively inexpensive jewelry stores, those scaled\n",
    "#     factors may have an effect in our ability to model.\n",
    "    \n",
    "# '''\n",
    "\n",
    "# def category_pricer(X, y, state=42):\n",
    "#     '''\n",
    "#     Adds scaled price columns to a Yelp Business DataFrame.\n",
    "    \n",
    "#     Arguments:\n",
    "#         X:              dataframe containing all features\n",
    "#         y:              array containing all targets\n",
    "#         state:          random state of train_test_split()\n",
    "                                    \n",
    "#     Returns:\n",
    "#         X_train, X_test, y_train, y_test\n",
    "#         X_train and X_test contain two new columns:\n",
    "#         'price_sc':     scaled price\n",
    "#         'adj_price':    mean of category-scaled prices\n",
    "\n",
    "#     Goal:   to standard scale the price of a business listing\n",
    "#             given its category.\n",
    "#     '''\n",
    "#     X_train, X_test, y_train, y_test = train_test_split(X, \n",
    "#                                                     y, \n",
    "#                                                     random_state=state)    \n",
    "    \n",
    "#     # instantiate CountVectorizer() and fit 'category'\n",
    "#     cvect = CountVectorizer()\n",
    "\n",
    "#     # fit_transform train data\n",
    "#     c_train = cvect.fit_transform(X_train['category']).toarray()\n",
    "#     for i in range(len(c_train)):\n",
    "#         c_train[i] = c_train[i] * X_train['price'].values[i]\n",
    "#     cat_train = cvect.get_feature_names()\n",
    "#     C_train = pd.DataFrame(c_train, columns=cat_train)\n",
    "#     C_train.replace(0, np.NaN, inplace=True)\n",
    "    \n",
    "#     # only transform test data\n",
    "#     c_test = cvect.transform(X_test['category']).toarray()\n",
    "#     for j in range(len(c_test)):\n",
    "#         c_test[j] = c_test[j] * X_test['price'].values[j]\n",
    "#     cat_test = cvect.get_feature_names()\n",
    "#     C_test = pd.DataFrame(c_test, columns=cat_test)\n",
    "#     C_test.replace(0, np.NaN, inplace=True)\n",
    "    \n",
    "#     # standard scale each category\n",
    "#     sc = StandardScaler()\n",
    "#     S_train = pd.DataFrame(sc.fit_transform(C_train), columns=cat_train)\n",
    "#     S_test = pd.DataFrame(sc.transform(C_test), columns=cat_test)\n",
    "    \n",
    "#     X_train['price_sc'] = sc.fit_transform(X_train[['price']])\n",
    "#     X_test['price_sc'] = sc.transform(X_test[['price']])\n",
    "    \n",
    "#     # right now if a listing belongs to multiple categories,\n",
    "#     # it will take the average of the scaled category scores.\n",
    "#     X_train['adj_price'] = list(S_train.mean(axis=1))\n",
    "#     X_test['adj_price'] = list(S_test.mean(axis=1))\n",
    "    \n",
    "#     return X_train, X_test, y_train, y_test"
   ]
  },
  {
   "cell_type": "code",
   "execution_count": 35,
   "metadata": {},
   "outputs": [],
   "source": [
    "#df_dummy"
   ]
  },
  {
   "cell_type": "code",
   "execution_count": 36,
   "metadata": {},
   "outputs": [],
   "source": [
    "#category_pricer(X,y,state=42)"
   ]
  },
  {
   "cell_type": "code",
   "execution_count": null,
   "metadata": {},
   "outputs": [],
   "source": []
  },
  {
   "cell_type": "code",
   "execution_count": 37,
   "metadata": {},
   "outputs": [],
   "source": [
    "# numeric_data = df_dummy._get_numeric_data().columns\n",
    "# X = df_dummy._get_numeric_data().drop(columns=['ave_agi','latitude','longitude'])\n",
    "# features = list(X.columns)\n",
    "# y = df_dummy['ave_agi']\n",
    "# poly = PolynomialFeatures(degree=2, interaction_only=False, include_bias=False)\n",
    "# X_poly = poly.fit_transform(X)\n",
    "# X_poly_train,X_poly_test,y_train,y_test = train_test_split(X_poly,y, random_state = 42)\n",
    "# ss=StandardScaler()\n",
    "# ss.fit(X_poly_train)\n",
    "# X_train_sc=ss.transform(X_poly_train)\n",
    "# X_test_sc = ss.transform(X_poly_test)\n",
    "# lm = LinearRegression()\n",
    "# lm.fit(X_train_sc, y_train)\n",
    "# l_alpha = np.logspace(-1, 2, 100)\n",
    "# lasso = LassoCV(alphas=l_alpha, cv=5, max_iter=1000)\n",
    "# lasso.fit(X_train_sc, y_train)\n"
   ]
  },
  {
   "cell_type": "code",
   "execution_count": 38,
   "metadata": {},
   "outputs": [],
   "source": [
    "#lm.score(X_test_sc,y_test)"
   ]
  },
  {
   "cell_type": "code",
   "execution_count": 39,
   "metadata": {},
   "outputs": [],
   "source": [
    "#lasso.alpha_"
   ]
  },
  {
   "cell_type": "code",
   "execution_count": 40,
   "metadata": {},
   "outputs": [],
   "source": [
    "#lasso.score(X_test_sc, y_test)"
   ]
  },
  {
   "cell_type": "code",
   "execution_count": 41,
   "metadata": {},
   "outputs": [],
   "source": [
    "# coef_df = pd.DataFrame({\"Predictor Variables\":poly.get_feature_names(features),\"Coef_weight\":lasso.coef_,'absolute':abs(lasso.coef_)})\n",
    "# coef_df.sort_values(by='absolute',ascending = False).head(20)"
   ]
  },
  {
   "cell_type": "code",
   "execution_count": 42,
   "metadata": {},
   "outputs": [],
   "source": [
    "#df_dummy['price*rating*price_3']=df_dummy['price*rating']*df_dummy['price_3']"
   ]
  },
  {
   "cell_type": "code",
   "execution_count": 43,
   "metadata": {},
   "outputs": [],
   "source": [
    "#df_dummy['price*review_count^2']=df_dummy['price*review_count']**2"
   ]
  },
  {
   "cell_type": "code",
   "execution_count": 44,
   "metadata": {},
   "outputs": [],
   "source": [
    "X = df_dummy.drop(columns=['ave_agi','latitude','longitude'])\n",
    "#features = list(X.columns)\n",
    "y = df_dummy['ave_agi']"
   ]
  },
  {
   "cell_type": "code",
   "execution_count": 45,
   "metadata": {
    "scrolled": true
   },
   "outputs": [
    {
     "data": {
      "image/png": "[encoded data removed]",
      "text/plain": [
       "<Figure size 432x288 with 1 Axes>"
      ]
     },
     "metadata": {
      "needs_background": "light"
     },
     "output_type": "display_data"
    }
   ],
   "source": [
    "plt.hist(df[\"ave_agi\"], bins=20);"
   ]
  },
  {
   "cell_type": "code",
   "execution_count": 46,
   "metadata": {},
   "outputs": [],
   "source": [
    "y = np.log(df_dummy[\"ave_agi\"])  #y = np.log(df.copy()[\"ave_agi\"])"
   ]
  },
  {
   "cell_type": "code",
   "execution_count": 47,
   "metadata": {},
   "outputs": [
    {
     "data": {
      "image/png": "[encoded data removed]",
      "text/plain": [
       "<Figure size 432x288 with 1 Axes>"
      ]
     },
     "metadata": {
      "needs_background": "light"
     },
     "output_type": "display_data"
    }
   ],
   "source": [
    "plt.hist(y, bins=20);"
   ]
  },
  {
   "cell_type": "code",
   "execution_count": 48,
   "metadata": {},
   "outputs": [],
   "source": [
    "X_train, X_test, y_train, y_test = train_test_split(\n",
    "    X.copy(), y.copy(), random_state=42, test_size=0.3\n",
    ")"
   ]
  },
  {
   "cell_type": "code",
   "execution_count": 49,
   "metadata": {},
   "outputs": [],
   "source": [
    "# sc = StandardScaler()  did not have significant impact\n",
    "# X_train = sc.fit_transform(X_train)\n",
    "# X_test =sc.transform(X_test)"
   ]
  },
  {
   "cell_type": "markdown",
   "metadata": {},
   "source": [
    "# Trying different models\n",
    " - linear regression\n",
    " - knn regression\n",
    " - decision tree\n",
    " - bagging\n",
    " - random_forest\n",
    " - ada boost\n",
    " - support_vector"
   ]
  },
  {
   "cell_type": "code",
   "execution_count": 50,
   "metadata": {},
   "outputs": [
    {
     "name": "stderr",
     "output_type": "stream",
     "text": [
      "C:\\Users\\m6zha\\Anaconda3\\lib\\site-packages\\sklearn\\ensemble\\forest.py:245: FutureWarning: The default value of n_estimators will change from 10 in version 0.20 to 100 in 0.22.\n",
      "  \"10 in version 0.20 to 100 in 0.22.\", FutureWarning)\n",
      "C:\\Users\\m6zha\\Anaconda3\\lib\\site-packages\\sklearn\\svm\\base.py:193: FutureWarning: The default value of gamma will change from 'auto' to 'scale' in version 0.22 to account better for unscaled features. Set gamma explicitly to 'auto' or 'scale' to avoid this warning.\n",
      "  \"avoid this warning.\", FutureWarning)\n"
     ]
    },
    {
     "data": {
      "text/plain": [
       "SVR(C=1.0, cache_size=200, coef0=0.0, degree=3, epsilon=0.1,\n",
       "    gamma='auto_deprecated', kernel='rbf', max_iter=-1, shrinking=True,\n",
       "    tol=0.001, verbose=False)"
      ]
     },
     "execution_count": 50,
     "metadata": {},
     "output_type": "execute_result"
    }
   ],
   "source": [
    "linear_reg = LinearRegression()\n",
    "linear_reg.fit(X_train, y_train)\n",
    "\n",
    "knn_reg = KNeighborsRegressor()\n",
    "knn_reg.fit(X_train, y_train)\n",
    "\n",
    "cart_reg = DecisionTreeRegressor()\n",
    "cart_reg.fit(X_train, y_train)\n",
    "\n",
    "bagged_reg = BaggingRegressor()\n",
    "bagged_reg.fit(X_train, y_train)\n",
    "\n",
    "random_forest_reg = RandomForestRegressor()\n",
    "random_forest_reg.fit(X_train, y_train)\n",
    "\n",
    "adaboost_reg = AdaBoostRegressor()\n",
    "adaboost_reg.fit(X_train, y_train)\n",
    "\n",
    "support_vector_reg = SVR()\n",
    "support_vector_reg.fit(X_train, y_train)"
   ]
  },
  {
   "cell_type": "markdown",
   "metadata": {},
   "source": [
    "# Evaluate our models"
   ]
  },
  {
   "cell_type": "code",
   "execution_count": 51,
   "metadata": {},
   "outputs": [],
   "source": [
    "def rmse_score(model, X_train, X_test, y_train, y_test):\n",
    "    mse_train = mean_squared_error(y_true = y_train,\n",
    "                                  y_pred = model.predict(X_train))\n",
    "    mse_test = mean_squared_error(y_true = y_test,\n",
    "                                  y_pred = model.predict(X_test))\n",
    "    rmse_train = mse_train ** 0.5\n",
    "    rmse_test = mse_test ** 0.5\n",
    "    \n",
    "    print(\"The training RMSE for \" + str(model) + \" is: \" + str(rmse_train))\n",
    "    print(\"The testing RMSE for \" + str(model) + \" is: \" + str(rmse_test))\n",
    "    return (rmse_train, rmse_test)"
   ]
  },
  {
   "cell_type": "markdown",
   "metadata": {},
   "source": [
    "## Evaluate linear regression"
   ]
  },
  {
   "cell_type": "code",
   "execution_count": 52,
   "metadata": {
    "scrolled": false
   },
   "outputs": [
    {
     "name": "stdout",
     "output_type": "stream",
     "text": [
      "The training RMSE for LinearRegression(copy_X=True, fit_intercept=True, n_jobs=None, normalize=False) is: 0.41406032648009605\n",
      "The testing RMSE for LinearRegression(copy_X=True, fit_intercept=True, n_jobs=None, normalize=False) is: 0.4427913535045525\n"
     ]
    },
    {
     "data": {
      "text/plain": [
       "(0.41406032648009605, 0.4427913535045525)"
      ]
     },
     "execution_count": 52,
     "metadata": {},
     "output_type": "execute_result"
    }
   ],
   "source": [
    "rmse_score(linear_reg, X_train, X_test, y_train, y_test)"
   ]
  },
  {
   "cell_type": "code",
   "execution_count": 53,
   "metadata": {},
   "outputs": [
    {
     "name": "stdout",
     "output_type": "stream",
     "text": [
      "0.5147910293292067\n",
      "0.47839914958496865\n"
     ]
    }
   ],
   "source": [
    "print(linear_reg.score(X_train, y_train))\n",
    "print (linear_reg.score(X_test, y_test))"
   ]
  },
  {
   "cell_type": "markdown",
   "metadata": {},
   "source": [
    "## Evaluate Knn"
   ]
  },
  {
   "cell_type": "code",
   "execution_count": 54,
   "metadata": {},
   "outputs": [
    {
     "name": "stdout",
     "output_type": "stream",
     "text": [
      "The training RMSE for KNeighborsRegressor(algorithm='auto', leaf_size=30, metric='minkowski',\n",
      "                    metric_params=None, n_jobs=None, n_neighbors=5, p=2,\n",
      "                    weights='uniform') is: 0.39318306989645424\n",
      "The testing RMSE for KNeighborsRegressor(algorithm='auto', leaf_size=30, metric='minkowski',\n",
      "                    metric_params=None, n_jobs=None, n_neighbors=5, p=2,\n",
      "                    weights='uniform') is: 0.5096064893881826\n"
     ]
    },
    {
     "data": {
      "text/plain": [
       "(0.39318306989645424, 0.5096064893881826)"
      ]
     },
     "execution_count": 54,
     "metadata": {},
     "output_type": "execute_result"
    }
   ],
   "source": [
    "rmse_score(knn_reg, X_train, X_test, y_train, y_test)"
   ]
  },
  {
   "cell_type": "code",
   "execution_count": 55,
   "metadata": {},
   "outputs": [
    {
     "name": "stdout",
     "output_type": "stream",
     "text": [
      "0.5624867605056363\n",
      "0.30910837720559015\n"
     ]
    }
   ],
   "source": [
    "print(knn_reg.score(X_train, y_train))\n",
    "print (knn_reg.score(X_test, y_test))"
   ]
  },
  {
   "cell_type": "markdown",
   "metadata": {},
   "source": [
    "## Evaluate decision tree"
   ]
  },
  {
   "cell_type": "code",
   "execution_count": 56,
   "metadata": {
    "scrolled": false
   },
   "outputs": [
    {
     "name": "stdout",
     "output_type": "stream",
     "text": [
      "The training RMSE for DecisionTreeRegressor(criterion='mse', max_depth=None, max_features=None,\n",
      "                      max_leaf_nodes=None, min_impurity_decrease=0.0,\n",
      "                      min_impurity_split=None, min_samples_leaf=1,\n",
      "                      min_samples_split=2, min_weight_fraction_leaf=0.0,\n",
      "                      presort=False, random_state=None, splitter='best') is: 8.108321509524573e-06\n",
      "The testing RMSE for DecisionTreeRegressor(criterion='mse', max_depth=None, max_features=None,\n",
      "                      max_leaf_nodes=None, min_impurity_decrease=0.0,\n",
      "                      min_impurity_split=None, min_samples_leaf=1,\n",
      "                      min_samples_split=2, min_weight_fraction_leaf=0.0,\n",
      "                      presort=False, random_state=None, splitter='best') is: 0.5444330748167281\n"
     ]
    },
    {
     "data": {
      "text/plain": [
       "(8.108321509524573e-06, 0.5444330748167281)"
      ]
     },
     "execution_count": 56,
     "metadata": {},
     "output_type": "execute_result"
    }
   ],
   "source": [
    "rmse_score(cart_reg, X_train, X_test, y_train, y_test)"
   ]
  },
  {
   "cell_type": "code",
   "execution_count": 57,
   "metadata": {},
   "outputs": [
    {
     "name": "stdout",
     "output_type": "stream",
     "text": [
      "0.9999999998139355\n",
      "0.21145037485715332\n"
     ]
    }
   ],
   "source": [
    "print(cart_reg.score(X_train, y_train))\n",
    "print (cart_reg.score(X_test, y_test))"
   ]
  },
  {
   "cell_type": "markdown",
   "metadata": {},
   "source": [
    "## Evaluate Bagging model"
   ]
  },
  {
   "cell_type": "code",
   "execution_count": 58,
   "metadata": {
    "scrolled": true
   },
   "outputs": [
    {
     "name": "stdout",
     "output_type": "stream",
     "text": [
      "The training RMSE for BaggingRegressor(base_estimator=None, bootstrap=True, bootstrap_features=False,\n",
      "                 max_features=1.0, max_samples=1.0, n_estimators=10,\n",
      "                 n_jobs=None, oob_score=False, random_state=None, verbose=0,\n",
      "                 warm_start=False) is: 0.17780679577795952\n",
      "The testing RMSE for BaggingRegressor(base_estimator=None, bootstrap=True, bootstrap_features=False,\n",
      "                 max_features=1.0, max_samples=1.0, n_estimators=10,\n",
      "                 n_jobs=None, oob_score=False, random_state=None, verbose=0,\n",
      "                 warm_start=False) is: 0.43827305281902673\n"
     ]
    },
    {
     "data": {
      "text/plain": [
       "(0.17780679577795952, 0.43827305281902673)"
      ]
     },
     "execution_count": 58,
     "metadata": {},
     "output_type": "execute_result"
    }
   ],
   "source": [
    "rmse_score(bagged_reg, X_train, X_test, y_train, y_test)"
   ]
  },
  {
   "cell_type": "code",
   "execution_count": 59,
   "metadata": {},
   "outputs": [
    {
     "name": "stdout",
     "output_type": "stream",
     "text": [
      "0.9105257034670327\n",
      "0.4889898044024327\n"
     ]
    }
   ],
   "source": [
    "print(bagged_reg.score(X_train, y_train))\n",
    "print (bagged_reg.score(X_test, y_test))"
   ]
  },
  {
   "cell_type": "markdown",
   "metadata": {},
   "source": [
    "## Evaluate random forest"
   ]
  },
  {
   "cell_type": "code",
   "execution_count": 60,
   "metadata": {},
   "outputs": [
    {
     "name": "stdout",
     "output_type": "stream",
     "text": [
      "The training RMSE for RandomForestRegressor(bootstrap=True, criterion='mse', max_depth=None,\n",
      "                      max_features='auto', max_leaf_nodes=None,\n",
      "                      min_impurity_decrease=0.0, min_impurity_split=None,\n",
      "                      min_samples_leaf=1, min_samples_split=2,\n",
      "                      min_weight_fraction_leaf=0.0, n_estimators=10,\n",
      "                      n_jobs=None, oob_score=False, random_state=None,\n",
      "                      verbose=0, warm_start=False) is: 0.20272083278022346\n",
      "The testing RMSE for RandomForestRegressor(bootstrap=True, criterion='mse', max_depth=None,\n",
      "                      max_features='auto', max_leaf_nodes=None,\n",
      "                      min_impurity_decrease=0.0, min_impurity_split=None,\n",
      "                      min_samples_leaf=1, min_samples_split=2,\n",
      "                      min_weight_fraction_leaf=0.0, n_estimators=10,\n",
      "                      n_jobs=None, oob_score=False, random_state=None,\n",
      "                      verbose=0, warm_start=False) is: 0.43284511969031675\n"
     ]
    },
    {
     "data": {
      "text/plain": [
       "(0.20272083278022346, 0.43284511969031675)"
      ]
     },
     "execution_count": 60,
     "metadata": {},
     "output_type": "execute_result"
    }
   ],
   "source": [
    "rmse_score(random_forest_reg, X_train, X_test, y_train, y_test)"
   ]
  },
  {
   "cell_type": "code",
   "execution_count": 61,
   "metadata": {},
   "outputs": [
    {
     "name": "stdout",
     "output_type": "stream",
     "text": [
      "0.8836950110322918\n",
      "0.5015689629110164\n"
     ]
    }
   ],
   "source": [
    "print(random_forest_reg.score(X_train, y_train))\n",
    "print (random_forest_reg.score(X_test, y_test))"
   ]
  },
  {
   "cell_type": "markdown",
   "metadata": {},
   "source": [
    "## Evaluate adaboost"
   ]
  },
  {
   "cell_type": "code",
   "execution_count": 62,
   "metadata": {},
   "outputs": [
    {
     "name": "stdout",
     "output_type": "stream",
     "text": [
      "The training RMSE for AdaBoostRegressor(base_estimator=None, learning_rate=1.0, loss='linear',\n",
      "                  n_estimators=50, random_state=None) is: 0.30354282546676403\n",
      "The testing RMSE for AdaBoostRegressor(base_estimator=None, learning_rate=1.0, loss='linear',\n",
      "                  n_estimators=50, random_state=None) is: 0.4189407949700068\n"
     ]
    },
    {
     "data": {
      "text/plain": [
       "(0.30354282546676403, 0.4189407949700068)"
      ]
     },
     "execution_count": 62,
     "metadata": {},
     "output_type": "execute_result"
    }
   ],
   "source": [
    "rmse_score(adaboost_reg, X_train, X_test, y_train, y_test)"
   ]
  },
  {
   "cell_type": "code",
   "execution_count": 63,
   "metadata": {},
   "outputs": [
    {
     "name": "stdout",
     "output_type": "stream",
     "text": [
      "0.7392396676609552\n",
      "0.5330769300069924\n"
     ]
    }
   ],
   "source": [
    "print(adaboost_reg.score(X_train, y_train))\n",
    "print (adaboost_reg.score(X_test, y_test))"
   ]
  },
  {
   "cell_type": "markdown",
   "metadata": {},
   "source": [
    "## Evaluate Support vector regression"
   ]
  },
  {
   "cell_type": "code",
   "execution_count": 64,
   "metadata": {},
   "outputs": [
    {
     "name": "stdout",
     "output_type": "stream",
     "text": [
      "The training RMSE for SVR(C=1.0, cache_size=200, coef0=0.0, degree=3, epsilon=0.1,\n",
      "    gamma='auto_deprecated', kernel='rbf', max_iter=-1, shrinking=True,\n",
      "    tol=0.001, verbose=False) is: 0.16770974888612417\n",
      "The testing RMSE for SVR(C=1.0, cache_size=200, coef0=0.0, degree=3, epsilon=0.1,\n",
      "    gamma='auto_deprecated', kernel='rbf', max_iter=-1, shrinking=True,\n",
      "    tol=0.001, verbose=False) is: 0.6186804524967324\n"
     ]
    },
    {
     "data": {
      "text/plain": [
       "(0.16770974888612417, 0.6186804524967324)"
      ]
     },
     "execution_count": 64,
     "metadata": {},
     "output_type": "execute_result"
    }
   ],
   "source": [
    "rmse_score(support_vector_reg, X_train, X_test, y_train, y_test)"
   ]
  },
  {
   "cell_type": "code",
   "execution_count": 65,
   "metadata": {
    "scrolled": true
   },
   "outputs": [
    {
     "name": "stdout",
     "output_type": "stream",
     "text": [
      "0.9203990595978905\n",
      "-0.018293136061588777\n"
     ]
    }
   ],
   "source": [
    "print(support_vector_reg.score(X_train, y_train))\n",
    "print (support_vector_reg.score(X_test, y_test))"
   ]
  },
  {
   "cell_type": "markdown",
   "metadata": {},
   "source": [
    "## Test Model with pipelines"
   ]
  },
  {
   "cell_type": "markdown",
   "metadata": {},
   "source": [
    "\n"
   ]
  },
  {
   "cell_type": "code",
   "execution_count": 66,
   "metadata": {},
   "outputs": [
    {
     "name": "stdout",
     "output_type": "stream",
     "text": [
      "Fitting 5 folds for each of 24 candidates, totalling 120 fits\n"
     ]
    },
    {
     "name": "stderr",
     "output_type": "stream",
     "text": [
      "[Parallel(n_jobs=1)]: Using backend SequentialBackend with 1 concurrent workers.\n"
     ]
    },
    {
     "name": "stdout",
     "output_type": "stream",
     "text": [
      "0.42632103866065996\n"
     ]
    },
    {
     "name": "stderr",
     "output_type": "stream",
     "text": [
      "[Parallel(n_jobs=1)]: Done 120 out of 120 | elapsed:    0.8s finished\n"
     ]
    },
    {
     "data": {
      "text/plain": [
       "Pipeline(memory=None,\n",
       "         steps=[('linear',\n",
       "                 LinearRegression(copy_X=True, fit_intercept=True, n_jobs=1,\n",
       "                                  normalize=False))],\n",
       "         verbose=False)"
      ]
     },
     "execution_count": 66,
     "metadata": {},
     "output_type": "execute_result"
    }
   ],
   "source": [
    "pipe = Pipeline([\n",
    "    ('linear', LinearRegression())\n",
    "])\n",
    "\n",
    "pipe_params = {\n",
    "                 'linear__fit_intercept': [True,False], \n",
    "                 'linear__normalize': [True, False],\n",
    "                 'linear__copy_X': [True, False],\n",
    "                 'linear__n_jobs': [1,5,10]\n",
    "}\n",
    "\n",
    "pipe_gridsearch = GridSearchCV(pipe, \n",
    "                                 pipe_params, \n",
    "                                 cv=5, \n",
    "                                 verbose=1)\n",
    "pipe_gridsearch.fit(X_train, y_train);\n",
    "print(pipe_gridsearch.best_score_)\n",
    "pipe_gridsearch.best_estimator_"
   ]
  },
  {
   "cell_type": "code",
   "execution_count": 67,
   "metadata": {},
   "outputs": [
    {
     "name": "stderr",
     "output_type": "stream",
     "text": [
      "[Parallel(n_jobs=1)]: Using backend SequentialBackend with 1 concurrent workers.\n"
     ]
    },
    {
     "name": "stdout",
     "output_type": "stream",
     "text": [
      "Fitting 5 folds for each of 10 candidates, totalling 50 fits\n"
     ]
    },
    {
     "name": "stderr",
     "output_type": "stream",
     "text": [
      "[Parallel(n_jobs=1)]: Done  50 out of  50 | elapsed:    0.2s finished\n"
     ]
    },
    {
     "data": {
      "text/plain": [
       "0.3363456986617267"
      ]
     },
     "execution_count": 67,
     "metadata": {},
     "output_type": "execute_result"
    }
   ],
   "source": [
    "knn_params = {\n",
    "    'n_neighbors': range(1, 51, 10),\n",
    "    'metric': ['euclidean', 'manhattan']\n",
    "}\n",
    "knn_gridsearch = GridSearchCV(KNeighborsRegressor(), \n",
    "                              knn_params, \n",
    "                              cv=5, \n",
    "                              verbose=1)\n",
    "knn_gridsearch.fit(X_train, y_train);\n",
    "best_knn = knn_gridsearch.best_estimator_\n",
    "best_knn.score(X_test, y_test)"
   ]
  },
  {
   "cell_type": "code",
   "execution_count": 68,
   "metadata": {},
   "outputs": [
    {
     "name": "stdout",
     "output_type": "stream",
     "text": [
      "Fitting 5 folds for each of 3 candidates, totalling 15 fits\n"
     ]
    },
    {
     "name": "stderr",
     "output_type": "stream",
     "text": [
      "[Parallel(n_jobs=1)]: Using backend SequentialBackend with 1 concurrent workers.\n",
      "[Parallel(n_jobs=1)]: Done  15 out of  15 | elapsed:    0.0s finished\n"
     ]
    },
    {
     "data": {
      "text/plain": [
       "0.06901997368182344"
      ]
     },
     "execution_count": 68,
     "metadata": {},
     "output_type": "execute_result"
    }
   ],
   "source": [
    "cart_params = {\n",
    "    'max_depth': [15,25,50]\n",
    "    \n",
    "}\n",
    "cart_gridsearch = GridSearchCV(DecisionTreeRegressor(), \n",
    "                              cart_params, \n",
    "                              cv=5, \n",
    "                              verbose=1)\n",
    "cart_gridsearch.fit(X_train, y_train);\n",
    "best_cart = cart_gridsearch.best_estimator_\n",
    "best_cart.score(X_test, y_test)"
   ]
  },
  {
   "cell_type": "code",
   "execution_count": 69,
   "metadata": {},
   "outputs": [
    {
     "data": {
      "text/plain": [
       "BaggingRegressor(base_estimator=None, bootstrap=True, bootstrap_features=False,\n",
       "                 max_features=1.0, max_samples=1.0, n_estimators=10,\n",
       "                 n_jobs=None, oob_score=False, random_state=None, verbose=0,\n",
       "                 warm_start=False)"
      ]
     },
     "execution_count": 69,
     "metadata": {},
     "output_type": "execute_result"
    }
   ],
   "source": [
    "BaggingRegressor()"
   ]
  },
  {
   "cell_type": "code",
   "execution_count": 70,
   "metadata": {},
   "outputs": [
    {
     "name": "stderr",
     "output_type": "stream",
     "text": [
      "[Parallel(n_jobs=1)]: Using backend SequentialBackend with 1 concurrent workers.\n"
     ]
    },
    {
     "name": "stdout",
     "output_type": "stream",
     "text": [
      "Fitting 5 folds for each of 3 candidates, totalling 15 fits\n"
     ]
    },
    {
     "name": "stderr",
     "output_type": "stream",
     "text": [
      "[Parallel(n_jobs=1)]: Done  15 out of  15 | elapsed:    8.7s finished\n"
     ]
    },
    {
     "name": "stdout",
     "output_type": "stream",
     "text": [
      "BaggingRegressor(base_estimator=None, bootstrap=True, bootstrap_features=False,\n",
      "                 max_features=1.0, max_samples=1.0, n_estimators=120,\n",
      "                 n_jobs=None, oob_score=False, random_state=None, verbose=0,\n",
      "                 warm_start=False)\n"
     ]
    },
    {
     "data": {
      "text/plain": [
       "0.5413432111396294"
      ]
     },
     "execution_count": 70,
     "metadata": {},
     "output_type": "execute_result"
    }
   ],
   "source": [
    "bag_params = {\n",
    "    'n_estimators': [120,140,160],\n",
    "    \n",
    "    \n",
    "}\n",
    "bag_gridsearch = GridSearchCV(BaggingRegressor(),\n",
    "                              bag_params,\n",
    "                              cv=5, \n",
    "                              verbose=1)\n",
    "bag_gridsearch.fit(X_train, y_train);\n",
    "best_bag = bag_gridsearch.best_estimator_\n",
    "print (best_bag)\n",
    "best_bag.score(X_test, y_test)"
   ]
  },
  {
   "cell_type": "code",
   "execution_count": null,
   "metadata": {},
   "outputs": [],
   "source": []
  },
  {
   "cell_type": "code",
   "execution_count": 71,
   "metadata": {},
   "outputs": [
    {
     "name": "stdout",
     "output_type": "stream",
     "text": [
      "Fitting 5 folds for each of 12 candidates, totalling 60 fits\n"
     ]
    },
    {
     "name": "stderr",
     "output_type": "stream",
     "text": [
      "[Parallel(n_jobs=1)]: Using backend SequentialBackend with 1 concurrent workers.\n",
      "[Parallel(n_jobs=1)]: Done  60 out of  60 | elapsed:   22.4s finished\n"
     ]
    },
    {
     "name": "stdout",
     "output_type": "stream",
     "text": [
      "RandomForestRegressor(bootstrap=True, criterion='mse', max_depth=9,\n",
      "                      max_features='auto', max_leaf_nodes=None,\n",
      "                      min_impurity_decrease=0.0, min_impurity_split=None,\n",
      "                      min_samples_leaf=1, min_samples_split=2,\n",
      "                      min_weight_fraction_leaf=0.0, n_estimators=100,\n",
      "                      n_jobs=None, oob_score=False, random_state=None,\n",
      "                      verbose=0, warm_start=False)\n"
     ]
    },
    {
     "data": {
      "text/plain": [
       "0.5155424036993277"
      ]
     },
     "execution_count": 71,
     "metadata": {},
     "output_type": "execute_result"
    }
   ],
   "source": [
    "rf_params = {\n",
    "    'n_estimators': [100,110,120],\n",
    "    'max_depth':[6,7,8,9]\n",
    "    \n",
    "    \n",
    "}\n",
    "rf_gridsearch = GridSearchCV(RandomForestRegressor(), \n",
    "                              rf_params,\n",
    "                              cv=5, \n",
    "                              verbose=1)\n",
    "rf_gridsearch.fit(X_train, y_train);\n",
    "best_rf = rf_gridsearch.best_estimator_\n",
    "print (best_rf)\n",
    "best_rf.score(X_test, y_test)"
   ]
  },
  {
   "cell_type": "code",
   "execution_count": 72,
   "metadata": {},
   "outputs": [
    {
     "data": {
      "text/plain": [
       "AdaBoostRegressor(base_estimator=None, learning_rate=1.0, loss='linear',\n",
       "                  n_estimators=50, random_state=None)"
      ]
     },
     "execution_count": 72,
     "metadata": {},
     "output_type": "execute_result"
    }
   ],
   "source": [
    "AdaBoostRegressor()"
   ]
  },
  {
   "cell_type": "code",
   "execution_count": 73,
   "metadata": {},
   "outputs": [
    {
     "name": "stdout",
     "output_type": "stream",
     "text": [
      "Fitting 5 folds for each of 3 candidates, totalling 15 fits\n"
     ]
    },
    {
     "name": "stderr",
     "output_type": "stream",
     "text": [
      "[Parallel(n_jobs=1)]: Using backend SequentialBackend with 1 concurrent workers.\n",
      "[Parallel(n_jobs=1)]: Done  15 out of  15 | elapsed:    3.9s finished\n"
     ]
    },
    {
     "name": "stdout",
     "output_type": "stream",
     "text": [
      "AdaBoostRegressor(base_estimator=None, learning_rate=1.0, loss='linear',\n",
      "                  n_estimators=90, random_state=None)\n"
     ]
    },
    {
     "data": {
      "text/plain": [
       "0.5565837490866395"
      ]
     },
     "execution_count": 73,
     "metadata": {},
     "output_type": "execute_result"
    }
   ],
   "source": [
    "ada_params = {\n",
    "    'n_estimators': [75,85,90]\n",
    "}\n",
    "ada_gridsearch = GridSearchCV(AdaBoostRegressor(), \n",
    "                              ada_params, \n",
    "                              cv=5, \n",
    "                              verbose=1)\n",
    "ada_gridsearch.fit(X_train, y_train);\n",
    "best_ada = ada_gridsearch.best_estimator_\n",
    "print (best_ada)\n",
    "best_ada.score(X_test, y_test)"
   ]
  },
  {
   "cell_type": "code",
   "execution_count": null,
   "metadata": {},
   "outputs": [],
   "source": []
  },
  {
   "cell_type": "code",
   "execution_count": 74,
   "metadata": {},
   "outputs": [
    {
     "name": "stdout",
     "output_type": "stream",
     "text": [
      "Fitting 5 folds for each of 2 candidates, totalling 10 fits\n",
      "SVR(C=1.0, cache_size=200, coef0=0.0, degree=2, epsilon=0.1,\n",
      "    gamma='auto_deprecated', kernel='rbf', max_iter=-1, shrinking=True,\n",
      "    tol=0.001, verbose=False)\n"
     ]
    },
    {
     "name": "stderr",
     "output_type": "stream",
     "text": [
      "[Parallel(n_jobs=1)]: Using backend SequentialBackend with 1 concurrent workers.\n",
      "C:\\Users\\m6zha\\Anaconda3\\lib\\site-packages\\sklearn\\svm\\base.py:193: FutureWarning: The default value of gamma will change from 'auto' to 'scale' in version 0.22 to account better for unscaled features. Set gamma explicitly to 'auto' or 'scale' to avoid this warning.\n",
      "  \"avoid this warning.\", FutureWarning)\n",
      "C:\\Users\\m6zha\\Anaconda3\\lib\\site-packages\\sklearn\\svm\\base.py:193: FutureWarning: The default value of gamma will change from 'auto' to 'scale' in version 0.22 to account better for unscaled features. Set gamma explicitly to 'auto' or 'scale' to avoid this warning.\n",
      "  \"avoid this warning.\", FutureWarning)\n",
      "C:\\Users\\m6zha\\Anaconda3\\lib\\site-packages\\sklearn\\svm\\base.py:193: FutureWarning: The default value of gamma will change from 'auto' to 'scale' in version 0.22 to account better for unscaled features. Set gamma explicitly to 'auto' or 'scale' to avoid this warning.\n",
      "  \"avoid this warning.\", FutureWarning)\n",
      "C:\\Users\\m6zha\\Anaconda3\\lib\\site-packages\\sklearn\\svm\\base.py:193: FutureWarning: The default value of gamma will change from 'auto' to 'scale' in version 0.22 to account better for unscaled features. Set gamma explicitly to 'auto' or 'scale' to avoid this warning.\n",
      "  \"avoid this warning.\", FutureWarning)\n",
      "C:\\Users\\m6zha\\Anaconda3\\lib\\site-packages\\sklearn\\svm\\base.py:193: FutureWarning: The default value of gamma will change from 'auto' to 'scale' in version 0.22 to account better for unscaled features. Set gamma explicitly to 'auto' or 'scale' to avoid this warning.\n",
      "  \"avoid this warning.\", FutureWarning)\n",
      "C:\\Users\\m6zha\\Anaconda3\\lib\\site-packages\\sklearn\\svm\\base.py:193: FutureWarning: The default value of gamma will change from 'auto' to 'scale' in version 0.22 to account better for unscaled features. Set gamma explicitly to 'auto' or 'scale' to avoid this warning.\n",
      "  \"avoid this warning.\", FutureWarning)\n",
      "C:\\Users\\m6zha\\Anaconda3\\lib\\site-packages\\sklearn\\svm\\base.py:193: FutureWarning: The default value of gamma will change from 'auto' to 'scale' in version 0.22 to account better for unscaled features. Set gamma explicitly to 'auto' or 'scale' to avoid this warning.\n",
      "  \"avoid this warning.\", FutureWarning)\n",
      "C:\\Users\\m6zha\\Anaconda3\\lib\\site-packages\\sklearn\\svm\\base.py:193: FutureWarning: The default value of gamma will change from 'auto' to 'scale' in version 0.22 to account better for unscaled features. Set gamma explicitly to 'auto' or 'scale' to avoid this warning.\n",
      "  \"avoid this warning.\", FutureWarning)\n",
      "C:\\Users\\m6zha\\Anaconda3\\lib\\site-packages\\sklearn\\svm\\base.py:193: FutureWarning: The default value of gamma will change from 'auto' to 'scale' in version 0.22 to account better for unscaled features. Set gamma explicitly to 'auto' or 'scale' to avoid this warning.\n",
      "  \"avoid this warning.\", FutureWarning)\n",
      "C:\\Users\\m6zha\\Anaconda3\\lib\\site-packages\\sklearn\\svm\\base.py:193: FutureWarning: The default value of gamma will change from 'auto' to 'scale' in version 0.22 to account better for unscaled features. Set gamma explicitly to 'auto' or 'scale' to avoid this warning.\n",
      "  \"avoid this warning.\", FutureWarning)\n",
      "[Parallel(n_jobs=1)]: Done  10 out of  10 | elapsed:    0.0s finished\n",
      "C:\\Users\\m6zha\\Anaconda3\\lib\\site-packages\\sklearn\\svm\\base.py:193: FutureWarning: The default value of gamma will change from 'auto' to 'scale' in version 0.22 to account better for unscaled features. Set gamma explicitly to 'auto' or 'scale' to avoid this warning.\n",
      "  \"avoid this warning.\", FutureWarning)\n"
     ]
    },
    {
     "data": {
      "text/plain": [
       "-0.018293136061588777"
      ]
     },
     "execution_count": 74,
     "metadata": {},
     "output_type": "execute_result"
    }
   ],
   "source": [
    "svr_params = {\n",
    "    'degree': [2,3]\n",
    "}\n",
    "svr_gridsearch = GridSearchCV(SVR(), \n",
    "                              svr_params, \n",
    "                              cv=5, \n",
    "                              verbose=1)\n",
    "svr_gridsearch.fit(X_train, y_train);\n",
    "best_svr = svr_gridsearch.best_estimator_\n",
    "print (best_svr)\n",
    "best_svr.score(X_test, y_test)"
   ]
  },
  {
   "cell_type": "markdown",
   "metadata": {},
   "source": [
    "|model|RMSE Train|RMSE Test|R2 Train|R2 Test|pipeline R2 test|\n",
    "| --- | --- | --- | --- | ---|---|\n",
    "|Linear Regression| 0.414|0.44|0.54|0.56|0.43|\n",
    "|KNN Regression| 0.39|0.51|0.56|0.31|0.33|\n",
    "|Decision Tree Regression| 8.11e05|0.56|0.99|0.16|0.03|\n",
    "|Baggin Regression| 0.19|0.46|0.89|0.45|0.54|\n",
    "|Random Forest Regression| 0.17|0.42|0.92|0.53|0.536|\n",
    "|Adaboost Regression| 0.29|0.42|0.77|0.53|0.543|\n",
    "|support vector Regression| 0.17|0.62|0.92|-0.02|-0.02|"
   ]
  },
  {
   "cell_type": "markdown",
   "metadata": {},
   "source": [
    "# Using KMean Cluster to group Zipcodes"
   ]
  },
  {
   "cell_type": "code",
   "execution_count": 75,
   "metadata": {},
   "outputs": [],
   "source": [
    "def transfer_tune(X, y, k):\n",
    "    location_data = df_dummy[[\"latitude\", \"longitude\"]]\n",
    "    km = KMeans(n_clusters=k,random_state = 42 )\n",
    "    km.fit(location_data)\n",
    "    X.loc[:, \"cluster\"] = km.predict(location_data)\n",
    "    X_dummy = pd.get_dummies(columns=[\"cluster\"], data=X)\n",
    "    X_train, X_test, y_train, y_test = train_test_split(\n",
    "        X_dummy.copy(), y.copy(), random_state=42, test_size=0.3\n",
    "    )\n",
    "    adaboost_reg.fit(X_train, y_train)\n",
    "    r2 =adaboost_reg.score(X_test, y_test)\n",
    "    print(f\"{k} : {r2}\")"
   ]
  },
  {
   "cell_type": "code",
   "execution_count": 76,
   "metadata": {},
   "outputs": [
    {
     "name": "stdout",
     "output_type": "stream",
     "text": [
      "20 : 0.5835060317397737\n",
      "21 : 0.5471030430223478\n",
      "22 : 0.581964849904541\n",
      "23 : 0.5828688723731565\n",
      "24 : 0.5721730905872096\n",
      "25 : 0.5498509069205426\n",
      "26 : 0.5559880481379316\n",
      "27 : 0.5463292152779873\n",
      "28 : 0.6208236783593478\n",
      "29 : 0.5553792624178007\n",
      "30 : 0.5355150830767403\n",
      "31 : 0.5455963200773923\n",
      "32 : 0.5329299896548393\n",
      "33 : 0.5070166661213327\n",
      "34 : 0.5508114000767257\n",
      "35 : 0.5633730016668823\n",
      "36 : 0.5194989933278629\n",
      "37 : 0.5933771629007382\n",
      "38 : 0.49036068196187743\n",
      "39 : 0.6051803639160475\n",
      "40 : 0.5501857877942082\n",
      "41 : 0.5776462569407903\n",
      "42 : 0.5789594355983094\n",
      "43 : 0.53136199695815\n",
      "44 : 0.543899242461797\n",
      "45 : 0.5150263965146414\n",
      "46 : 0.5493354309049456\n",
      "47 : 0.5827454827539178\n",
      "48 : 0.5437524123568125\n",
      "49 : 0.5463120668194232\n"
     ]
    }
   ],
   "source": [
    "for k in range(20, 50, 1):\n",
    "    transfer_tune(X, y, k)"
   ]
  },
  {
   "cell_type": "code",
   "execution_count": 77,
   "metadata": {},
   "outputs": [
    {
     "name": "stdout",
     "output_type": "stream",
     "text": [
      "0.6249724470192086\n"
     ]
    }
   ],
   "source": [
    "location_data = df_dummy[[\"latitude\", \"longitude\"]]\n",
    "km = KMeans(n_clusters=39, random_state = 42)\n",
    "km.fit(location_data)\n",
    "X.loc[:, \"cluster\"] = km.predict(location_data)\n",
    "X_dummy = pd.get_dummies(columns=[\"cluster\"], data=X)\n",
    "X_train, X_test, y_train, y_test = train_test_split(\n",
    "        X_dummy.copy(), y.copy(), random_state=42, test_size=0.3\n",
    ")\n",
    "\n",
    "adaboost_reg.fit(X_train, y_train)\n",
    "r2 = adaboost_reg.score(X_test, y_test)\n",
    "print (r2)"
   ]
  },
  {
   "cell_type": "code",
   "execution_count": 78,
   "metadata": {},
   "outputs": [
    {
     "data": {
      "image/png": "[encoded data removed]",
      "text/plain": [
       "<Figure size 720x720 with 1 Axes>"
      ]
     },
     "metadata": {
      "needs_background": "light"
     },
     "output_type": "display_data"
    }
   ],
   "source": [
    "plt.figure(figsize=(10, 10))\n",
    "plt.scatter(df_dummy.latitude, df_dummy.longitude, c=km.labels_, s=8, cmap=\"tab20\")\n",
    "plt.xlabel(\"latitude\", fontsize = 20)\n",
    "plt.ylabel(\"longitude\", fontsize = 20)\n",
    "plt.title('Model with Clusters', fontsize = 24);"
   ]
  },
  {
   "cell_type": "code",
   "execution_count": 79,
   "metadata": {},
   "outputs": [],
   "source": [
    "X_cluster = pd.concat([X_train,X_test],axis = 0, sort = False)"
   ]
  },
  {
   "cell_type": "code",
   "execution_count": 80,
   "metadata": {},
   "outputs": [],
   "source": [
    "X_cluster.to_csv('../data/X_cluster.csv')"
   ]
  },
  {
   "cell_type": "code",
   "execution_count": 81,
   "metadata": {},
   "outputs": [],
   "source": [
    "y_pred = adaboost_reg.predict(X_test)"
   ]
  },
  {
   "cell_type": "code",
   "execution_count": 82,
   "metadata": {},
   "outputs": [
    {
     "data": {
      "text/plain": [
       "array([3.97186296, 4.01499049, 4.53161682, 4.14599518, 3.88529275,\n",
       "       3.76264027, 3.88529275, 3.88479546, 3.83216966, 3.75943497,\n",
       "       4.23572119, 4.85656826, 4.06978073, 4.23572119, 3.98025267,\n",
       "       5.28073393, 4.18661128, 3.97674343, 3.74926785, 3.95126167,\n",
       "       4.2583482 , 4.16884838, 4.09619278, 3.50507554, 3.79118434,\n",
       "       4.71675609, 4.09262689, 4.35090928, 4.1683494 , 4.09262689,\n",
       "       5.33733534, 3.97856611, 3.97674343, 4.14136539, 4.04455282,\n",
       "       4.19179511, 4.05956733, 3.97186296, 3.97674343, 5.48303764,\n",
       "       3.9919906 , 3.88479546, 3.98878082, 3.6802383 , 4.65220769,\n",
       "       4.56743288, 4.05653157, 4.53161682, 5.52402818, 3.97856611,\n",
       "       3.92790072, 3.74926785, 3.83781463, 4.07588648, 3.55730907,\n",
       "       3.7767588 , 3.62874817, 4.1499051 , 4.09262689, 4.36338867,\n",
       "       3.98878082, 4.19179511, 4.01740432, 4.62014007, 3.88479546,\n",
       "       4.69772623, 3.97186296, 4.45270934, 3.76264027, 3.52999176,\n",
       "       3.98612393, 3.60638693, 4.35090928, 4.1499051 , 3.92816328,\n",
       "       4.0585348 , 3.74476367, 4.46731123, 4.90985724, 4.19204461,\n",
       "       5.39844908, 3.83875952, 3.81551417, 3.97674343, 4.04455282,\n",
       "       3.98612393, 4.09619278, 4.18661128, 4.19179511, 4.69772623,\n",
       "       4.51444022, 3.81551417, 3.92816328, 3.90564784, 3.97856611,\n",
       "       4.29998338, 3.85571504, 4.1683494 , 4.07441805, 4.9502645 ,\n",
       "       3.95121068, 4.06978073, 3.76629209, 3.98878082])"
      ]
     },
     "execution_count": 82,
     "metadata": {},
     "output_type": "execute_result"
    }
   ],
   "source": [
    "y_pred"
   ]
  },
  {
   "cell_type": "code",
   "execution_count": 86,
   "metadata": {},
   "outputs": [],
   "source": [
    "df_dummy['pred']=adaboost_reg.predict(X_cluster)"
   ]
  },
  {
   "cell_type": "code",
   "execution_count": 90,
   "metadata": {},
   "outputs": [
    {
     "data": {
      "text/html": [
       "<div>\n",
       "<style scoped>\n",
       "    .dataframe tbody tr th:only-of-type {\n",
       "        vertical-align: middle;\n",
       "    }\n",
       "\n",
       "    .dataframe tbody tr th {\n",
       "        vertical-align: top;\n",
       "    }\n",
       "\n",
       "    .dataframe thead th {\n",
       "        text-align: right;\n",
       "    }\n",
       "</style>\n",
       "<table border=\"1\" class=\"dataframe\">\n",
       "  <thead>\n",
       "    <tr style=\"text-align: right;\">\n",
       "      <th></th>\n",
       "      <th>zip_code</th>\n",
       "      <th>ave_agi</th>\n",
       "      <th>count</th>\n",
       "      <th>latitude</th>\n",
       "      <th>longitude</th>\n",
       "      <th>review_count</th>\n",
       "      <th>price*review_count</th>\n",
       "      <th>price_1</th>\n",
       "      <th>price_2</th>\n",
       "      <th>price_3</th>\n",
       "      <th>...</th>\n",
       "      <th>rating_1.0</th>\n",
       "      <th>rating_1.5</th>\n",
       "      <th>rating_2.0</th>\n",
       "      <th>rating_2.5</th>\n",
       "      <th>rating_3.0</th>\n",
       "      <th>rating_3.5</th>\n",
       "      <th>rating_4.0</th>\n",
       "      <th>rating_4.5</th>\n",
       "      <th>rating_5</th>\n",
       "      <th>pred</th>\n",
       "    </tr>\n",
       "  </thead>\n",
       "  <tbody>\n",
       "    <tr>\n",
       "      <td>13</td>\n",
       "      <td>90015</td>\n",
       "      <td>58.668145</td>\n",
       "      <td>219</td>\n",
       "      <td>34.040507</td>\n",
       "      <td>-118.262166</td>\n",
       "      <td>221.292237</td>\n",
       "      <td>353.663393</td>\n",
       "      <td>107</td>\n",
       "      <td>96</td>\n",
       "      <td>13</td>\n",
       "      <td>...</td>\n",
       "      <td>3</td>\n",
       "      <td>2</td>\n",
       "      <td>6</td>\n",
       "      <td>10</td>\n",
       "      <td>32</td>\n",
       "      <td>46</td>\n",
       "      <td>59</td>\n",
       "      <td>47</td>\n",
       "      <td>14</td>\n",
       "      <td>3.76264</td>\n",
       "    </tr>\n",
       "  </tbody>\n",
       "</table>\n",
       "<p>1 rows × 22 columns</p>\n",
       "</div>"
      ],
      "text/plain": [
       "   zip_code    ave_agi  count   latitude   longitude  review_count  \\\n",
       "13    90015  58.668145    219  34.040507 -118.262166    221.292237   \n",
       "\n",
       "    price*review_count  price_1  price_2  price_3  ...  rating_1.0  \\\n",
       "13          353.663393      107       96       13  ...           3   \n",
       "\n",
       "    rating_1.5  rating_2.0  rating_2.5  rating_3.0  rating_3.5  rating_4.0  \\\n",
       "13           2           6          10          32          46          59   \n",
       "\n",
       "    rating_4.5  rating_5     pred  \n",
       "13          47        14  3.76264  \n",
       "\n",
       "[1 rows x 22 columns]"
      ]
     },
     "execution_count": 90,
     "metadata": {},
     "output_type": "execute_result"
    }
   ],
   "source": [
    "df_dummy[df_dummy['zip_code']=='90015']"
   ]
  },
  {
   "cell_type": "code",
   "execution_count": 91,
   "metadata": {},
   "outputs": [],
   "source": [
    "residuals = y_test - y_pred"
   ]
  },
  {
   "cell_type": "code",
   "execution_count": 92,
   "metadata": {},
   "outputs": [
    {
     "data": {
      "text/plain": [
       "5     -0.761799\n",
       "179   -0.652460\n",
       "3     -0.572487\n",
       "145   -0.526350\n",
       "148   -0.514022\n",
       "         ...   \n",
       "318    0.845949\n",
       "101    0.855785\n",
       "63     0.944958\n",
       "84     1.007050\n",
       "57     1.361650\n",
       "Name: ave_agi, Length: 104, dtype: float64"
      ]
     },
     "execution_count": 92,
     "metadata": {},
     "output_type": "execute_result"
    }
   ],
   "source": [
    "residuals.sort_values()"
   ]
  },
  {
   "cell_type": "code",
   "execution_count": 93,
   "metadata": {},
   "outputs": [
    {
     "data": {
      "text/plain": [
       "Text(0.5, 1.0, 'Residual Mean')"
      ]
     },
     "execution_count": 93,
     "metadata": {},
     "output_type": "execute_result"
    },
    {
     "data": {
      "image/png": "[encoded data removed]",
      "text/plain": [
       "<Figure size 432x288 with 1 Axes>"
      ]
     },
     "metadata": {
      "needs_background": "light"
     },
     "output_type": "display_data"
    }
   ],
   "source": [
    "plt.scatter(y_pred, residuals)\n",
    "plt.axhline(0, color='r')\n",
    "plt.title('Residual Mean',size = 20)\n",
    "#plt.savefig('./plots/residual.png')"
   ]
  },
  {
   "cell_type": "code",
   "execution_count": 94,
   "metadata": {},
   "outputs": [
    {
     "data": {
      "image/png": "[encoded data removed]",
      "text/plain": [
       "<Figure size 864x648 with 1 Axes>"
      ]
     },
     "metadata": {
      "needs_background": "light"
     },
     "output_type": "display_data"
    }
   ],
   "source": [
    "\n",
    "plt.figure(figsize=(12,9))\n",
    "plt.rc('font', size=22)\n",
    "# Generate a scatterplot of predicted values versus actual values.\n",
    "plt.scatter(y_pred, y_test, s=5, alpha = 0.5)\n",
    "\n",
    "# Plot a line.\n",
    "plt.plot([3, np.max(y_test)],\n",
    "         [3, np.max(y_test)],\n",
    "         color = 'black')\n",
    "\n",
    "# Tweak title and axis labels.\n",
    "plt.xlabel(\"Predicted Values: $\\hat{y}$\", fontsize = 20)\n",
    "plt.ylabel(\"Actual Values: $y$\", fontsize = 20)\n",
    "plt.title('Predicted Values vs. Actual Values', fontsize = 24);"
   ]
  },
  {
   "cell_type": "code",
   "execution_count": 95,
   "metadata": {},
   "outputs": [],
   "source": [
    "pickle.dump(linear_reg, open('../flask_app_complete/model.p', 'wb'))"
   ]
  },
  {
   "cell_type": "code",
   "execution_count": null,
   "metadata": {},
   "outputs": [],
   "source": []
  },
  {
   "cell_type": "code",
   "execution_count": null,
   "metadata": {},
   "outputs": [],
   "source": []
  }
 ],
 "metadata": {
  "kernelspec": {
   "display_name": "Python 3",
   "language": "python",
   "name": "python3"
  },
  "language_info": {
   "codemirror_mode": {
    "name": "ipython",
    "version": 3
   },
   "file_extension": ".py",
   "mimetype": "text/x-python",
   "name": "python",
   "nbconvert_exporter": "python",
   "pygments_lexer": "ipython3",
   "version": "3.7.3"
  }
 },
 "nbformat": 4,
 "nbformat_minor": 2
}
