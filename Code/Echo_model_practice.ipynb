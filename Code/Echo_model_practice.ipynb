{
 "cells": [
  {
   "cell_type": "markdown",
   "metadata": {},
   "source": [
    "### Data Cleaning Notebook: For a dataset with zipcode as rows, we did dummied the ratings and Price.\n",
    "### For the categories I used countvectorizer to assign the matrix to the original data set.\n",
    "### As the Countvecrizer does not perform well, I saved the data with two copies, one with countvecrizer one without"
   ]
  },
  {
   "cell_type": "code",
   "execution_count": 1,
   "metadata": {},
   "outputs": [],
   "source": [
    "import numpy as np\n",
    "import pandas as pd\n",
    "import matplotlib.pyplot as plt\n",
    "from sklearn.feature_extraction.text import CountVectorizer, TfidfVectorizer\n",
    "from sklearn.model_selection import train_test_split\n",
    "from sklearn.preprocessing import StandardScaler\n",
    "from sklearn.linear_model import LinearRegression\n",
    "from sklearn.neighbors import KNeighborsRegressor\n",
    "from sklearn.tree import DecisionTreeRegressor\n",
    "from sklearn.ensemble import BaggingRegressor, RandomForestRegressor, AdaBoostRegressor\n",
    "from sklearn.svm import SVR\n",
    "from sklearn.metrics import mean_squared_error\n",
    "\n",
    "from sklearn.pipeline import Pipeline\n",
    "from sklearn.model_selection import GridSearchCV\n",
    "\n",
    "from sklearn.preprocessing import PolynomialFeatures\n",
    "from sklearn.linear_model import Lasso\n",
    "from sklearn.linear_model import LassoCV\n",
    "\n",
    "from sklearn.preprocessing import FunctionTransformer\n",
    "from sklearn.pipeline import FeatureUnion\n",
    "from sklearn.cluster import KMeans\n",
    "\n",
    "import pickle"
   ]
  },
  {
   "cell_type": "code",
   "execution_count": 2,
   "metadata": {
    "scrolled": true
   },
   "outputs": [
    {
     "data": {
      "text/html": [
       "<div>\n",
       "<style scoped>\n",
       "    .dataframe tbody tr th:only-of-type {\n",
       "        vertical-align: middle;\n",
       "    }\n",
       "\n",
       "    .dataframe tbody tr th {\n",
       "        vertical-align: top;\n",
       "    }\n",
       "\n",
       "    .dataframe thead th {\n",
       "        text-align: right;\n",
       "    }\n",
       "</style>\n",
       "<table border=\"1\" class=\"dataframe\">\n",
       "  <thead>\n",
       "    <tr style=\"text-align: right;\">\n",
       "      <th></th>\n",
       "      <th>Unnamed: 0</th>\n",
       "      <th>alias</th>\n",
       "      <th>category</th>\n",
       "      <th>city</th>\n",
       "      <th>id</th>\n",
       "      <th>latitude</th>\n",
       "      <th>longitude</th>\n",
       "      <th>price</th>\n",
       "      <th>rating</th>\n",
       "      <th>review_count</th>\n",
       "      <th>zip_code</th>\n",
       "      <th>ave_agi</th>\n",
       "      <th>count</th>\n",
       "    </tr>\n",
       "  </thead>\n",
       "  <tbody>\n",
       "    <tr>\n",
       "      <td>0</td>\n",
       "      <td>0</td>\n",
       "      <td>重庆特色小面-chongqing-special-noodles-san-gabriel-3</td>\n",
       "      <td>['noodles', 'chinese']</td>\n",
       "      <td>San Gabriel</td>\n",
       "      <td>mm6l24khOfXhKqn4pKVojA</td>\n",
       "      <td>34.103070</td>\n",
       "      <td>-118.091840</td>\n",
       "      <td>1</td>\n",
       "      <td>4.0</td>\n",
       "      <td>204.0</td>\n",
       "      <td>91776</td>\n",
       "      <td>37.21102</td>\n",
       "      <td>198</td>\n",
       "    </tr>\n",
       "    <tr>\n",
       "      <td>1</td>\n",
       "      <td>1</td>\n",
       "      <td>yung-ho-cafe-san-gabriel-2</td>\n",
       "      <td>['taiwanese', 'chinese', 'breakfast_brunch']</td>\n",
       "      <td>San Gabriel</td>\n",
       "      <td>zO8V4fi49QQMn4Sa_0OS9g</td>\n",
       "      <td>34.081429</td>\n",
       "      <td>-118.084785</td>\n",
       "      <td>1</td>\n",
       "      <td>3.0</td>\n",
       "      <td>263.0</td>\n",
       "      <td>91776</td>\n",
       "      <td>37.21102</td>\n",
       "      <td>198</td>\n",
       "    </tr>\n",
       "    <tr>\n",
       "      <td>2</td>\n",
       "      <td>2</td>\n",
       "      <td>yun-nan-168-san-gabriel</td>\n",
       "      <td>['chinese']</td>\n",
       "      <td>San Gabriel</td>\n",
       "      <td>6J_4QelYHplaLHzof1VEyg</td>\n",
       "      <td>34.080849</td>\n",
       "      <td>-118.090324</td>\n",
       "      <td>1</td>\n",
       "      <td>3.0</td>\n",
       "      <td>4.0</td>\n",
       "      <td>91776</td>\n",
       "      <td>37.21102</td>\n",
       "      <td>198</td>\n",
       "    </tr>\n",
       "    <tr>\n",
       "      <td>3</td>\n",
       "      <td>3</td>\n",
       "      <td>yum-cha-cafe-san-gabriel</td>\n",
       "      <td>['dimsum', 'hotdogs']</td>\n",
       "      <td>San Gabriel</td>\n",
       "      <td>KD_fdBnwN3TbJYJ8mcvq4Q</td>\n",
       "      <td>34.078899</td>\n",
       "      <td>-118.092026</td>\n",
       "      <td>1</td>\n",
       "      <td>3.0</td>\n",
       "      <td>138.0</td>\n",
       "      <td>91776</td>\n",
       "      <td>37.21102</td>\n",
       "      <td>198</td>\n",
       "    </tr>\n",
       "    <tr>\n",
       "      <td>4</td>\n",
       "      <td>4</td>\n",
       "      <td>yuk-dae-jang-san-gabriel-2</td>\n",
       "      <td>['korean']</td>\n",
       "      <td>San Gabriel</td>\n",
       "      <td>DwvljRkxkMEljQBYX-MeTw</td>\n",
       "      <td>34.102080</td>\n",
       "      <td>-118.109870</td>\n",
       "      <td>2</td>\n",
       "      <td>4.5</td>\n",
       "      <td>158.0</td>\n",
       "      <td>91776</td>\n",
       "      <td>37.21102</td>\n",
       "      <td>198</td>\n",
       "    </tr>\n",
       "  </tbody>\n",
       "</table>\n",
       "</div>"
      ],
      "text/plain": [
       "   Unnamed: 0                                           alias  \\\n",
       "0           0  重庆特色小面-chongqing-special-noodles-san-gabriel-3   \n",
       "1           1                      yung-ho-cafe-san-gabriel-2   \n",
       "2           2                         yun-nan-168-san-gabriel   \n",
       "3           3                        yum-cha-cafe-san-gabriel   \n",
       "4           4                      yuk-dae-jang-san-gabriel-2   \n",
       "\n",
       "                                       category         city  \\\n",
       "0                        ['noodles', 'chinese']  San Gabriel   \n",
       "1  ['taiwanese', 'chinese', 'breakfast_brunch']  San Gabriel   \n",
       "2                                   ['chinese']  San Gabriel   \n",
       "3                         ['dimsum', 'hotdogs']  San Gabriel   \n",
       "4                                    ['korean']  San Gabriel   \n",
       "\n",
       "                       id   latitude   longitude  price  rating  review_count  \\\n",
       "0  mm6l24khOfXhKqn4pKVojA  34.103070 -118.091840      1     4.0         204.0   \n",
       "1  zO8V4fi49QQMn4Sa_0OS9g  34.081429 -118.084785      1     3.0         263.0   \n",
       "2  6J_4QelYHplaLHzof1VEyg  34.080849 -118.090324      1     3.0           4.0   \n",
       "3  KD_fdBnwN3TbJYJ8mcvq4Q  34.078899 -118.092026      1     3.0         138.0   \n",
       "4  DwvljRkxkMEljQBYX-MeTw  34.102080 -118.109870      2     4.5         158.0   \n",
       "\n",
       "   zip_code   ave_agi  count  \n",
       "0     91776  37.21102    198  \n",
       "1     91776  37.21102    198  \n",
       "2     91776  37.21102    198  \n",
       "3     91776  37.21102    198  \n",
       "4     91776  37.21102    198  "
      ]
     },
     "execution_count": 2,
     "metadata": {},
     "output_type": "execute_result"
    }
   ],
   "source": [
    "df= pd.read_csv('../data/data_income.csv')\n",
    "df.head()"
   ]
  },
  {
   "cell_type": "code",
   "execution_count": 3,
   "metadata": {},
   "outputs": [
    {
     "data": {
      "text/plain": [
       "(28209, 13)"
      ]
     },
     "execution_count": 3,
     "metadata": {},
     "output_type": "execute_result"
    }
   ],
   "source": [
    "df.shape"
   ]
  },
  {
   "cell_type": "code",
   "execution_count": 4,
   "metadata": {},
   "outputs": [],
   "source": [
    "df.drop(columns = ['id','Unnamed: 0'], inplace = True)"
   ]
  },
  {
   "cell_type": "markdown",
   "metadata": {},
   "source": [
    "## change the data set from restaurant based to zipcode based"
   ]
  },
  {
   "cell_type": "code",
   "execution_count": 5,
   "metadata": {
    "scrolled": false
   },
   "outputs": [
    {
     "data": {
      "text/html": [
       "<div>\n",
       "<style scoped>\n",
       "    .dataframe tbody tr th:only-of-type {\n",
       "        vertical-align: middle;\n",
       "    }\n",
       "\n",
       "    .dataframe tbody tr th {\n",
       "        vertical-align: top;\n",
       "    }\n",
       "\n",
       "    .dataframe thead th {\n",
       "        text-align: right;\n",
       "    }\n",
       "</style>\n",
       "<table border=\"1\" class=\"dataframe\">\n",
       "  <thead>\n",
       "    <tr style=\"text-align: right;\">\n",
       "      <th></th>\n",
       "      <th>ave_agi</th>\n",
       "      <th>count</th>\n",
       "      <th>latitude</th>\n",
       "      <th>longitude</th>\n",
       "      <th>price</th>\n",
       "      <th>rating</th>\n",
       "      <th>review_count</th>\n",
       "    </tr>\n",
       "    <tr>\n",
       "      <th>zip_code</th>\n",
       "      <th></th>\n",
       "      <th></th>\n",
       "      <th></th>\n",
       "      <th></th>\n",
       "      <th></th>\n",
       "      <th></th>\n",
       "      <th></th>\n",
       "    </tr>\n",
       "  </thead>\n",
       "  <tbody>\n",
       "    <tr>\n",
       "      <td>90001</td>\n",
       "      <td>25.152933</td>\n",
       "      <td>93</td>\n",
       "      <td>33.976603</td>\n",
       "      <td>-118.248763</td>\n",
       "      <td>1.279570</td>\n",
       "      <td>3.623656</td>\n",
       "      <td>49.483871</td>\n",
       "    </tr>\n",
       "    <tr>\n",
       "      <td>90002</td>\n",
       "      <td>24.410496</td>\n",
       "      <td>21</td>\n",
       "      <td>33.954426</td>\n",
       "      <td>-118.245431</td>\n",
       "      <td>1.095238</td>\n",
       "      <td>3.380952</td>\n",
       "      <td>27.904762</td>\n",
       "    </tr>\n",
       "    <tr>\n",
       "      <td>90003</td>\n",
       "      <td>23.404622</td>\n",
       "      <td>71</td>\n",
       "      <td>33.972703</td>\n",
       "      <td>-118.271297</td>\n",
       "      <td>1.197183</td>\n",
       "      <td>3.281690</td>\n",
       "      <td>35.929577</td>\n",
       "    </tr>\n",
       "    <tr>\n",
       "      <td>90004</td>\n",
       "      <td>59.128947</td>\n",
       "      <td>155</td>\n",
       "      <td>34.075176</td>\n",
       "      <td>-118.305680</td>\n",
       "      <td>1.529032</td>\n",
       "      <td>3.835484</td>\n",
       "      <td>240.987097</td>\n",
       "    </tr>\n",
       "    <tr>\n",
       "      <td>90005</td>\n",
       "      <td>45.821128</td>\n",
       "      <td>147</td>\n",
       "      <td>34.059249</td>\n",
       "      <td>-118.300776</td>\n",
       "      <td>1.639456</td>\n",
       "      <td>3.717687</td>\n",
       "      <td>358.482993</td>\n",
       "    </tr>\n",
       "  </tbody>\n",
       "</table>\n",
       "</div>"
      ],
      "text/plain": [
       "            ave_agi  count   latitude   longitude     price    rating  \\\n",
       "zip_code                                                                \n",
       "90001     25.152933     93  33.976603 -118.248763  1.279570  3.623656   \n",
       "90002     24.410496     21  33.954426 -118.245431  1.095238  3.380952   \n",
       "90003     23.404622     71  33.972703 -118.271297  1.197183  3.281690   \n",
       "90004     59.128947    155  34.075176 -118.305680  1.529032  3.835484   \n",
       "90005     45.821128    147  34.059249 -118.300776  1.639456  3.717687   \n",
       "\n",
       "          review_count  \n",
       "zip_code                \n",
       "90001        49.483871  \n",
       "90002        27.904762  \n",
       "90003        35.929577  \n",
       "90004       240.987097  \n",
       "90005       358.482993  "
      ]
     },
     "execution_count": 5,
     "metadata": {},
     "output_type": "execute_result"
    }
   ],
   "source": [
    "df_pivot = df.pivot_table(index = ['zip_code'])\n",
    "df_pivot.head()"
   ]
  },
  {
   "cell_type": "markdown",
   "metadata": {},
   "source": [
    "##  Create New column for the combo of Price*review_count"
   ]
  },
  {
   "cell_type": "code",
   "execution_count": 6,
   "metadata": {},
   "outputs": [],
   "source": [
    "df_pivot['price*review_count']=df_pivot['price']*df_pivot['review_count']"
   ]
  },
  {
   "cell_type": "code",
   "execution_count": 7,
   "metadata": {
    "scrolled": true
   },
   "outputs": [
    {
     "data": {
      "text/html": [
       "<div>\n",
       "<style scoped>\n",
       "    .dataframe tbody tr th:only-of-type {\n",
       "        vertical-align: middle;\n",
       "    }\n",
       "\n",
       "    .dataframe tbody tr th {\n",
       "        vertical-align: top;\n",
       "    }\n",
       "\n",
       "    .dataframe thead th {\n",
       "        text-align: right;\n",
       "    }\n",
       "</style>\n",
       "<table border=\"1\" class=\"dataframe\">\n",
       "  <thead>\n",
       "    <tr style=\"text-align: right;\">\n",
       "      <th></th>\n",
       "      <th>ave_agi</th>\n",
       "      <th>count</th>\n",
       "      <th>latitude</th>\n",
       "      <th>longitude</th>\n",
       "      <th>price</th>\n",
       "      <th>rating</th>\n",
       "      <th>review_count</th>\n",
       "      <th>price*review_count</th>\n",
       "    </tr>\n",
       "    <tr>\n",
       "      <th>zip_code</th>\n",
       "      <th></th>\n",
       "      <th></th>\n",
       "      <th></th>\n",
       "      <th></th>\n",
       "      <th></th>\n",
       "      <th></th>\n",
       "      <th></th>\n",
       "      <th></th>\n",
       "    </tr>\n",
       "  </thead>\n",
       "  <tbody>\n",
       "    <tr>\n",
       "      <td>90001</td>\n",
       "      <td>25.152933</td>\n",
       "      <td>93</td>\n",
       "      <td>33.976603</td>\n",
       "      <td>-118.248763</td>\n",
       "      <td>1.279570</td>\n",
       "      <td>3.623656</td>\n",
       "      <td>49.483871</td>\n",
       "      <td>63.318071</td>\n",
       "    </tr>\n",
       "    <tr>\n",
       "      <td>90002</td>\n",
       "      <td>24.410496</td>\n",
       "      <td>21</td>\n",
       "      <td>33.954426</td>\n",
       "      <td>-118.245431</td>\n",
       "      <td>1.095238</td>\n",
       "      <td>3.380952</td>\n",
       "      <td>27.904762</td>\n",
       "      <td>30.562358</td>\n",
       "    </tr>\n",
       "    <tr>\n",
       "      <td>90003</td>\n",
       "      <td>23.404622</td>\n",
       "      <td>71</td>\n",
       "      <td>33.972703</td>\n",
       "      <td>-118.271297</td>\n",
       "      <td>1.197183</td>\n",
       "      <td>3.281690</td>\n",
       "      <td>35.929577</td>\n",
       "      <td>43.014283</td>\n",
       "    </tr>\n",
       "    <tr>\n",
       "      <td>90004</td>\n",
       "      <td>59.128947</td>\n",
       "      <td>155</td>\n",
       "      <td>34.075176</td>\n",
       "      <td>-118.305680</td>\n",
       "      <td>1.529032</td>\n",
       "      <td>3.835484</td>\n",
       "      <td>240.987097</td>\n",
       "      <td>368.477045</td>\n",
       "    </tr>\n",
       "    <tr>\n",
       "      <td>90005</td>\n",
       "      <td>45.821128</td>\n",
       "      <td>147</td>\n",
       "      <td>34.059249</td>\n",
       "      <td>-118.300776</td>\n",
       "      <td>1.639456</td>\n",
       "      <td>3.717687</td>\n",
       "      <td>358.482993</td>\n",
       "      <td>587.717016</td>\n",
       "    </tr>\n",
       "  </tbody>\n",
       "</table>\n",
       "</div>"
      ],
      "text/plain": [
       "            ave_agi  count   latitude   longitude     price    rating  \\\n",
       "zip_code                                                                \n",
       "90001     25.152933     93  33.976603 -118.248763  1.279570  3.623656   \n",
       "90002     24.410496     21  33.954426 -118.245431  1.095238  3.380952   \n",
       "90003     23.404622     71  33.972703 -118.271297  1.197183  3.281690   \n",
       "90004     59.128947    155  34.075176 -118.305680  1.529032  3.835484   \n",
       "90005     45.821128    147  34.059249 -118.300776  1.639456  3.717687   \n",
       "\n",
       "          review_count  price*review_count  \n",
       "zip_code                                    \n",
       "90001        49.483871           63.318071  \n",
       "90002        27.904762           30.562358  \n",
       "90003        35.929577           43.014283  \n",
       "90004       240.987097          368.477045  \n",
       "90005       358.482993          587.717016  "
      ]
     },
     "execution_count": 7,
     "metadata": {},
     "output_type": "execute_result"
    }
   ],
   "source": [
    "df_pivot.head()"
   ]
  },
  {
   "cell_type": "code",
   "execution_count": null,
   "metadata": {},
   "outputs": [],
   "source": []
  },
  {
   "cell_type": "markdown",
   "metadata": {},
   "source": [
    "## Breakdown the price from original Pivot table(average) to count how many we have for each price category"
   ]
  },
  {
   "cell_type": "code",
   "execution_count": 8,
   "metadata": {
    "scrolled": true
   },
   "outputs": [
    {
     "data": {
      "text/html": [
       "<div>\n",
       "<style scoped>\n",
       "    .dataframe tbody tr th:only-of-type {\n",
       "        vertical-align: middle;\n",
       "    }\n",
       "\n",
       "    .dataframe tbody tr th {\n",
       "        vertical-align: top;\n",
       "    }\n",
       "\n",
       "    .dataframe thead th {\n",
       "        text-align: right;\n",
       "    }\n",
       "</style>\n",
       "<table border=\"1\" class=\"dataframe\">\n",
       "  <thead>\n",
       "    <tr style=\"text-align: right;\">\n",
       "      <th></th>\n",
       "      <th>price_1</th>\n",
       "      <th>price_2</th>\n",
       "      <th>price_3</th>\n",
       "      <th>price_4</th>\n",
       "    </tr>\n",
       "    <tr>\n",
       "      <th>zip_code</th>\n",
       "      <th></th>\n",
       "      <th></th>\n",
       "      <th></th>\n",
       "      <th></th>\n",
       "    </tr>\n",
       "  </thead>\n",
       "  <tbody>\n",
       "    <tr>\n",
       "      <td>90001</td>\n",
       "      <td>67</td>\n",
       "      <td>26</td>\n",
       "      <td>0</td>\n",
       "      <td>0</td>\n",
       "    </tr>\n",
       "    <tr>\n",
       "      <td>90002</td>\n",
       "      <td>19</td>\n",
       "      <td>2</td>\n",
       "      <td>0</td>\n",
       "      <td>0</td>\n",
       "    </tr>\n",
       "    <tr>\n",
       "      <td>90003</td>\n",
       "      <td>60</td>\n",
       "      <td>9</td>\n",
       "      <td>1</td>\n",
       "      <td>1</td>\n",
       "    </tr>\n",
       "    <tr>\n",
       "      <td>90004</td>\n",
       "      <td>77</td>\n",
       "      <td>74</td>\n",
       "      <td>4</td>\n",
       "      <td>0</td>\n",
       "    </tr>\n",
       "    <tr>\n",
       "      <td>90005</td>\n",
       "      <td>56</td>\n",
       "      <td>88</td>\n",
       "      <td>3</td>\n",
       "      <td>0</td>\n",
       "    </tr>\n",
       "  </tbody>\n",
       "</table>\n",
       "</div>"
      ],
      "text/plain": [
       "          price_1  price_2  price_3  price_4\n",
       "zip_code                                    \n",
       "90001          67       26        0        0\n",
       "90002          19        2        0        0\n",
       "90003          60        9        1        1\n",
       "90004          77       74        4        0\n",
       "90005          56       88        3        0"
      ]
     },
     "execution_count": 8,
     "metadata": {},
     "output_type": "execute_result"
    }
   ],
   "source": [
    "count_price = (pd.crosstab(df[\"zip_code\"], df['price']))\n",
    "count_price.columns = ['price_1','price_2','price_3','price_4']\n",
    "count_price.head()"
   ]
  },
  {
   "cell_type": "markdown",
   "metadata": {},
   "source": [
    "# Break Down for Rating column"
   ]
  },
  {
   "cell_type": "code",
   "execution_count": 9,
   "metadata": {},
   "outputs": [
    {
     "data": {
      "text/html": [
       "<div>\n",
       "<style scoped>\n",
       "    .dataframe tbody tr th:only-of-type {\n",
       "        vertical-align: middle;\n",
       "    }\n",
       "\n",
       "    .dataframe tbody tr th {\n",
       "        vertical-align: top;\n",
       "    }\n",
       "\n",
       "    .dataframe thead th {\n",
       "        text-align: right;\n",
       "    }\n",
       "</style>\n",
       "<table border=\"1\" class=\"dataframe\">\n",
       "  <thead>\n",
       "    <tr style=\"text-align: right;\">\n",
       "      <th></th>\n",
       "      <th>rating_0.0</th>\n",
       "      <th>rating_1.0</th>\n",
       "      <th>rating_1.5</th>\n",
       "      <th>rating_2.0</th>\n",
       "      <th>rating_2.5</th>\n",
       "      <th>rating_3.0</th>\n",
       "      <th>rating_3.5</th>\n",
       "      <th>rating_4.0</th>\n",
       "      <th>rating_4.5</th>\n",
       "      <th>rating_5</th>\n",
       "    </tr>\n",
       "    <tr>\n",
       "      <th>zip_code</th>\n",
       "      <th></th>\n",
       "      <th></th>\n",
       "      <th></th>\n",
       "      <th></th>\n",
       "      <th></th>\n",
       "      <th></th>\n",
       "      <th></th>\n",
       "      <th></th>\n",
       "      <th></th>\n",
       "      <th></th>\n",
       "    </tr>\n",
       "  </thead>\n",
       "  <tbody>\n",
       "    <tr>\n",
       "      <td>90001</td>\n",
       "      <td>0</td>\n",
       "      <td>0</td>\n",
       "      <td>4</td>\n",
       "      <td>8</td>\n",
       "      <td>9</td>\n",
       "      <td>9</td>\n",
       "      <td>14</td>\n",
       "      <td>20</td>\n",
       "      <td>17</td>\n",
       "      <td>12</td>\n",
       "    </tr>\n",
       "    <tr>\n",
       "      <td>90002</td>\n",
       "      <td>0</td>\n",
       "      <td>0</td>\n",
       "      <td>3</td>\n",
       "      <td>4</td>\n",
       "      <td>1</td>\n",
       "      <td>0</td>\n",
       "      <td>1</td>\n",
       "      <td>6</td>\n",
       "      <td>3</td>\n",
       "      <td>3</td>\n",
       "    </tr>\n",
       "    <tr>\n",
       "      <td>90003</td>\n",
       "      <td>0</td>\n",
       "      <td>2</td>\n",
       "      <td>7</td>\n",
       "      <td>10</td>\n",
       "      <td>7</td>\n",
       "      <td>7</td>\n",
       "      <td>8</td>\n",
       "      <td>11</td>\n",
       "      <td>10</td>\n",
       "      <td>9</td>\n",
       "    </tr>\n",
       "    <tr>\n",
       "      <td>90004</td>\n",
       "      <td>0</td>\n",
       "      <td>0</td>\n",
       "      <td>1</td>\n",
       "      <td>2</td>\n",
       "      <td>12</td>\n",
       "      <td>15</td>\n",
       "      <td>27</td>\n",
       "      <td>57</td>\n",
       "      <td>27</td>\n",
       "      <td>14</td>\n",
       "    </tr>\n",
       "    <tr>\n",
       "      <td>90005</td>\n",
       "      <td>0</td>\n",
       "      <td>1</td>\n",
       "      <td>2</td>\n",
       "      <td>5</td>\n",
       "      <td>5</td>\n",
       "      <td>19</td>\n",
       "      <td>26</td>\n",
       "      <td>58</td>\n",
       "      <td>30</td>\n",
       "      <td>1</td>\n",
       "    </tr>\n",
       "  </tbody>\n",
       "</table>\n",
       "</div>"
      ],
      "text/plain": [
       "          rating_0.0  rating_1.0  rating_1.5  rating_2.0  rating_2.5  \\\n",
       "zip_code                                                               \n",
       "90001              0           0           4           8           9   \n",
       "90002              0           0           3           4           1   \n",
       "90003              0           2           7          10           7   \n",
       "90004              0           0           1           2          12   \n",
       "90005              0           1           2           5           5   \n",
       "\n",
       "          rating_3.0  rating_3.5  rating_4.0  rating_4.5  rating_5  \n",
       "zip_code                                                            \n",
       "90001              9          14          20          17        12  \n",
       "90002              0           1           6           3         3  \n",
       "90003              7           8          11          10         9  \n",
       "90004             15          27          57          27        14  \n",
       "90005             19          26          58          30         1  "
      ]
     },
     "execution_count": 9,
     "metadata": {},
     "output_type": "execute_result"
    }
   ],
   "source": [
    "count_rating = (pd.crosstab(df[\"zip_code\"], df['rating']))\n",
    "count_rating.columns = ['rating_0.0','rating_1.0','rating_1.5','rating_2.0','rating_2.5','rating_3.0','rating_3.5','rating_4.0','rating_4.5','rating_5']\n",
    "count_rating.head()"
   ]
  },
  {
   "cell_type": "markdown",
   "metadata": {},
   "source": [
    "## combine price and rating to zipcode file"
   ]
  },
  {
   "cell_type": "code",
   "execution_count": 10,
   "metadata": {},
   "outputs": [
    {
     "data": {
      "text/html": [
       "<div>\n",
       "<style scoped>\n",
       "    .dataframe tbody tr th:only-of-type {\n",
       "        vertical-align: middle;\n",
       "    }\n",
       "\n",
       "    .dataframe tbody tr th {\n",
       "        vertical-align: top;\n",
       "    }\n",
       "\n",
       "    .dataframe thead th {\n",
       "        text-align: right;\n",
       "    }\n",
       "</style>\n",
       "<table border=\"1\" class=\"dataframe\">\n",
       "  <thead>\n",
       "    <tr style=\"text-align: right;\">\n",
       "      <th></th>\n",
       "      <th>price_1</th>\n",
       "      <th>price_2</th>\n",
       "      <th>price_3</th>\n",
       "      <th>price_4</th>\n",
       "      <th>rating_0.0</th>\n",
       "      <th>rating_1.0</th>\n",
       "      <th>rating_1.5</th>\n",
       "      <th>rating_2.0</th>\n",
       "      <th>rating_2.5</th>\n",
       "      <th>rating_3.0</th>\n",
       "      <th>rating_3.5</th>\n",
       "      <th>rating_4.0</th>\n",
       "      <th>rating_4.5</th>\n",
       "      <th>rating_5</th>\n",
       "    </tr>\n",
       "    <tr>\n",
       "      <th>zip_code</th>\n",
       "      <th></th>\n",
       "      <th></th>\n",
       "      <th></th>\n",
       "      <th></th>\n",
       "      <th></th>\n",
       "      <th></th>\n",
       "      <th></th>\n",
       "      <th></th>\n",
       "      <th></th>\n",
       "      <th></th>\n",
       "      <th></th>\n",
       "      <th></th>\n",
       "      <th></th>\n",
       "      <th></th>\n",
       "    </tr>\n",
       "  </thead>\n",
       "  <tbody>\n",
       "    <tr>\n",
       "      <td>90001</td>\n",
       "      <td>67</td>\n",
       "      <td>26</td>\n",
       "      <td>0</td>\n",
       "      <td>0</td>\n",
       "      <td>0</td>\n",
       "      <td>0</td>\n",
       "      <td>4</td>\n",
       "      <td>8</td>\n",
       "      <td>9</td>\n",
       "      <td>9</td>\n",
       "      <td>14</td>\n",
       "      <td>20</td>\n",
       "      <td>17</td>\n",
       "      <td>12</td>\n",
       "    </tr>\n",
       "    <tr>\n",
       "      <td>90002</td>\n",
       "      <td>19</td>\n",
       "      <td>2</td>\n",
       "      <td>0</td>\n",
       "      <td>0</td>\n",
       "      <td>0</td>\n",
       "      <td>0</td>\n",
       "      <td>3</td>\n",
       "      <td>4</td>\n",
       "      <td>1</td>\n",
       "      <td>0</td>\n",
       "      <td>1</td>\n",
       "      <td>6</td>\n",
       "      <td>3</td>\n",
       "      <td>3</td>\n",
       "    </tr>\n",
       "    <tr>\n",
       "      <td>90003</td>\n",
       "      <td>60</td>\n",
       "      <td>9</td>\n",
       "      <td>1</td>\n",
       "      <td>1</td>\n",
       "      <td>0</td>\n",
       "      <td>2</td>\n",
       "      <td>7</td>\n",
       "      <td>10</td>\n",
       "      <td>7</td>\n",
       "      <td>7</td>\n",
       "      <td>8</td>\n",
       "      <td>11</td>\n",
       "      <td>10</td>\n",
       "      <td>9</td>\n",
       "    </tr>\n",
       "    <tr>\n",
       "      <td>90004</td>\n",
       "      <td>77</td>\n",
       "      <td>74</td>\n",
       "      <td>4</td>\n",
       "      <td>0</td>\n",
       "      <td>0</td>\n",
       "      <td>0</td>\n",
       "      <td>1</td>\n",
       "      <td>2</td>\n",
       "      <td>12</td>\n",
       "      <td>15</td>\n",
       "      <td>27</td>\n",
       "      <td>57</td>\n",
       "      <td>27</td>\n",
       "      <td>14</td>\n",
       "    </tr>\n",
       "    <tr>\n",
       "      <td>90005</td>\n",
       "      <td>56</td>\n",
       "      <td>88</td>\n",
       "      <td>3</td>\n",
       "      <td>0</td>\n",
       "      <td>0</td>\n",
       "      <td>1</td>\n",
       "      <td>2</td>\n",
       "      <td>5</td>\n",
       "      <td>5</td>\n",
       "      <td>19</td>\n",
       "      <td>26</td>\n",
       "      <td>58</td>\n",
       "      <td>30</td>\n",
       "      <td>1</td>\n",
       "    </tr>\n",
       "  </tbody>\n",
       "</table>\n",
       "</div>"
      ],
      "text/plain": [
       "          price_1  price_2  price_3  price_4  rating_0.0  rating_1.0  \\\n",
       "zip_code                                                               \n",
       "90001          67       26        0        0           0           0   \n",
       "90002          19        2        0        0           0           0   \n",
       "90003          60        9        1        1           0           2   \n",
       "90004          77       74        4        0           0           0   \n",
       "90005          56       88        3        0           0           1   \n",
       "\n",
       "          rating_1.5  rating_2.0  rating_2.5  rating_3.0  rating_3.5  \\\n",
       "zip_code                                                               \n",
       "90001              4           8           9           9          14   \n",
       "90002              3           4           1           0           1   \n",
       "90003              7          10           7           7           8   \n",
       "90004              1           2          12          15          27   \n",
       "90005              2           5           5          19          26   \n",
       "\n",
       "          rating_4.0  rating_4.5  rating_5  \n",
       "zip_code                                    \n",
       "90001             20          17        12  \n",
       "90002              6           3         3  \n",
       "90003             11          10         9  \n",
       "90004             57          27        14  \n",
       "90005             58          30         1  "
      ]
     },
     "execution_count": 10,
     "metadata": {},
     "output_type": "execute_result"
    }
   ],
   "source": [
    "df_count = pd.merge(count_price, count_rating, left_on = 'zip_code', right_on = 'zip_code')\n",
    "df_count.head()"
   ]
  },
  {
   "cell_type": "code",
   "execution_count": 11,
   "metadata": {
    "scrolled": true
   },
   "outputs": [
    {
     "data": {
      "text/plain": [
       "(344, 14)"
      ]
     },
     "execution_count": 11,
     "metadata": {},
     "output_type": "execute_result"
    }
   ],
   "source": [
    "df_count.shape"
   ]
  },
  {
   "cell_type": "code",
   "execution_count": 12,
   "metadata": {},
   "outputs": [
    {
     "data": {
      "text/plain": [
       "(344, 8)"
      ]
     },
     "execution_count": 12,
     "metadata": {},
     "output_type": "execute_result"
    }
   ],
   "source": [
    "df_pivot.shape"
   ]
  },
  {
   "cell_type": "markdown",
   "metadata": {},
   "source": [
    "## Below is the combined data for zipcode, price, and rating, without countvecrizer the catogory"
   ]
  },
  {
   "cell_type": "code",
   "execution_count": 13,
   "metadata": {},
   "outputs": [
    {
     "data": {
      "text/html": [
       "<div>\n",
       "<style scoped>\n",
       "    .dataframe tbody tr th:only-of-type {\n",
       "        vertical-align: middle;\n",
       "    }\n",
       "\n",
       "    .dataframe tbody tr th {\n",
       "        vertical-align: top;\n",
       "    }\n",
       "\n",
       "    .dataframe thead th {\n",
       "        text-align: right;\n",
       "    }\n",
       "</style>\n",
       "<table border=\"1\" class=\"dataframe\">\n",
       "  <thead>\n",
       "    <tr style=\"text-align: right;\">\n",
       "      <th></th>\n",
       "      <th>zip_code</th>\n",
       "      <th>ave_agi</th>\n",
       "      <th>count</th>\n",
       "      <th>latitude</th>\n",
       "      <th>longitude</th>\n",
       "      <th>review_count</th>\n",
       "      <th>price*review_count</th>\n",
       "      <th>price_1</th>\n",
       "      <th>price_2</th>\n",
       "      <th>price_3</th>\n",
       "      <th>...</th>\n",
       "      <th>rating_0.0</th>\n",
       "      <th>rating_1.0</th>\n",
       "      <th>rating_1.5</th>\n",
       "      <th>rating_2.0</th>\n",
       "      <th>rating_2.5</th>\n",
       "      <th>rating_3.0</th>\n",
       "      <th>rating_3.5</th>\n",
       "      <th>rating_4.0</th>\n",
       "      <th>rating_4.5</th>\n",
       "      <th>rating_5</th>\n",
       "    </tr>\n",
       "  </thead>\n",
       "  <tbody>\n",
       "    <tr>\n",
       "      <td>0</td>\n",
       "      <td>90001</td>\n",
       "      <td>25.152933</td>\n",
       "      <td>93</td>\n",
       "      <td>33.976603</td>\n",
       "      <td>-118.248763</td>\n",
       "      <td>49.483871</td>\n",
       "      <td>63.318071</td>\n",
       "      <td>67</td>\n",
       "      <td>26</td>\n",
       "      <td>0</td>\n",
       "      <td>...</td>\n",
       "      <td>0</td>\n",
       "      <td>0</td>\n",
       "      <td>4</td>\n",
       "      <td>8</td>\n",
       "      <td>9</td>\n",
       "      <td>9</td>\n",
       "      <td>14</td>\n",
       "      <td>20</td>\n",
       "      <td>17</td>\n",
       "      <td>12</td>\n",
       "    </tr>\n",
       "    <tr>\n",
       "      <td>1</td>\n",
       "      <td>90002</td>\n",
       "      <td>24.410496</td>\n",
       "      <td>21</td>\n",
       "      <td>33.954426</td>\n",
       "      <td>-118.245431</td>\n",
       "      <td>27.904762</td>\n",
       "      <td>30.562358</td>\n",
       "      <td>19</td>\n",
       "      <td>2</td>\n",
       "      <td>0</td>\n",
       "      <td>...</td>\n",
       "      <td>0</td>\n",
       "      <td>0</td>\n",
       "      <td>3</td>\n",
       "      <td>4</td>\n",
       "      <td>1</td>\n",
       "      <td>0</td>\n",
       "      <td>1</td>\n",
       "      <td>6</td>\n",
       "      <td>3</td>\n",
       "      <td>3</td>\n",
       "    </tr>\n",
       "    <tr>\n",
       "      <td>2</td>\n",
       "      <td>90003</td>\n",
       "      <td>23.404622</td>\n",
       "      <td>71</td>\n",
       "      <td>33.972703</td>\n",
       "      <td>-118.271297</td>\n",
       "      <td>35.929577</td>\n",
       "      <td>43.014283</td>\n",
       "      <td>60</td>\n",
       "      <td>9</td>\n",
       "      <td>1</td>\n",
       "      <td>...</td>\n",
       "      <td>0</td>\n",
       "      <td>2</td>\n",
       "      <td>7</td>\n",
       "      <td>10</td>\n",
       "      <td>7</td>\n",
       "      <td>7</td>\n",
       "      <td>8</td>\n",
       "      <td>11</td>\n",
       "      <td>10</td>\n",
       "      <td>9</td>\n",
       "    </tr>\n",
       "    <tr>\n",
       "      <td>3</td>\n",
       "      <td>90004</td>\n",
       "      <td>59.128947</td>\n",
       "      <td>155</td>\n",
       "      <td>34.075176</td>\n",
       "      <td>-118.305680</td>\n",
       "      <td>240.987097</td>\n",
       "      <td>368.477045</td>\n",
       "      <td>77</td>\n",
       "      <td>74</td>\n",
       "      <td>4</td>\n",
       "      <td>...</td>\n",
       "      <td>0</td>\n",
       "      <td>0</td>\n",
       "      <td>1</td>\n",
       "      <td>2</td>\n",
       "      <td>12</td>\n",
       "      <td>15</td>\n",
       "      <td>27</td>\n",
       "      <td>57</td>\n",
       "      <td>27</td>\n",
       "      <td>14</td>\n",
       "    </tr>\n",
       "    <tr>\n",
       "      <td>4</td>\n",
       "      <td>90005</td>\n",
       "      <td>45.821128</td>\n",
       "      <td>147</td>\n",
       "      <td>34.059249</td>\n",
       "      <td>-118.300776</td>\n",
       "      <td>358.482993</td>\n",
       "      <td>587.717016</td>\n",
       "      <td>56</td>\n",
       "      <td>88</td>\n",
       "      <td>3</td>\n",
       "      <td>...</td>\n",
       "      <td>0</td>\n",
       "      <td>1</td>\n",
       "      <td>2</td>\n",
       "      <td>5</td>\n",
       "      <td>5</td>\n",
       "      <td>19</td>\n",
       "      <td>26</td>\n",
       "      <td>58</td>\n",
       "      <td>30</td>\n",
       "      <td>1</td>\n",
       "    </tr>\n",
       "  </tbody>\n",
       "</table>\n",
       "<p>5 rows × 21 columns</p>\n",
       "</div>"
      ],
      "text/plain": [
       "   zip_code    ave_agi  count   latitude   longitude  review_count  \\\n",
       "0     90001  25.152933     93  33.976603 -118.248763     49.483871   \n",
       "1     90002  24.410496     21  33.954426 -118.245431     27.904762   \n",
       "2     90003  23.404622     71  33.972703 -118.271297     35.929577   \n",
       "3     90004  59.128947    155  34.075176 -118.305680    240.987097   \n",
       "4     90005  45.821128    147  34.059249 -118.300776    358.482993   \n",
       "\n",
       "   price*review_count  price_1  price_2  price_3  ...  rating_0.0  rating_1.0  \\\n",
       "0           63.318071       67       26        0  ...           0           0   \n",
       "1           30.562358       19        2        0  ...           0           0   \n",
       "2           43.014283       60        9        1  ...           0           2   \n",
       "3          368.477045       77       74        4  ...           0           0   \n",
       "4          587.717016       56       88        3  ...           0           1   \n",
       "\n",
       "   rating_1.5  rating_2.0  rating_2.5  rating_3.0  rating_3.5  rating_4.0  \\\n",
       "0           4           8           9           9          14          20   \n",
       "1           3           4           1           0           1           6   \n",
       "2           7          10           7           7           8          11   \n",
       "3           1           2          12          15          27          57   \n",
       "4           2           5           5          19          26          58   \n",
       "\n",
       "   rating_4.5  rating_5  \n",
       "0          17        12  \n",
       "1           3         3  \n",
       "2          10         9  \n",
       "3          27        14  \n",
       "4          30         1  \n",
       "\n",
       "[5 rows x 21 columns]"
      ]
     },
     "execution_count": 13,
     "metadata": {},
     "output_type": "execute_result"
    }
   ],
   "source": [
    "df_dummy = pd.merge(df_pivot, df_count, on=\"zip_code\")\n",
    "df_dummy.drop(columns = ['price','rating'] ,inplace = True)\n",
    "df_dummy.reset_index(inplace = True)\n",
    "df_dummy.head()"
   ]
  },
  {
   "cell_type": "code",
   "execution_count": 14,
   "metadata": {},
   "outputs": [],
   "source": [
    "df_dummy['zip_code'] = df_dummy['zip_code'].astype(str)"
   ]
  },
  {
   "cell_type": "code",
   "execution_count": 15,
   "metadata": {},
   "outputs": [
    {
     "data": {
      "text/plain": [
       "zip_code               object\n",
       "ave_agi               float64\n",
       "count                   int64\n",
       "latitude              float64\n",
       "longitude             float64\n",
       "review_count          float64\n",
       "price*review_count    float64\n",
       "price_1                 int64\n",
       "price_2                 int64\n",
       "price_3                 int64\n",
       "price_4                 int64\n",
       "rating_0.0              int64\n",
       "rating_1.0              int64\n",
       "rating_1.5              int64\n",
       "rating_2.0              int64\n",
       "rating_2.5              int64\n",
       "rating_3.0              int64\n",
       "rating_3.5              int64\n",
       "rating_4.0              int64\n",
       "rating_4.5              int64\n",
       "rating_5                int64\n",
       "dtype: object"
      ]
     },
     "execution_count": 15,
     "metadata": {},
     "output_type": "execute_result"
    }
   ],
   "source": [
    "df_dummy.dtypes"
   ]
  },
  {
   "cell_type": "code",
   "execution_count": 16,
   "metadata": {},
   "outputs": [],
   "source": [
    "#df_dummy = df_dummy[df_dummy['count']>=50]"
   ]
  },
  {
   "cell_type": "code",
   "execution_count": null,
   "metadata": {},
   "outputs": [],
   "source": []
  },
  {
   "cell_type": "code",
   "execution_count": 17,
   "metadata": {},
   "outputs": [],
   "source": [
    "#df_dummy.to_csv('../data/data_nocv.csv')"
   ]
  },
  {
   "cell_type": "markdown",
   "metadata": {},
   "source": [
    "# Making the category a matrix via countvectrizor "
   ]
  },
  {
   "cell_type": "code",
   "execution_count": 18,
   "metadata": {
    "scrolled": true
   },
   "outputs": [],
   "source": [
    "cate_dict = df['category'].to_dict()"
   ]
  },
  {
   "cell_type": "code",
   "execution_count": 19,
   "metadata": {},
   "outputs": [],
   "source": [
    "for i in cate_dict:\n",
    "    cate_dict[i] = cate_dict[i].replace('[', '')\n",
    "    cate_dict[i] = cate_dict[i].replace(']', '')\n",
    "    cate_dict[i] = cate_dict[i].replace('\\'', '')\n",
    "    cate_dict[i] = cate_dict[i].split(', ')"
   ]
  },
  {
   "cell_type": "code",
   "execution_count": 20,
   "metadata": {},
   "outputs": [
    {
     "data": {
      "text/html": [
       "<div>\n",
       "<style scoped>\n",
       "    .dataframe tbody tr th:only-of-type {\n",
       "        vertical-align: middle;\n",
       "    }\n",
       "\n",
       "    .dataframe tbody tr th {\n",
       "        vertical-align: top;\n",
       "    }\n",
       "\n",
       "    .dataframe thead th {\n",
       "        text-align: right;\n",
       "    }\n",
       "</style>\n",
       "<table border=\"1\" class=\"dataframe\">\n",
       "  <thead>\n",
       "    <tr style=\"text-align: right;\">\n",
       "      <th></th>\n",
       "      <th>0</th>\n",
       "      <th>1</th>\n",
       "      <th>2</th>\n",
       "      <th>3</th>\n",
       "      <th>4</th>\n",
       "    </tr>\n",
       "  </thead>\n",
       "  <tbody>\n",
       "    <tr>\n",
       "      <td>0</td>\n",
       "      <td>noodles</td>\n",
       "      <td>chinese</td>\n",
       "      <td>None</td>\n",
       "      <td>None</td>\n",
       "      <td>None</td>\n",
       "    </tr>\n",
       "    <tr>\n",
       "      <td>1</td>\n",
       "      <td>taiwanese</td>\n",
       "      <td>chinese</td>\n",
       "      <td>breakfast_brunch</td>\n",
       "      <td>None</td>\n",
       "      <td>None</td>\n",
       "    </tr>\n",
       "    <tr>\n",
       "      <td>2</td>\n",
       "      <td>chinese</td>\n",
       "      <td>None</td>\n",
       "      <td>None</td>\n",
       "      <td>None</td>\n",
       "      <td>None</td>\n",
       "    </tr>\n",
       "    <tr>\n",
       "      <td>3</td>\n",
       "      <td>dimsum</td>\n",
       "      <td>hotdogs</td>\n",
       "      <td>None</td>\n",
       "      <td>None</td>\n",
       "      <td>None</td>\n",
       "    </tr>\n",
       "    <tr>\n",
       "      <td>4</td>\n",
       "      <td>korean</td>\n",
       "      <td>None</td>\n",
       "      <td>None</td>\n",
       "      <td>None</td>\n",
       "      <td>None</td>\n",
       "    </tr>\n",
       "  </tbody>\n",
       "</table>\n",
       "</div>"
      ],
      "text/plain": [
       "           0        1                 2     3     4\n",
       "0    noodles  chinese              None  None  None\n",
       "1  taiwanese  chinese  breakfast_brunch  None  None\n",
       "2    chinese     None              None  None  None\n",
       "3     dimsum  hotdogs              None  None  None\n",
       "4     korean     None              None  None  None"
      ]
     },
     "execution_count": 20,
     "metadata": {},
     "output_type": "execute_result"
    }
   ],
   "source": [
    "df_cate= pd.DataFrame.from_dict(cate_dict, orient = 'index')\n",
    "df_cate.head()"
   ]
  },
  {
   "cell_type": "code",
   "execution_count": 21,
   "metadata": {},
   "outputs": [
    {
     "data": {
      "text/html": [
       "<div>\n",
       "<style scoped>\n",
       "    .dataframe tbody tr th:only-of-type {\n",
       "        vertical-align: middle;\n",
       "    }\n",
       "\n",
       "    .dataframe tbody tr th {\n",
       "        vertical-align: top;\n",
       "    }\n",
       "\n",
       "    .dataframe thead th {\n",
       "        text-align: right;\n",
       "    }\n",
       "</style>\n",
       "<table border=\"1\" class=\"dataframe\">\n",
       "  <thead>\n",
       "    <tr style=\"text-align: right;\">\n",
       "      <th></th>\n",
       "      <th>0</th>\n",
       "      <th>1</th>\n",
       "      <th>2</th>\n",
       "      <th>3</th>\n",
       "      <th>4</th>\n",
       "      <th>zip_code</th>\n",
       "    </tr>\n",
       "  </thead>\n",
       "  <tbody>\n",
       "    <tr>\n",
       "      <td>0</td>\n",
       "      <td>noodles</td>\n",
       "      <td>chinese</td>\n",
       "      <td>None</td>\n",
       "      <td>None</td>\n",
       "      <td>None</td>\n",
       "      <td>91776</td>\n",
       "    </tr>\n",
       "    <tr>\n",
       "      <td>1</td>\n",
       "      <td>taiwanese</td>\n",
       "      <td>chinese</td>\n",
       "      <td>breakfast_brunch</td>\n",
       "      <td>None</td>\n",
       "      <td>None</td>\n",
       "      <td>91776</td>\n",
       "    </tr>\n",
       "    <tr>\n",
       "      <td>2</td>\n",
       "      <td>chinese</td>\n",
       "      <td>None</td>\n",
       "      <td>None</td>\n",
       "      <td>None</td>\n",
       "      <td>None</td>\n",
       "      <td>91776</td>\n",
       "    </tr>\n",
       "    <tr>\n",
       "      <td>3</td>\n",
       "      <td>dimsum</td>\n",
       "      <td>hotdogs</td>\n",
       "      <td>None</td>\n",
       "      <td>None</td>\n",
       "      <td>None</td>\n",
       "      <td>91776</td>\n",
       "    </tr>\n",
       "    <tr>\n",
       "      <td>4</td>\n",
       "      <td>korean</td>\n",
       "      <td>None</td>\n",
       "      <td>None</td>\n",
       "      <td>None</td>\n",
       "      <td>None</td>\n",
       "      <td>91776</td>\n",
       "    </tr>\n",
       "    <tr>\n",
       "      <td>...</td>\n",
       "      <td>...</td>\n",
       "      <td>...</td>\n",
       "      <td>...</td>\n",
       "      <td>...</td>\n",
       "      <td>...</td>\n",
       "      <td>...</td>\n",
       "    </tr>\n",
       "    <tr>\n",
       "      <td>28204</td>\n",
       "      <td>foodtrucks</td>\n",
       "      <td>burgers</td>\n",
       "      <td>sandwiches</td>\n",
       "      <td>None</td>\n",
       "      <td>None</td>\n",
       "      <td>92807</td>\n",
       "    </tr>\n",
       "    <tr>\n",
       "      <td>28205</td>\n",
       "      <td>burgers</td>\n",
       "      <td>hotdogs</td>\n",
       "      <td>None</td>\n",
       "      <td>None</td>\n",
       "      <td>None</td>\n",
       "      <td>93955</td>\n",
       "    </tr>\n",
       "    <tr>\n",
       "      <td>28206</td>\n",
       "      <td>foodstands</td>\n",
       "      <td>None</td>\n",
       "      <td>None</td>\n",
       "      <td>None</td>\n",
       "      <td>None</td>\n",
       "      <td>92056</td>\n",
       "    </tr>\n",
       "    <tr>\n",
       "      <td>28207</td>\n",
       "      <td>cheesesteaks</td>\n",
       "      <td>sandwiches</td>\n",
       "      <td>chicken_wings</td>\n",
       "      <td>None</td>\n",
       "      <td>None</td>\n",
       "      <td>92845</td>\n",
       "    </tr>\n",
       "    <tr>\n",
       "      <td>28208</td>\n",
       "      <td>burgers</td>\n",
       "      <td>None</td>\n",
       "      <td>None</td>\n",
       "      <td>None</td>\n",
       "      <td>None</td>\n",
       "      <td>98188</td>\n",
       "    </tr>\n",
       "  </tbody>\n",
       "</table>\n",
       "<p>28209 rows × 6 columns</p>\n",
       "</div>"
      ],
      "text/plain": [
       "                  0           1                 2     3     4  zip_code\n",
       "0           noodles     chinese              None  None  None     91776\n",
       "1         taiwanese     chinese  breakfast_brunch  None  None     91776\n",
       "2           chinese        None              None  None  None     91776\n",
       "3            dimsum     hotdogs              None  None  None     91776\n",
       "4            korean        None              None  None  None     91776\n",
       "...             ...         ...               ...   ...   ...       ...\n",
       "28204    foodtrucks     burgers        sandwiches  None  None     92807\n",
       "28205       burgers     hotdogs              None  None  None     93955\n",
       "28206    foodstands        None              None  None  None     92056\n",
       "28207  cheesesteaks  sandwiches     chicken_wings  None  None     92845\n",
       "28208       burgers        None              None  None  None     98188\n",
       "\n",
       "[28209 rows x 6 columns]"
      ]
     },
     "execution_count": 21,
     "metadata": {},
     "output_type": "execute_result"
    }
   ],
   "source": [
    "df_cate['zip_code'] = df['zip_code']\n",
    "df_cate"
   ]
  },
  {
   "cell_type": "code",
   "execution_count": 22,
   "metadata": {},
   "outputs": [],
   "source": [
    "categories_df = df_cate.astype(str).groupby('zip_code').agg(lambda x: ' '.join(x.unique())) ##borrowwed from Erin Hwang "
   ]
  },
  {
   "cell_type": "code",
   "execution_count": 23,
   "metadata": {},
   "outputs": [
    {
     "data": {
      "text/html": [
       "<div>\n",
       "<style scoped>\n",
       "    .dataframe tbody tr th:only-of-type {\n",
       "        vertical-align: middle;\n",
       "    }\n",
       "\n",
       "    .dataframe tbody tr th {\n",
       "        vertical-align: top;\n",
       "    }\n",
       "\n",
       "    .dataframe thead th {\n",
       "        text-align: right;\n",
       "    }\n",
       "</style>\n",
       "<table border=\"1\" class=\"dataframe\">\n",
       "  <thead>\n",
       "    <tr style=\"text-align: right;\">\n",
       "      <th></th>\n",
       "      <th>0</th>\n",
       "      <th>1</th>\n",
       "      <th>2</th>\n",
       "      <th>3</th>\n",
       "      <th>4</th>\n",
       "      <th>cate_text_by_zip</th>\n",
       "    </tr>\n",
       "    <tr>\n",
       "      <th>zip_code</th>\n",
       "      <th></th>\n",
       "      <th></th>\n",
       "      <th></th>\n",
       "      <th></th>\n",
       "      <th></th>\n",
       "      <th></th>\n",
       "    </tr>\n",
       "  </thead>\n",
       "  <tbody>\n",
       "    <tr>\n",
       "      <td>90001</td>\n",
       "      <td>foodtrucks chicken_wings donuts hotdogs street...</td>\n",
       "      <td>comfortfood None coffee asianfusion japanese v...</td>\n",
       "      <td>sandwiches None hotdog food catering mexican m...</td>\n",
       "      <td>None</td>\n",
       "      <td>None</td>\n",
       "      <td>foodtrucks chicken_wings donuts hotdogs street...</td>\n",
       "    </tr>\n",
       "    <tr>\n",
       "      <td>90002</td>\n",
       "      <td>coffee hotdogs mexican tacos sandwiches salvad...</td>\n",
       "      <td>breakfast_brunch burgers None foodstands hotdo...</td>\n",
       "      <td>None coffee mexican chicken_wings breakfast_br...</td>\n",
       "      <td>None</td>\n",
       "      <td>None</td>\n",
       "      <td>coffee hotdogs mexican tacos sandwiches salvad...</td>\n",
       "    </tr>\n",
       "    <tr>\n",
       "      <td>90003</td>\n",
       "      <td>sportsbars japanese donuts soulfood burgers ta...</td>\n",
       "      <td>None sandwiches coffee mexican hotdogs foodsta...</td>\n",
       "      <td>None coffee sandwiches meats customcakes chick...</td>\n",
       "      <td>None</td>\n",
       "      <td>None</td>\n",
       "      <td>sportsbars japanese donuts soulfood burgers ta...</td>\n",
       "    </tr>\n",
       "    <tr>\n",
       "      <td>90004</td>\n",
       "      <td>korean japanese desserts bbq streetvendors piz...</td>\n",
       "      <td>chinese None coffee noodles korean seafood mex...</td>\n",
       "      <td>noodles None korean smokehouse raw_food italia...</td>\n",
       "      <td>None</td>\n",
       "      <td>None</td>\n",
       "      <td>korean japanese desserts bbq streetvendors piz...</td>\n",
       "    </tr>\n",
       "    <tr>\n",
       "      <td>90005</td>\n",
       "      <td>korean donuts coffee hotdogs chinese thai chic...</td>\n",
       "      <td>None noodles coffee bubbletea asianfusion chic...</td>\n",
       "      <td>None sandwiches juicebars italian korean sushi...</td>\n",
       "      <td>None</td>\n",
       "      <td>None</td>\n",
       "      <td>korean donuts coffee hotdogs chinese thai chic...</td>\n",
       "    </tr>\n",
       "  </tbody>\n",
       "</table>\n",
       "</div>"
      ],
      "text/plain": [
       "                                                          0  \\\n",
       "zip_code                                                      \n",
       "90001     foodtrucks chicken_wings donuts hotdogs street...   \n",
       "90002     coffee hotdogs mexican tacos sandwiches salvad...   \n",
       "90003     sportsbars japanese donuts soulfood burgers ta...   \n",
       "90004     korean japanese desserts bbq streetvendors piz...   \n",
       "90005     korean donuts coffee hotdogs chinese thai chic...   \n",
       "\n",
       "                                                          1  \\\n",
       "zip_code                                                      \n",
       "90001     comfortfood None coffee asianfusion japanese v...   \n",
       "90002     breakfast_brunch burgers None foodstands hotdo...   \n",
       "90003     None sandwiches coffee mexican hotdogs foodsta...   \n",
       "90004     chinese None coffee noodles korean seafood mex...   \n",
       "90005     None noodles coffee bubbletea asianfusion chic...   \n",
       "\n",
       "                                                          2     3     4  \\\n",
       "zip_code                                                                  \n",
       "90001     sandwiches None hotdog food catering mexican m...  None  None   \n",
       "90002     None coffee mexican chicken_wings breakfast_br...  None  None   \n",
       "90003     None coffee sandwiches meats customcakes chick...  None  None   \n",
       "90004     noodles None korean smokehouse raw_food italia...  None  None   \n",
       "90005     None sandwiches juicebars italian korean sushi...  None  None   \n",
       "\n",
       "                                           cate_text_by_zip  \n",
       "zip_code                                                     \n",
       "90001     foodtrucks chicken_wings donuts hotdogs street...  \n",
       "90002     coffee hotdogs mexican tacos sandwiches salvad...  \n",
       "90003     sportsbars japanese donuts soulfood burgers ta...  \n",
       "90004     korean japanese desserts bbq streetvendors piz...  \n",
       "90005     korean donuts coffee hotdogs chinese thai chic...  "
      ]
     },
     "execution_count": 23,
     "metadata": {},
     "output_type": "execute_result"
    }
   ],
   "source": [
    "categories_df['cate_text_by_zip'] = categories_df[0] + ' ' + categories_df[1] + ' ' + categories_df[2] + ' ' + categories_df[3] + ' ' + categories_df[4]\n",
    "categories_df.head()##borrowwed from Erin Hwang"
   ]
  },
  {
   "cell_type": "code",
   "execution_count": 24,
   "metadata": {},
   "outputs": [],
   "source": [
    "cvec = CountVectorizer()"
   ]
  },
  {
   "cell_type": "code",
   "execution_count": 25,
   "metadata": {},
   "outputs": [],
   "source": [
    "categories_df.reset_index(inplace = True)"
   ]
  },
  {
   "cell_type": "code",
   "execution_count": 26,
   "metadata": {},
   "outputs": [],
   "source": [
    "X = categories_df['cate_text_by_zip']\n",
    "y = categories_df['zip_code']"
   ]
  },
  {
   "cell_type": "code",
   "execution_count": 27,
   "metadata": {},
   "outputs": [
    {
     "data": {
      "text/html": [
       "<div>\n",
       "<style scoped>\n",
       "    .dataframe tbody tr th:only-of-type {\n",
       "        vertical-align: middle;\n",
       "    }\n",
       "\n",
       "    .dataframe tbody tr th {\n",
       "        vertical-align: top;\n",
       "    }\n",
       "\n",
       "    .dataframe thead th {\n",
       "        text-align: right;\n",
       "    }\n",
       "</style>\n",
       "<table border=\"1\" class=\"dataframe\">\n",
       "  <thead>\n",
       "    <tr style=\"text-align: right;\">\n",
       "      <th></th>\n",
       "      <th>acaibowls</th>\n",
       "      <th>accessories</th>\n",
       "      <th>acupuncture</th>\n",
       "      <th>afghani</th>\n",
       "      <th>african</th>\n",
       "      <th>airportlounges</th>\n",
       "      <th>amusementparks</th>\n",
       "      <th>antiques</th>\n",
       "      <th>appliances</th>\n",
       "      <th>arabian</th>\n",
       "      <th>...</th>\n",
       "      <th>whiskeybars</th>\n",
       "      <th>wholesale_stores</th>\n",
       "      <th>wholesalers</th>\n",
       "      <th>wine_bars</th>\n",
       "      <th>wineries</th>\n",
       "      <th>winetasteclasses</th>\n",
       "      <th>winetastingroom</th>\n",
       "      <th>womenscloth</th>\n",
       "      <th>wraps</th>\n",
       "      <th>yoga</th>\n",
       "    </tr>\n",
       "  </thead>\n",
       "  <tbody>\n",
       "    <tr>\n",
       "      <td>0</td>\n",
       "      <td>0</td>\n",
       "      <td>0</td>\n",
       "      <td>0</td>\n",
       "      <td>0</td>\n",
       "      <td>0</td>\n",
       "      <td>0</td>\n",
       "      <td>0</td>\n",
       "      <td>0</td>\n",
       "      <td>0</td>\n",
       "      <td>0</td>\n",
       "      <td>...</td>\n",
       "      <td>0</td>\n",
       "      <td>0</td>\n",
       "      <td>0</td>\n",
       "      <td>0</td>\n",
       "      <td>0</td>\n",
       "      <td>0</td>\n",
       "      <td>0</td>\n",
       "      <td>0</td>\n",
       "      <td>0</td>\n",
       "      <td>0</td>\n",
       "    </tr>\n",
       "    <tr>\n",
       "      <td>1</td>\n",
       "      <td>0</td>\n",
       "      <td>0</td>\n",
       "      <td>0</td>\n",
       "      <td>0</td>\n",
       "      <td>0</td>\n",
       "      <td>0</td>\n",
       "      <td>0</td>\n",
       "      <td>0</td>\n",
       "      <td>0</td>\n",
       "      <td>0</td>\n",
       "      <td>...</td>\n",
       "      <td>0</td>\n",
       "      <td>0</td>\n",
       "      <td>0</td>\n",
       "      <td>0</td>\n",
       "      <td>0</td>\n",
       "      <td>0</td>\n",
       "      <td>0</td>\n",
       "      <td>0</td>\n",
       "      <td>0</td>\n",
       "      <td>0</td>\n",
       "    </tr>\n",
       "    <tr>\n",
       "      <td>2</td>\n",
       "      <td>0</td>\n",
       "      <td>0</td>\n",
       "      <td>0</td>\n",
       "      <td>0</td>\n",
       "      <td>0</td>\n",
       "      <td>0</td>\n",
       "      <td>0</td>\n",
       "      <td>0</td>\n",
       "      <td>0</td>\n",
       "      <td>0</td>\n",
       "      <td>...</td>\n",
       "      <td>0</td>\n",
       "      <td>0</td>\n",
       "      <td>0</td>\n",
       "      <td>0</td>\n",
       "      <td>0</td>\n",
       "      <td>0</td>\n",
       "      <td>0</td>\n",
       "      <td>0</td>\n",
       "      <td>0</td>\n",
       "      <td>0</td>\n",
       "    </tr>\n",
       "    <tr>\n",
       "      <td>3</td>\n",
       "      <td>1</td>\n",
       "      <td>0</td>\n",
       "      <td>0</td>\n",
       "      <td>0</td>\n",
       "      <td>0</td>\n",
       "      <td>0</td>\n",
       "      <td>0</td>\n",
       "      <td>0</td>\n",
       "      <td>0</td>\n",
       "      <td>0</td>\n",
       "      <td>...</td>\n",
       "      <td>0</td>\n",
       "      <td>0</td>\n",
       "      <td>0</td>\n",
       "      <td>0</td>\n",
       "      <td>0</td>\n",
       "      <td>0</td>\n",
       "      <td>0</td>\n",
       "      <td>0</td>\n",
       "      <td>0</td>\n",
       "      <td>0</td>\n",
       "    </tr>\n",
       "    <tr>\n",
       "      <td>4</td>\n",
       "      <td>0</td>\n",
       "      <td>0</td>\n",
       "      <td>0</td>\n",
       "      <td>0</td>\n",
       "      <td>0</td>\n",
       "      <td>0</td>\n",
       "      <td>0</td>\n",
       "      <td>0</td>\n",
       "      <td>0</td>\n",
       "      <td>0</td>\n",
       "      <td>...</td>\n",
       "      <td>0</td>\n",
       "      <td>0</td>\n",
       "      <td>0</td>\n",
       "      <td>0</td>\n",
       "      <td>0</td>\n",
       "      <td>0</td>\n",
       "      <td>0</td>\n",
       "      <td>0</td>\n",
       "      <td>0</td>\n",
       "      <td>0</td>\n",
       "    </tr>\n",
       "  </tbody>\n",
       "</table>\n",
       "<p>5 rows × 355 columns</p>\n",
       "</div>"
      ],
      "text/plain": [
       "   acaibowls  accessories  acupuncture  afghani  african  airportlounges  \\\n",
       "0          0            0            0        0        0               0   \n",
       "1          0            0            0        0        0               0   \n",
       "2          0            0            0        0        0               0   \n",
       "3          1            0            0        0        0               0   \n",
       "4          0            0            0        0        0               0   \n",
       "\n",
       "   amusementparks  antiques  appliances  arabian  ...  whiskeybars  \\\n",
       "0               0         0           0        0  ...            0   \n",
       "1               0         0           0        0  ...            0   \n",
       "2               0         0           0        0  ...            0   \n",
       "3               0         0           0        0  ...            0   \n",
       "4               0         0           0        0  ...            0   \n",
       "\n",
       "   wholesale_stores  wholesalers  wine_bars  wineries  winetasteclasses  \\\n",
       "0                 0            0          0         0                 0   \n",
       "1                 0            0          0         0                 0   \n",
       "2                 0            0          0         0                 0   \n",
       "3                 0            0          0         0                 0   \n",
       "4                 0            0          0         0                 0   \n",
       "\n",
       "   winetastingroom  womenscloth  wraps  yoga  \n",
       "0                0            0      0     0  \n",
       "1                0            0      0     0  \n",
       "2                0            0      0     0  \n",
       "3                0            0      0     0  \n",
       "4                0            0      0     0  \n",
       "\n",
       "[5 rows x 355 columns]"
      ]
     },
     "execution_count": 27,
     "metadata": {},
     "output_type": "execute_result"
    }
   ],
   "source": [
    "df_cate = pd.DataFrame(cvec.fit_transform(X).toarray(),\n",
    "                columns=cvec.get_feature_names() ) #\n",
    "df_cate.head()"
   ]
  },
  {
   "cell_type": "markdown",
   "metadata": {},
   "source": [
    "## save the data with countvecrizer"
   ]
  },
  {
   "cell_type": "code",
   "execution_count": 28,
   "metadata": {
    "scrolled": true
   },
   "outputs": [
    {
     "data": {
      "text/html": [
       "<div>\n",
       "<style scoped>\n",
       "    .dataframe tbody tr th:only-of-type {\n",
       "        vertical-align: middle;\n",
       "    }\n",
       "\n",
       "    .dataframe tbody tr th {\n",
       "        vertical-align: top;\n",
       "    }\n",
       "\n",
       "    .dataframe thead th {\n",
       "        text-align: right;\n",
       "    }\n",
       "</style>\n",
       "<table border=\"1\" class=\"dataframe\">\n",
       "  <thead>\n",
       "    <tr style=\"text-align: right;\">\n",
       "      <th></th>\n",
       "      <th>zip_code</th>\n",
       "      <th>ave_agi</th>\n",
       "      <th>count</th>\n",
       "      <th>latitude</th>\n",
       "      <th>longitude</th>\n",
       "      <th>review_count</th>\n",
       "      <th>price*review_count</th>\n",
       "      <th>price_1</th>\n",
       "      <th>price_2</th>\n",
       "      <th>price_3</th>\n",
       "      <th>...</th>\n",
       "      <th>whiskeybars</th>\n",
       "      <th>wholesale_stores</th>\n",
       "      <th>wholesalers</th>\n",
       "      <th>wine_bars</th>\n",
       "      <th>wineries</th>\n",
       "      <th>winetasteclasses</th>\n",
       "      <th>winetastingroom</th>\n",
       "      <th>womenscloth</th>\n",
       "      <th>wraps</th>\n",
       "      <th>yoga</th>\n",
       "    </tr>\n",
       "  </thead>\n",
       "  <tbody>\n",
       "    <tr>\n",
       "      <td>0</td>\n",
       "      <td>90001</td>\n",
       "      <td>25.152933</td>\n",
       "      <td>93</td>\n",
       "      <td>33.976603</td>\n",
       "      <td>-118.248763</td>\n",
       "      <td>49.483871</td>\n",
       "      <td>63.318071</td>\n",
       "      <td>67</td>\n",
       "      <td>26</td>\n",
       "      <td>0</td>\n",
       "      <td>...</td>\n",
       "      <td>0</td>\n",
       "      <td>0</td>\n",
       "      <td>0</td>\n",
       "      <td>0</td>\n",
       "      <td>0</td>\n",
       "      <td>0</td>\n",
       "      <td>0</td>\n",
       "      <td>0</td>\n",
       "      <td>0</td>\n",
       "      <td>0</td>\n",
       "    </tr>\n",
       "    <tr>\n",
       "      <td>1</td>\n",
       "      <td>90002</td>\n",
       "      <td>24.410496</td>\n",
       "      <td>21</td>\n",
       "      <td>33.954426</td>\n",
       "      <td>-118.245431</td>\n",
       "      <td>27.904762</td>\n",
       "      <td>30.562358</td>\n",
       "      <td>19</td>\n",
       "      <td>2</td>\n",
       "      <td>0</td>\n",
       "      <td>...</td>\n",
       "      <td>0</td>\n",
       "      <td>0</td>\n",
       "      <td>0</td>\n",
       "      <td>0</td>\n",
       "      <td>0</td>\n",
       "      <td>0</td>\n",
       "      <td>0</td>\n",
       "      <td>0</td>\n",
       "      <td>0</td>\n",
       "      <td>0</td>\n",
       "    </tr>\n",
       "    <tr>\n",
       "      <td>2</td>\n",
       "      <td>90003</td>\n",
       "      <td>23.404622</td>\n",
       "      <td>71</td>\n",
       "      <td>33.972703</td>\n",
       "      <td>-118.271297</td>\n",
       "      <td>35.929577</td>\n",
       "      <td>43.014283</td>\n",
       "      <td>60</td>\n",
       "      <td>9</td>\n",
       "      <td>1</td>\n",
       "      <td>...</td>\n",
       "      <td>0</td>\n",
       "      <td>0</td>\n",
       "      <td>0</td>\n",
       "      <td>0</td>\n",
       "      <td>0</td>\n",
       "      <td>0</td>\n",
       "      <td>0</td>\n",
       "      <td>0</td>\n",
       "      <td>0</td>\n",
       "      <td>0</td>\n",
       "    </tr>\n",
       "    <tr>\n",
       "      <td>3</td>\n",
       "      <td>90004</td>\n",
       "      <td>59.128947</td>\n",
       "      <td>155</td>\n",
       "      <td>34.075176</td>\n",
       "      <td>-118.305680</td>\n",
       "      <td>240.987097</td>\n",
       "      <td>368.477045</td>\n",
       "      <td>77</td>\n",
       "      <td>74</td>\n",
       "      <td>4</td>\n",
       "      <td>...</td>\n",
       "      <td>0</td>\n",
       "      <td>0</td>\n",
       "      <td>0</td>\n",
       "      <td>0</td>\n",
       "      <td>0</td>\n",
       "      <td>0</td>\n",
       "      <td>0</td>\n",
       "      <td>0</td>\n",
       "      <td>0</td>\n",
       "      <td>0</td>\n",
       "    </tr>\n",
       "    <tr>\n",
       "      <td>4</td>\n",
       "      <td>90005</td>\n",
       "      <td>45.821128</td>\n",
       "      <td>147</td>\n",
       "      <td>34.059249</td>\n",
       "      <td>-118.300776</td>\n",
       "      <td>358.482993</td>\n",
       "      <td>587.717016</td>\n",
       "      <td>56</td>\n",
       "      <td>88</td>\n",
       "      <td>3</td>\n",
       "      <td>...</td>\n",
       "      <td>0</td>\n",
       "      <td>0</td>\n",
       "      <td>0</td>\n",
       "      <td>0</td>\n",
       "      <td>0</td>\n",
       "      <td>0</td>\n",
       "      <td>0</td>\n",
       "      <td>0</td>\n",
       "      <td>0</td>\n",
       "      <td>0</td>\n",
       "    </tr>\n",
       "  </tbody>\n",
       "</table>\n",
       "<p>5 rows × 376 columns</p>\n",
       "</div>"
      ],
      "text/plain": [
       "  zip_code    ave_agi  count   latitude   longitude  review_count  \\\n",
       "0    90001  25.152933     93  33.976603 -118.248763     49.483871   \n",
       "1    90002  24.410496     21  33.954426 -118.245431     27.904762   \n",
       "2    90003  23.404622     71  33.972703 -118.271297     35.929577   \n",
       "3    90004  59.128947    155  34.075176 -118.305680    240.987097   \n",
       "4    90005  45.821128    147  34.059249 -118.300776    358.482993   \n",
       "\n",
       "   price*review_count  price_1  price_2  price_3  ...  whiskeybars  \\\n",
       "0           63.318071       67       26        0  ...            0   \n",
       "1           30.562358       19        2        0  ...            0   \n",
       "2           43.014283       60        9        1  ...            0   \n",
       "3          368.477045       77       74        4  ...            0   \n",
       "4          587.717016       56       88        3  ...            0   \n",
       "\n",
       "   wholesale_stores  wholesalers  wine_bars  wineries  winetasteclasses  \\\n",
       "0                 0            0          0         0                 0   \n",
       "1                 0            0          0         0                 0   \n",
       "2                 0            0          0         0                 0   \n",
       "3                 0            0          0         0                 0   \n",
       "4                 0            0          0         0                 0   \n",
       "\n",
       "   winetastingroom  womenscloth  wraps  yoga  \n",
       "0                0            0      0     0  \n",
       "1                0            0      0     0  \n",
       "2                0            0      0     0  \n",
       "3                0            0      0     0  \n",
       "4                0            0      0     0  \n",
       "\n",
       "[5 rows x 376 columns]"
      ]
     },
     "execution_count": 28,
     "metadata": {},
     "output_type": "execute_result"
    }
   ],
   "source": [
    "df = pd.concat([df_dummy, df_cate], axis=1, sort=False)\n",
    "df.head()"
   ]
  },
  {
   "cell_type": "code",
   "execution_count": 29,
   "metadata": {},
   "outputs": [],
   "source": [
    "df.to_csv('../data/data_cv.csv')"
   ]
  },
  {
   "cell_type": "code",
   "execution_count": 30,
   "metadata": {},
   "outputs": [],
   "source": [
    "#count_price_rating = (pd.crosstab(df[\"zip_code\"], df['price*rating']))\n",
    "#count_price_rating.head()"
   ]
  },
  {
   "cell_type": "code",
   "execution_count": 31,
   "metadata": {},
   "outputs": [],
   "source": [
    "#numeric_data = df._get_numeric_data().columns"
   ]
  },
  {
   "cell_type": "markdown",
   "metadata": {},
   "source": [
    "## Begin to Model"
   ]
  },
  {
   "cell_type": "markdown",
   "metadata": {},
   "source": [
    "## Tried both data with vecorizer and without, turns out the data without vectorizer performs better, so I will stick with this one"
   ]
  },
  {
   "cell_type": "markdown",
   "metadata": {},
   "source": [
    "## Jerry's way to countvectorizer"
   ]
  },
  {
   "cell_type": "code",
   "execution_count": null,
   "metadata": {},
   "outputs": [],
   "source": []
  },
  {
   "cell_type": "code",
   "execution_count": null,
   "metadata": {},
   "outputs": [],
   "source": []
  },
  {
   "cell_type": "code",
   "execution_count": 32,
   "metadata": {},
   "outputs": [],
   "source": [
    "#df_dummy = pd.read_csv('../data/data_income.csv')"
   ]
  },
  {
   "cell_type": "code",
   "execution_count": 33,
   "metadata": {},
   "outputs": [],
   "source": [
    "# X = df_dummy.drop(columns=['ave_agi','latitude','longitude'])\n",
    "# #features = list(X.columns)\n",
    "# y = df_dummy['ave_agi']"
   ]
  },
  {
   "cell_type": "code",
   "execution_count": 34,
   "metadata": {},
   "outputs": [],
   "source": [
    "\n",
    "# # https://stackoverflow.com/questions/46778392/\n",
    "# # https://stackoverflow.com/questions/34734940/\n",
    "\n",
    "# '''\n",
    "# use function for both X_train and X_test\n",
    "# you can save as a different DF or overwrite\n",
    "\n",
    "# maybe this can go in a markdown cell:\n",
    "\n",
    "#     We first use CountVectorizer() to create dummy columns for\n",
    "#     each category. We multiply these columns the price by the \n",
    "#     dummy categories so that we can get a price inside the\n",
    "#     category column.\n",
    "    \n",
    "#     e.g. if a Korean restaurant has a price of '3', then we \n",
    "#     want that row to have a '3' in the 'korean' column.\n",
    "    \n",
    "#     This allows us to standard scale each category column so\n",
    "#     that we can assess the relative price of each business\n",
    "#     listing given its category. That way, if one area has\n",
    "#     relatively expensive Korean restaurants, and another area\n",
    "#     has relatively inexpensive jewelry stores, those scaled\n",
    "#     factors may have an effect in our ability to model.\n",
    "    \n",
    "# '''\n",
    "\n",
    "# def category_pricer(X, y, state=42):\n",
    "#     '''\n",
    "#     Adds scaled price columns to a Yelp Business DataFrame.\n",
    "    \n",
    "#     Arguments:\n",
    "#         X:              dataframe containing all features\n",
    "#         y:              array containing all targets\n",
    "#         state:          random state of train_test_split()\n",
    "                                    \n",
    "#     Returns:\n",
    "#         X_train, X_test, y_train, y_test\n",
    "#         X_train and X_test contain two new columns:\n",
    "#         'price_sc':     scaled price\n",
    "#         'adj_price':    mean of category-scaled prices\n",
    "\n",
    "#     Goal:   to standard scale the price of a business listing\n",
    "#             given its category.\n",
    "#     '''\n",
    "#     X_train, X_test, y_train, y_test = train_test_split(X, \n",
    "#                                                     y, \n",
    "#                                                     random_state=state)    \n",
    "    \n",
    "#     # instantiate CountVectorizer() and fit 'category'\n",
    "#     cvect = CountVectorizer()\n",
    "\n",
    "#     # fit_transform train data\n",
    "#     c_train = cvect.fit_transform(X_train['category']).toarray()\n",
    "#     for i in range(len(c_train)):\n",
    "#         c_train[i] = c_train[i] * X_train['price'].values[i]\n",
    "#     cat_train = cvect.get_feature_names()\n",
    "#     C_train = pd.DataFrame(c_train, columns=cat_train)\n",
    "#     C_train.replace(0, np.NaN, inplace=True)\n",
    "    \n",
    "#     # only transform test data\n",
    "#     c_test = cvect.transform(X_test['category']).toarray()\n",
    "#     for j in range(len(c_test)):\n",
    "#         c_test[j] = c_test[j] * X_test['price'].values[j]\n",
    "#     cat_test = cvect.get_feature_names()\n",
    "#     C_test = pd.DataFrame(c_test, columns=cat_test)\n",
    "#     C_test.replace(0, np.NaN, inplace=True)\n",
    "    \n",
    "#     # standard scale each category\n",
    "#     sc = StandardScaler()\n",
    "#     S_train = pd.DataFrame(sc.fit_transform(C_train), columns=cat_train)\n",
    "#     S_test = pd.DataFrame(sc.transform(C_test), columns=cat_test)\n",
    "    \n",
    "#     X_train['price_sc'] = sc.fit_transform(X_train[['price']])\n",
    "#     X_test['price_sc'] = sc.transform(X_test[['price']])\n",
    "    \n",
    "#     # right now if a listing belongs to multiple categories,\n",
    "#     # it will take the average of the scaled category scores.\n",
    "#     X_train['adj_price'] = list(S_train.mean(axis=1))\n",
    "#     X_test['adj_price'] = list(S_test.mean(axis=1))\n",
    "    \n",
    "#     return X_train, X_test, y_train, y_test"
   ]
  },
  {
   "cell_type": "code",
   "execution_count": 35,
   "metadata": {},
   "outputs": [],
   "source": [
    "#df_dummy"
   ]
  },
  {
   "cell_type": "code",
   "execution_count": 36,
   "metadata": {},
   "outputs": [],
   "source": [
    "#category_pricer(X,y,state=42)"
   ]
  },
  {
   "cell_type": "code",
   "execution_count": null,
   "metadata": {},
   "outputs": [],
   "source": []
  },
  {
   "cell_type": "code",
   "execution_count": 37,
   "metadata": {},
   "outputs": [],
   "source": [
    "# numeric_data = df_dummy._get_numeric_data().columns\n",
    "# X = df_dummy._get_numeric_data().drop(columns=['ave_agi','latitude','longitude'])\n",
    "# features = list(X.columns)\n",
    "# y = df_dummy['ave_agi']\n",
    "# poly = PolynomialFeatures(degree=2, interaction_only=False, include_bias=False)\n",
    "# X_poly = poly.fit_transform(X)\n",
    "# X_poly_train,X_poly_test,y_train,y_test = train_test_split(X_poly,y, random_state = 42)\n",
    "# ss=StandardScaler()\n",
    "# ss.fit(X_poly_train)\n",
    "# X_train_sc=ss.transform(X_poly_train)\n",
    "# X_test_sc = ss.transform(X_poly_test)\n",
    "# lm = LinearRegression()\n",
    "# lm.fit(X_train_sc, y_train)\n",
    "# l_alpha = np.logspace(-1, 2, 100)\n",
    "# lasso = LassoCV(alphas=l_alpha, cv=5, max_iter=1000)\n",
    "# lasso.fit(X_train_sc, y_train)\n"
   ]
  },
  {
   "cell_type": "code",
   "execution_count": 38,
   "metadata": {},
   "outputs": [],
   "source": [
    "#lm.score(X_test_sc,y_test)"
   ]
  },
  {
   "cell_type": "code",
   "execution_count": 39,
   "metadata": {},
   "outputs": [],
   "source": [
    "#lasso.alpha_"
   ]
  },
  {
   "cell_type": "code",
   "execution_count": 40,
   "metadata": {},
   "outputs": [],
   "source": [
    "#lasso.score(X_test_sc, y_test)"
   ]
  },
  {
   "cell_type": "code",
   "execution_count": 41,
   "metadata": {},
   "outputs": [],
   "source": [
    "# coef_df = pd.DataFrame({\"Predictor Variables\":poly.get_feature_names(features),\"Coef_weight\":lasso.coef_,'absolute':abs(lasso.coef_)})\n",
    "# coef_df.sort_values(by='absolute',ascending = False).head(20)"
   ]
  },
  {
   "cell_type": "code",
   "execution_count": 42,
   "metadata": {},
   "outputs": [],
   "source": [
    "#df_dummy['price*rating*price_3']=df_dummy['price*rating']*df_dummy['price_3']"
   ]
  },
  {
   "cell_type": "code",
   "execution_count": 43,
   "metadata": {},
   "outputs": [],
   "source": [
    "#df_dummy['price*review_count^2']=df_dummy['price*review_count']**2"
   ]
  },
  {
   "cell_type": "code",
   "execution_count": 44,
   "metadata": {},
   "outputs": [],
   "source": [
    "X = df_dummy.drop(columns=['ave_agi','latitude','longitude','zip_code'])\n",
    "#features = list(X.columns)\n",
    "y = df_dummy['ave_agi']"
   ]
  },
  {
   "cell_type": "code",
   "execution_count": 45,
   "metadata": {
    "scrolled": true
   },
   "outputs": [
    {
     "data": {
      "image/png": "[encoded data removed]",
      "text/plain": [
       "<Figure size 432x288 with 1 Axes>"
      ]
     },
     "metadata": {
      "needs_background": "light"
     },
     "output_type": "display_data"
    }
   ],
   "source": [
    "plt.hist(df[\"ave_agi\"], bins=20);"
   ]
  },
  {
   "cell_type": "code",
   "execution_count": 46,
   "metadata": {},
   "outputs": [],
   "source": [
    "y = np.log(df_dummy[\"ave_agi\"])  #y = np.log(df.copy()[\"ave_agi\"])"
   ]
  },
  {
   "cell_type": "code",
   "execution_count": 47,
   "metadata": {},
   "outputs": [
    {
     "data": {
      "image/png": "[encoded data removed]",
      "text/plain": [
       "<Figure size 432x288 with 1 Axes>"
      ]
     },
     "metadata": {
      "needs_background": "light"
     },
     "output_type": "display_data"
    }
   ],
   "source": [
    "plt.hist(y, bins=20);"
   ]
  },
  {
   "cell_type": "code",
   "execution_count": 48,
   "metadata": {},
   "outputs": [],
   "source": [
    "X_train, X_test, y_train, y_test = train_test_split(\n",
    "    X.copy(), y.copy(), random_state=42, test_size=0.3\n",
    ")"
   ]
  },
  {
   "cell_type": "code",
   "execution_count": 49,
   "metadata": {},
   "outputs": [],
   "source": [
    "# sc = StandardScaler()  did not have significant impact\n",
    "# X_train = sc.fit_transform(X_train)\n",
    "# X_test =sc.transform(X_test)"
   ]
  },
  {
   "cell_type": "markdown",
   "metadata": {},
   "source": [
    "# Trying different models\n",
    " - linear regression\n",
    " - knn regression\n",
    " - decision tree\n",
    " - bagging\n",
    " - random_forest\n",
    " - ada boost\n",
    " - support_vector"
   ]
  },
  {
   "cell_type": "code",
   "execution_count": 50,
   "metadata": {},
   "outputs": [
    {
     "name": "stderr",
     "output_type": "stream",
     "text": [
      "/Users/Jelly/anaconda3/lib/python3.7/site-packages/sklearn/ensemble/forest.py:245: FutureWarning: The default value of n_estimators will change from 10 in version 0.20 to 100 in 0.22.\n",
      "  \"10 in version 0.20 to 100 in 0.22.\", FutureWarning)\n",
      "/Users/Jelly/anaconda3/lib/python3.7/site-packages/sklearn/svm/base.py:193: FutureWarning: The default value of gamma will change from 'auto' to 'scale' in version 0.22 to account better for unscaled features. Set gamma explicitly to 'auto' or 'scale' to avoid this warning.\n",
      "  \"avoid this warning.\", FutureWarning)\n"
     ]
    },
    {
     "data": {
      "text/plain": [
       "SVR(C=1.0, cache_size=200, coef0=0.0, degree=3, epsilon=0.1,\n",
       "    gamma='auto_deprecated', kernel='rbf', max_iter=-1, shrinking=True,\n",
       "    tol=0.001, verbose=False)"
      ]
     },
     "execution_count": 50,
     "metadata": {},
     "output_type": "execute_result"
    }
   ],
   "source": [
    "linear_reg = LinearRegression()\n",
    "linear_reg.fit(X_train, y_train)\n",
    "\n",
    "knn_reg = KNeighborsRegressor()\n",
    "knn_reg.fit(X_train, y_train)\n",
    "\n",
    "cart_reg = DecisionTreeRegressor()\n",
    "cart_reg.fit(X_train, y_train)\n",
    "\n",
    "bagged_reg = BaggingRegressor()\n",
    "bagged_reg.fit(X_train, y_train)\n",
    "\n",
    "random_forest_reg = RandomForestRegressor()\n",
    "random_forest_reg.fit(X_train, y_train)\n",
    "\n",
    "adaboost_reg = AdaBoostRegressor()\n",
    "adaboost_reg.fit(X_train, y_train)\n",
    "\n",
    "support_vector_reg = SVR()\n",
    "support_vector_reg.fit(X_train, y_train)"
   ]
  },
  {
   "cell_type": "markdown",
   "metadata": {},
   "source": [
    "# Evaluate our models"
   ]
  },
  {
   "cell_type": "code",
   "execution_count": 51,
   "metadata": {},
   "outputs": [
    {
     "data": {
      "text/html": [
       "<div>\n",
       "<style scoped>\n",
       "    .dataframe tbody tr th:only-of-type {\n",
       "        vertical-align: middle;\n",
       "    }\n",
       "\n",
       "    .dataframe tbody tr th {\n",
       "        vertical-align: top;\n",
       "    }\n",
       "\n",
       "    .dataframe thead th {\n",
       "        text-align: right;\n",
       "    }\n",
       "</style>\n",
       "<table border=\"1\" class=\"dataframe\">\n",
       "  <thead>\n",
       "    <tr style=\"text-align: right;\">\n",
       "      <th></th>\n",
       "      <th>count</th>\n",
       "      <th>review_count</th>\n",
       "      <th>price*review_count</th>\n",
       "      <th>price_1</th>\n",
       "      <th>price_2</th>\n",
       "      <th>price_3</th>\n",
       "      <th>price_4</th>\n",
       "      <th>rating_0.0</th>\n",
       "      <th>rating_1.0</th>\n",
       "      <th>rating_1.5</th>\n",
       "      <th>rating_2.0</th>\n",
       "      <th>rating_2.5</th>\n",
       "      <th>rating_3.0</th>\n",
       "      <th>rating_3.5</th>\n",
       "      <th>rating_4.0</th>\n",
       "      <th>rating_4.5</th>\n",
       "      <th>rating_5</th>\n",
       "    </tr>\n",
       "  </thead>\n",
       "  <tbody>\n",
       "    <tr>\n",
       "      <td>31</td>\n",
       "      <td>129</td>\n",
       "      <td>323.201550</td>\n",
       "      <td>450.978908</td>\n",
       "      <td>83</td>\n",
       "      <td>43</td>\n",
       "      <td>1</td>\n",
       "      <td>2</td>\n",
       "      <td>0</td>\n",
       "      <td>0</td>\n",
       "      <td>1</td>\n",
       "      <td>5</td>\n",
       "      <td>8</td>\n",
       "      <td>13</td>\n",
       "      <td>35</td>\n",
       "      <td>35</td>\n",
       "      <td>27</td>\n",
       "      <td>5</td>\n",
       "    </tr>\n",
       "    <tr>\n",
       "      <td>245</td>\n",
       "      <td>72</td>\n",
       "      <td>237.375000</td>\n",
       "      <td>349.468750</td>\n",
       "      <td>39</td>\n",
       "      <td>32</td>\n",
       "      <td>1</td>\n",
       "      <td>0</td>\n",
       "      <td>0</td>\n",
       "      <td>0</td>\n",
       "      <td>0</td>\n",
       "      <td>2</td>\n",
       "      <td>7</td>\n",
       "      <td>4</td>\n",
       "      <td>17</td>\n",
       "      <td>24</td>\n",
       "      <td>14</td>\n",
       "      <td>4</td>\n",
       "    </tr>\n",
       "    <tr>\n",
       "      <td>277</td>\n",
       "      <td>169</td>\n",
       "      <td>419.538462</td>\n",
       "      <td>583.381884</td>\n",
       "      <td>104</td>\n",
       "      <td>64</td>\n",
       "      <td>1</td>\n",
       "      <td>0</td>\n",
       "      <td>0</td>\n",
       "      <td>1</td>\n",
       "      <td>0</td>\n",
       "      <td>6</td>\n",
       "      <td>13</td>\n",
       "      <td>18</td>\n",
       "      <td>51</td>\n",
       "      <td>65</td>\n",
       "      <td>14</td>\n",
       "      <td>1</td>\n",
       "    </tr>\n",
       "    <tr>\n",
       "      <td>165</td>\n",
       "      <td>69</td>\n",
       "      <td>298.478261</td>\n",
       "      <td>449.880277</td>\n",
       "      <td>35</td>\n",
       "      <td>33</td>\n",
       "      <td>1</td>\n",
       "      <td>0</td>\n",
       "      <td>0</td>\n",
       "      <td>0</td>\n",
       "      <td>2</td>\n",
       "      <td>0</td>\n",
       "      <td>3</td>\n",
       "      <td>11</td>\n",
       "      <td>19</td>\n",
       "      <td>24</td>\n",
       "      <td>9</td>\n",
       "      <td>1</td>\n",
       "    </tr>\n",
       "    <tr>\n",
       "      <td>250</td>\n",
       "      <td>99</td>\n",
       "      <td>206.484848</td>\n",
       "      <td>291.998776</td>\n",
       "      <td>58</td>\n",
       "      <td>41</td>\n",
       "      <td>0</td>\n",
       "      <td>0</td>\n",
       "      <td>0</td>\n",
       "      <td>0</td>\n",
       "      <td>2</td>\n",
       "      <td>8</td>\n",
       "      <td>6</td>\n",
       "      <td>9</td>\n",
       "      <td>20</td>\n",
       "      <td>31</td>\n",
       "      <td>23</td>\n",
       "      <td>0</td>\n",
       "    </tr>\n",
       "    <tr>\n",
       "      <td>...</td>\n",
       "      <td>...</td>\n",
       "      <td>...</td>\n",
       "      <td>...</td>\n",
       "      <td>...</td>\n",
       "      <td>...</td>\n",
       "      <td>...</td>\n",
       "      <td>...</td>\n",
       "      <td>...</td>\n",
       "      <td>...</td>\n",
       "      <td>...</td>\n",
       "      <td>...</td>\n",
       "      <td>...</td>\n",
       "      <td>...</td>\n",
       "      <td>...</td>\n",
       "      <td>...</td>\n",
       "      <td>...</td>\n",
       "      <td>...</td>\n",
       "    </tr>\n",
       "    <tr>\n",
       "      <td>188</td>\n",
       "      <td>64</td>\n",
       "      <td>141.671875</td>\n",
       "      <td>188.157959</td>\n",
       "      <td>44</td>\n",
       "      <td>19</td>\n",
       "      <td>1</td>\n",
       "      <td>0</td>\n",
       "      <td>0</td>\n",
       "      <td>0</td>\n",
       "      <td>0</td>\n",
       "      <td>7</td>\n",
       "      <td>5</td>\n",
       "      <td>6</td>\n",
       "      <td>9</td>\n",
       "      <td>18</td>\n",
       "      <td>14</td>\n",
       "      <td>5</td>\n",
       "    </tr>\n",
       "    <tr>\n",
       "      <td>71</td>\n",
       "      <td>78</td>\n",
       "      <td>213.358974</td>\n",
       "      <td>292.684747</td>\n",
       "      <td>49</td>\n",
       "      <td>29</td>\n",
       "      <td>0</td>\n",
       "      <td>0</td>\n",
       "      <td>0</td>\n",
       "      <td>0</td>\n",
       "      <td>1</td>\n",
       "      <td>6</td>\n",
       "      <td>8</td>\n",
       "      <td>12</td>\n",
       "      <td>23</td>\n",
       "      <td>16</td>\n",
       "      <td>11</td>\n",
       "      <td>1</td>\n",
       "    </tr>\n",
       "    <tr>\n",
       "      <td>106</td>\n",
       "      <td>147</td>\n",
       "      <td>253.462585</td>\n",
       "      <td>372.434819</td>\n",
       "      <td>86</td>\n",
       "      <td>53</td>\n",
       "      <td>8</td>\n",
       "      <td>0</td>\n",
       "      <td>0</td>\n",
       "      <td>0</td>\n",
       "      <td>2</td>\n",
       "      <td>6</td>\n",
       "      <td>3</td>\n",
       "      <td>20</td>\n",
       "      <td>31</td>\n",
       "      <td>58</td>\n",
       "      <td>22</td>\n",
       "      <td>5</td>\n",
       "    </tr>\n",
       "    <tr>\n",
       "      <td>270</td>\n",
       "      <td>81</td>\n",
       "      <td>257.086420</td>\n",
       "      <td>361.825332</td>\n",
       "      <td>50</td>\n",
       "      <td>29</td>\n",
       "      <td>2</td>\n",
       "      <td>0</td>\n",
       "      <td>0</td>\n",
       "      <td>0</td>\n",
       "      <td>0</td>\n",
       "      <td>5</td>\n",
       "      <td>6</td>\n",
       "      <td>10</td>\n",
       "      <td>34</td>\n",
       "      <td>18</td>\n",
       "      <td>6</td>\n",
       "      <td>2</td>\n",
       "    </tr>\n",
       "    <tr>\n",
       "      <td>102</td>\n",
       "      <td>19</td>\n",
       "      <td>292.842105</td>\n",
       "      <td>631.922438</td>\n",
       "      <td>3</td>\n",
       "      <td>11</td>\n",
       "      <td>4</td>\n",
       "      <td>1</td>\n",
       "      <td>0</td>\n",
       "      <td>0</td>\n",
       "      <td>0</td>\n",
       "      <td>0</td>\n",
       "      <td>1</td>\n",
       "      <td>1</td>\n",
       "      <td>11</td>\n",
       "      <td>4</td>\n",
       "      <td>2</td>\n",
       "      <td>0</td>\n",
       "    </tr>\n",
       "  </tbody>\n",
       "</table>\n",
       "<p>240 rows × 17 columns</p>\n",
       "</div>"
      ],
      "text/plain": [
       "     count  review_count  price*review_count  price_1  price_2  price_3  \\\n",
       "31     129    323.201550          450.978908       83       43        1   \n",
       "245     72    237.375000          349.468750       39       32        1   \n",
       "277    169    419.538462          583.381884      104       64        1   \n",
       "165     69    298.478261          449.880277       35       33        1   \n",
       "250     99    206.484848          291.998776       58       41        0   \n",
       "..     ...           ...                 ...      ...      ...      ...   \n",
       "188     64    141.671875          188.157959       44       19        1   \n",
       "71      78    213.358974          292.684747       49       29        0   \n",
       "106    147    253.462585          372.434819       86       53        8   \n",
       "270     81    257.086420          361.825332       50       29        2   \n",
       "102     19    292.842105          631.922438        3       11        4   \n",
       "\n",
       "     price_4  rating_0.0  rating_1.0  rating_1.5  rating_2.0  rating_2.5  \\\n",
       "31         2           0           0           1           5           8   \n",
       "245        0           0           0           0           2           7   \n",
       "277        0           0           1           0           6          13   \n",
       "165        0           0           0           2           0           3   \n",
       "250        0           0           0           2           8           6   \n",
       "..       ...         ...         ...         ...         ...         ...   \n",
       "188        0           0           0           0           7           5   \n",
       "71         0           0           0           1           6           8   \n",
       "106        0           0           0           2           6           3   \n",
       "270        0           0           0           0           5           6   \n",
       "102        1           0           0           0           0           1   \n",
       "\n",
       "     rating_3.0  rating_3.5  rating_4.0  rating_4.5  rating_5  \n",
       "31           13          35          35          27         5  \n",
       "245           4          17          24          14         4  \n",
       "277          18          51          65          14         1  \n",
       "165          11          19          24           9         1  \n",
       "250           9          20          31          23         0  \n",
       "..          ...         ...         ...         ...       ...  \n",
       "188           6           9          18          14         5  \n",
       "71           12          23          16          11         1  \n",
       "106          20          31          58          22         5  \n",
       "270          10          34          18           6         2  \n",
       "102           1          11           4           2         0  \n",
       "\n",
       "[240 rows x 17 columns]"
      ]
     },
     "execution_count": 51,
     "metadata": {},
     "output_type": "execute_result"
    }
   ],
   "source": [
    "X_train"
   ]
  },
  {
   "cell_type": "code",
   "execution_count": 52,
   "metadata": {},
   "outputs": [],
   "source": [
    "def rmse_score(model, X_train, X_test, y_train, y_test):\n",
    "    mse_train = mean_squared_error(y_true = y_train,\n",
    "                                  y_pred = model.predict(X_train))\n",
    "    mse_test = mean_squared_error(y_true = y_test,\n",
    "                                  y_pred = model.predict(X_test))\n",
    "    rmse_train = mse_train ** 0.5\n",
    "    rmse_test = mse_test ** 0.5\n",
    "    \n",
    "    print(\"The training RMSE for \" + str(model) + \" is: \" + str(rmse_train))\n",
    "    print(\"The testing RMSE for \" + str(model) + \" is: \" + str(rmse_test))\n",
    "    return (rmse_train, rmse_test)"
   ]
  },
  {
   "cell_type": "markdown",
   "metadata": {},
   "source": [
    "## Evaluate linear regression"
   ]
  },
  {
   "cell_type": "code",
   "execution_count": 53,
   "metadata": {
    "scrolled": false
   },
   "outputs": [
    {
     "name": "stdout",
     "output_type": "stream",
     "text": [
      "The training RMSE for LinearRegression(copy_X=True, fit_intercept=True, n_jobs=None, normalize=False) is: 0.4188864354669736\n",
      "The testing RMSE for LinearRegression(copy_X=True, fit_intercept=True, n_jobs=None, normalize=False) is: 0.45843429319409684\n"
     ]
    },
    {
     "data": {
      "text/plain": [
       "(0.4188864354669736, 0.45843429319409684)"
      ]
     },
     "execution_count": 53,
     "metadata": {},
     "output_type": "execute_result"
    }
   ],
   "source": [
    "rmse_score(linear_reg, X_train, X_test, y_train, y_test)"
   ]
  },
  {
   "cell_type": "code",
   "execution_count": 54,
   "metadata": {},
   "outputs": [
    {
     "name": "stdout",
     "output_type": "stream",
     "text": [
      "0.503414338638636\n",
      "0.44089391031310526\n"
     ]
    }
   ],
   "source": [
    "print(linear_reg.score(X_train, y_train))\n",
    "print (linear_reg.score(X_test, y_test))"
   ]
  },
  {
   "cell_type": "code",
   "execution_count": 55,
   "metadata": {},
   "outputs": [
    {
     "data": {
      "text/plain": [
       "array([-1.48252029e-03, -2.33879145e-03,  2.09456388e-03, -1.12498765e-02,\n",
       "       -2.45499092e-03, -5.48069838e-03,  1.77030455e-02,  1.56125113e-17,\n",
       "        1.30985424e-02, -6.21131982e-02, -1.22264321e-02,  1.92178452e-02,\n",
       "        2.42980843e-02,  1.16570708e-02,  1.33408797e-03,  4.91484945e-03,\n",
       "       -1.66337007e-03])"
      ]
     },
     "execution_count": 55,
     "metadata": {},
     "output_type": "execute_result"
    }
   ],
   "source": [
    "linear_reg.coef_"
   ]
  },
  {
   "cell_type": "markdown",
   "metadata": {},
   "source": [
    "## Evaluate Knn"
   ]
  },
  {
   "cell_type": "code",
   "execution_count": 56,
   "metadata": {},
   "outputs": [
    {
     "name": "stdout",
     "output_type": "stream",
     "text": [
      "The training RMSE for KNeighborsRegressor(algorithm='auto', leaf_size=30, metric='minkowski',\n",
      "                    metric_params=None, n_jobs=None, n_neighbors=5, p=2,\n",
      "                    weights='uniform') is: 0.3751693957601213\n",
      "The testing RMSE for KNeighborsRegressor(algorithm='auto', leaf_size=30, metric='minkowski',\n",
      "                    metric_params=None, n_jobs=None, n_neighbors=5, p=2,\n",
      "                    weights='uniform') is: 0.4864711252338396\n"
     ]
    },
    {
     "data": {
      "text/plain": [
       "(0.3751693957601213, 0.4864711252338396)"
      ]
     },
     "execution_count": 56,
     "metadata": {},
     "output_type": "execute_result"
    }
   ],
   "source": [
    "rmse_score(knn_reg, X_train, X_test, y_train, y_test)"
   ]
  },
  {
   "cell_type": "code",
   "execution_count": 57,
   "metadata": {},
   "outputs": [
    {
     "name": "stdout",
     "output_type": "stream",
     "text": [
      "0.6016577346909096\n",
      "0.37041530413070256\n"
     ]
    }
   ],
   "source": [
    "print(knn_reg.score(X_train, y_train))\n",
    "print (knn_reg.score(X_test, y_test))"
   ]
  },
  {
   "cell_type": "markdown",
   "metadata": {},
   "source": [
    "## Evaluate decision tree"
   ]
  },
  {
   "cell_type": "code",
   "execution_count": 58,
   "metadata": {
    "scrolled": false
   },
   "outputs": [
    {
     "name": "stdout",
     "output_type": "stream",
     "text": [
      "The training RMSE for DecisionTreeRegressor(criterion='mse', max_depth=None, max_features=None,\n",
      "                      max_leaf_nodes=None, min_impurity_decrease=0.0,\n",
      "                      min_impurity_split=None, min_samples_leaf=1,\n",
      "                      min_samples_split=2, min_weight_fraction_leaf=0.0,\n",
      "                      presort=False, random_state=None, splitter='best') is: 2.6862296009259277e-05\n",
      "The testing RMSE for DecisionTreeRegressor(criterion='mse', max_depth=None, max_features=None,\n",
      "                      max_leaf_nodes=None, min_impurity_decrease=0.0,\n",
      "                      min_impurity_split=None, min_samples_leaf=1,\n",
      "                      min_samples_split=2, min_weight_fraction_leaf=0.0,\n",
      "                      presort=False, random_state=None, splitter='best') is: 0.5688272450667586\n"
     ]
    },
    {
     "data": {
      "text/plain": [
       "(2.6862296009259277e-05, 0.5688272450667586)"
      ]
     },
     "execution_count": 58,
     "metadata": {},
     "output_type": "execute_result"
    }
   ],
   "source": [
    "rmse_score(cart_reg, X_train, X_test, y_train, y_test)"
   ]
  },
  {
   "cell_type": "code",
   "execution_count": 59,
   "metadata": {},
   "outputs": [
    {
     "name": "stdout",
     "output_type": "stream",
     "text": [
      "0.999999997957849\n",
      "0.13920287753658078\n"
     ]
    }
   ],
   "source": [
    "print(cart_reg.score(X_train, y_train))\n",
    "print (cart_reg.score(X_test, y_test))"
   ]
  },
  {
   "cell_type": "markdown",
   "metadata": {},
   "source": [
    "## Evaluate Bagging model"
   ]
  },
  {
   "cell_type": "code",
   "execution_count": 60,
   "metadata": {
    "scrolled": true
   },
   "outputs": [
    {
     "name": "stdout",
     "output_type": "stream",
     "text": [
      "The training RMSE for BaggingRegressor(base_estimator=None, bootstrap=True, bootstrap_features=False,\n",
      "                 max_features=1.0, max_samples=1.0, n_estimators=10,\n",
      "                 n_jobs=None, oob_score=False, random_state=None, verbose=0,\n",
      "                 warm_start=False) is: 0.1868770644810752\n",
      "The testing RMSE for BaggingRegressor(base_estimator=None, bootstrap=True, bootstrap_features=False,\n",
      "                 max_features=1.0, max_samples=1.0, n_estimators=10,\n",
      "                 n_jobs=None, oob_score=False, random_state=None, verbose=0,\n",
      "                 warm_start=False) is: 0.43547051092116323\n"
     ]
    },
    {
     "data": {
      "text/plain": [
       "(0.1868770644810752, 0.43547051092116323)"
      ]
     },
     "execution_count": 60,
     "metadata": {},
     "output_type": "execute_result"
    }
   ],
   "source": [
    "rmse_score(bagged_reg, X_train, X_test, y_train, y_test)"
   ]
  },
  {
   "cell_type": "code",
   "execution_count": 61,
   "metadata": {},
   "outputs": [
    {
     "name": "stdout",
     "output_type": "stream",
     "text": [
      "0.9011643578938552\n",
      "0.4955042300404047\n"
     ]
    }
   ],
   "source": [
    "print(bagged_reg.score(X_train, y_train))\n",
    "print (bagged_reg.score(X_test, y_test))"
   ]
  },
  {
   "cell_type": "markdown",
   "metadata": {},
   "source": [
    "## Evaluate random forest"
   ]
  },
  {
   "cell_type": "code",
   "execution_count": 62,
   "metadata": {},
   "outputs": [
    {
     "name": "stdout",
     "output_type": "stream",
     "text": [
      "The training RMSE for RandomForestRegressor(bootstrap=True, criterion='mse', max_depth=None,\n",
      "                      max_features='auto', max_leaf_nodes=None,\n",
      "                      min_impurity_decrease=0.0, min_impurity_split=None,\n",
      "                      min_samples_leaf=1, min_samples_split=2,\n",
      "                      min_weight_fraction_leaf=0.0, n_estimators=10,\n",
      "                      n_jobs=None, oob_score=False, random_state=None,\n",
      "                      verbose=0, warm_start=False) is: 0.18655251169934117\n",
      "The testing RMSE for RandomForestRegressor(bootstrap=True, criterion='mse', max_depth=None,\n",
      "                      max_features='auto', max_leaf_nodes=None,\n",
      "                      min_impurity_decrease=0.0, min_impurity_split=None,\n",
      "                      min_samples_leaf=1, min_samples_split=2,\n",
      "                      min_weight_fraction_leaf=0.0, n_estimators=10,\n",
      "                      n_jobs=None, oob_score=False, random_state=None,\n",
      "                      verbose=0, warm_start=False) is: 0.47875202452667587\n"
     ]
    },
    {
     "data": {
      "text/plain": [
       "(0.18655251169934117, 0.47875202452667587)"
      ]
     },
     "execution_count": 62,
     "metadata": {},
     "output_type": "execute_result"
    }
   ],
   "source": [
    "rmse_score(random_forest_reg, X_train, X_test, y_train, y_test)"
   ]
  },
  {
   "cell_type": "code",
   "execution_count": 63,
   "metadata": {},
   "outputs": [
    {
     "name": "stdout",
     "output_type": "stream",
     "text": [
      "0.9015073590853974\n",
      "0.39023671042882335\n"
     ]
    }
   ],
   "source": [
    "print(random_forest_reg.score(X_train, y_train))\n",
    "print (random_forest_reg.score(X_test, y_test))"
   ]
  },
  {
   "cell_type": "markdown",
   "metadata": {},
   "source": [
    "## Evaluate adaboost"
   ]
  },
  {
   "cell_type": "code",
   "execution_count": 64,
   "metadata": {},
   "outputs": [
    {
     "name": "stdout",
     "output_type": "stream",
     "text": [
      "The training RMSE for AdaBoostRegressor(base_estimator=None, learning_rate=1.0, loss='linear',\n",
      "                  n_estimators=50, random_state=None) is: 0.3032030083270788\n",
      "The testing RMSE for AdaBoostRegressor(base_estimator=None, learning_rate=1.0, loss='linear',\n",
      "                  n_estimators=50, random_state=None) is: 0.42862787581460415\n"
     ]
    },
    {
     "data": {
      "text/plain": [
       "(0.3032030083270788, 0.42862787581460415)"
      ]
     },
     "execution_count": 64,
     "metadata": {},
     "output_type": "execute_result"
    }
   ],
   "source": [
    "rmse_score(adaboost_reg, X_train, X_test, y_train, y_test)"
   ]
  },
  {
   "cell_type": "code",
   "execution_count": 65,
   "metadata": {},
   "outputs": [
    {
     "name": "stdout",
     "output_type": "stream",
     "text": [
      "0.7398231848637896\n",
      "0.5112341532652634\n"
     ]
    }
   ],
   "source": [
    "print(adaboost_reg.score(X_train, y_train))\n",
    "print (adaboost_reg.score(X_test, y_test))"
   ]
  },
  {
   "cell_type": "markdown",
   "metadata": {},
   "source": [
    "## Evaluate Support vector regression"
   ]
  },
  {
   "cell_type": "code",
   "execution_count": 66,
   "metadata": {},
   "outputs": [
    {
     "name": "stdout",
     "output_type": "stream",
     "text": [
      "The training RMSE for SVR(C=1.0, cache_size=200, coef0=0.0, degree=3, epsilon=0.1,\n",
      "    gamma='auto_deprecated', kernel='rbf', max_iter=-1, shrinking=True,\n",
      "    tol=0.001, verbose=False) is: 0.16720546478210074\n",
      "The testing RMSE for SVR(C=1.0, cache_size=200, coef0=0.0, degree=3, epsilon=0.1,\n",
      "    gamma='auto_deprecated', kernel='rbf', max_iter=-1, shrinking=True,\n",
      "    tol=0.001, verbose=False) is: 0.6168292898301106\n"
     ]
    },
    {
     "data": {
      "text/plain": [
       "(0.16720546478210074, 0.6168292898301106)"
      ]
     },
     "execution_count": 66,
     "metadata": {},
     "output_type": "execute_result"
    }
   ],
   "source": [
    "rmse_score(support_vector_reg, X_train, X_test, y_train, y_test)"
   ]
  },
  {
   "cell_type": "code",
   "execution_count": 67,
   "metadata": {
    "scrolled": true
   },
   "outputs": [
    {
     "name": "stdout",
     "output_type": "stream",
     "text": [
      "0.9208770418110276\n",
      "-0.012208553552083501\n"
     ]
    }
   ],
   "source": [
    "print(support_vector_reg.score(X_train, y_train))\n",
    "print (support_vector_reg.score(X_test, y_test))"
   ]
  },
  {
   "cell_type": "markdown",
   "metadata": {},
   "source": [
    "## Test Model with pipelines"
   ]
  },
  {
   "cell_type": "markdown",
   "metadata": {},
   "source": [
    "\n"
   ]
  },
  {
   "cell_type": "code",
   "execution_count": 68,
   "metadata": {},
   "outputs": [
    {
     "name": "stdout",
     "output_type": "stream",
     "text": [
      "Fitting 5 folds for each of 24 candidates, totalling 120 fits\n"
     ]
    },
    {
     "name": "stderr",
     "output_type": "stream",
     "text": [
      "[Parallel(n_jobs=1)]: Using backend SequentialBackend with 1 concurrent workers.\n"
     ]
    },
    {
     "name": "stdout",
     "output_type": "stream",
     "text": [
      "0.4196955815436761\n"
     ]
    },
    {
     "name": "stderr",
     "output_type": "stream",
     "text": [
      "[Parallel(n_jobs=1)]: Done 120 out of 120 | elapsed:    0.5s finished\n"
     ]
    },
    {
     "data": {
      "text/plain": [
       "Pipeline(memory=None,\n",
       "         steps=[('linear',\n",
       "                 LinearRegression(copy_X=True, fit_intercept=True, n_jobs=1,\n",
       "                                  normalize=False))],\n",
       "         verbose=False)"
      ]
     },
     "execution_count": 68,
     "metadata": {},
     "output_type": "execute_result"
    }
   ],
   "source": [
    "pipe = Pipeline([\n",
    "    ('linear', LinearRegression())\n",
    "])\n",
    "\n",
    "pipe_params = {\n",
    "                 'linear__fit_intercept': [True,False], \n",
    "                 'linear__normalize': [True, False],\n",
    "                 'linear__copy_X': [True, False],\n",
    "                 'linear__n_jobs': [1,5,10]\n",
    "}\n",
    "\n",
    "pipe_gridsearch = GridSearchCV(pipe, \n",
    "                                 pipe_params, \n",
    "                                 cv=5, \n",
    "                                 verbose=1)\n",
    "pipe_gridsearch.fit(X_train, y_train);\n",
    "print(pipe_gridsearch.best_score_)\n",
    "pipe_gridsearch.best_estimator_"
   ]
  },
  {
   "cell_type": "code",
   "execution_count": 69,
   "metadata": {},
   "outputs": [
    {
     "name": "stderr",
     "output_type": "stream",
     "text": [
      "[Parallel(n_jobs=1)]: Using backend SequentialBackend with 1 concurrent workers.\n"
     ]
    },
    {
     "name": "stdout",
     "output_type": "stream",
     "text": [
      "Fitting 5 folds for each of 10 candidates, totalling 50 fits\n"
     ]
    },
    {
     "name": "stderr",
     "output_type": "stream",
     "text": [
      "[Parallel(n_jobs=1)]: Done  50 out of  50 | elapsed:    0.2s finished\n"
     ]
    },
    {
     "data": {
      "text/plain": [
       "0.3850972942225037"
      ]
     },
     "execution_count": 69,
     "metadata": {},
     "output_type": "execute_result"
    }
   ],
   "source": [
    "knn_params = {\n",
    "    'n_neighbors': range(1, 51, 10),\n",
    "    'metric': ['euclidean', 'manhattan']\n",
    "}\n",
    "knn_gridsearch = GridSearchCV(KNeighborsRegressor(), \n",
    "                              knn_params, \n",
    "                              cv=5, \n",
    "                              verbose=1)\n",
    "knn_gridsearch.fit(X_train, y_train);\n",
    "best_knn = knn_gridsearch.best_estimator_\n",
    "best_knn.score(X_test, y_test)"
   ]
  },
  {
   "cell_type": "code",
   "execution_count": 70,
   "metadata": {},
   "outputs": [
    {
     "name": "stdout",
     "output_type": "stream",
     "text": [
      "Fitting 5 folds for each of 3 candidates, totalling 15 fits\n"
     ]
    },
    {
     "name": "stderr",
     "output_type": "stream",
     "text": [
      "[Parallel(n_jobs=1)]: Using backend SequentialBackend with 1 concurrent workers.\n",
      "[Parallel(n_jobs=1)]: Done  15 out of  15 | elapsed:    0.1s finished\n"
     ]
    },
    {
     "data": {
      "text/plain": [
       "0.0008454706249206856"
      ]
     },
     "execution_count": 70,
     "metadata": {},
     "output_type": "execute_result"
    }
   ],
   "source": [
    "cart_params = {\n",
    "    'max_depth': [15,25,50]\n",
    "    \n",
    "}\n",
    "cart_gridsearch = GridSearchCV(DecisionTreeRegressor(), \n",
    "                              cart_params, \n",
    "                              cv=5, \n",
    "                              verbose=1)\n",
    "cart_gridsearch.fit(X_train, y_train);\n",
    "best_cart = cart_gridsearch.best_estimator_\n",
    "best_cart.score(X_test, y_test)"
   ]
  },
  {
   "cell_type": "code",
   "execution_count": 71,
   "metadata": {},
   "outputs": [
    {
     "data": {
      "text/plain": [
       "BaggingRegressor(base_estimator=None, bootstrap=True, bootstrap_features=False,\n",
       "                 max_features=1.0, max_samples=1.0, n_estimators=10,\n",
       "                 n_jobs=None, oob_score=False, random_state=None, verbose=0,\n",
       "                 warm_start=False)"
      ]
     },
     "execution_count": 71,
     "metadata": {},
     "output_type": "execute_result"
    }
   ],
   "source": [
    "BaggingRegressor()"
   ]
  },
  {
   "cell_type": "code",
   "execution_count": 72,
   "metadata": {},
   "outputs": [
    {
     "name": "stderr",
     "output_type": "stream",
     "text": [
      "[Parallel(n_jobs=1)]: Using backend SequentialBackend with 1 concurrent workers.\n"
     ]
    },
    {
     "name": "stdout",
     "output_type": "stream",
     "text": [
      "Fitting 5 folds for each of 3 candidates, totalling 15 fits\n"
     ]
    },
    {
     "name": "stderr",
     "output_type": "stream",
     "text": [
      "[Parallel(n_jobs=1)]: Done  15 out of  15 | elapsed:    4.4s finished\n"
     ]
    },
    {
     "name": "stdout",
     "output_type": "stream",
     "text": [
      "BaggingRegressor(base_estimator=None, bootstrap=True, bootstrap_features=False,\n",
      "                 max_features=1.0, max_samples=1.0, n_estimators=120,\n",
      "                 n_jobs=None, oob_score=False, random_state=None, verbose=0,\n",
      "                 warm_start=False)\n"
     ]
    },
    {
     "data": {
      "text/plain": [
       "0.5398977642431843"
      ]
     },
     "execution_count": 72,
     "metadata": {},
     "output_type": "execute_result"
    }
   ],
   "source": [
    "bag_params = {\n",
    "    'n_estimators': [120,140,160],\n",
    "    \n",
    "    \n",
    "}\n",
    "bag_gridsearch = GridSearchCV(BaggingRegressor(),\n",
    "                              bag_params,\n",
    "                              cv=5, \n",
    "                              verbose=1)\n",
    "bag_gridsearch.fit(X_train, y_train);\n",
    "best_bag = bag_gridsearch.best_estimator_\n",
    "print (best_bag)\n",
    "best_bag.score(X_test, y_test)"
   ]
  },
  {
   "cell_type": "code",
   "execution_count": null,
   "metadata": {},
   "outputs": [],
   "source": []
  },
  {
   "cell_type": "code",
   "execution_count": 73,
   "metadata": {},
   "outputs": [
    {
     "name": "stdout",
     "output_type": "stream",
     "text": [
      "Fitting 5 folds for each of 12 candidates, totalling 60 fits\n"
     ]
    },
    {
     "name": "stderr",
     "output_type": "stream",
     "text": [
      "[Parallel(n_jobs=1)]: Using backend SequentialBackend with 1 concurrent workers.\n",
      "[Parallel(n_jobs=1)]: Done  60 out of  60 | elapsed:   12.5s finished\n"
     ]
    },
    {
     "name": "stdout",
     "output_type": "stream",
     "text": [
      "RandomForestRegressor(bootstrap=True, criterion='mse', max_depth=7,\n",
      "                      max_features='auto', max_leaf_nodes=None,\n",
      "                      min_impurity_decrease=0.0, min_impurity_split=None,\n",
      "                      min_samples_leaf=1, min_samples_split=2,\n",
      "                      min_weight_fraction_leaf=0.0, n_estimators=100,\n",
      "                      n_jobs=None, oob_score=False, random_state=None,\n",
      "                      verbose=0, warm_start=False)\n"
     ]
    },
    {
     "data": {
      "text/plain": [
       "0.5201272978688327"
      ]
     },
     "execution_count": 73,
     "metadata": {},
     "output_type": "execute_result"
    }
   ],
   "source": [
    "rf_params = {\n",
    "    'n_estimators': [100,110,120],\n",
    "    'max_depth':[6,7,8,9]\n",
    "    \n",
    "    \n",
    "}\n",
    "rf_gridsearch = GridSearchCV(RandomForestRegressor(), \n",
    "                              rf_params,\n",
    "                              cv=5, \n",
    "                              verbose=1)\n",
    "rf_gridsearch.fit(X_train, y_train);\n",
    "best_rf = rf_gridsearch.best_estimator_\n",
    "print (best_rf)\n",
    "best_rf.score(X_test, y_test)"
   ]
  },
  {
   "cell_type": "code",
   "execution_count": 74,
   "metadata": {},
   "outputs": [
    {
     "data": {
      "text/plain": [
       "AdaBoostRegressor(base_estimator=None, learning_rate=1.0, loss='linear',\n",
       "                  n_estimators=50, random_state=None)"
      ]
     },
     "execution_count": 74,
     "metadata": {},
     "output_type": "execute_result"
    }
   ],
   "source": [
    "AdaBoostRegressor()"
   ]
  },
  {
   "cell_type": "code",
   "execution_count": 75,
   "metadata": {},
   "outputs": [
    {
     "name": "stdout",
     "output_type": "stream",
     "text": [
      "Fitting 5 folds for each of 3 candidates, totalling 15 fits\n"
     ]
    },
    {
     "name": "stderr",
     "output_type": "stream",
     "text": [
      "[Parallel(n_jobs=1)]: Using backend SequentialBackend with 1 concurrent workers.\n"
     ]
    },
    {
     "name": "stdout",
     "output_type": "stream",
     "text": [
      "AdaBoostRegressor(base_estimator=None, learning_rate=1.0, loss='linear',\n",
      "                  n_estimators=75, random_state=None)\n"
     ]
    },
    {
     "name": "stderr",
     "output_type": "stream",
     "text": [
      "[Parallel(n_jobs=1)]: Done  15 out of  15 | elapsed:    2.4s finished\n"
     ]
    },
    {
     "data": {
      "text/plain": [
       "0.5185570625378194"
      ]
     },
     "execution_count": 75,
     "metadata": {},
     "output_type": "execute_result"
    }
   ],
   "source": [
    "ada_params = {\n",
    "    'n_estimators': [75,85,90]\n",
    "}\n",
    "ada_gridsearch = GridSearchCV(AdaBoostRegressor(), \n",
    "                              ada_params, \n",
    "                              cv=5, \n",
    "                              verbose=1)\n",
    "ada_gridsearch.fit(X_train, y_train);\n",
    "best_ada = ada_gridsearch.best_estimator_\n",
    "print (best_ada)\n",
    "best_ada.score(X_test, y_test)"
   ]
  },
  {
   "cell_type": "code",
   "execution_count": null,
   "metadata": {},
   "outputs": [],
   "source": []
  },
  {
   "cell_type": "code",
   "execution_count": 76,
   "metadata": {},
   "outputs": [
    {
     "name": "stderr",
     "output_type": "stream",
     "text": [
      "[Parallel(n_jobs=1)]: Using backend SequentialBackend with 1 concurrent workers.\n",
      "/Users/Jelly/anaconda3/lib/python3.7/site-packages/sklearn/svm/base.py:193: FutureWarning: The default value of gamma will change from 'auto' to 'scale' in version 0.22 to account better for unscaled features. Set gamma explicitly to 'auto' or 'scale' to avoid this warning.\n",
      "  \"avoid this warning.\", FutureWarning)\n",
      "/Users/Jelly/anaconda3/lib/python3.7/site-packages/sklearn/svm/base.py:193: FutureWarning: The default value of gamma will change from 'auto' to 'scale' in version 0.22 to account better for unscaled features. Set gamma explicitly to 'auto' or 'scale' to avoid this warning.\n",
      "  \"avoid this warning.\", FutureWarning)\n",
      "/Users/Jelly/anaconda3/lib/python3.7/site-packages/sklearn/svm/base.py:193: FutureWarning: The default value of gamma will change from 'auto' to 'scale' in version 0.22 to account better for unscaled features. Set gamma explicitly to 'auto' or 'scale' to avoid this warning.\n",
      "  \"avoid this warning.\", FutureWarning)\n",
      "/Users/Jelly/anaconda3/lib/python3.7/site-packages/sklearn/svm/base.py:193: FutureWarning: The default value of gamma will change from 'auto' to 'scale' in version 0.22 to account better for unscaled features. Set gamma explicitly to 'auto' or 'scale' to avoid this warning.\n",
      "  \"avoid this warning.\", FutureWarning)\n",
      "/Users/Jelly/anaconda3/lib/python3.7/site-packages/sklearn/svm/base.py:193: FutureWarning: The default value of gamma will change from 'auto' to 'scale' in version 0.22 to account better for unscaled features. Set gamma explicitly to 'auto' or 'scale' to avoid this warning.\n",
      "  \"avoid this warning.\", FutureWarning)\n",
      "/Users/Jelly/anaconda3/lib/python3.7/site-packages/sklearn/svm/base.py:193: FutureWarning: The default value of gamma will change from 'auto' to 'scale' in version 0.22 to account better for unscaled features. Set gamma explicitly to 'auto' or 'scale' to avoid this warning.\n",
      "  \"avoid this warning.\", FutureWarning)\n",
      "/Users/Jelly/anaconda3/lib/python3.7/site-packages/sklearn/svm/base.py:193: FutureWarning: The default value of gamma will change from 'auto' to 'scale' in version 0.22 to account better for unscaled features. Set gamma explicitly to 'auto' or 'scale' to avoid this warning.\n",
      "  \"avoid this warning.\", FutureWarning)\n",
      "/Users/Jelly/anaconda3/lib/python3.7/site-packages/sklearn/svm/base.py:193: FutureWarning: The default value of gamma will change from 'auto' to 'scale' in version 0.22 to account better for unscaled features. Set gamma explicitly to 'auto' or 'scale' to avoid this warning.\n",
      "  \"avoid this warning.\", FutureWarning)\n"
     ]
    },
    {
     "name": "stdout",
     "output_type": "stream",
     "text": [
      "Fitting 5 folds for each of 2 candidates, totalling 10 fits\n",
      "SVR(C=1.0, cache_size=200, coef0=0.0, degree=2, epsilon=0.1,\n",
      "    gamma='auto_deprecated', kernel='rbf', max_iter=-1, shrinking=True,\n",
      "    tol=0.001, verbose=False)\n"
     ]
    },
    {
     "name": "stderr",
     "output_type": "stream",
     "text": [
      "/Users/Jelly/anaconda3/lib/python3.7/site-packages/sklearn/svm/base.py:193: FutureWarning: The default value of gamma will change from 'auto' to 'scale' in version 0.22 to account better for unscaled features. Set gamma explicitly to 'auto' or 'scale' to avoid this warning.\n",
      "  \"avoid this warning.\", FutureWarning)\n",
      "/Users/Jelly/anaconda3/lib/python3.7/site-packages/sklearn/svm/base.py:193: FutureWarning: The default value of gamma will change from 'auto' to 'scale' in version 0.22 to account better for unscaled features. Set gamma explicitly to 'auto' or 'scale' to avoid this warning.\n",
      "  \"avoid this warning.\", FutureWarning)\n",
      "[Parallel(n_jobs=1)]: Done  10 out of  10 | elapsed:    0.1s finished\n",
      "/Users/Jelly/anaconda3/lib/python3.7/site-packages/sklearn/svm/base.py:193: FutureWarning: The default value of gamma will change from 'auto' to 'scale' in version 0.22 to account better for unscaled features. Set gamma explicitly to 'auto' or 'scale' to avoid this warning.\n",
      "  \"avoid this warning.\", FutureWarning)\n"
     ]
    },
    {
     "data": {
      "text/plain": [
       "-0.012208553552083501"
      ]
     },
     "execution_count": 76,
     "metadata": {},
     "output_type": "execute_result"
    }
   ],
   "source": [
    "svr_params = {\n",
    "    'degree': [2,3]\n",
    "}\n",
    "svr_gridsearch = GridSearchCV(SVR(), \n",
    "                              svr_params, \n",
    "                              cv=5, \n",
    "                              verbose=1)\n",
    "svr_gridsearch.fit(X_train, y_train);\n",
    "best_svr = svr_gridsearch.best_estimator_\n",
    "print (best_svr)\n",
    "best_svr.score(X_test, y_test)"
   ]
  },
  {
   "cell_type": "markdown",
   "metadata": {},
   "source": [
    "|model|RMSE Train|RMSE Test|R2 Train|R2 Test|pipeline R2 test|\n",
    "| --- | --- | --- | --- | ---|---|\n",
    "|Linear Regression| 0.414|0.44|0.54|0.56|0.43|\n",
    "|KNN Regression| 0.39|0.51|0.56|0.31|0.33|\n",
    "|Decision Tree Regression| 8.11e05|0.56|0.99|0.16|0.03|\n",
    "|Baggin Regression| 0.19|0.46|0.89|0.45|0.54|\n",
    "|Random Forest Regression| 0.17|0.42|0.92|0.53|0.536|\n",
    "|Adaboost Regression| 0.29|0.42|0.77|0.53|0.543|\n",
    "|support vector Regression| 0.17|0.62|0.92|-0.02|-0.02|"
   ]
  },
  {
   "cell_type": "markdown",
   "metadata": {},
   "source": [
    "# Using KMean Cluster to group Zipcodes"
   ]
  },
  {
   "cell_type": "code",
   "execution_count": 77,
   "metadata": {},
   "outputs": [
    {
     "data": {
      "text/html": [
       "<div>\n",
       "<style scoped>\n",
       "    .dataframe tbody tr th:only-of-type {\n",
       "        vertical-align: middle;\n",
       "    }\n",
       "\n",
       "    .dataframe tbody tr th {\n",
       "        vertical-align: top;\n",
       "    }\n",
       "\n",
       "    .dataframe thead th {\n",
       "        text-align: right;\n",
       "    }\n",
       "</style>\n",
       "<table border=\"1\" class=\"dataframe\">\n",
       "  <thead>\n",
       "    <tr style=\"text-align: right;\">\n",
       "      <th></th>\n",
       "      <th>count</th>\n",
       "      <th>review_count</th>\n",
       "      <th>price*review_count</th>\n",
       "      <th>price_1</th>\n",
       "      <th>price_2</th>\n",
       "      <th>price_3</th>\n",
       "      <th>price_4</th>\n",
       "      <th>rating_0.0</th>\n",
       "      <th>rating_1.0</th>\n",
       "      <th>rating_1.5</th>\n",
       "      <th>rating_2.0</th>\n",
       "      <th>rating_2.5</th>\n",
       "      <th>rating_3.0</th>\n",
       "      <th>rating_3.5</th>\n",
       "      <th>rating_4.0</th>\n",
       "      <th>rating_4.5</th>\n",
       "      <th>rating_5</th>\n",
       "    </tr>\n",
       "  </thead>\n",
       "  <tbody>\n",
       "    <tr>\n",
       "      <td>0</td>\n",
       "      <td>93</td>\n",
       "      <td>49.483871</td>\n",
       "      <td>63.318071</td>\n",
       "      <td>67</td>\n",
       "      <td>26</td>\n",
       "      <td>0</td>\n",
       "      <td>0</td>\n",
       "      <td>0</td>\n",
       "      <td>0</td>\n",
       "      <td>4</td>\n",
       "      <td>8</td>\n",
       "      <td>9</td>\n",
       "      <td>9</td>\n",
       "      <td>14</td>\n",
       "      <td>20</td>\n",
       "      <td>17</td>\n",
       "      <td>12</td>\n",
       "    </tr>\n",
       "    <tr>\n",
       "      <td>1</td>\n",
       "      <td>21</td>\n",
       "      <td>27.904762</td>\n",
       "      <td>30.562358</td>\n",
       "      <td>19</td>\n",
       "      <td>2</td>\n",
       "      <td>0</td>\n",
       "      <td>0</td>\n",
       "      <td>0</td>\n",
       "      <td>0</td>\n",
       "      <td>3</td>\n",
       "      <td>4</td>\n",
       "      <td>1</td>\n",
       "      <td>0</td>\n",
       "      <td>1</td>\n",
       "      <td>6</td>\n",
       "      <td>3</td>\n",
       "      <td>3</td>\n",
       "    </tr>\n",
       "    <tr>\n",
       "      <td>2</td>\n",
       "      <td>71</td>\n",
       "      <td>35.929577</td>\n",
       "      <td>43.014283</td>\n",
       "      <td>60</td>\n",
       "      <td>9</td>\n",
       "      <td>1</td>\n",
       "      <td>1</td>\n",
       "      <td>0</td>\n",
       "      <td>2</td>\n",
       "      <td>7</td>\n",
       "      <td>10</td>\n",
       "      <td>7</td>\n",
       "      <td>7</td>\n",
       "      <td>8</td>\n",
       "      <td>11</td>\n",
       "      <td>10</td>\n",
       "      <td>9</td>\n",
       "    </tr>\n",
       "    <tr>\n",
       "      <td>3</td>\n",
       "      <td>155</td>\n",
       "      <td>240.987097</td>\n",
       "      <td>368.477045</td>\n",
       "      <td>77</td>\n",
       "      <td>74</td>\n",
       "      <td>4</td>\n",
       "      <td>0</td>\n",
       "      <td>0</td>\n",
       "      <td>0</td>\n",
       "      <td>1</td>\n",
       "      <td>2</td>\n",
       "      <td>12</td>\n",
       "      <td>15</td>\n",
       "      <td>27</td>\n",
       "      <td>57</td>\n",
       "      <td>27</td>\n",
       "      <td>14</td>\n",
       "    </tr>\n",
       "    <tr>\n",
       "      <td>4</td>\n",
       "      <td>147</td>\n",
       "      <td>358.482993</td>\n",
       "      <td>587.717016</td>\n",
       "      <td>56</td>\n",
       "      <td>88</td>\n",
       "      <td>3</td>\n",
       "      <td>0</td>\n",
       "      <td>0</td>\n",
       "      <td>1</td>\n",
       "      <td>2</td>\n",
       "      <td>5</td>\n",
       "      <td>5</td>\n",
       "      <td>19</td>\n",
       "      <td>26</td>\n",
       "      <td>58</td>\n",
       "      <td>30</td>\n",
       "      <td>1</td>\n",
       "    </tr>\n",
       "  </tbody>\n",
       "</table>\n",
       "</div>"
      ],
      "text/plain": [
       "   count  review_count  price*review_count  price_1  price_2  price_3  \\\n",
       "0     93     49.483871           63.318071       67       26        0   \n",
       "1     21     27.904762           30.562358       19        2        0   \n",
       "2     71     35.929577           43.014283       60        9        1   \n",
       "3    155    240.987097          368.477045       77       74        4   \n",
       "4    147    358.482993          587.717016       56       88        3   \n",
       "\n",
       "   price_4  rating_0.0  rating_1.0  rating_1.5  rating_2.0  rating_2.5  \\\n",
       "0        0           0           0           4           8           9   \n",
       "1        0           0           0           3           4           1   \n",
       "2        1           0           2           7          10           7   \n",
       "3        0           0           0           1           2          12   \n",
       "4        0           0           1           2           5           5   \n",
       "\n",
       "   rating_3.0  rating_3.5  rating_4.0  rating_4.5  rating_5  \n",
       "0           9          14          20          17        12  \n",
       "1           0           1           6           3         3  \n",
       "2           7           8          11          10         9  \n",
       "3          15          27          57          27        14  \n",
       "4          19          26          58          30         1  "
      ]
     },
     "execution_count": 77,
     "metadata": {},
     "output_type": "execute_result"
    }
   ],
   "source": [
    "X.head()"
   ]
  },
  {
   "cell_type": "code",
   "execution_count": 78,
   "metadata": {},
   "outputs": [],
   "source": [
    "def transfer_tune(X, y, k):\n",
    "    location_data = df_dummy[[\"latitude\", \"longitude\"]]\n",
    "    km = KMeans(n_clusters=k,random_state = 42 )\n",
    "    km.fit(location_data)\n",
    "    X.loc[:, \"cluster\"] = km.predict(location_data)\n",
    "    X_dummy = pd.get_dummies(columns=[\"cluster\"], data=X)\n",
    "    X_train, X_test, y_train, y_test = train_test_split(\n",
    "        X_dummy.copy(), y.copy(), random_state=42, test_size=0.3\n",
    "    )\n",
    "    best_bag.fit(X_train, y_train)\n",
    "    r2 =best_bag.score(X_test, y_test)\n",
    "    print(f\"{k} : {r2}\")"
   ]
  },
  {
   "cell_type": "code",
   "execution_count": 79,
   "metadata": {},
   "outputs": [
    {
     "name": "stdout",
     "output_type": "stream",
     "text": [
      "20 : 0.555019964838849\n",
      "21 : 0.5501157449841336\n",
      "22 : 0.5508627020016604\n",
      "23 : 0.545618220494727\n",
      "24 : 0.54132290812849\n",
      "25 : 0.5225763038820217\n",
      "26 : 0.5420354965087638\n",
      "27 : 0.5315003656564319\n",
      "28 : 0.5938413220469662\n",
      "29 : 0.5247668800400751\n",
      "30 : 0.5458080119763498\n",
      "31 : 0.5224431565943537\n",
      "32 : 0.5519370111781081\n",
      "33 : 0.5102749060119416\n",
      "34 : 0.5282905928621872\n",
      "35 : 0.5449463019155629\n",
      "36 : 0.5346242767708052\n",
      "37 : 0.6029014952040331\n",
      "38 : 0.5277349498232351\n",
      "39 : 0.598337006695702\n",
      "40 : 0.6043610146396673\n",
      "41 : 0.5964633893737243\n",
      "42 : 0.5908329401915844\n",
      "43 : 0.5576367475025719\n",
      "44 : 0.5986100912977693\n",
      "45 : 0.5554294208405242\n",
      "46 : 0.6034534393194102\n",
      "47 : 0.6021142107368075\n",
      "48 : 0.563154476567981\n",
      "49 : 0.5782249009576768\n"
     ]
    }
   ],
   "source": [
    "for k in range(20, 50, 1):\n",
    "    transfer_tune(X, y, k)"
   ]
  },
  {
   "cell_type": "code",
   "execution_count": 80,
   "metadata": {},
   "outputs": [
    {
     "name": "stdout",
     "output_type": "stream",
     "text": [
      "0.598893029823121\n"
     ]
    }
   ],
   "source": [
    "location_data = df_dummy[[\"latitude\", \"longitude\"]]\n",
    "km = KMeans(n_clusters=46, random_state = 42)\n",
    "km.fit(location_data)\n",
    "X.loc[:, \"cluster\"] = km.predict(location_data)\n",
    "X_dummy = pd.get_dummies(columns=[\"cluster\"], data=X)\n",
    "X_train, X_test, y_train, y_test = train_test_split(\n",
    "        X_dummy.copy(), y.copy(), random_state=42, test_size=0.3\n",
    ")\n",
    "\n",
    "best_bag.fit(X_train, y_train)\n",
    "r2 = best_bag.score(X_test, y_test)\n",
    "print (r2)"
   ]
  },
  {
   "cell_type": "code",
   "execution_count": 81,
   "metadata": {},
   "outputs": [
    {
     "data": {
      "text/plain": [
       "Index(['count', 'review_count', 'price*review_count', 'price_1', 'price_2',\n",
       "       'price_3', 'price_4', 'rating_0.0', 'rating_1.0', 'rating_1.5',\n",
       "       'rating_2.0', 'rating_2.5', 'rating_3.0', 'rating_3.5', 'rating_4.0',\n",
       "       'rating_4.5', 'rating_5', 'cluster_0', 'cluster_1', 'cluster_2',\n",
       "       'cluster_3', 'cluster_4', 'cluster_5', 'cluster_6', 'cluster_7',\n",
       "       'cluster_8', 'cluster_9', 'cluster_10', 'cluster_11', 'cluster_12',\n",
       "       'cluster_13', 'cluster_14', 'cluster_15', 'cluster_16', 'cluster_17',\n",
       "       'cluster_18', 'cluster_19', 'cluster_20', 'cluster_21', 'cluster_22',\n",
       "       'cluster_23', 'cluster_24', 'cluster_25', 'cluster_26', 'cluster_27',\n",
       "       'cluster_28', 'cluster_29', 'cluster_30', 'cluster_31', 'cluster_32',\n",
       "       'cluster_33', 'cluster_34', 'cluster_35', 'cluster_36', 'cluster_37',\n",
       "       'cluster_38', 'cluster_39', 'cluster_40', 'cluster_41', 'cluster_42',\n",
       "       'cluster_43', 'cluster_44', 'cluster_45'],\n",
       "      dtype='object')"
      ]
     },
     "execution_count": 81,
     "metadata": {},
     "output_type": "execute_result"
    }
   ],
   "source": [
    "X_train.columns"
   ]
  },
  {
   "cell_type": "code",
   "execution_count": 82,
   "metadata": {},
   "outputs": [
    {
     "data": {
      "image/png": "[encoded data removed]",
      "text/plain": [
       "<Figure size 720x720 with 1 Axes>"
      ]
     },
     "metadata": {
      "needs_background": "light"
     },
     "output_type": "display_data"
    }
   ],
   "source": [
    "plt.figure(figsize=(10, 10))\n",
    "plt.scatter(df_dummy.latitude, df_dummy.longitude, c=km.labels_, s=8, cmap=\"tab20\")\n",
    "plt.xlabel(\"latitude\", fontsize = 20)\n",
    "plt.ylabel(\"longitude\", fontsize = 20)\n",
    "plt.title('Model with Clusters', fontsize = 24);"
   ]
  },
  {
   "cell_type": "code",
   "execution_count": 83,
   "metadata": {},
   "outputs": [],
   "source": [
    "X_cluster = pd.concat([X_train,X_test],axis = 0, sort = False)"
   ]
  },
  {
   "cell_type": "code",
   "execution_count": 84,
   "metadata": {},
   "outputs": [
    {
     "data": {
      "text/html": [
       "<div>\n",
       "<style scoped>\n",
       "    .dataframe tbody tr th:only-of-type {\n",
       "        vertical-align: middle;\n",
       "    }\n",
       "\n",
       "    .dataframe tbody tr th {\n",
       "        vertical-align: top;\n",
       "    }\n",
       "\n",
       "    .dataframe thead th {\n",
       "        text-align: right;\n",
       "    }\n",
       "</style>\n",
       "<table border=\"1\" class=\"dataframe\">\n",
       "  <thead>\n",
       "    <tr style=\"text-align: right;\">\n",
       "      <th></th>\n",
       "      <th>count</th>\n",
       "      <th>review_count</th>\n",
       "      <th>price*review_count</th>\n",
       "      <th>price_1</th>\n",
       "      <th>price_2</th>\n",
       "      <th>price_3</th>\n",
       "      <th>price_4</th>\n",
       "      <th>rating_0.0</th>\n",
       "      <th>rating_1.0</th>\n",
       "      <th>rating_1.5</th>\n",
       "      <th>...</th>\n",
       "      <th>cluster_36</th>\n",
       "      <th>cluster_37</th>\n",
       "      <th>cluster_38</th>\n",
       "      <th>cluster_39</th>\n",
       "      <th>cluster_40</th>\n",
       "      <th>cluster_41</th>\n",
       "      <th>cluster_42</th>\n",
       "      <th>cluster_43</th>\n",
       "      <th>cluster_44</th>\n",
       "      <th>cluster_45</th>\n",
       "    </tr>\n",
       "  </thead>\n",
       "  <tbody>\n",
       "    <tr>\n",
       "      <td>334</td>\n",
       "      <td>113</td>\n",
       "      <td>143.681416</td>\n",
       "      <td>221.243950</td>\n",
       "      <td>54</td>\n",
       "      <td>58</td>\n",
       "      <td>0</td>\n",
       "      <td>1</td>\n",
       "      <td>0</td>\n",
       "      <td>0</td>\n",
       "      <td>6</td>\n",
       "      <td>...</td>\n",
       "      <td>1</td>\n",
       "      <td>0</td>\n",
       "      <td>0</td>\n",
       "      <td>0</td>\n",
       "      <td>0</td>\n",
       "      <td>0</td>\n",
       "      <td>0</td>\n",
       "      <td>0</td>\n",
       "      <td>0</td>\n",
       "      <td>0</td>\n",
       "    </tr>\n",
       "    <tr>\n",
       "      <td>335</td>\n",
       "      <td>32</td>\n",
       "      <td>73.531250</td>\n",
       "      <td>82.722656</td>\n",
       "      <td>28</td>\n",
       "      <td>4</td>\n",
       "      <td>0</td>\n",
       "      <td>0</td>\n",
       "      <td>0</td>\n",
       "      <td>0</td>\n",
       "      <td>2</td>\n",
       "      <td>...</td>\n",
       "      <td>1</td>\n",
       "      <td>0</td>\n",
       "      <td>0</td>\n",
       "      <td>0</td>\n",
       "      <td>0</td>\n",
       "      <td>0</td>\n",
       "      <td>0</td>\n",
       "      <td>0</td>\n",
       "      <td>0</td>\n",
       "      <td>0</td>\n",
       "    </tr>\n",
       "    <tr>\n",
       "      <td>336</td>\n",
       "      <td>2</td>\n",
       "      <td>41.500000</td>\n",
       "      <td>41.500000</td>\n",
       "      <td>2</td>\n",
       "      <td>0</td>\n",
       "      <td>0</td>\n",
       "      <td>0</td>\n",
       "      <td>0</td>\n",
       "      <td>0</td>\n",
       "      <td>0</td>\n",
       "      <td>...</td>\n",
       "      <td>0</td>\n",
       "      <td>0</td>\n",
       "      <td>0</td>\n",
       "      <td>0</td>\n",
       "      <td>0</td>\n",
       "      <td>0</td>\n",
       "      <td>0</td>\n",
       "      <td>0</td>\n",
       "      <td>0</td>\n",
       "      <td>0</td>\n",
       "    </tr>\n",
       "    <tr>\n",
       "      <td>337</td>\n",
       "      <td>2</td>\n",
       "      <td>43.000000</td>\n",
       "      <td>64.500000</td>\n",
       "      <td>1</td>\n",
       "      <td>1</td>\n",
       "      <td>0</td>\n",
       "      <td>0</td>\n",
       "      <td>0</td>\n",
       "      <td>0</td>\n",
       "      <td>0</td>\n",
       "      <td>...</td>\n",
       "      <td>0</td>\n",
       "      <td>0</td>\n",
       "      <td>0</td>\n",
       "      <td>0</td>\n",
       "      <td>0</td>\n",
       "      <td>0</td>\n",
       "      <td>0</td>\n",
       "      <td>0</td>\n",
       "      <td>0</td>\n",
       "      <td>0</td>\n",
       "    </tr>\n",
       "    <tr>\n",
       "      <td>338</td>\n",
       "      <td>7</td>\n",
       "      <td>31.142857</td>\n",
       "      <td>31.142857</td>\n",
       "      <td>7</td>\n",
       "      <td>0</td>\n",
       "      <td>0</td>\n",
       "      <td>0</td>\n",
       "      <td>0</td>\n",
       "      <td>0</td>\n",
       "      <td>0</td>\n",
       "      <td>...</td>\n",
       "      <td>0</td>\n",
       "      <td>0</td>\n",
       "      <td>0</td>\n",
       "      <td>0</td>\n",
       "      <td>0</td>\n",
       "      <td>0</td>\n",
       "      <td>0</td>\n",
       "      <td>0</td>\n",
       "      <td>0</td>\n",
       "      <td>0</td>\n",
       "    </tr>\n",
       "    <tr>\n",
       "      <td>339</td>\n",
       "      <td>1</td>\n",
       "      <td>23.000000</td>\n",
       "      <td>23.000000</td>\n",
       "      <td>1</td>\n",
       "      <td>0</td>\n",
       "      <td>0</td>\n",
       "      <td>0</td>\n",
       "      <td>0</td>\n",
       "      <td>0</td>\n",
       "      <td>1</td>\n",
       "      <td>...</td>\n",
       "      <td>0</td>\n",
       "      <td>0</td>\n",
       "      <td>0</td>\n",
       "      <td>0</td>\n",
       "      <td>0</td>\n",
       "      <td>0</td>\n",
       "      <td>0</td>\n",
       "      <td>0</td>\n",
       "      <td>1</td>\n",
       "      <td>0</td>\n",
       "    </tr>\n",
       "    <tr>\n",
       "      <td>340</td>\n",
       "      <td>1</td>\n",
       "      <td>36.000000</td>\n",
       "      <td>36.000000</td>\n",
       "      <td>1</td>\n",
       "      <td>0</td>\n",
       "      <td>0</td>\n",
       "      <td>0</td>\n",
       "      <td>0</td>\n",
       "      <td>0</td>\n",
       "      <td>0</td>\n",
       "      <td>...</td>\n",
       "      <td>0</td>\n",
       "      <td>0</td>\n",
       "      <td>0</td>\n",
       "      <td>0</td>\n",
       "      <td>0</td>\n",
       "      <td>0</td>\n",
       "      <td>0</td>\n",
       "      <td>0</td>\n",
       "      <td>0</td>\n",
       "      <td>0</td>\n",
       "    </tr>\n",
       "    <tr>\n",
       "      <td>341</td>\n",
       "      <td>1</td>\n",
       "      <td>20.000000</td>\n",
       "      <td>40.000000</td>\n",
       "      <td>0</td>\n",
       "      <td>1</td>\n",
       "      <td>0</td>\n",
       "      <td>0</td>\n",
       "      <td>0</td>\n",
       "      <td>0</td>\n",
       "      <td>0</td>\n",
       "      <td>...</td>\n",
       "      <td>0</td>\n",
       "      <td>0</td>\n",
       "      <td>0</td>\n",
       "      <td>0</td>\n",
       "      <td>0</td>\n",
       "      <td>0</td>\n",
       "      <td>0</td>\n",
       "      <td>0</td>\n",
       "      <td>0</td>\n",
       "      <td>0</td>\n",
       "    </tr>\n",
       "    <tr>\n",
       "      <td>342</td>\n",
       "      <td>1</td>\n",
       "      <td>39.000000</td>\n",
       "      <td>39.000000</td>\n",
       "      <td>1</td>\n",
       "      <td>0</td>\n",
       "      <td>0</td>\n",
       "      <td>0</td>\n",
       "      <td>0</td>\n",
       "      <td>0</td>\n",
       "      <td>0</td>\n",
       "      <td>...</td>\n",
       "      <td>0</td>\n",
       "      <td>0</td>\n",
       "      <td>0</td>\n",
       "      <td>0</td>\n",
       "      <td>0</td>\n",
       "      <td>0</td>\n",
       "      <td>0</td>\n",
       "      <td>0</td>\n",
       "      <td>0</td>\n",
       "      <td>0</td>\n",
       "    </tr>\n",
       "    <tr>\n",
       "      <td>343</td>\n",
       "      <td>1</td>\n",
       "      <td>3.000000</td>\n",
       "      <td>6.000000</td>\n",
       "      <td>0</td>\n",
       "      <td>1</td>\n",
       "      <td>0</td>\n",
       "      <td>0</td>\n",
       "      <td>0</td>\n",
       "      <td>0</td>\n",
       "      <td>0</td>\n",
       "      <td>...</td>\n",
       "      <td>0</td>\n",
       "      <td>0</td>\n",
       "      <td>0</td>\n",
       "      <td>0</td>\n",
       "      <td>0</td>\n",
       "      <td>0</td>\n",
       "      <td>0</td>\n",
       "      <td>0</td>\n",
       "      <td>0</td>\n",
       "      <td>0</td>\n",
       "    </tr>\n",
       "  </tbody>\n",
       "</table>\n",
       "<p>10 rows × 63 columns</p>\n",
       "</div>"
      ],
      "text/plain": [
       "     count  review_count  price*review_count  price_1  price_2  price_3  \\\n",
       "334    113    143.681416          221.243950       54       58        0   \n",
       "335     32     73.531250           82.722656       28        4        0   \n",
       "336      2     41.500000           41.500000        2        0        0   \n",
       "337      2     43.000000           64.500000        1        1        0   \n",
       "338      7     31.142857           31.142857        7        0        0   \n",
       "339      1     23.000000           23.000000        1        0        0   \n",
       "340      1     36.000000           36.000000        1        0        0   \n",
       "341      1     20.000000           40.000000        0        1        0   \n",
       "342      1     39.000000           39.000000        1        0        0   \n",
       "343      1      3.000000            6.000000        0        1        0   \n",
       "\n",
       "     price_4  rating_0.0  rating_1.0  rating_1.5  ...  cluster_36  cluster_37  \\\n",
       "334        1           0           0           6  ...           1           0   \n",
       "335        0           0           0           2  ...           1           0   \n",
       "336        0           0           0           0  ...           0           0   \n",
       "337        0           0           0           0  ...           0           0   \n",
       "338        0           0           0           0  ...           0           0   \n",
       "339        0           0           0           1  ...           0           0   \n",
       "340        0           0           0           0  ...           0           0   \n",
       "341        0           0           0           0  ...           0           0   \n",
       "342        0           0           0           0  ...           0           0   \n",
       "343        0           0           0           0  ...           0           0   \n",
       "\n",
       "     cluster_38  cluster_39  cluster_40  cluster_41  cluster_42  cluster_43  \\\n",
       "334           0           0           0           0           0           0   \n",
       "335           0           0           0           0           0           0   \n",
       "336           0           0           0           0           0           0   \n",
       "337           0           0           0           0           0           0   \n",
       "338           0           0           0           0           0           0   \n",
       "339           0           0           0           0           0           0   \n",
       "340           0           0           0           0           0           0   \n",
       "341           0           0           0           0           0           0   \n",
       "342           0           0           0           0           0           0   \n",
       "343           0           0           0           0           0           0   \n",
       "\n",
       "     cluster_44  cluster_45  \n",
       "334           0           0  \n",
       "335           0           0  \n",
       "336           0           0  \n",
       "337           0           0  \n",
       "338           0           0  \n",
       "339           1           0  \n",
       "340           0           0  \n",
       "341           0           0  \n",
       "342           0           0  \n",
       "343           0           0  \n",
       "\n",
       "[10 rows x 63 columns]"
      ]
     },
     "execution_count": 84,
     "metadata": {},
     "output_type": "execute_result"
    }
   ],
   "source": [
    "X_cluster.sort_index().tail(10)"
   ]
  },
  {
   "cell_type": "code",
   "execution_count": 85,
   "metadata": {},
   "outputs": [],
   "source": [
    "X_cluster = pd.concat([df_dummy['zip_code'],X_cluster.sort_index()],axis = 1)"
   ]
  },
  {
   "cell_type": "code",
   "execution_count": 86,
   "metadata": {},
   "outputs": [],
   "source": [
    "X_cluster.to_csv('../data/X_cluster.csv')"
   ]
  },
  {
   "cell_type": "code",
   "execution_count": 87,
   "metadata": {},
   "outputs": [],
   "source": [
    "y_pred = best_bag.predict(X_test)"
   ]
  },
  {
   "cell_type": "code",
   "execution_count": 88,
   "metadata": {},
   "outputs": [],
   "source": [
    "#X_test['residual']=y_pred"
   ]
  },
  {
   "cell_type": "code",
   "execution_count": 89,
   "metadata": {},
   "outputs": [],
   "source": [
    "#X_test[X_test['residual']>30]"
   ]
  },
  {
   "cell_type": "code",
   "execution_count": 90,
   "metadata": {},
   "outputs": [],
   "source": [
    "df_dummy['pred']=best_bag.predict(X_cluster)"
   ]
  },
  {
   "cell_type": "code",
   "execution_count": 91,
   "metadata": {},
   "outputs": [
    {
     "data": {
      "text/html": [
       "<div>\n",
       "<style scoped>\n",
       "    .dataframe tbody tr th:only-of-type {\n",
       "        vertical-align: middle;\n",
       "    }\n",
       "\n",
       "    .dataframe tbody tr th {\n",
       "        vertical-align: top;\n",
       "    }\n",
       "\n",
       "    .dataframe thead th {\n",
       "        text-align: right;\n",
       "    }\n",
       "</style>\n",
       "<table border=\"1\" class=\"dataframe\">\n",
       "  <thead>\n",
       "    <tr style=\"text-align: right;\">\n",
       "      <th></th>\n",
       "      <th>zip_code</th>\n",
       "      <th>ave_agi</th>\n",
       "      <th>count</th>\n",
       "      <th>latitude</th>\n",
       "      <th>longitude</th>\n",
       "      <th>review_count</th>\n",
       "      <th>price*review_count</th>\n",
       "      <th>price_1</th>\n",
       "      <th>price_2</th>\n",
       "      <th>price_3</th>\n",
       "      <th>...</th>\n",
       "      <th>rating_1.0</th>\n",
       "      <th>rating_1.5</th>\n",
       "      <th>rating_2.0</th>\n",
       "      <th>rating_2.5</th>\n",
       "      <th>rating_3.0</th>\n",
       "      <th>rating_3.5</th>\n",
       "      <th>rating_4.0</th>\n",
       "      <th>rating_4.5</th>\n",
       "      <th>rating_5</th>\n",
       "      <th>pred</th>\n",
       "    </tr>\n",
       "  </thead>\n",
       "  <tbody>\n",
       "    <tr>\n",
       "      <td>3</td>\n",
       "      <td>90004</td>\n",
       "      <td>59.128947</td>\n",
       "      <td>155</td>\n",
       "      <td>34.075176</td>\n",
       "      <td>-118.30568</td>\n",
       "      <td>240.987097</td>\n",
       "      <td>368.477045</td>\n",
       "      <td>77</td>\n",
       "      <td>74</td>\n",
       "      <td>4</td>\n",
       "      <td>...</td>\n",
       "      <td>0</td>\n",
       "      <td>1</td>\n",
       "      <td>2</td>\n",
       "      <td>12</td>\n",
       "      <td>15</td>\n",
       "      <td>27</td>\n",
       "      <td>57</td>\n",
       "      <td>27</td>\n",
       "      <td>14</td>\n",
       "      <td>4.807972</td>\n",
       "    </tr>\n",
       "  </tbody>\n",
       "</table>\n",
       "<p>1 rows × 22 columns</p>\n",
       "</div>"
      ],
      "text/plain": [
       "  zip_code    ave_agi  count   latitude  longitude  review_count  \\\n",
       "3    90004  59.128947    155  34.075176 -118.30568    240.987097   \n",
       "\n",
       "   price*review_count  price_1  price_2  price_3  ...  rating_1.0  rating_1.5  \\\n",
       "3          368.477045       77       74        4  ...           0           1   \n",
       "\n",
       "   rating_2.0  rating_2.5  rating_3.0  rating_3.5  rating_4.0  rating_4.5  \\\n",
       "3           2          12          15          27          57          27   \n",
       "\n",
       "   rating_5      pred  \n",
       "3        14  4.807972  \n",
       "\n",
       "[1 rows x 22 columns]"
      ]
     },
     "execution_count": 91,
     "metadata": {},
     "output_type": "execute_result"
    }
   ],
   "source": [
    "df_dummy[df_dummy['zip_code']=='90004']"
   ]
  },
  {
   "cell_type": "code",
   "execution_count": 92,
   "metadata": {},
   "outputs": [],
   "source": [
    "residuals = np.exp(y_test )- np.exp(y_pred)"
   ]
  },
  {
   "cell_type": "code",
   "execution_count": 93,
   "metadata": {},
   "outputs": [
    {
     "data": {
      "text/plain": [
       "14.462657493698973"
      ]
     },
     "execution_count": 93,
     "metadata": {},
     "output_type": "execute_result"
    }
   ],
   "source": [
    "residuals.mean()"
   ]
  },
  {
   "cell_type": "code",
   "execution_count": 94,
   "metadata": {},
   "outputs": [],
   "source": [
    "df_dummy['residual']=residuals"
   ]
  },
  {
   "cell_type": "code",
   "execution_count": 95,
   "metadata": {},
   "outputs": [
    {
     "data": {
      "text/html": [
       "<div>\n",
       "<style scoped>\n",
       "    .dataframe tbody tr th:only-of-type {\n",
       "        vertical-align: middle;\n",
       "    }\n",
       "\n",
       "    .dataframe tbody tr th {\n",
       "        vertical-align: top;\n",
       "    }\n",
       "\n",
       "    .dataframe thead th {\n",
       "        text-align: right;\n",
       "    }\n",
       "</style>\n",
       "<table border=\"1\" class=\"dataframe\">\n",
       "  <thead>\n",
       "    <tr style=\"text-align: right;\">\n",
       "      <th></th>\n",
       "      <th>zip_code</th>\n",
       "      <th>ave_agi</th>\n",
       "      <th>count</th>\n",
       "      <th>latitude</th>\n",
       "      <th>longitude</th>\n",
       "      <th>review_count</th>\n",
       "      <th>price*review_count</th>\n",
       "      <th>price_1</th>\n",
       "      <th>price_2</th>\n",
       "      <th>price_3</th>\n",
       "      <th>...</th>\n",
       "      <th>rating_1.5</th>\n",
       "      <th>rating_2.0</th>\n",
       "      <th>rating_2.5</th>\n",
       "      <th>rating_3.0</th>\n",
       "      <th>rating_3.5</th>\n",
       "      <th>rating_4.0</th>\n",
       "      <th>rating_4.5</th>\n",
       "      <th>rating_5</th>\n",
       "      <th>pred</th>\n",
       "      <th>residual</th>\n",
       "    </tr>\n",
       "  </thead>\n",
       "  <tbody>\n",
       "    <tr>\n",
       "      <td>23</td>\n",
       "      <td>90025</td>\n",
       "      <td>157.268419</td>\n",
       "      <td>230</td>\n",
       "      <td>34.044195</td>\n",
       "      <td>-118.449326</td>\n",
       "      <td>394.265217</td>\n",
       "      <td>654.8231</td>\n",
       "      <td>94</td>\n",
       "      <td>124</td>\n",
       "      <td>8</td>\n",
       "      <td>...</td>\n",
       "      <td>1</td>\n",
       "      <td>4</td>\n",
       "      <td>13</td>\n",
       "      <td>23</td>\n",
       "      <td>65</td>\n",
       "      <td>91</td>\n",
       "      <td>27</td>\n",
       "      <td>6</td>\n",
       "      <td>4.902737</td>\n",
       "      <td>NaN</td>\n",
       "    </tr>\n",
       "  </tbody>\n",
       "</table>\n",
       "<p>1 rows × 23 columns</p>\n",
       "</div>"
      ],
      "text/plain": [
       "   zip_code     ave_agi  count   latitude   longitude  review_count  \\\n",
       "23    90025  157.268419    230  34.044195 -118.449326    394.265217   \n",
       "\n",
       "    price*review_count  price_1  price_2  price_3  ...  rating_1.5  \\\n",
       "23            654.8231       94      124        8  ...           1   \n",
       "\n",
       "    rating_2.0  rating_2.5  rating_3.0  rating_3.5  rating_4.0  rating_4.5  \\\n",
       "23           4          13          23          65          91          27   \n",
       "\n",
       "    rating_5      pred  residual  \n",
       "23         6  4.902737       NaN  \n",
       "\n",
       "[1 rows x 23 columns]"
      ]
     },
     "execution_count": 95,
     "metadata": {},
     "output_type": "execute_result"
    }
   ],
   "source": [
    "df_dummy[df_dummy['zip_code']=='90025']"
   ]
  },
  {
   "cell_type": "code",
   "execution_count": 96,
   "metadata": {},
   "outputs": [
    {
     "data": {
      "text/plain": [
       "Text(0.5, 1.0, 'Residual Mean')"
      ]
     },
     "execution_count": 96,
     "metadata": {},
     "output_type": "execute_result"
    },
    {
     "data": {
      "image/png": "[encoded data removed]",
      "text/plain": [
       "<Figure size 432x288 with 1 Axes>"
      ]
     },
     "metadata": {
      "needs_background": "light"
     },
     "output_type": "display_data"
    }
   ],
   "source": [
    "plt.scatter(y_pred, residuals)\n",
    "plt.axhline(0, color='r')\n",
    "plt.title('Residual Mean',size = 20)\n",
    "#plt.savefig('./plots/residual.png')"
   ]
  },
  {
   "cell_type": "code",
   "execution_count": 97,
   "metadata": {},
   "outputs": [
    {
     "data": {
      "image/png": "[encoded data removed]",
      "text/plain": [
       "<Figure size 864x648 with 1 Axes>"
      ]
     },
     "metadata": {
      "needs_background": "light"
     },
     "output_type": "display_data"
    }
   ],
   "source": [
    "\n",
    "plt.figure(figsize=(12,9))\n",
    "plt.rc('font', size=22)\n",
    "# Generate a scatterplot of predicted values versus actual values.\n",
    "plt.scatter(y_pred, y_test, s=5, alpha = 0.5)\n",
    "\n",
    "# Plot a line.\n",
    "plt.plot([3, np.max(y_test)],\n",
    "         [3, np.max(y_test)],\n",
    "         color = 'black')\n",
    "\n",
    "# Tweak title and axis labels.\n",
    "plt.xlabel(\"Predicted Values: $\\hat{y}$\", fontsize = 20)\n",
    "plt.ylabel(\"Actual Values: $y$\", fontsize = 20)\n",
    "plt.title('Predicted Values vs. Actual Values', fontsize = 24);"
   ]
  },
  {
   "cell_type": "code",
   "execution_count": 98,
   "metadata": {},
   "outputs": [],
   "source": [
    "pickle.dump(best_bag, open('../flask_app_complete/model.p', 'wb'))"
   ]
  },
  {
   "cell_type": "code",
   "execution_count": 99,
   "metadata": {},
   "outputs": [],
   "source": [
    "test_model = pickle.load(open('../flask_app_complete/model.p','rb'))"
   ]
  },
  {
   "cell_type": "code",
   "execution_count": 100,
   "metadata": {},
   "outputs": [],
   "source": [
    "test_pred=test_model.predict(X_cluster)"
   ]
  },
  {
   "cell_type": "code",
   "execution_count": 101,
   "metadata": {},
   "outputs": [],
   "source": [
    "original_pred = best_bag.predict(X_cluster)"
   ]
  },
  {
   "cell_type": "code",
   "execution_count": 102,
   "metadata": {},
   "outputs": [
    {
     "data": {
      "text/plain": [
       "array([ True,  True,  True,  True,  True,  True,  True,  True,  True,\n",
       "        True,  True,  True,  True,  True,  True,  True,  True,  True,\n",
       "        True,  True,  True,  True,  True,  True,  True,  True,  True,\n",
       "        True,  True,  True,  True,  True,  True,  True,  True,  True,\n",
       "        True,  True,  True,  True,  True,  True,  True,  True,  True,\n",
       "        True,  True,  True,  True,  True,  True,  True,  True,  True,\n",
       "        True,  True,  True,  True,  True,  True,  True,  True,  True,\n",
       "        True,  True,  True,  True,  True,  True,  True,  True,  True,\n",
       "        True,  True,  True,  True,  True,  True,  True,  True,  True,\n",
       "        True,  True,  True,  True,  True,  True,  True,  True,  True,\n",
       "        True,  True,  True,  True,  True,  True,  True,  True,  True,\n",
       "        True,  True,  True,  True,  True,  True,  True,  True,  True,\n",
       "        True,  True,  True,  True,  True,  True,  True,  True,  True,\n",
       "        True,  True,  True,  True,  True,  True,  True,  True,  True,\n",
       "        True,  True,  True,  True,  True,  True,  True,  True,  True,\n",
       "        True,  True,  True,  True,  True,  True,  True,  True,  True,\n",
       "        True,  True,  True,  True,  True,  True,  True,  True,  True,\n",
       "        True,  True,  True,  True,  True,  True,  True,  True,  True,\n",
       "        True,  True,  True,  True,  True,  True,  True,  True,  True,\n",
       "        True,  True,  True,  True,  True,  True,  True,  True,  True,\n",
       "        True,  True,  True,  True,  True,  True,  True,  True,  True,\n",
       "        True,  True,  True,  True,  True,  True,  True,  True,  True,\n",
       "        True,  True,  True,  True,  True,  True,  True,  True,  True,\n",
       "        True,  True,  True,  True,  True,  True,  True,  True,  True,\n",
       "        True,  True,  True,  True,  True,  True,  True,  True,  True,\n",
       "        True,  True,  True,  True,  True,  True,  True,  True,  True,\n",
       "        True,  True,  True,  True,  True,  True,  True,  True,  True,\n",
       "        True,  True,  True,  True,  True,  True,  True,  True,  True,\n",
       "        True,  True,  True,  True,  True,  True,  True,  True,  True,\n",
       "        True,  True,  True,  True,  True,  True,  True,  True,  True,\n",
       "        True,  True,  True,  True,  True,  True,  True,  True,  True,\n",
       "        True,  True,  True,  True,  True,  True,  True,  True,  True,\n",
       "        True,  True,  True,  True,  True,  True,  True,  True,  True,\n",
       "        True,  True,  True,  True,  True,  True,  True,  True,  True,\n",
       "        True,  True,  True,  True,  True,  True,  True,  True,  True,\n",
       "        True,  True,  True,  True,  True,  True,  True,  True,  True,\n",
       "        True,  True,  True,  True,  True,  True,  True,  True,  True,\n",
       "        True,  True,  True,  True,  True,  True,  True,  True,  True,\n",
       "        True,  True])"
      ]
     },
     "execution_count": 102,
     "metadata": {},
     "output_type": "execute_result"
    }
   ],
   "source": [
    "test_pred== original_pred"
   ]
  },
  {
   "cell_type": "code",
   "execution_count": 103,
   "metadata": {},
   "outputs": [
    {
     "data": {
      "text/plain": [
       "64"
      ]
     },
     "execution_count": 103,
     "metadata": {},
     "output_type": "execute_result"
    }
   ],
   "source": [
    "X_cluster.columns.nunique()"
   ]
  },
  {
   "cell_type": "code",
   "execution_count": 104,
   "metadata": {},
   "outputs": [],
   "source": [
    "#best_bag.feature_importance_"
   ]
  },
  {
   "cell_type": "code",
   "execution_count": 105,
   "metadata": {},
   "outputs": [],
   "source": [
    "def affluency_predictor(to_predict):\n",
    "    \n",
    "    # format the variable\n",
    "    session_int = int(to_predict.strip())\n",
    "    \n",
    "    df = pd.read_csv(\"../Data/X_cluster.csv\")\n",
    "    \n",
    "    df = df[['zip_code', 'count', 'review_count', 'price*review_count', 'price_1', 'price_2',\n",
    "      'price_3', 'price_4', 'rating_0.0', 'rating_1.0', 'rating_1.5',\n",
    "      'rating_2.0', 'rating_2.5', 'rating_3.0', 'rating_3.5', 'rating_4.0',\n",
    "      'rating_4.5', 'rating_5', 'cluster_0', 'cluster_1', 'cluster_2',\n",
    "      'cluster_3', 'cluster_4', 'cluster_5', 'cluster_6', 'cluster_7',\n",
    "      'cluster_8', 'cluster_9', 'cluster_10', 'cluster_11', 'cluster_12',\n",
    "      'cluster_13', 'cluster_14', 'cluster_15', 'cluster_16', 'cluster_17',\n",
    "      'cluster_18', 'cluster_19', 'cluster_20', 'cluster_21', 'cluster_22',\n",
    "      'cluster_23', 'cluster_24', 'cluster_25', 'cluster_26', 'cluster_27',\n",
    "      'cluster_28', 'cluster_29', 'cluster_30', 'cluster_31', 'cluster_32',\n",
    "      'cluster_33', 'cluster_34', 'cluster_35', 'cluster_36', 'cluster_37',\n",
    "      'cluster_38', 'cluster_39', 'cluster_40', 'cluster_41', 'cluster_42',\n",
    "      'cluster_43', 'cluster_44', 'cluster_45']]\n",
    "   \n",
    "    # create array from dataframe row\n",
    "    predict_array = df[df['zip_code'] == session_int]\n",
    "    \n",
    "    print(predict_array)\n",
    "    \n",
    "    # load trained model\n",
    "    loaded_model = pickle.load(open(\"../flask_app_complete/model.p\", \"rb\"))\n",
    "    \n",
    "    # predict//this is where error occurs\n",
    "    result = loaded_model.predict(predict_array)\n",
    "    \n",
    "    print(result)\n",
    "    print('------------')\n",
    "    \n",
    "    map_df = pd.read_csv('../data/data_zipcode.csv')\n",
    "    la_coord = (34.0522, -118.2437)\n",
    "    maps = folium.Map(location=la_coord, zoom_start=11)\n",
    "    \n",
    "    for each in map_df.iterrows():\n",
    "        if int(each[1]['zip_code']) == session_int:\n",
    "            popup_text = folium.Html(f\"\"\" \n",
    "                <strong>Zip Code: {each[1][\"zip_code\"].astype(int)}</strong> \n",
    "                </br>Avg. IRS Income (Thousands): {each[1][\"ave_agi\"].round(3)}\n",
    "                </br>Predicted Income Thousands: {result[0].round(3)}\n",
    "                </br>Avg. $ of Businesses: {each[1][\"price\"].round(3)}\n",
    "                </br> Number of Businesses: {int(each[1][\"count\"])}\"\"\",\n",
    "                script=True)\n",
    "            \n",
    "            popup = folium.Popup(popup_text, max_width=2650, show=True)\n",
    "\n",
    "            coord = (each[1]['latitude'],each[1]['longitude'])\n",
    "            \n",
    "            maps = folium.Map(location=coord, zoom_start=13)\n",
    "            \n",
    "            \n",
    "            folium.Marker(\n",
    "                location = [each[1]['latitude'],each[1]['longitude']],\n",
    "                popup=popup,\n",
    "                clustered_marker = True).add_to(maps)\n",
    "            \n",
    "    \n",
    "\n",
    "    return maps"
   ]
  },
  {
   "cell_type": "code",
   "execution_count": 106,
   "metadata": {},
   "outputs": [],
   "source": [
    "#!pip install folium"
   ]
  },
  {
   "cell_type": "code",
   "execution_count": 107,
   "metadata": {},
   "outputs": [],
   "source": [
    "import folium"
   ]
  },
  {
   "cell_type": "code",
   "execution_count": 108,
   "metadata": {
    "scrolled": true
   },
   "outputs": [
    {
     "name": "stdout",
     "output_type": "stream",
     "text": [
      "    zip_code  count  review_count  price*review_count  price_1  price_2  \\\n",
      "23     90025    230    394.265217            654.8231       94      124   \n",
      "\n",
      "    price_3  price_4  rating_0.0  rating_1.0  ...  cluster_36  cluster_37  \\\n",
      "23        8        4           0           0  ...           0           0   \n",
      "\n",
      "    cluster_38  cluster_39  cluster_40  cluster_41  cluster_42  cluster_43  \\\n",
      "23           0           0           0           0           0           0   \n",
      "\n",
      "    cluster_44  cluster_45  \n",
      "23           0           0  \n",
      "\n",
      "[1 rows x 64 columns]\n",
      "[4.90273699]\n",
      "------------\n"
     ]
    },
    {
     "data": {
      "text/html": [
       "<div style=\"width:100%;\"><div style=\"position:relative;width:100%;height:0;padding-bottom:60%;\"><iframe src=\"data:text/html;charset=utf-8;base64,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\" style=\"position:absolute;width:100%;height:100%;left:0;top:0;border:none !important;\" allowfullscreen webkitallowfullscreen mozallowfullscreen></iframe></div></div>"
      ],
      "text/plain": [
       "<folium.folium.Map at 0x1a2c21fac8>"
      ]
     },
     "execution_count": 108,
     "metadata": {},
     "output_type": "execute_result"
    }
   ],
   "source": [
    "affluency_predictor('90025')"
   ]
  },
  {
   "cell_type": "code",
   "execution_count": null,
   "metadata": {},
   "outputs": [],
   "source": []
  }
 ],
 "metadata": {
  "kernelspec": {
   "display_name": "Python 3",
   "language": "python",
   "name": "python3"
  },
  "language_info": {
   "codemirror_mode": {
    "name": "ipython",
    "version": 3
   },
   "file_extension": ".py",
   "mimetype": "text/x-python",
   "name": "python",
   "nbconvert_exporter": "python",
   "pygments_lexer": "ipython3",
   "version": "3.7.3"
  }
 },
 "nbformat": 4,
 "nbformat_minor": 2
}
