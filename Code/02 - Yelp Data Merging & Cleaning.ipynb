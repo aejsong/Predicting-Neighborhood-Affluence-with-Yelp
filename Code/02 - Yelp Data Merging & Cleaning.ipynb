{
 "cells": [
  {
   "cell_type": "markdown",
   "metadata": {},
   "source": [
    "# Yelp Data Merging"
   ]
  },
  {
   "cell_type": "code",
   "execution_count": 1,
   "metadata": {},
   "outputs": [],
   "source": [
    "# Copied and pasted from my imports from project 3, \n",
    "# delete if we dont need(Aerika)\n",
    "\n",
    "import pandas as pd\n",
    "import numpy as np\n",
    "import matplotlib.pyplot as plt\n",
    "import seaborn as sns\n",
    "import os\n",
    "\n",
    "from sklearn.feature_extraction.text import CountVectorizer, TfidfVectorizer\n",
    "from sklearn.feature_extraction import stop_words\n",
    "\n",
    "from sklearn.pipeline import Pipeline\n",
    "\n",
    "from sklearn.model_selection import train_test_split, GridSearchCV\n",
    "\n",
    "from sklearn.linear_model import LogisticRegression\n",
    "\n",
    "from sklearn.naive_bayes import MultinomialNB, ComplementNB, GaussianNB, BernoulliNB\n",
    "\n",
    "from sklearn.metrics import confusion_matrix, accuracy_score, roc_curve, auc\n",
    "\n",
    "from nltk.stem import WordNetLemmatizer\n",
    "from nltk.stem.porter import PorterStemmer\n",
    "from nltk.stem import SnowballStemmer\n",
    "from nltk.tokenize import ToktokTokenizer\n",
    "from nltk.sentiment.vader import SentimentIntensityAnalyzer\n",
    "from nltk.corpus import stopwords \n",
    "\n",
    "import regex as re\n",
    "\n",
    "from scipy.stats import ttest_ind"
   ]
  },
  {
   "cell_type": "code",
   "execution_count": 2,
   "metadata": {
    "scrolled": true
   },
   "outputs": [],
   "source": [
    "file_paths = []\n",
    "for file in os.listdir('../data'):\n",
    "    if 'businesses2019' in file:\n",
    "        file_paths.append('../data/'+file)"
   ]
  },
  {
   "cell_type": "code",
   "execution_count": 3,
   "metadata": {},
   "outputs": [],
   "source": [
    "master_df = {\n",
    "    'id': [],\n",
    "    'latitude': [],\n",
    "    'longitude': [],\n",
    "    'price': [],\n",
    "    'review_count': [],\n",
    "    'rating': [],\n",
    "    'zip_code': [],\n",
    "    'city': [],\n",
    "    'alias': [],\n",
    "    'category': [],\n",
    "}\n",
    "\n",
    "master_df = pd.DataFrame(master_df)"
   ]
  },
  {
   "cell_type": "code",
   "execution_count": 4,
   "metadata": {},
   "outputs": [
    {
     "name": "stderr",
     "output_type": "stream",
     "text": [
      "C:\\Users\\m6zha\\Anaconda3\\lib\\site-packages\\ipykernel_launcher.py:3: FutureWarning: Sorting because non-concatenation axis is not aligned. A future version\n",
      "of pandas will change to not sort by default.\n",
      "\n",
      "To accept the future behavior, pass 'sort=False'.\n",
      "\n",
      "To retain the current behavior and silence the warning, pass 'sort=True'.\n",
      "\n",
      "  This is separate from the ipykernel package so we can avoid doing imports until\n"
     ]
    },
    {
     "data": {
      "text/html": [
       "<div>\n",
       "<style scoped>\n",
       "    .dataframe tbody tr th:only-of-type {\n",
       "        vertical-align: middle;\n",
       "    }\n",
       "\n",
       "    .dataframe tbody tr th {\n",
       "        vertical-align: top;\n",
       "    }\n",
       "\n",
       "    .dataframe thead th {\n",
       "        text-align: right;\n",
       "    }\n",
       "</style>\n",
       "<table border=\"1\" class=\"dataframe\">\n",
       "  <thead>\n",
       "    <tr style=\"text-align: right;\">\n",
       "      <th></th>\n",
       "      <th>alias</th>\n",
       "      <th>category</th>\n",
       "      <th>city</th>\n",
       "      <th>id</th>\n",
       "      <th>latitude</th>\n",
       "      <th>longitude</th>\n",
       "      <th>price</th>\n",
       "      <th>rating</th>\n",
       "      <th>review_count</th>\n",
       "      <th>zip_code</th>\n",
       "    </tr>\n",
       "  </thead>\n",
       "  <tbody>\n",
       "    <tr>\n",
       "      <td>0</td>\n",
       "      <td>nelsons-rancho-palos-verdes</td>\n",
       "      <td>['comfortfood', 'bars']</td>\n",
       "      <td>Rancho Palos Verdes</td>\n",
       "      <td>6cj1SyuhiBcuw5O0zLooUw</td>\n",
       "      <td>33.736753</td>\n",
       "      <td>-118.399057</td>\n",
       "      <td>$$</td>\n",
       "      <td>3.5</td>\n",
       "      <td>1034.0</td>\n",
       "      <td>90275</td>\n",
       "    </tr>\n",
       "    <tr>\n",
       "      <td>1</td>\n",
       "      <td>cielo-point-rancho-palos-verdes</td>\n",
       "      <td>['tradamerican']</td>\n",
       "      <td>Rancho Palos Verdes</td>\n",
       "      <td>zBCW_Ozlk5VeSoue626JUg</td>\n",
       "      <td>33.737931</td>\n",
       "      <td>-118.396190</td>\n",
       "      <td>$$</td>\n",
       "      <td>4.0</td>\n",
       "      <td>16.0</td>\n",
       "      <td>90275</td>\n",
       "    </tr>\n",
       "    <tr>\n",
       "      <td>2</td>\n",
       "      <td>bashi-rancho-palos-verdes</td>\n",
       "      <td>['asianfusion', 'sushi', 'noodles']</td>\n",
       "      <td>Rancho Palos Verdes</td>\n",
       "      <td>49Ib3q8XKr6nnWIxO_qx0Q</td>\n",
       "      <td>33.738209</td>\n",
       "      <td>-118.397316</td>\n",
       "      <td>$$</td>\n",
       "      <td>3.5</td>\n",
       "      <td>205.0</td>\n",
       "      <td>90275</td>\n",
       "    </tr>\n",
       "    <tr>\n",
       "      <td>3</td>\n",
       "      <td>spa-cafe-rancho-palos-verdes-3</td>\n",
       "      <td>['cafes']</td>\n",
       "      <td>Rancho Palos Verdes</td>\n",
       "      <td>XxE8ccFye-bSfx4N8rJ8RA</td>\n",
       "      <td>33.738226</td>\n",
       "      <td>-118.397658</td>\n",
       "      <td>$$</td>\n",
       "      <td>3.0</td>\n",
       "      <td>5.0</td>\n",
       "      <td>90275</td>\n",
       "    </tr>\n",
       "    <tr>\n",
       "      <td>4</td>\n",
       "      <td>lobby-bar-rancho-palos-verdes</td>\n",
       "      <td>['newamerican', 'lounges']</td>\n",
       "      <td>Rancho Palos Verdes</td>\n",
       "      <td>T9h21w-CPJi9NyLLIl8vTQ</td>\n",
       "      <td>33.738267</td>\n",
       "      <td>-118.397911</td>\n",
       "      <td>$$</td>\n",
       "      <td>4.0</td>\n",
       "      <td>74.0</td>\n",
       "      <td>90275</td>\n",
       "    </tr>\n",
       "  </tbody>\n",
       "</table>\n",
       "</div>"
      ],
      "text/plain": [
       "                             alias                             category  \\\n",
       "0      nelsons-rancho-palos-verdes              ['comfortfood', 'bars']   \n",
       "1  cielo-point-rancho-palos-verdes                     ['tradamerican']   \n",
       "2        bashi-rancho-palos-verdes  ['asianfusion', 'sushi', 'noodles']   \n",
       "3   spa-cafe-rancho-palos-verdes-3                            ['cafes']   \n",
       "4    lobby-bar-rancho-palos-verdes           ['newamerican', 'lounges']   \n",
       "\n",
       "                  city                      id   latitude   longitude price  \\\n",
       "0  Rancho Palos Verdes  6cj1SyuhiBcuw5O0zLooUw  33.736753 -118.399057    $$   \n",
       "1  Rancho Palos Verdes  zBCW_Ozlk5VeSoue626JUg  33.737931 -118.396190    $$   \n",
       "2  Rancho Palos Verdes  49Ib3q8XKr6nnWIxO_qx0Q  33.738209 -118.397316    $$   \n",
       "3  Rancho Palos Verdes  XxE8ccFye-bSfx4N8rJ8RA  33.738226 -118.397658    $$   \n",
       "4  Rancho Palos Verdes  T9h21w-CPJi9NyLLIl8vTQ  33.738267 -118.397911    $$   \n",
       "\n",
       "   rating  review_count zip_code  \n",
       "0     3.5        1034.0    90275  \n",
       "1     4.0          16.0    90275  \n",
       "2     3.5         205.0    90275  \n",
       "3     3.0           5.0    90275  \n",
       "4     4.0          74.0    90275  "
      ]
     },
     "execution_count": 4,
     "metadata": {},
     "output_type": "execute_result"
    }
   ],
   "source": [
    "for path in file_paths:\n",
    "    \n",
    "    master_df = pd.concat([master_df, pd.read_csv(path)])\n",
    "\n",
    "master_df.head()"
   ]
  },
  {
   "cell_type": "code",
   "execution_count": 5,
   "metadata": {},
   "outputs": [
    {
     "data": {
      "text/plain": [
       "(98830, 10)"
      ]
     },
     "execution_count": 5,
     "metadata": {},
     "output_type": "execute_result"
    }
   ],
   "source": [
    "# Seeing shape of dataframe BEFORE dropping duplicates \n",
    "\n",
    "master_df.shape"
   ]
  },
  {
   "cell_type": "code",
   "execution_count": 6,
   "metadata": {},
   "outputs": [],
   "source": [
    "# Dropping duplicates\n",
    "\n",
    "master_df = master_df.sort_values(['alias',\n",
    "                       'id', 'latitude', 'longitude', 'review_count'],\n",
    "                      ascending = False).drop_duplicates(subset = ['id', 'alias', 'zip_code'],\n",
    "                                                         keep ='first')"
   ]
  },
  {
   "cell_type": "code",
   "execution_count": 7,
   "metadata": {},
   "outputs": [
    {
     "data": {
      "text/plain": [
       "(34876, 10)"
      ]
     },
     "execution_count": 7,
     "metadata": {},
     "output_type": "execute_result"
    }
   ],
   "source": [
    "# Shape of df AFTER dropping duplicates\n",
    "\n",
    "master_df.shape"
   ]
  },
  {
   "cell_type": "code",
   "execution_count": 8,
   "metadata": {},
   "outputs": [],
   "source": [
    "# Resetting master_df index\n",
    "\n",
    "master_df.reset_index(inplace=True)\n",
    "master_df.drop(columns='index', inplace=True)"
   ]
  },
  {
   "cell_type": "markdown",
   "metadata": {},
   "source": [
    "# NaNs in master_df"
   ]
  },
  {
   "cell_type": "code",
   "execution_count": 9,
   "metadata": {},
   "outputs": [
    {
     "data": {
      "text/plain": [
       "alias             1\n",
       "category          1\n",
       "city              1\n",
       "id                1\n",
       "latitude         17\n",
       "longitude        17\n",
       "price             1\n",
       "rating            1\n",
       "review_count      1\n",
       "zip_code        123\n",
       "dtype: int64"
      ]
     },
     "execution_count": 9,
     "metadata": {},
     "output_type": "execute_result"
    }
   ],
   "source": [
    "master_df.isna().sum()"
   ]
  },
  {
   "cell_type": "code",
   "execution_count": 10,
   "metadata": {},
   "outputs": [
    {
     "data": {
      "text/plain": [
       "(34704, 10)"
      ]
     },
     "execution_count": 10,
     "metadata": {},
     "output_type": "execute_result"
    }
   ],
   "source": [
    "# Dropping rows w/ prices that aren't $, $$, $$$, or $$$$.\n",
    "\n",
    "data_drop_df = master_df.loc[(master_df['price'] != '$') & (master_df['price'] != '$$') & (master_df['price'] != '$$$') & (master_df['price'] != '$$$$')]\n",
    "drop_indexes = list(data_drop_df.index)\n",
    "\n",
    "master_df.drop(index=drop_indexes, inplace = True)\n",
    "master_df.shape\n"
   ]
  },
  {
   "cell_type": "code",
   "execution_count": 11,
   "metadata": {},
   "outputs": [
    {
     "data": {
      "text/plain": [
       "(34588, 10)"
      ]
     },
     "execution_count": 11,
     "metadata": {},
     "output_type": "execute_result"
    }
   ],
   "source": [
    "# Businesses that don't have latitude/zipcodes = Food Trucks, Caterers --> dropped\n",
    "\n",
    "food_trucks = master_df.loc[(master_df['latitude'].isna()) | (master_df['zip_code'].isna())].index.tolist()\n",
    "\n",
    "master_df.drop(index = food_trucks, inplace = True)\n",
    "master_df.shape\n"
   ]
  },
  {
   "cell_type": "code",
   "execution_count": 12,
   "metadata": {
    "scrolled": true
   },
   "outputs": [
    {
     "data": {
      "text/plain": [
       "alias           0\n",
       "category        0\n",
       "city            0\n",
       "id              0\n",
       "latitude        0\n",
       "longitude       0\n",
       "price           0\n",
       "rating          0\n",
       "review_count    0\n",
       "zip_code        0\n",
       "dtype: int64"
      ]
     },
     "execution_count": 12,
     "metadata": {},
     "output_type": "execute_result"
    }
   ],
   "source": [
    "master_df.isna().sum()"
   ]
  },
  {
   "cell_type": "markdown",
   "metadata": {},
   "source": [
    "# Replacing \\\\$ in price to numbers"
   ]
  },
  {
   "cell_type": "code",
   "execution_count": 13,
   "metadata": {},
   "outputs": [],
   "source": [
    "master_df['price'] = master_df['price'].map({'$$$$':4, '$$$':3, '$$':2,'$':1})"
   ]
  },
  {
   "cell_type": "code",
   "execution_count": 14,
   "metadata": {
    "scrolled": false
   },
   "outputs": [
    {
     "data": {
      "text/html": [
       "<div>\n",
       "<style scoped>\n",
       "    .dataframe tbody tr th:only-of-type {\n",
       "        vertical-align: middle;\n",
       "    }\n",
       "\n",
       "    .dataframe tbody tr th {\n",
       "        vertical-align: top;\n",
       "    }\n",
       "\n",
       "    .dataframe thead th {\n",
       "        text-align: right;\n",
       "    }\n",
       "</style>\n",
       "<table border=\"1\" class=\"dataframe\">\n",
       "  <thead>\n",
       "    <tr style=\"text-align: right;\">\n",
       "      <th></th>\n",
       "      <th>alias</th>\n",
       "      <th>category</th>\n",
       "      <th>city</th>\n",
       "      <th>id</th>\n",
       "      <th>latitude</th>\n",
       "      <th>longitude</th>\n",
       "      <th>price</th>\n",
       "      <th>rating</th>\n",
       "      <th>review_count</th>\n",
       "      <th>zip_code</th>\n",
       "    </tr>\n",
       "  </thead>\n",
       "  <tbody>\n",
       "    <tr>\n",
       "      <td>0</td>\n",
       "      <td>重庆特色小面-chongqing-special-noodles-san-gabriel-3</td>\n",
       "      <td>['noodles', 'chinese']</td>\n",
       "      <td>San Gabriel</td>\n",
       "      <td>mm6l24khOfXhKqn4pKVojA</td>\n",
       "      <td>34.103070</td>\n",
       "      <td>-118.091840</td>\n",
       "      <td>1</td>\n",
       "      <td>4.0</td>\n",
       "      <td>204.0</td>\n",
       "      <td>91776</td>\n",
       "    </tr>\n",
       "    <tr>\n",
       "      <td>1</td>\n",
       "      <td>重庆小面-best-noodle-house-rosemead-3</td>\n",
       "      <td>['noodles', 'szechuan']</td>\n",
       "      <td>Rosemead</td>\n",
       "      <td>DgXxBgUEvARu45x7RSgYRw</td>\n",
       "      <td>34.081182</td>\n",
       "      <td>-118.066226</td>\n",
       "      <td>1</td>\n",
       "      <td>4.0</td>\n",
       "      <td>141.0</td>\n",
       "      <td>91770</td>\n",
       "    </tr>\n",
       "  </tbody>\n",
       "</table>\n",
       "</div>"
      ],
      "text/plain": [
       "                                            alias                 category  \\\n",
       "0  重庆特色小面-chongqing-special-noodles-san-gabriel-3   ['noodles', 'chinese']   \n",
       "1               重庆小面-best-noodle-house-rosemead-3  ['noodles', 'szechuan']   \n",
       "\n",
       "          city                      id   latitude   longitude  price  rating  \\\n",
       "0  San Gabriel  mm6l24khOfXhKqn4pKVojA  34.103070 -118.091840      1     4.0   \n",
       "1     Rosemead  DgXxBgUEvARu45x7RSgYRw  34.081182 -118.066226      1     4.0   \n",
       "\n",
       "   review_count zip_code  \n",
       "0         204.0    91776  \n",
       "1         141.0    91770  "
      ]
     },
     "execution_count": 14,
     "metadata": {},
     "output_type": "execute_result"
    }
   ],
   "source": [
    "master_df.head(2)"
   ]
  },
  {
   "cell_type": "code",
   "execution_count": 15,
   "metadata": {},
   "outputs": [
    {
     "ename": "SyntaxError",
     "evalue": "invalid syntax (<ipython-input-15-cf44d25830d2>, line 1)",
     "output_type": "error",
     "traceback": [
      "\u001b[1;36m  File \u001b[1;32m\"<ipython-input-15-cf44d25830d2>\"\u001b[1;36m, line \u001b[1;32m1\u001b[0m\n\u001b[1;33m    master_df.loc[master_df['latitude']>]\u001b[0m\n\u001b[1;37m                                        ^\u001b[0m\n\u001b[1;31mSyntaxError\u001b[0m\u001b[1;31m:\u001b[0m invalid syntax\n"
     ]
    }
   ],
   "source": [
    "master_df.loc[master_df['latitude']>]"
   ]
  },
  {
   "cell_type": "markdown",
   "metadata": {},
   "source": [
    "# Dropping Rows \n",
    "- convert zip_codes from float -> int -> str\n",
    "- zipcodes that don't start with '9'"
   ]
  },
  {
   "cell_type": "code",
   "execution_count": 16,
   "metadata": {},
   "outputs": [],
   "source": [
    "master_df = master_df.reset_index(drop=True)"
   ]
  },
  {
   "cell_type": "code",
   "execution_count": 17,
   "metadata": {},
   "outputs": [],
   "source": [
    "master_df['zip_code'] = master_df['zip_code'].astype(int).astype(str)"
   ]
  },
  {
   "cell_type": "code",
   "execution_count": 18,
   "metadata": {},
   "outputs": [],
   "source": [
    "notin_la = []\n",
    "for i in range(len(master_df['zip_code'])):\n",
    "    if master_df['zip_code'][i].startswith('9') == False:\n",
    "        notin_la.append(master_df['zip_code'].index[i])"
   ]
  },
  {
   "cell_type": "code",
   "execution_count": 19,
   "metadata": {},
   "outputs": [
    {
     "data": {
      "text/plain": [
       "[1144,\n",
       " 2080,\n",
       " 3699,\n",
       " 5544,\n",
       " 7982,\n",
       " 9716,\n",
       " 11556,\n",
       " 11557,\n",
       " 11902,\n",
       " 11911,\n",
       " 11922,\n",
       " 11927,\n",
       " 11929,\n",
       " 11938,\n",
       " 11939,\n",
       " 11941,\n",
       " 11952,\n",
       " 11964,\n",
       " 11965,\n",
       " 12004,\n",
       " 12025,\n",
       " 12026,\n",
       " 12027,\n",
       " 12053,\n",
       " 12057,\n",
       " 12063,\n",
       " 12066,\n",
       " 12067,\n",
       " 12068,\n",
       " 12069,\n",
       " 12070,\n",
       " 12085,\n",
       " 12086,\n",
       " 12089,\n",
       " 12092,\n",
       " 12100,\n",
       " 17671,\n",
       " 17941,\n",
       " 18246,\n",
       " 18247,\n",
       " 19896,\n",
       " 19897,\n",
       " 22479,\n",
       " 28930,\n",
       " 30545,\n",
       " 32529]"
      ]
     },
     "execution_count": 19,
     "metadata": {},
     "output_type": "execute_result"
    }
   ],
   "source": [
    "notin_la"
   ]
  },
  {
   "cell_type": "code",
   "execution_count": 20,
   "metadata": {},
   "outputs": [
    {
     "data": {
      "text/plain": [
       "(34588, 10)"
      ]
     },
     "execution_count": 20,
     "metadata": {},
     "output_type": "execute_result"
    }
   ],
   "source": [
    "master_df.shape"
   ]
  },
  {
   "cell_type": "code",
   "execution_count": 21,
   "metadata": {},
   "outputs": [],
   "source": [
    "master_df = master_df.drop(index=notin_la).reset_index(drop=True)"
   ]
  },
  {
   "cell_type": "markdown",
   "metadata": {},
   "source": [
    "# Removing rows that aren't around the same latitude/longitude"
   ]
  },
  {
   "cell_type": "code",
   "execution_count": 22,
   "metadata": {},
   "outputs": [],
   "source": [
    "master_df = master_df.drop(index=master_df.loc[(master_df['longitude'] > -117) | (master_df['latitude'] > 35)].index).reset_index(drop=True)"
   ]
  },
  {
   "cell_type": "code",
   "execution_count": 23,
   "metadata": {},
   "outputs": [
    {
     "data": {
      "text/plain": [
       "(34530, 10)"
      ]
     },
     "execution_count": 23,
     "metadata": {},
     "output_type": "execute_result"
    }
   ],
   "source": [
    "master_df.shape"
   ]
  },
  {
   "cell_type": "markdown",
   "metadata": {},
   "source": [
    "# Feature Engineering"
   ]
  },
  {
   "cell_type": "code",
   "execution_count": 24,
   "metadata": {},
   "outputs": [],
   "source": [
    "master_df['price*rating'] = master_df['price'] * master_df['rating']"
   ]
  },
  {
   "cell_type": "markdown",
   "metadata": {},
   "source": [
    "## Save the cleaned data to a CSV"
   ]
  },
  {
   "cell_type": "code",
   "execution_count": 27,
   "metadata": {},
   "outputs": [],
   "source": [
    "# Don't uncomment this unless you actually want to create a new csv\n",
    "\n",
    "# master_df.to_csv('../data/master.csv')"
   ]
  },
  {
   "cell_type": "code",
   "execution_count": null,
   "metadata": {},
   "outputs": [],
   "source": []
  }
 ],
 "metadata": {
  "kernelspec": {
   "display_name": "Python 3",
   "language": "python",
   "name": "python3"
  },
  "language_info": {
   "codemirror_mode": {
    "name": "ipython",
    "version": 3
   },
   "file_extension": ".py",
   "mimetype": "text/x-python",
   "name": "python",
   "nbconvert_exporter": "python",
   "pygments_lexer": "ipython3",
   "version": "3.7.3"
  }
 },
 "nbformat": 4,
 "nbformat_minor": 2
}
