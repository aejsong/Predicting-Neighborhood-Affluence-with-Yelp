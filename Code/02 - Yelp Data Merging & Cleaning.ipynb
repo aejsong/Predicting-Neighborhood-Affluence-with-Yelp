{
 "cells": [
  {
   "cell_type": "markdown",
   "metadata": {},
   "source": [
    "# Yelp Data Merging"
   ]
  },
  {
   "cell_type": "code",
   "execution_count": 1,
   "metadata": {},
   "outputs": [],
   "source": [
    "# Copied and pasted from my imports from project 3, \n",
    "# delete if we dont need(Aerika)\n",
    "\n",
    "import pandas as pd\n",
    "import numpy as np\n",
    "import matplotlib.pyplot as plt\n",
    "import seaborn as sns\n",
    "import os\n",
    "\n",
    "from sklearn.feature_extraction.text import CountVectorizer, TfidfVectorizer\n",
    "from sklearn.feature_extraction import stop_words\n",
    "\n",
    "from sklearn.pipeline import Pipeline\n",
    "\n",
    "from sklearn.model_selection import train_test_split, GridSearchCV\n",
    "\n",
    "from sklearn.linear_model import LogisticRegression\n",
    "\n",
    "from sklearn.naive_bayes import MultinomialNB, ComplementNB, GaussianNB, BernoulliNB\n",
    "\n",
    "from sklearn.metrics import confusion_matrix, accuracy_score, roc_curve, auc\n",
    "\n",
    "from nltk.stem import WordNetLemmatizer\n",
    "from nltk.stem.porter import PorterStemmer\n",
    "from nltk.stem import SnowballStemmer\n",
    "from nltk.tokenize import ToktokTokenizer\n",
    "from nltk.sentiment.vader import SentimentIntensityAnalyzer\n",
    "from nltk.corpus import stopwords \n",
    "\n",
    "import regex as re\n",
    "\n",
    "from scipy.stats import ttest_ind"
   ]
  },
  {
   "cell_type": "code",
   "execution_count": 2,
   "metadata": {
    "scrolled": true
   },
   "outputs": [],
   "source": [
    "file_paths = []\n",
    "for file in os.listdir('../data'):\n",
    "    if 'businesses2019' in file:\n",
    "        file_paths.append('../data/'+file)"
   ]
  },
  {
   "cell_type": "code",
   "execution_count": 3,
   "metadata": {},
   "outputs": [],
   "source": [
    "master_df = {\n",
    "    'id': [],\n",
    "    'latitude': [],\n",
    "    'longitude': [],\n",
    "    'price': [],\n",
    "    'review_count': [],\n",
    "    'rating': [],\n",
    "    'zip_code': [],\n",
    "    'city': [],\n",
    "    'alias': [],\n",
    "    'category': [],\n",
    "}\n",
    "\n",
    "master_df = pd.DataFrame(master_df)"
   ]
  },
  {
   "cell_type": "code",
   "execution_count": 4,
   "metadata": {},
   "outputs": [
    {
     "name": "stderr",
     "output_type": "stream",
     "text": [
      "/Users/Work/anaconda3/lib/python3.7/site-packages/ipykernel_launcher.py:3: FutureWarning: Sorting because non-concatenation axis is not aligned. A future version\n",
      "of pandas will change to not sort by default.\n",
      "\n",
      "To accept the future behavior, pass 'sort=False'.\n",
      "\n",
      "To retain the current behavior and silence the warning, pass 'sort=True'.\n",
      "\n",
      "  This is separate from the ipykernel package so we can avoid doing imports until\n"
     ]
    },
    {
     "data": {
      "text/html": [
       "<div>\n",
       "<style scoped>\n",
       "    .dataframe tbody tr th:only-of-type {\n",
       "        vertical-align: middle;\n",
       "    }\n",
       "\n",
       "    .dataframe tbody tr th {\n",
       "        vertical-align: top;\n",
       "    }\n",
       "\n",
       "    .dataframe thead th {\n",
       "        text-align: right;\n",
       "    }\n",
       "</style>\n",
       "<table border=\"1\" class=\"dataframe\">\n",
       "  <thead>\n",
       "    <tr style=\"text-align: right;\">\n",
       "      <th></th>\n",
       "      <th>alias</th>\n",
       "      <th>category</th>\n",
       "      <th>city</th>\n",
       "      <th>id</th>\n",
       "      <th>latitude</th>\n",
       "      <th>longitude</th>\n",
       "      <th>price</th>\n",
       "      <th>rating</th>\n",
       "      <th>review_count</th>\n",
       "      <th>zip_code</th>\n",
       "    </tr>\n",
       "  </thead>\n",
       "  <tbody>\n",
       "    <tr>\n",
       "      <td>0</td>\n",
       "      <td>chichen-itza-restaurant-los-angeles-3</td>\n",
       "      <td>['mexican', 'sandwiches', 'soup']</td>\n",
       "      <td>Los Angeles</td>\n",
       "      <td>vC_6J_nGyf4J8xt-Vu6Shw</td>\n",
       "      <td>34.017440</td>\n",
       "      <td>-118.278300</td>\n",
       "      <td>$$</td>\n",
       "      <td>4.5</td>\n",
       "      <td>1190.0</td>\n",
       "      <td>90007.0</td>\n",
       "    </tr>\n",
       "    <tr>\n",
       "      <td>1</td>\n",
       "      <td>NaN</td>\n",
       "      <td>['childrensmuseums']</td>\n",
       "      <td>NaN</td>\n",
       "      <td>NaN</td>\n",
       "      <td>NaN</td>\n",
       "      <td>NaN</td>\n",
       "      <td>NaN</td>\n",
       "      <td>NaN</td>\n",
       "      <td>NaN</td>\n",
       "      <td>NaN</td>\n",
       "    </tr>\n",
       "    <tr>\n",
       "      <td>2</td>\n",
       "      <td>NaN</td>\n",
       "      <td>['museums']</td>\n",
       "      <td>NaN</td>\n",
       "      <td>NaN</td>\n",
       "      <td>NaN</td>\n",
       "      <td>NaN</td>\n",
       "      <td>NaN</td>\n",
       "      <td>NaN</td>\n",
       "      <td>NaN</td>\n",
       "      <td>NaN</td>\n",
       "    </tr>\n",
       "    <tr>\n",
       "      <td>3</td>\n",
       "      <td>figueroa-philly-cheese-steak-los-angeles-2</td>\n",
       "      <td>['cheesesteaks', 'sandwiches', 'breakfast_brun...</td>\n",
       "      <td>Los Angeles</td>\n",
       "      <td>vfHJzF0ShYtwmotXE-0PiA</td>\n",
       "      <td>34.014196</td>\n",
       "      <td>-118.282417</td>\n",
       "      <td>$$</td>\n",
       "      <td>4.5</td>\n",
       "      <td>1076.0</td>\n",
       "      <td>90037.0</td>\n",
       "    </tr>\n",
       "    <tr>\n",
       "      <td>4</td>\n",
       "      <td>dirt-dog-los-angeles-4</td>\n",
       "      <td>['hotdog', 'beerbar']</td>\n",
       "      <td>Los Angeles</td>\n",
       "      <td>0z23Jk7U_MpvtqKINPL2fA</td>\n",
       "      <td>34.028292</td>\n",
       "      <td>-118.275208</td>\n",
       "      <td>$</td>\n",
       "      <td>4.5</td>\n",
       "      <td>1900.0</td>\n",
       "      <td>90007.0</td>\n",
       "    </tr>\n",
       "  </tbody>\n",
       "</table>\n",
       "</div>"
      ],
      "text/plain": [
       "                                        alias  \\\n",
       "0       chichen-itza-restaurant-los-angeles-3   \n",
       "1                                         NaN   \n",
       "2                                         NaN   \n",
       "3  figueroa-philly-cheese-steak-los-angeles-2   \n",
       "4                      dirt-dog-los-angeles-4   \n",
       "\n",
       "                                            category         city  \\\n",
       "0                  ['mexican', 'sandwiches', 'soup']  Los Angeles   \n",
       "1                               ['childrensmuseums']          NaN   \n",
       "2                                        ['museums']          NaN   \n",
       "3  ['cheesesteaks', 'sandwiches', 'breakfast_brun...  Los Angeles   \n",
       "4                              ['hotdog', 'beerbar']  Los Angeles   \n",
       "\n",
       "                       id   latitude   longitude price  rating  review_count  \\\n",
       "0  vC_6J_nGyf4J8xt-Vu6Shw  34.017440 -118.278300    $$     4.5        1190.0   \n",
       "1                     NaN        NaN         NaN   NaN     NaN           NaN   \n",
       "2                     NaN        NaN         NaN   NaN     NaN           NaN   \n",
       "3  vfHJzF0ShYtwmotXE-0PiA  34.014196 -118.282417    $$     4.5        1076.0   \n",
       "4  0z23Jk7U_MpvtqKINPL2fA  34.028292 -118.275208     $     4.5        1900.0   \n",
       "\n",
       "   zip_code  \n",
       "0   90007.0  \n",
       "1       NaN  \n",
       "2       NaN  \n",
       "3   90037.0  \n",
       "4   90007.0  "
      ]
     },
     "execution_count": 4,
     "metadata": {},
     "output_type": "execute_result"
    }
   ],
   "source": [
    "for path in file_paths:\n",
    "    \n",
    "    master_df = pd.concat([master_df, pd.read_csv(path)])\n",
    "\n",
    "master_df.head()"
   ]
  },
  {
   "cell_type": "code",
   "execution_count": 5,
   "metadata": {},
   "outputs": [
    {
     "data": {
      "text/plain": [
       "(73995, 10)"
      ]
     },
     "execution_count": 5,
     "metadata": {},
     "output_type": "execute_result"
    }
   ],
   "source": [
    "# Seeing shape of dataframe BEFORE dropping duplicates \n",
    "\n",
    "master_df.shape"
   ]
  },
  {
   "cell_type": "code",
   "execution_count": 6,
   "metadata": {},
   "outputs": [],
   "source": [
    "# Dropping duplicates\n",
    "\n",
    "master_df = master_df.sort_values(['alias',\n",
    "                       'id', 'latitude', 'longitude', 'review_count'],\n",
    "                      ascending = False).drop_duplicates(subset = ['id', 'alias', 'zip_code'],\n",
    "                                                         keep ='first')"
   ]
  },
  {
   "cell_type": "code",
   "execution_count": 7,
   "metadata": {},
   "outputs": [
    {
     "data": {
      "text/plain": [
       "(10077, 10)"
      ]
     },
     "execution_count": 7,
     "metadata": {},
     "output_type": "execute_result"
    }
   ],
   "source": [
    "# Shape of df AFTER dropping duplicates\n",
    "\n",
    "master_df.shape"
   ]
  },
  {
   "cell_type": "code",
   "execution_count": 8,
   "metadata": {},
   "outputs": [],
   "source": [
    "# Resetting master_df index\n",
    "\n",
    "master_df.reset_index(inplace=True)\n",
    "master_df.drop(columns='index', inplace=True)"
   ]
  },
  {
   "cell_type": "markdown",
   "metadata": {},
   "source": [
    "# NaNs in master_df"
   ]
  },
  {
   "cell_type": "code",
   "execution_count": 9,
   "metadata": {},
   "outputs": [
    {
     "data": {
      "text/plain": [
       "alias            1\n",
       "category         1\n",
       "city             1\n",
       "id               1\n",
       "latitude         3\n",
       "longitude        3\n",
       "price            1\n",
       "rating           1\n",
       "review_count     1\n",
       "zip_code        43\n",
       "dtype: int64"
      ]
     },
     "execution_count": 9,
     "metadata": {},
     "output_type": "execute_result"
    }
   ],
   "source": [
    "master_df.isna().sum()"
   ]
  },
  {
   "cell_type": "code",
   "execution_count": 10,
   "metadata": {},
   "outputs": [
    {
     "data": {
      "text/plain": [
       "(9910, 10)"
      ]
     },
     "execution_count": 10,
     "metadata": {},
     "output_type": "execute_result"
    }
   ],
   "source": [
    "# Dropping rows w/ prices that aren't $, $$, $$$, or $$$$.\n",
    "\n",
    "data_drop_df = master_df.loc[(master_df['price'] != '$') & (master_df['price'] != '$$') & (master_df['price'] != '$$$') & (master_df['price'] != '$$$$')]\n",
    "drop_indexes = list(data_drop_df.index)\n",
    "\n",
    "master_df.drop(index=drop_indexes, inplace = True)\n",
    "master_df.shape\n"
   ]
  },
  {
   "cell_type": "code",
   "execution_count": 11,
   "metadata": {},
   "outputs": [
    {
     "data": {
      "text/plain": [
       "(9872, 10)"
      ]
     },
     "execution_count": 11,
     "metadata": {},
     "output_type": "execute_result"
    }
   ],
   "source": [
    "# Businesses that don't have latitude/zipcodes = Food Trucks, Caterers --> dropped\n",
    "\n",
    "food_trucks = master_df.loc[(master_df['latitude'].isna()) | (master_df['zip_code'].isna())].index.tolist()\n",
    "\n",
    "master_df.drop(index = food_trucks, inplace = True)\n",
    "master_df.shape\n"
   ]
  },
  {
   "cell_type": "code",
   "execution_count": 12,
   "metadata": {
    "scrolled": true
   },
   "outputs": [
    {
     "data": {
      "text/plain": [
       "alias           0\n",
       "category        0\n",
       "city            0\n",
       "id              0\n",
       "latitude        0\n",
       "longitude       0\n",
       "price           0\n",
       "rating          0\n",
       "review_count    0\n",
       "zip_code        0\n",
       "dtype: int64"
      ]
     },
     "execution_count": 12,
     "metadata": {},
     "output_type": "execute_result"
    }
   ],
   "source": [
    "master_df.isna().sum()"
   ]
  },
  {
   "cell_type": "markdown",
   "metadata": {},
   "source": [
    "# Replacing \\\\$ in price to numbers"
   ]
  },
  {
   "cell_type": "code",
   "execution_count": 13,
   "metadata": {},
   "outputs": [],
   "source": [
    "master_df['price'] = master_df['price'].replace('$', 1)\n",
    "master_df['price'] = master_df['price'].replace('$$', 2)\n",
    "master_df['price'] = master_df['price'].replace('$$$', 3)\n",
    "master_df['price'] = master_df['price'].replace('$$$$', 4)"
   ]
  },
  {
   "cell_type": "code",
   "execution_count": 14,
   "metadata": {},
   "outputs": [
    {
     "data": {
      "text/html": [
       "<div>\n",
       "<style scoped>\n",
       "    .dataframe tbody tr th:only-of-type {\n",
       "        vertical-align: middle;\n",
       "    }\n",
       "\n",
       "    .dataframe tbody tr th {\n",
       "        vertical-align: top;\n",
       "    }\n",
       "\n",
       "    .dataframe thead th {\n",
       "        text-align: right;\n",
       "    }\n",
       "</style>\n",
       "<table border=\"1\" class=\"dataframe\">\n",
       "  <thead>\n",
       "    <tr style=\"text-align: right;\">\n",
       "      <th></th>\n",
       "      <th>alias</th>\n",
       "      <th>category</th>\n",
       "      <th>city</th>\n",
       "      <th>id</th>\n",
       "      <th>latitude</th>\n",
       "      <th>longitude</th>\n",
       "      <th>price</th>\n",
       "      <th>rating</th>\n",
       "      <th>review_count</th>\n",
       "      <th>zip_code</th>\n",
       "    </tr>\n",
       "  </thead>\n",
       "  <tbody>\n",
       "    <tr>\n",
       "      <td>0</td>\n",
       "      <td>いざかや-おせん-izakaya-osen-los-angeles</td>\n",
       "      <td>['sushi', 'izakaya', 'seafood']</td>\n",
       "      <td>Los Angeles</td>\n",
       "      <td>us0WnDOySVXXXwCqs0AaCw</td>\n",
       "      <td>34.083192</td>\n",
       "      <td>-118.273245</td>\n",
       "      <td>2</td>\n",
       "      <td>4.5</td>\n",
       "      <td>651.0</td>\n",
       "      <td>90026.0</td>\n",
       "    </tr>\n",
       "    <tr>\n",
       "      <td>1</td>\n",
       "      <td>ô-banh-mi-los-angeles</td>\n",
       "      <td>['vietnamese', 'sandwiches', 'coffee']</td>\n",
       "      <td>Los Angeles</td>\n",
       "      <td>XRbyfQZ7nWwJCOjRC8EW-g</td>\n",
       "      <td>34.098450</td>\n",
       "      <td>-118.275100</td>\n",
       "      <td>1</td>\n",
       "      <td>4.0</td>\n",
       "      <td>111.0</td>\n",
       "      <td>90027.0</td>\n",
       "    </tr>\n",
       "  </tbody>\n",
       "</table>\n",
       "</div>"
      ],
      "text/plain": [
       "                               alias                                category  \\\n",
       "0  いざかや-おせん-izakaya-osen-los-angeles         ['sushi', 'izakaya', 'seafood']   \n",
       "1              ô-banh-mi-los-angeles  ['vietnamese', 'sandwiches', 'coffee']   \n",
       "\n",
       "          city                      id   latitude   longitude  price  rating  \\\n",
       "0  Los Angeles  us0WnDOySVXXXwCqs0AaCw  34.083192 -118.273245      2     4.5   \n",
       "1  Los Angeles  XRbyfQZ7nWwJCOjRC8EW-g  34.098450 -118.275100      1     4.0   \n",
       "\n",
       "   review_count  zip_code  \n",
       "0         651.0   90026.0  \n",
       "1         111.0   90027.0  "
      ]
     },
     "execution_count": 14,
     "metadata": {},
     "output_type": "execute_result"
    }
   ],
   "source": [
    "master_df.head(2)"
   ]
  },
  {
   "cell_type": "code",
   "execution_count": 114,
   "metadata": {},
   "outputs": [],
   "source": [
    "master_df = master_df.reset_index(drop=True)"
   ]
  },
  {
   "cell_type": "markdown",
   "metadata": {},
   "source": [
    "# Dropping Rows \n",
    "- zipcodes that don't start with '9'"
   ]
  },
  {
   "cell_type": "code",
   "execution_count": 130,
   "metadata": {},
   "outputs": [],
   "source": [
    "notin_la = []\n",
    "for i in range(len(master_df['zip_code'])):\n",
    "    if master_df['zip_code'][i].startswith('9') == False:\n",
    "        notin_la.append(master_df['zip_code'].index[i])"
   ]
  },
  {
   "cell_type": "code",
   "execution_count": 131,
   "metadata": {},
   "outputs": [
    {
     "data": {
      "text/plain": [
       "[2211,\n",
       " 2753,\n",
       " 3269,\n",
       " 3361,\n",
       " 3362,\n",
       " 3367,\n",
       " 3386,\n",
       " 3387,\n",
       " 3400,\n",
       " 3401,\n",
       " 3404,\n",
       " 5155,\n",
       " 5687,\n",
       " 8726]"
      ]
     },
     "execution_count": 131,
     "metadata": {},
     "output_type": "execute_result"
    }
   ],
   "source": [
    "notin_la"
   ]
  },
  {
   "cell_type": "code",
   "execution_count": 134,
   "metadata": {},
   "outputs": [
    {
     "data": {
      "text/plain": [
       "(9872, 10)"
      ]
     },
     "execution_count": 134,
     "metadata": {},
     "output_type": "execute_result"
    }
   ],
   "source": [
    "master_df.shape"
   ]
  },
  {
   "cell_type": "code",
   "execution_count": 136,
   "metadata": {},
   "outputs": [],
   "source": [
    "master_df = master_df.drop(index=notin_la).reset_index(drop=True)"
   ]
  },
  {
   "cell_type": "markdown",
   "metadata": {},
   "source": [
    "## Save the cleaned data to a CSV"
   ]
  },
  {
   "cell_type": "code",
   "execution_count": 15,
   "metadata": {},
   "outputs": [],
   "source": [
    "# Don't uncomment this unless you actually want to create a new csv\n",
    "\n",
    "# master_df.to_csv('../data/master.csv')"
   ]
  }
 ],
 "metadata": {
  "kernelspec": {
   "display_name": "Python 3",
   "language": "python",
   "name": "python3"
  },
  "language_info": {
   "codemirror_mode": {
    "name": "ipython",
    "version": 3
   },
   "file_extension": ".py",
   "mimetype": "text/x-python",
   "name": "python",
   "nbconvert_exporter": "python",
   "pygments_lexer": "ipython3",
   "version": "3.7.3"
  }
 },
 "nbformat": 4,
 "nbformat_minor": 2
}
