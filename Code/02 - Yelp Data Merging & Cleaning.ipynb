{
 "cells": [
  {
   "cell_type": "markdown",
   "metadata": {},
   "source": [
    "# Yelp Data Merging"
   ]
  },
  {
   "cell_type": "code",
   "execution_count": 26,
   "metadata": {},
   "outputs": [],
   "source": [
    "# Copied and pasted from my imports from project 3, \n",
    "# delete if we dont need(Aerika)\n",
    "\n",
    "import pandas as pd\n",
    "import numpy as np\n",
    "import matplotlib.pyplot as plt\n",
    "import seaborn as sns\n",
    "import os\n",
    "\n",
    "from sklearn.feature_extraction.text import CountVectorizer, TfidfVectorizer\n",
    "from sklearn.feature_extraction import stop_words\n",
    "\n",
    "from sklearn.pipeline import Pipeline\n",
    "\n",
    "from sklearn.model_selection import train_test_split, GridSearchCV\n",
    "\n",
    "from sklearn.linear_model import LogisticRegression\n",
    "\n",
    "from sklearn.naive_bayes import MultinomialNB, ComplementNB, GaussianNB, BernoulliNB\n",
    "\n",
    "from sklearn.metrics import confusion_matrix, accuracy_score, roc_curve, auc\n",
    "\n",
    "from nltk.stem import WordNetLemmatizer\n",
    "from nltk.stem.porter import PorterStemmer\n",
    "from nltk.stem import SnowballStemmer\n",
    "from nltk.tokenize import ToktokTokenizer\n",
    "from nltk.sentiment.vader import SentimentIntensityAnalyzer\n",
    "from nltk.corpus import stopwords \n",
    "\n",
    "import regex as re\n",
    "\n",
    "from scipy.stats import ttest_ind"
   ]
  },
  {
   "cell_type": "code",
   "execution_count": 27,
   "metadata": {
    "scrolled": true
   },
   "outputs": [],
   "source": [
    "file_paths = []\n",
    "for file in os.listdir('../data'):\n",
    "    if 'businesses2019' in file:\n",
    "        file_paths.append('../data/'+file)"
   ]
  },
  {
   "cell_type": "code",
   "execution_count": 28,
   "metadata": {},
   "outputs": [],
   "source": [
    "master_df = {\n",
    "    'id': [],\n",
    "    'latitude': [],\n",
    "    'longitude': [],\n",
    "    'price': [],\n",
    "    'review_count': [],\n",
    "    'rating': [],\n",
    "    'zip_code': [],\n",
    "    'city': [],\n",
    "    'alias': [],\n",
    "    'category': [],\n",
    "}\n",
    "\n",
    "master_df = pd.DataFrame(master_df)"
   ]
  },
  {
   "cell_type": "code",
   "execution_count": 29,
   "metadata": {},
   "outputs": [
    {
     "name": "stderr",
     "output_type": "stream",
     "text": [
      "/Users/Work/anaconda3/lib/python3.7/site-packages/ipykernel_launcher.py:3: FutureWarning: Sorting because non-concatenation axis is not aligned. A future version\n",
      "of pandas will change to not sort by default.\n",
      "\n",
      "To accept the future behavior, pass 'sort=False'.\n",
      "\n",
      "To retain the current behavior and silence the warning, pass 'sort=True'.\n",
      "\n",
      "  This is separate from the ipykernel package so we can avoid doing imports until\n"
     ]
    },
    {
     "data": {
      "text/html": [
       "<div>\n",
       "<style scoped>\n",
       "    .dataframe tbody tr th:only-of-type {\n",
       "        vertical-align: middle;\n",
       "    }\n",
       "\n",
       "    .dataframe tbody tr th {\n",
       "        vertical-align: top;\n",
       "    }\n",
       "\n",
       "    .dataframe thead th {\n",
       "        text-align: right;\n",
       "    }\n",
       "</style>\n",
       "<table border=\"1\" class=\"dataframe\">\n",
       "  <thead>\n",
       "    <tr style=\"text-align: right;\">\n",
       "      <th></th>\n",
       "      <th>alias</th>\n",
       "      <th>category</th>\n",
       "      <th>city</th>\n",
       "      <th>id</th>\n",
       "      <th>latitude</th>\n",
       "      <th>longitude</th>\n",
       "      <th>price</th>\n",
       "      <th>rating</th>\n",
       "      <th>review_count</th>\n",
       "      <th>zip_code</th>\n",
       "    </tr>\n",
       "  </thead>\n",
       "  <tbody>\n",
       "    <tr>\n",
       "      <td>0</td>\n",
       "      <td>chichen-itza-restaurant-los-angeles-3</td>\n",
       "      <td>['mexican', 'sandwiches', 'soup']</td>\n",
       "      <td>Los Angeles</td>\n",
       "      <td>vC_6J_nGyf4J8xt-Vu6Shw</td>\n",
       "      <td>34.017440</td>\n",
       "      <td>-118.278300</td>\n",
       "      <td>$$</td>\n",
       "      <td>4.5</td>\n",
       "      <td>1190.0</td>\n",
       "      <td>90007.0</td>\n",
       "    </tr>\n",
       "    <tr>\n",
       "      <td>1</td>\n",
       "      <td>NaN</td>\n",
       "      <td>['childrensmuseums']</td>\n",
       "      <td>NaN</td>\n",
       "      <td>NaN</td>\n",
       "      <td>NaN</td>\n",
       "      <td>NaN</td>\n",
       "      <td>NaN</td>\n",
       "      <td>NaN</td>\n",
       "      <td>NaN</td>\n",
       "      <td>NaN</td>\n",
       "    </tr>\n",
       "    <tr>\n",
       "      <td>2</td>\n",
       "      <td>NaN</td>\n",
       "      <td>['museums']</td>\n",
       "      <td>NaN</td>\n",
       "      <td>NaN</td>\n",
       "      <td>NaN</td>\n",
       "      <td>NaN</td>\n",
       "      <td>NaN</td>\n",
       "      <td>NaN</td>\n",
       "      <td>NaN</td>\n",
       "      <td>NaN</td>\n",
       "    </tr>\n",
       "    <tr>\n",
       "      <td>3</td>\n",
       "      <td>figueroa-philly-cheese-steak-los-angeles-2</td>\n",
       "      <td>['cheesesteaks', 'sandwiches', 'breakfast_brun...</td>\n",
       "      <td>Los Angeles</td>\n",
       "      <td>vfHJzF0ShYtwmotXE-0PiA</td>\n",
       "      <td>34.014196</td>\n",
       "      <td>-118.282417</td>\n",
       "      <td>$$</td>\n",
       "      <td>4.5</td>\n",
       "      <td>1076.0</td>\n",
       "      <td>90037.0</td>\n",
       "    </tr>\n",
       "    <tr>\n",
       "      <td>4</td>\n",
       "      <td>dirt-dog-los-angeles-4</td>\n",
       "      <td>['hotdog', 'beerbar']</td>\n",
       "      <td>Los Angeles</td>\n",
       "      <td>0z23Jk7U_MpvtqKINPL2fA</td>\n",
       "      <td>34.028292</td>\n",
       "      <td>-118.275208</td>\n",
       "      <td>$</td>\n",
       "      <td>4.5</td>\n",
       "      <td>1900.0</td>\n",
       "      <td>90007.0</td>\n",
       "    </tr>\n",
       "  </tbody>\n",
       "</table>\n",
       "</div>"
      ],
      "text/plain": [
       "                                        alias  \\\n",
       "0       chichen-itza-restaurant-los-angeles-3   \n",
       "1                                         NaN   \n",
       "2                                         NaN   \n",
       "3  figueroa-philly-cheese-steak-los-angeles-2   \n",
       "4                      dirt-dog-los-angeles-4   \n",
       "\n",
       "                                            category         city  \\\n",
       "0                  ['mexican', 'sandwiches', 'soup']  Los Angeles   \n",
       "1                               ['childrensmuseums']          NaN   \n",
       "2                                        ['museums']          NaN   \n",
       "3  ['cheesesteaks', 'sandwiches', 'breakfast_brun...  Los Angeles   \n",
       "4                              ['hotdog', 'beerbar']  Los Angeles   \n",
       "\n",
       "                       id   latitude   longitude price  rating  review_count  \\\n",
       "0  vC_6J_nGyf4J8xt-Vu6Shw  34.017440 -118.278300    $$     4.5        1190.0   \n",
       "1                     NaN        NaN         NaN   NaN     NaN           NaN   \n",
       "2                     NaN        NaN         NaN   NaN     NaN           NaN   \n",
       "3  vfHJzF0ShYtwmotXE-0PiA  34.014196 -118.282417    $$     4.5        1076.0   \n",
       "4  0z23Jk7U_MpvtqKINPL2fA  34.028292 -118.275208     $     4.5        1900.0   \n",
       "\n",
       "   zip_code  \n",
       "0   90007.0  \n",
       "1       NaN  \n",
       "2       NaN  \n",
       "3   90037.0  \n",
       "4   90007.0  "
      ]
     },
     "execution_count": 29,
     "metadata": {},
     "output_type": "execute_result"
    }
   ],
   "source": [
    "for path in file_paths:\n",
    "    \n",
    "    master_df = pd.concat([master_df, pd.read_csv(path)])\n",
    "\n",
    "master_df.head()"
   ]
  },
  {
   "cell_type": "code",
   "execution_count": 30,
   "metadata": {},
   "outputs": [
    {
     "data": {
      "text/plain": [
       "(73995, 10)"
      ]
     },
     "execution_count": 30,
     "metadata": {},
     "output_type": "execute_result"
    }
   ],
   "source": [
    "# Seeing shape of dataframe BEFORE dropping duplicates \n",
    "\n",
    "master_df.shape"
   ]
  },
  {
   "cell_type": "code",
   "execution_count": 31,
   "metadata": {},
   "outputs": [],
   "source": [
    "# Dropping duplicates\n",
    "\n",
    "master_df = master_df.sort_values(['alias',\n",
    "                       'id', 'latitude', 'longitude', 'review_count'],\n",
    "                      ascending = False).drop_duplicates(subset = ['id', 'alias', 'zip_code'],\n",
    "                                                         keep ='first')"
   ]
  },
  {
   "cell_type": "code",
   "execution_count": 32,
   "metadata": {},
   "outputs": [
    {
     "data": {
      "text/plain": [
       "(10077, 10)"
      ]
     },
     "execution_count": 32,
     "metadata": {},
     "output_type": "execute_result"
    }
   ],
   "source": [
    "# Shape of df AFTER dropping duplicates\n",
    "\n",
    "master_df.shape"
   ]
  },
  {
   "cell_type": "code",
   "execution_count": 33,
   "metadata": {},
   "outputs": [],
   "source": [
    "# Resetting master_df index\n",
    "\n",
    "master_df.reset_index(inplace=True)\n",
    "master_df.drop(columns='index', inplace=True)"
   ]
  },
  {
   "cell_type": "markdown",
   "metadata": {},
   "source": [
    "# NaNs in master_df"
   ]
  },
  {
   "cell_type": "code",
   "execution_count": 34,
   "metadata": {},
   "outputs": [
    {
     "data": {
      "text/plain": [
       "alias            1\n",
       "category         1\n",
       "city             1\n",
       "id               1\n",
       "latitude         3\n",
       "longitude        3\n",
       "price            1\n",
       "rating           1\n",
       "review_count     1\n",
       "zip_code        43\n",
       "dtype: int64"
      ]
     },
     "execution_count": 34,
     "metadata": {},
     "output_type": "execute_result"
    }
   ],
   "source": [
    "master_df.isna().sum()"
   ]
  },
  {
   "cell_type": "code",
   "execution_count": 35,
   "metadata": {},
   "outputs": [
    {
     "data": {
      "text/plain": [
       "(9910, 10)"
      ]
     },
     "execution_count": 35,
     "metadata": {},
     "output_type": "execute_result"
    }
   ],
   "source": [
    "# Dropping rows w/ prices that aren't $, $$, $$$, or $$$$.\n",
    "\n",
    "data_drop_df = master_df.loc[(master_df['price'] != '$') & (master_df['price'] != '$$') & (master_df['price'] != '$$$') & (master_df['price'] != '$$$$')]\n",
    "drop_indexes = list(data_drop_df.index)\n",
    "\n",
    "master_df.drop(index=drop_indexes, inplace = True)\n",
    "master_df.shape\n"
   ]
  },
  {
   "cell_type": "code",
   "execution_count": 36,
   "metadata": {},
   "outputs": [
    {
     "data": {
      "text/plain": [
       "(9872, 10)"
      ]
     },
     "execution_count": 36,
     "metadata": {},
     "output_type": "execute_result"
    }
   ],
   "source": [
    "# Businesses that don't have latitude/zipcodes = Food Trucks, Caterers --> dropped\n",
    "\n",
    "food_trucks = master_df.loc[(master_df['latitude'].isna()) | (master_df['zip_code'].isna())].index.tolist()\n",
    "\n",
    "master_df.drop(index = food_trucks, inplace = True)\n",
    "master_df.shape\n"
   ]
  },
  {
   "cell_type": "code",
   "execution_count": 37,
   "metadata": {
    "scrolled": true
   },
   "outputs": [
    {
     "data": {
      "text/plain": [
       "alias           0\n",
       "category        0\n",
       "city            0\n",
       "id              0\n",
       "latitude        0\n",
       "longitude       0\n",
       "price           0\n",
       "rating          0\n",
       "review_count    0\n",
       "zip_code        0\n",
       "dtype: int64"
      ]
     },
     "execution_count": 37,
     "metadata": {},
     "output_type": "execute_result"
    }
   ],
   "source": [
    "master_df.isna().sum()"
   ]
  },
  {
   "cell_type": "markdown",
   "metadata": {},
   "source": [
    "# Replacing \\\\$ in price to numbers"
   ]
  },
  {
   "cell_type": "code",
   "execution_count": 38,
   "metadata": {},
   "outputs": [],
   "source": [
    "master_df['price'] = master_df['price'].map({'$$$$':4, '$$$':3, '$$':2,'$':1})"
   ]
  },
  {
   "cell_type": "code",
   "execution_count": 39,
   "metadata": {
    "scrolled": false
   },
   "outputs": [
    {
     "data": {
      "text/html": [
       "<div>\n",
       "<style scoped>\n",
       "    .dataframe tbody tr th:only-of-type {\n",
       "        vertical-align: middle;\n",
       "    }\n",
       "\n",
       "    .dataframe tbody tr th {\n",
       "        vertical-align: top;\n",
       "    }\n",
       "\n",
       "    .dataframe thead th {\n",
       "        text-align: right;\n",
       "    }\n",
       "</style>\n",
       "<table border=\"1\" class=\"dataframe\">\n",
       "  <thead>\n",
       "    <tr style=\"text-align: right;\">\n",
       "      <th></th>\n",
       "      <th>alias</th>\n",
       "      <th>category</th>\n",
       "      <th>city</th>\n",
       "      <th>id</th>\n",
       "      <th>latitude</th>\n",
       "      <th>longitude</th>\n",
       "      <th>price</th>\n",
       "      <th>rating</th>\n",
       "      <th>review_count</th>\n",
       "      <th>zip_code</th>\n",
       "    </tr>\n",
       "  </thead>\n",
       "  <tbody>\n",
       "    <tr>\n",
       "      <td>0</td>\n",
       "      <td>いざかや-おせん-izakaya-osen-los-angeles</td>\n",
       "      <td>['sushi', 'izakaya', 'seafood']</td>\n",
       "      <td>Los Angeles</td>\n",
       "      <td>us0WnDOySVXXXwCqs0AaCw</td>\n",
       "      <td>34.083192</td>\n",
       "      <td>-118.273245</td>\n",
       "      <td>2</td>\n",
       "      <td>4.5</td>\n",
       "      <td>651.0</td>\n",
       "      <td>90026.0</td>\n",
       "    </tr>\n",
       "    <tr>\n",
       "      <td>1</td>\n",
       "      <td>ô-banh-mi-los-angeles</td>\n",
       "      <td>['vietnamese', 'sandwiches', 'coffee']</td>\n",
       "      <td>Los Angeles</td>\n",
       "      <td>XRbyfQZ7nWwJCOjRC8EW-g</td>\n",
       "      <td>34.098450</td>\n",
       "      <td>-118.275100</td>\n",
       "      <td>1</td>\n",
       "      <td>4.0</td>\n",
       "      <td>111.0</td>\n",
       "      <td>90027.0</td>\n",
       "    </tr>\n",
       "  </tbody>\n",
       "</table>\n",
       "</div>"
      ],
      "text/plain": [
       "                               alias                                category  \\\n",
       "0  いざかや-おせん-izakaya-osen-los-angeles         ['sushi', 'izakaya', 'seafood']   \n",
       "1              ô-banh-mi-los-angeles  ['vietnamese', 'sandwiches', 'coffee']   \n",
       "\n",
       "          city                      id   latitude   longitude  price  rating  \\\n",
       "0  Los Angeles  us0WnDOySVXXXwCqs0AaCw  34.083192 -118.273245      2     4.5   \n",
       "1  Los Angeles  XRbyfQZ7nWwJCOjRC8EW-g  34.098450 -118.275100      1     4.0   \n",
       "\n",
       "   review_count  zip_code  \n",
       "0         651.0   90026.0  \n",
       "1         111.0   90027.0  "
      ]
     },
     "execution_count": 39,
     "metadata": {},
     "output_type": "execute_result"
    }
   ],
   "source": [
    "master_df.head(2)"
   ]
  },
  {
   "cell_type": "code",
   "execution_count": 41,
   "metadata": {},
   "outputs": [
    {
     "data": {
      "text/html": [
       "<div>\n",
       "<style scoped>\n",
       "    .dataframe tbody tr th:only-of-type {\n",
       "        vertical-align: middle;\n",
       "    }\n",
       "\n",
       "    .dataframe tbody tr th {\n",
       "        vertical-align: top;\n",
       "    }\n",
       "\n",
       "    .dataframe thead th {\n",
       "        text-align: right;\n",
       "    }\n",
       "</style>\n",
       "<table border=\"1\" class=\"dataframe\">\n",
       "  <thead>\n",
       "    <tr style=\"text-align: right;\">\n",
       "      <th></th>\n",
       "      <th>alias</th>\n",
       "      <th>category</th>\n",
       "      <th>city</th>\n",
       "      <th>id</th>\n",
       "      <th>latitude</th>\n",
       "      <th>longitude</th>\n",
       "      <th>price</th>\n",
       "      <th>rating</th>\n",
       "      <th>review_count</th>\n",
       "      <th>zip_code</th>\n",
       "    </tr>\n",
       "  </thead>\n",
       "  <tbody>\n",
       "    <tr>\n",
       "      <td>172</td>\n",
       "      <td>yalla-mediterranean-culver-city-2</td>\n",
       "      <td>['mediterranean', 'greek']</td>\n",
       "      <td>Culver City</td>\n",
       "      <td>gM5cq233dtS5CalGqe72mQ</td>\n",
       "      <td>34.023215</td>\n",
       "      <td>-118.394458</td>\n",
       "      <td>2</td>\n",
       "      <td>4.0</td>\n",
       "      <td>349.0</td>\n",
       "      <td>93453.0</td>\n",
       "    </tr>\n",
       "    <tr>\n",
       "      <td>723</td>\n",
       "      <td>tortas-ahogadas-los-primos-santa-ana</td>\n",
       "      <td>['mexican', 'foodtrucks']</td>\n",
       "      <td>Santa Ana</td>\n",
       "      <td>PH3sasg6P3PzBqNbXh8XuQ</td>\n",
       "      <td>33.749010</td>\n",
       "      <td>-117.899350</td>\n",
       "      <td>1</td>\n",
       "      <td>4.5</td>\n",
       "      <td>94.0</td>\n",
       "      <td>92703.0</td>\n",
       "    </tr>\n",
       "    <tr>\n",
       "      <td>901</td>\n",
       "      <td>the-tackle-box-food-truck-westwood</td>\n",
       "      <td>['foodtrucks', 'seafood', 'sandwiches']</td>\n",
       "      <td>Westwood</td>\n",
       "      <td>K6dRXEPvjIAj78iLX8AREQ</td>\n",
       "      <td>40.294842</td>\n",
       "      <td>-121.053520</td>\n",
       "      <td>2</td>\n",
       "      <td>3.5</td>\n",
       "      <td>47.0</td>\n",
       "      <td>96137.0</td>\n",
       "    </tr>\n",
       "    <tr>\n",
       "      <td>1163</td>\n",
       "      <td>the-feeding-frenzy-tustin-2</td>\n",
       "      <td>['foodtrucks', 'desserts', 'catering']</td>\n",
       "      <td>Tustin</td>\n",
       "      <td>MaMcWQp1PjAgW_bXjViSVg</td>\n",
       "      <td>33.730950</td>\n",
       "      <td>-117.812750</td>\n",
       "      <td>1</td>\n",
       "      <td>5.0</td>\n",
       "      <td>7.0</td>\n",
       "      <td>92780.0</td>\n",
       "    </tr>\n",
       "    <tr>\n",
       "      <td>1298</td>\n",
       "      <td>the-cake-factory-and-more-fontana</td>\n",
       "      <td>['desserts', 'bakeries', 'customcakes']</td>\n",
       "      <td>Fontana</td>\n",
       "      <td>geGRPNvHqt-O7YD-EFJE9w</td>\n",
       "      <td>34.156970</td>\n",
       "      <td>-117.482160</td>\n",
       "      <td>2</td>\n",
       "      <td>4.5</td>\n",
       "      <td>45.0</td>\n",
       "      <td>92336.0</td>\n",
       "    </tr>\n",
       "    <tr>\n",
       "      <td>2240</td>\n",
       "      <td>starbucks-marina-del-rey-10</td>\n",
       "      <td>['coffee']</td>\n",
       "      <td>Marina Del Rey</td>\n",
       "      <td>jKWO_ML-Kws1JdYpOlmTWw</td>\n",
       "      <td>33.984363</td>\n",
       "      <td>-118.443489</td>\n",
       "      <td>2</td>\n",
       "      <td>3.0</td>\n",
       "      <td>14.0</td>\n",
       "      <td>92092.0</td>\n",
       "    </tr>\n",
       "    <tr>\n",
       "      <td>2705</td>\n",
       "      <td>seventy7-west-westwood</td>\n",
       "      <td>['cocktailbars', 'lounges', 'venues']</td>\n",
       "      <td>Westwood</td>\n",
       "      <td>Adp9Ba4dBaKasi1bfpZz-A</td>\n",
       "      <td>34.061910</td>\n",
       "      <td>-118.447640</td>\n",
       "      <td>2</td>\n",
       "      <td>4.5</td>\n",
       "      <td>19.0</td>\n",
       "      <td>96137.0</td>\n",
       "    </tr>\n",
       "    <tr>\n",
       "      <td>2816</td>\n",
       "      <td>salt-n-pepper-truck-costa-mesa</td>\n",
       "      <td>['foodtrucks', 'steak', 'hotdog']</td>\n",
       "      <td>Costa Mesa</td>\n",
       "      <td>lNnmA8gz8_5GPCgnBqsUpg</td>\n",
       "      <td>33.677521</td>\n",
       "      <td>-117.921120</td>\n",
       "      <td>3</td>\n",
       "      <td>3.5</td>\n",
       "      <td>66.0</td>\n",
       "      <td>92626.0</td>\n",
       "    </tr>\n",
       "    <tr>\n",
       "      <td>3572</td>\n",
       "      <td>phenomnom-truck-huntington-beach-3</td>\n",
       "      <td>['foodtrucks', 'southern']</td>\n",
       "      <td>Huntington Beach</td>\n",
       "      <td>xSoIMortNzykYHzWGyMOtw</td>\n",
       "      <td>33.709942</td>\n",
       "      <td>-117.990471</td>\n",
       "      <td>2</td>\n",
       "      <td>4.0</td>\n",
       "      <td>85.0</td>\n",
       "      <td>92647.0</td>\n",
       "    </tr>\n",
       "    <tr>\n",
       "      <td>4437</td>\n",
       "      <td>mess-hall-canteen-garden-grove-7</td>\n",
       "      <td>['foodtrucks', 'sandwiches', 'salad']</td>\n",
       "      <td>Garden Grove</td>\n",
       "      <td>JiYslHHmxDRNtjDg_49fmQ</td>\n",
       "      <td>33.788500</td>\n",
       "      <td>-117.973950</td>\n",
       "      <td>2</td>\n",
       "      <td>4.0</td>\n",
       "      <td>178.0</td>\n",
       "      <td>92841.0</td>\n",
       "    </tr>\n",
       "    <tr>\n",
       "      <td>4622</td>\n",
       "      <td>matts-coffee-express-camarillo-6</td>\n",
       "      <td>['juicebars', 'coffee', 'foodtrucks']</td>\n",
       "      <td>Camarillo</td>\n",
       "      <td>KrivJ1coTLmgpGvGGC2Ayw</td>\n",
       "      <td>34.083747</td>\n",
       "      <td>-118.331096</td>\n",
       "      <td>2</td>\n",
       "      <td>4.0</td>\n",
       "      <td>17.0</td>\n",
       "      <td>93010.0</td>\n",
       "    </tr>\n",
       "    <tr>\n",
       "      <td>5147</td>\n",
       "      <td>little-caesars-pizza-bell-gardens</td>\n",
       "      <td>['pizza', 'hotdogs']</td>\n",
       "      <td>Bell Gardens</td>\n",
       "      <td>IwHLvSRB4VedCNNP938O1A</td>\n",
       "      <td>33.969443</td>\n",
       "      <td>-118.164245</td>\n",
       "      <td>1</td>\n",
       "      <td>3.5</td>\n",
       "      <td>11.0</td>\n",
       "      <td>92602.0</td>\n",
       "    </tr>\n",
       "    <tr>\n",
       "      <td>6168</td>\n",
       "      <td>its-in-the-sauce-bbq-oxnard</td>\n",
       "      <td>['bbq', 'catering', 'foodtrucks']</td>\n",
       "      <td>Oxnard</td>\n",
       "      <td>myW4G0FVfeUvXqefR57A6A</td>\n",
       "      <td>34.183148</td>\n",
       "      <td>-119.165681</td>\n",
       "      <td>1</td>\n",
       "      <td>4.5</td>\n",
       "      <td>66.0</td>\n",
       "      <td>93033.0</td>\n",
       "    </tr>\n",
       "    <tr>\n",
       "      <td>7635</td>\n",
       "      <td>drizzle-orange-county-2</td>\n",
       "      <td>['desserts', 'foodtrucks']</td>\n",
       "      <td>Orange County</td>\n",
       "      <td>-efACZXjjng8u_zKze_NHQ</td>\n",
       "      <td>33.544610</td>\n",
       "      <td>-117.785290</td>\n",
       "      <td>2</td>\n",
       "      <td>4.5</td>\n",
       "      <td>63.0</td>\n",
       "      <td>92651.0</td>\n",
       "    </tr>\n",
       "    <tr>\n",
       "      <td>8270</td>\n",
       "      <td>chiva-torta-santa-ana</td>\n",
       "      <td>['mexican', 'foodtrucks']</td>\n",
       "      <td>Santa Ana</td>\n",
       "      <td>Ox6KEoJNpShHZdVhuLwRLg</td>\n",
       "      <td>33.748221</td>\n",
       "      <td>-117.863545</td>\n",
       "      <td>1</td>\n",
       "      <td>4.0</td>\n",
       "      <td>82.0</td>\n",
       "      <td>92701.0</td>\n",
       "    </tr>\n",
       "    <tr>\n",
       "      <td>8833</td>\n",
       "      <td>burning-buns-anaheim-4</td>\n",
       "      <td>['foodtrucks', 'burgers', 'sandwiches']</td>\n",
       "      <td>Anaheim</td>\n",
       "      <td>RgUq2nW9aUrQJFaYA5-QLw</td>\n",
       "      <td>33.662399</td>\n",
       "      <td>-117.750724</td>\n",
       "      <td>2</td>\n",
       "      <td>4.5</td>\n",
       "      <td>182.0</td>\n",
       "      <td>92807.0</td>\n",
       "    </tr>\n",
       "    <tr>\n",
       "      <td>8856</td>\n",
       "      <td>burger-king-seaside-4</td>\n",
       "      <td>['burgers', 'hotdogs']</td>\n",
       "      <td>Seaside</td>\n",
       "      <td>YtIYj64dozA4YOLHVwCkew</td>\n",
       "      <td>33.943513</td>\n",
       "      <td>-118.243741</td>\n",
       "      <td>1</td>\n",
       "      <td>1.5</td>\n",
       "      <td>23.0</td>\n",
       "      <td>93955.0</td>\n",
       "    </tr>\n",
       "    <tr>\n",
       "      <td>8951</td>\n",
       "      <td>broken-rice-truck-santa-ana-2</td>\n",
       "      <td>['foodtrucks', 'cajun']</td>\n",
       "      <td>Santa Ana</td>\n",
       "      <td>PDBsbA45BK8pj5iaKOVDsg</td>\n",
       "      <td>33.713243</td>\n",
       "      <td>-117.871824</td>\n",
       "      <td>1</td>\n",
       "      <td>4.0</td>\n",
       "      <td>49.0</td>\n",
       "      <td>92707.0</td>\n",
       "    </tr>\n",
       "  </tbody>\n",
       "</table>\n",
       "</div>"
      ],
      "text/plain": [
       "                                     alias  \\\n",
       "172      yalla-mediterranean-culver-city-2   \n",
       "723   tortas-ahogadas-los-primos-santa-ana   \n",
       "901     the-tackle-box-food-truck-westwood   \n",
       "1163           the-feeding-frenzy-tustin-2   \n",
       "1298     the-cake-factory-and-more-fontana   \n",
       "2240           starbucks-marina-del-rey-10   \n",
       "2705                seventy7-west-westwood   \n",
       "2816        salt-n-pepper-truck-costa-mesa   \n",
       "3572    phenomnom-truck-huntington-beach-3   \n",
       "4437      mess-hall-canteen-garden-grove-7   \n",
       "4622      matts-coffee-express-camarillo-6   \n",
       "5147     little-caesars-pizza-bell-gardens   \n",
       "6168           its-in-the-sauce-bbq-oxnard   \n",
       "7635               drizzle-orange-county-2   \n",
       "8270                 chiva-torta-santa-ana   \n",
       "8833                burning-buns-anaheim-4   \n",
       "8856                 burger-king-seaside-4   \n",
       "8951         broken-rice-truck-santa-ana-2   \n",
       "\n",
       "                                     category              city  \\\n",
       "172                ['mediterranean', 'greek']       Culver City   \n",
       "723                 ['mexican', 'foodtrucks']         Santa Ana   \n",
       "901   ['foodtrucks', 'seafood', 'sandwiches']          Westwood   \n",
       "1163   ['foodtrucks', 'desserts', 'catering']            Tustin   \n",
       "1298  ['desserts', 'bakeries', 'customcakes']           Fontana   \n",
       "2240                               ['coffee']    Marina Del Rey   \n",
       "2705    ['cocktailbars', 'lounges', 'venues']          Westwood   \n",
       "2816        ['foodtrucks', 'steak', 'hotdog']        Costa Mesa   \n",
       "3572               ['foodtrucks', 'southern']  Huntington Beach   \n",
       "4437    ['foodtrucks', 'sandwiches', 'salad']      Garden Grove   \n",
       "4622    ['juicebars', 'coffee', 'foodtrucks']         Camarillo   \n",
       "5147                     ['pizza', 'hotdogs']      Bell Gardens   \n",
       "6168        ['bbq', 'catering', 'foodtrucks']            Oxnard   \n",
       "7635               ['desserts', 'foodtrucks']     Orange County   \n",
       "8270                ['mexican', 'foodtrucks']         Santa Ana   \n",
       "8833  ['foodtrucks', 'burgers', 'sandwiches']           Anaheim   \n",
       "8856                   ['burgers', 'hotdogs']           Seaside   \n",
       "8951                  ['foodtrucks', 'cajun']         Santa Ana   \n",
       "\n",
       "                          id   latitude   longitude  price  rating  \\\n",
       "172   gM5cq233dtS5CalGqe72mQ  34.023215 -118.394458      2     4.0   \n",
       "723   PH3sasg6P3PzBqNbXh8XuQ  33.749010 -117.899350      1     4.5   \n",
       "901   K6dRXEPvjIAj78iLX8AREQ  40.294842 -121.053520      2     3.5   \n",
       "1163  MaMcWQp1PjAgW_bXjViSVg  33.730950 -117.812750      1     5.0   \n",
       "1298  geGRPNvHqt-O7YD-EFJE9w  34.156970 -117.482160      2     4.5   \n",
       "2240  jKWO_ML-Kws1JdYpOlmTWw  33.984363 -118.443489      2     3.0   \n",
       "2705  Adp9Ba4dBaKasi1bfpZz-A  34.061910 -118.447640      2     4.5   \n",
       "2816  lNnmA8gz8_5GPCgnBqsUpg  33.677521 -117.921120      3     3.5   \n",
       "3572  xSoIMortNzykYHzWGyMOtw  33.709942 -117.990471      2     4.0   \n",
       "4437  JiYslHHmxDRNtjDg_49fmQ  33.788500 -117.973950      2     4.0   \n",
       "4622  KrivJ1coTLmgpGvGGC2Ayw  34.083747 -118.331096      2     4.0   \n",
       "5147  IwHLvSRB4VedCNNP938O1A  33.969443 -118.164245      1     3.5   \n",
       "6168  myW4G0FVfeUvXqefR57A6A  34.183148 -119.165681      1     4.5   \n",
       "7635  -efACZXjjng8u_zKze_NHQ  33.544610 -117.785290      2     4.5   \n",
       "8270  Ox6KEoJNpShHZdVhuLwRLg  33.748221 -117.863545      1     4.0   \n",
       "8833  RgUq2nW9aUrQJFaYA5-QLw  33.662399 -117.750724      2     4.5   \n",
       "8856  YtIYj64dozA4YOLHVwCkew  33.943513 -118.243741      1     1.5   \n",
       "8951  PDBsbA45BK8pj5iaKOVDsg  33.713243 -117.871824      1     4.0   \n",
       "\n",
       "      review_count  zip_code  \n",
       "172          349.0   93453.0  \n",
       "723           94.0   92703.0  \n",
       "901           47.0   96137.0  \n",
       "1163           7.0   92780.0  \n",
       "1298          45.0   92336.0  \n",
       "2240          14.0   92092.0  \n",
       "2705          19.0   96137.0  \n",
       "2816          66.0   92626.0  \n",
       "3572          85.0   92647.0  \n",
       "4437         178.0   92841.0  \n",
       "4622          17.0   93010.0  \n",
       "5147          11.0   92602.0  \n",
       "6168          66.0   93033.0  \n",
       "7635          63.0   92651.0  \n",
       "8270          82.0   92701.0  \n",
       "8833         182.0   92807.0  \n",
       "8856          23.0   93955.0  \n",
       "8951          49.0   92707.0  "
      ]
     },
     "execution_count": 41,
     "metadata": {},
     "output_type": "execute_result"
    }
   ],
   "source": [
    "master_df.loc[master_df['latitude']>]"
   ]
  },
  {
   "cell_type": "markdown",
   "metadata": {},
   "source": [
    "# Dropping Rows \n",
    "- convert zip_codes from float -> int -> str\n",
    "- zipcodes that don't start with '9'"
   ]
  },
  {
   "cell_type": "code",
   "execution_count": 15,
   "metadata": {},
   "outputs": [],
   "source": [
    "master_df = master_df.reset_index(drop=True)"
   ]
  },
  {
   "cell_type": "code",
   "execution_count": 16,
   "metadata": {},
   "outputs": [],
   "source": [
    "master_df['zip_code'] = master_df['zip_code'].astype(int).astype(str)"
   ]
  },
  {
   "cell_type": "code",
   "execution_count": 17,
   "metadata": {},
   "outputs": [],
   "source": [
    "notin_la = []\n",
    "for i in range(len(master_df['zip_code'])):\n",
    "    if master_df['zip_code'][i].startswith('9') == False:\n",
    "        notin_la.append(master_df['zip_code'].index[i])"
   ]
  },
  {
   "cell_type": "code",
   "execution_count": 18,
   "metadata": {},
   "outputs": [
    {
     "data": {
      "text/plain": [
       "[2211,\n",
       " 2753,\n",
       " 3269,\n",
       " 3361,\n",
       " 3362,\n",
       " 3367,\n",
       " 3386,\n",
       " 3387,\n",
       " 3400,\n",
       " 3401,\n",
       " 3404,\n",
       " 5155,\n",
       " 5687,\n",
       " 8726]"
      ]
     },
     "execution_count": 18,
     "metadata": {},
     "output_type": "execute_result"
    }
   ],
   "source": [
    "notin_la"
   ]
  },
  {
   "cell_type": "code",
   "execution_count": 19,
   "metadata": {},
   "outputs": [
    {
     "data": {
      "text/plain": [
       "(9872, 10)"
      ]
     },
     "execution_count": 19,
     "metadata": {},
     "output_type": "execute_result"
    }
   ],
   "source": [
    "master_df.shape"
   ]
  },
  {
   "cell_type": "code",
   "execution_count": 20,
   "metadata": {},
   "outputs": [],
   "source": [
    "master_df = master_df.drop(index=notin_la).reset_index(drop=True)"
   ]
  },
  {
   "cell_type": "markdown",
   "metadata": {},
   "source": [
    "# Removing rows that aren't around the same latitude/longitude"
   ]
  },
  {
   "cell_type": "code",
   "execution_count": 53,
   "metadata": {},
   "outputs": [],
   "source": [
    "master_df = master_df.drop(index=master_df.loc[(master_df['longitude'] > -117) | (master_df['latitude'] > 35)].index).reset_index(drop=True)"
   ]
  },
  {
   "cell_type": "code",
   "execution_count": 54,
   "metadata": {},
   "outputs": [
    {
     "data": {
      "text/plain": [
       "(9860, 10)"
      ]
     },
     "execution_count": 54,
     "metadata": {},
     "output_type": "execute_result"
    }
   ],
   "source": [
    "master_df.shape"
   ]
  },
  {
   "cell_type": "markdown",
   "metadata": {},
   "source": [
    "## Save the cleaned data to a CSV"
   ]
  },
  {
   "cell_type": "code",
   "execution_count": 56,
   "metadata": {},
   "outputs": [],
   "source": [
    "# Don't uncomment this unless you actually want to create a new csv\n",
    "\n",
    "# master_df.to_csv('../data/master.csv')"
   ]
  },
  {
   "cell_type": "code",
   "execution_count": null,
   "metadata": {},
   "outputs": [],
   "source": []
  }
 ],
 "metadata": {
  "kernelspec": {
   "display_name": "Python 3",
   "language": "python",
   "name": "python3"
  },
  "language_info": {
   "codemirror_mode": {
    "name": "ipython",
    "version": 3
   },
   "file_extension": ".py",
   "mimetype": "text/x-python",
   "name": "python",
   "nbconvert_exporter": "python",
   "pygments_lexer": "ipython3",
   "version": "3.7.3"
  }
 },
 "nbformat": 4,
 "nbformat_minor": 2
}
