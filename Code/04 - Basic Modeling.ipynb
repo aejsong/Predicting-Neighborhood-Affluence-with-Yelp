{
 "cells": [
  {
   "cell_type": "markdown",
   "metadata": {},
   "source": [
    "### Data Cleaning Notebook: For a dataset with zipcode as rows, we did dummied the ratings and Price.\n",
    "### For the categories I used countvectorizer to assign the matrix to the original data set.\n",
    "### As the Countvecrizer does not perform well, I saved the data with two copies, one with countvecrizer one without"
   ]
  },
  {
   "cell_type": "code",
   "execution_count": 1,
   "metadata": {},
   "outputs": [],
   "source": [
    "import numpy as np\n",
    "import pandas as pd\n",
    "import matplotlib.pyplot as plt\n",
    "from sklearn.feature_extraction.text import CountVectorizer, TfidfVectorizer\n",
    "from sklearn.model_selection import train_test_split\n",
    "from sklearn.preprocessing import StandardScaler\n",
    "from sklearn.linear_model import LinearRegression\n",
    "from sklearn.neighbors import KNeighborsRegressor\n",
    "from sklearn.tree import DecisionTreeRegressor\n",
    "from sklearn.ensemble import BaggingRegressor, RandomForestRegressor, AdaBoostRegressor\n",
    "from sklearn.svm import SVR\n",
    "from sklearn.metrics import mean_squared_error\n",
    "\n",
    "from sklearn.pipeline import Pipeline\n",
    "from sklearn.model_selection import GridSearchCV\n",
    "\n",
    "from sklearn.preprocessing import PolynomialFeatures\n",
    "from sklearn.linear_model import Lasso\n",
    "from sklearn.linear_model import LassoCV\n",
    "\n",
    "from sklearn.preprocessing import FunctionTransformer\n",
    "from sklearn.pipeline import FeatureUnion\n",
    "from sklearn.cluster import KMeans\n",
    "\n",
    "import pickle"
   ]
  },
  {
   "cell_type": "code",
   "execution_count": 2,
   "metadata": {
    "scrolled": true
   },
   "outputs": [
    {
     "data": {
      "text/html": [
       "<div>\n",
       "<style scoped>\n",
       "    .dataframe tbody tr th:only-of-type {\n",
       "        vertical-align: middle;\n",
       "    }\n",
       "\n",
       "    .dataframe tbody tr th {\n",
       "        vertical-align: top;\n",
       "    }\n",
       "\n",
       "    .dataframe thead th {\n",
       "        text-align: right;\n",
       "    }\n",
       "</style>\n",
       "<table border=\"1\" class=\"dataframe\">\n",
       "  <thead>\n",
       "    <tr style=\"text-align: right;\">\n",
       "      <th></th>\n",
       "      <th>alias</th>\n",
       "      <th>category</th>\n",
       "      <th>city</th>\n",
       "      <th>id</th>\n",
       "      <th>latitude</th>\n",
       "      <th>longitude</th>\n",
       "      <th>price</th>\n",
       "      <th>rating</th>\n",
       "      <th>review_count</th>\n",
       "      <th>zip_code</th>\n",
       "      <th>med_agi</th>\n",
       "      <th>avg_agi</th>\n",
       "      <th>count</th>\n",
       "    </tr>\n",
       "  </thead>\n",
       "  <tbody>\n",
       "    <tr>\n",
       "      <td>0</td>\n",
       "      <td>lucilles-smokehouse-bar-b-que-brea</td>\n",
       "      <td>['bbq', 'smokehouse', 'southern']</td>\n",
       "      <td>Brea</td>\n",
       "      <td>zzvkb4J_sQAk8N20OWdZhg</td>\n",
       "      <td>33.911154</td>\n",
       "      <td>-117.881259</td>\n",
       "      <td>2</td>\n",
       "      <td>3.5</td>\n",
       "      <td>1257.0</td>\n",
       "      <td>92821.0</td>\n",
       "      <td>86070</td>\n",
       "      <td>106163</td>\n",
       "      <td>170</td>\n",
       "    </tr>\n",
       "    <tr>\n",
       "      <td>1</td>\n",
       "      <td>subway-restaurants-brea-4</td>\n",
       "      <td>['sandwiches']</td>\n",
       "      <td>Brea</td>\n",
       "      <td>zWs68lBY2PyNOTRJhxXapg</td>\n",
       "      <td>33.911959</td>\n",
       "      <td>-117.867374</td>\n",
       "      <td>1</td>\n",
       "      <td>3.0</td>\n",
       "      <td>22.0</td>\n",
       "      <td>92821.0</td>\n",
       "      <td>86070</td>\n",
       "      <td>106163</td>\n",
       "      <td>170</td>\n",
       "    </tr>\n",
       "    <tr>\n",
       "      <td>2</td>\n",
       "      <td>nekter-juice-bar-brea</td>\n",
       "      <td>['juicebars', 'acaibowls', 'icecream']</td>\n",
       "      <td>Brea</td>\n",
       "      <td>zOYNwoDjpg6Ehwn0RKX9qA</td>\n",
       "      <td>33.911283</td>\n",
       "      <td>-117.867449</td>\n",
       "      <td>2</td>\n",
       "      <td>3.5</td>\n",
       "      <td>367.0</td>\n",
       "      <td>92821.0</td>\n",
       "      <td>86070</td>\n",
       "      <td>106163</td>\n",
       "      <td>170</td>\n",
       "    </tr>\n",
       "    <tr>\n",
       "      <td>3</td>\n",
       "      <td>arbys-brea-2</td>\n",
       "      <td>['sandwiches', 'hotdogs']</td>\n",
       "      <td>Brea</td>\n",
       "      <td>zNNLl821AlzApHYqRxNALw</td>\n",
       "      <td>33.911431</td>\n",
       "      <td>-117.865941</td>\n",
       "      <td>1</td>\n",
       "      <td>2.5</td>\n",
       "      <td>84.0</td>\n",
       "      <td>92821.0</td>\n",
       "      <td>86070</td>\n",
       "      <td>106163</td>\n",
       "      <td>170</td>\n",
       "    </tr>\n",
       "    <tr>\n",
       "      <td>4</td>\n",
       "      <td>portofino-trattoria-brea</td>\n",
       "      <td>['italian']</td>\n",
       "      <td>Brea</td>\n",
       "      <td>zJ4pvxtpo3Y5LvylLXmCzA</td>\n",
       "      <td>33.932860</td>\n",
       "      <td>-117.916253</td>\n",
       "      <td>2</td>\n",
       "      <td>4.0</td>\n",
       "      <td>231.0</td>\n",
       "      <td>92821.0</td>\n",
       "      <td>86070</td>\n",
       "      <td>106163</td>\n",
       "      <td>170</td>\n",
       "    </tr>\n",
       "  </tbody>\n",
       "</table>\n",
       "</div>"
      ],
      "text/plain": [
       "                                alias                                category  \\\n",
       "0  lucilles-smokehouse-bar-b-que-brea       ['bbq', 'smokehouse', 'southern']   \n",
       "1           subway-restaurants-brea-4                          ['sandwiches']   \n",
       "2               nekter-juice-bar-brea  ['juicebars', 'acaibowls', 'icecream']   \n",
       "3                        arbys-brea-2               ['sandwiches', 'hotdogs']   \n",
       "4            portofino-trattoria-brea                             ['italian']   \n",
       "\n",
       "   city                      id   latitude   longitude  price  rating  \\\n",
       "0  Brea  zzvkb4J_sQAk8N20OWdZhg  33.911154 -117.881259      2     3.5   \n",
       "1  Brea  zWs68lBY2PyNOTRJhxXapg  33.911959 -117.867374      1     3.0   \n",
       "2  Brea  zOYNwoDjpg6Ehwn0RKX9qA  33.911283 -117.867449      2     3.5   \n",
       "3  Brea  zNNLl821AlzApHYqRxNALw  33.911431 -117.865941      1     2.5   \n",
       "4  Brea  zJ4pvxtpo3Y5LvylLXmCzA  33.932860 -117.916253      2     4.0   \n",
       "\n",
       "   review_count  zip_code  med_agi  avg_agi  count  \n",
       "0        1257.0   92821.0    86070   106163    170  \n",
       "1          22.0   92821.0    86070   106163    170  \n",
       "2         367.0   92821.0    86070   106163    170  \n",
       "3          84.0   92821.0    86070   106163    170  \n",
       "4         231.0   92821.0    86070   106163    170  "
      ]
     },
     "execution_count": 2,
     "metadata": {},
     "output_type": "execute_result"
    }
   ],
   "source": [
    "df= pd.read_csv('../data/data_income.csv')\n",
    "df.head()"
   ]
  },
  {
   "cell_type": "code",
   "execution_count": 3,
   "metadata": {},
   "outputs": [
    {
     "data": {
      "text/plain": [
       "(27119, 13)"
      ]
     },
     "execution_count": 3,
     "metadata": {},
     "output_type": "execute_result"
    }
   ],
   "source": [
    "df.shape"
   ]
  },
  {
   "cell_type": "code",
   "execution_count": 4,
   "metadata": {},
   "outputs": [],
   "source": [
    "df.drop(columns = ['id','med_agi'], inplace = True)"
   ]
  },
  {
   "cell_type": "markdown",
   "metadata": {},
   "source": [
    "## change the data set from restaurant based to zipcode based"
   ]
  },
  {
   "cell_type": "code",
   "execution_count": 5,
   "metadata": {
    "scrolled": false
   },
   "outputs": [
    {
     "data": {
      "text/html": [
       "<div>\n",
       "<style scoped>\n",
       "    .dataframe tbody tr th:only-of-type {\n",
       "        vertical-align: middle;\n",
       "    }\n",
       "\n",
       "    .dataframe tbody tr th {\n",
       "        vertical-align: top;\n",
       "    }\n",
       "\n",
       "    .dataframe thead th {\n",
       "        text-align: right;\n",
       "    }\n",
       "</style>\n",
       "<table border=\"1\" class=\"dataframe\">\n",
       "  <thead>\n",
       "    <tr style=\"text-align: right;\">\n",
       "      <th></th>\n",
       "      <th>avg_agi</th>\n",
       "      <th>count</th>\n",
       "      <th>latitude</th>\n",
       "      <th>longitude</th>\n",
       "      <th>price</th>\n",
       "      <th>rating</th>\n",
       "      <th>review_count</th>\n",
       "    </tr>\n",
       "    <tr>\n",
       "      <th>zip_code</th>\n",
       "      <th></th>\n",
       "      <th></th>\n",
       "      <th></th>\n",
       "      <th></th>\n",
       "      <th></th>\n",
       "      <th></th>\n",
       "      <th></th>\n",
       "    </tr>\n",
       "  </thead>\n",
       "  <tbody>\n",
       "    <tr>\n",
       "      <td>90001.0</td>\n",
       "      <td>45650</td>\n",
       "      <td>90</td>\n",
       "      <td>33.976409</td>\n",
       "      <td>-118.248493</td>\n",
       "      <td>1.277778</td>\n",
       "      <td>3.638889</td>\n",
       "      <td>49.888889</td>\n",
       "    </tr>\n",
       "    <tr>\n",
       "      <td>90002.0</td>\n",
       "      <td>44463</td>\n",
       "      <td>21</td>\n",
       "      <td>33.954422</td>\n",
       "      <td>-118.245431</td>\n",
       "      <td>1.095238</td>\n",
       "      <td>3.380952</td>\n",
       "      <td>27.904762</td>\n",
       "    </tr>\n",
       "    <tr>\n",
       "      <td>90003.0</td>\n",
       "      <td>43342</td>\n",
       "      <td>59</td>\n",
       "      <td>33.971176</td>\n",
       "      <td>-118.271243</td>\n",
       "      <td>1.186441</td>\n",
       "      <td>3.203390</td>\n",
       "      <td>34.966102</td>\n",
       "    </tr>\n",
       "    <tr>\n",
       "      <td>90004.0</td>\n",
       "      <td>82091</td>\n",
       "      <td>137</td>\n",
       "      <td>34.075058</td>\n",
       "      <td>-118.304657</td>\n",
       "      <td>1.489051</td>\n",
       "      <td>3.799270</td>\n",
       "      <td>185.861314</td>\n",
       "    </tr>\n",
       "    <tr>\n",
       "      <td>90005.0</td>\n",
       "      <td>49310</td>\n",
       "      <td>112</td>\n",
       "      <td>34.059468</td>\n",
       "      <td>-118.300007</td>\n",
       "      <td>1.589286</td>\n",
       "      <td>3.571429</td>\n",
       "      <td>243.035714</td>\n",
       "    </tr>\n",
       "  </tbody>\n",
       "</table>\n",
       "</div>"
      ],
      "text/plain": [
       "          avg_agi  count   latitude   longitude     price    rating  \\\n",
       "zip_code                                                              \n",
       "90001.0     45650     90  33.976409 -118.248493  1.277778  3.638889   \n",
       "90002.0     44463     21  33.954422 -118.245431  1.095238  3.380952   \n",
       "90003.0     43342     59  33.971176 -118.271243  1.186441  3.203390   \n",
       "90004.0     82091    137  34.075058 -118.304657  1.489051  3.799270   \n",
       "90005.0     49310    112  34.059468 -118.300007  1.589286  3.571429   \n",
       "\n",
       "          review_count  \n",
       "zip_code                \n",
       "90001.0      49.888889  \n",
       "90002.0      27.904762  \n",
       "90003.0      34.966102  \n",
       "90004.0     185.861314  \n",
       "90005.0     243.035714  "
      ]
     },
     "execution_count": 5,
     "metadata": {},
     "output_type": "execute_result"
    }
   ],
   "source": [
    "df_pivot = df.pivot_table(index = ['zip_code'])\n",
    "df_pivot.head()"
   ]
  },
  {
   "cell_type": "markdown",
   "metadata": {},
   "source": [
    "##  Create New column for the combo of Price*review_count"
   ]
  },
  {
   "cell_type": "code",
   "execution_count": 6,
   "metadata": {},
   "outputs": [],
   "source": [
    "df_pivot['price*rating'] = df_pivot['price'] * df_pivot['rating']"
   ]
  },
  {
   "cell_type": "code",
   "execution_count": 7,
   "metadata": {},
   "outputs": [],
   "source": [
    "df_pivot['price*review_count']=df_pivot['price']*df_pivot['review_count']"
   ]
  },
  {
   "cell_type": "code",
   "execution_count": 8,
   "metadata": {
    "scrolled": true
   },
   "outputs": [
    {
     "data": {
      "text/html": [
       "<div>\n",
       "<style scoped>\n",
       "    .dataframe tbody tr th:only-of-type {\n",
       "        vertical-align: middle;\n",
       "    }\n",
       "\n",
       "    .dataframe tbody tr th {\n",
       "        vertical-align: top;\n",
       "    }\n",
       "\n",
       "    .dataframe thead th {\n",
       "        text-align: right;\n",
       "    }\n",
       "</style>\n",
       "<table border=\"1\" class=\"dataframe\">\n",
       "  <thead>\n",
       "    <tr style=\"text-align: right;\">\n",
       "      <th></th>\n",
       "      <th>avg_agi</th>\n",
       "      <th>count</th>\n",
       "      <th>latitude</th>\n",
       "      <th>longitude</th>\n",
       "      <th>price</th>\n",
       "      <th>rating</th>\n",
       "      <th>review_count</th>\n",
       "      <th>price*rating</th>\n",
       "      <th>price*review_count</th>\n",
       "    </tr>\n",
       "    <tr>\n",
       "      <th>zip_code</th>\n",
       "      <th></th>\n",
       "      <th></th>\n",
       "      <th></th>\n",
       "      <th></th>\n",
       "      <th></th>\n",
       "      <th></th>\n",
       "      <th></th>\n",
       "      <th></th>\n",
       "      <th></th>\n",
       "    </tr>\n",
       "  </thead>\n",
       "  <tbody>\n",
       "    <tr>\n",
       "      <td>90001.0</td>\n",
       "      <td>45650</td>\n",
       "      <td>90</td>\n",
       "      <td>33.976409</td>\n",
       "      <td>-118.248493</td>\n",
       "      <td>1.277778</td>\n",
       "      <td>3.638889</td>\n",
       "      <td>49.888889</td>\n",
       "      <td>4.649691</td>\n",
       "      <td>63.746914</td>\n",
       "    </tr>\n",
       "    <tr>\n",
       "      <td>90002.0</td>\n",
       "      <td>44463</td>\n",
       "      <td>21</td>\n",
       "      <td>33.954422</td>\n",
       "      <td>-118.245431</td>\n",
       "      <td>1.095238</td>\n",
       "      <td>3.380952</td>\n",
       "      <td>27.904762</td>\n",
       "      <td>3.702948</td>\n",
       "      <td>30.562358</td>\n",
       "    </tr>\n",
       "    <tr>\n",
       "      <td>90003.0</td>\n",
       "      <td>43342</td>\n",
       "      <td>59</td>\n",
       "      <td>33.971176</td>\n",
       "      <td>-118.271243</td>\n",
       "      <td>1.186441</td>\n",
       "      <td>3.203390</td>\n",
       "      <td>34.966102</td>\n",
       "      <td>3.800632</td>\n",
       "      <td>41.485205</td>\n",
       "    </tr>\n",
       "    <tr>\n",
       "      <td>90004.0</td>\n",
       "      <td>82091</td>\n",
       "      <td>137</td>\n",
       "      <td>34.075058</td>\n",
       "      <td>-118.304657</td>\n",
       "      <td>1.489051</td>\n",
       "      <td>3.799270</td>\n",
       "      <td>185.861314</td>\n",
       "      <td>5.657307</td>\n",
       "      <td>276.756993</td>\n",
       "    </tr>\n",
       "    <tr>\n",
       "      <td>90005.0</td>\n",
       "      <td>49310</td>\n",
       "      <td>112</td>\n",
       "      <td>34.059468</td>\n",
       "      <td>-118.300007</td>\n",
       "      <td>1.589286</td>\n",
       "      <td>3.571429</td>\n",
       "      <td>243.035714</td>\n",
       "      <td>5.676020</td>\n",
       "      <td>386.253189</td>\n",
       "    </tr>\n",
       "  </tbody>\n",
       "</table>\n",
       "</div>"
      ],
      "text/plain": [
       "          avg_agi  count   latitude   longitude     price    rating  \\\n",
       "zip_code                                                              \n",
       "90001.0     45650     90  33.976409 -118.248493  1.277778  3.638889   \n",
       "90002.0     44463     21  33.954422 -118.245431  1.095238  3.380952   \n",
       "90003.0     43342     59  33.971176 -118.271243  1.186441  3.203390   \n",
       "90004.0     82091    137  34.075058 -118.304657  1.489051  3.799270   \n",
       "90005.0     49310    112  34.059468 -118.300007  1.589286  3.571429   \n",
       "\n",
       "          review_count  price*rating  price*review_count  \n",
       "zip_code                                                  \n",
       "90001.0      49.888889      4.649691           63.746914  \n",
       "90002.0      27.904762      3.702948           30.562358  \n",
       "90003.0      34.966102      3.800632           41.485205  \n",
       "90004.0     185.861314      5.657307          276.756993  \n",
       "90005.0     243.035714      5.676020          386.253189  "
      ]
     },
     "execution_count": 8,
     "metadata": {},
     "output_type": "execute_result"
    }
   ],
   "source": [
    "df_pivot.head()"
   ]
  },
  {
   "cell_type": "markdown",
   "metadata": {},
   "source": [
    "## Breakdown the price from original Pivot table(average) to count how many we have for each price category"
   ]
  },
  {
   "cell_type": "code",
   "execution_count": 9,
   "metadata": {
    "scrolled": true
   },
   "outputs": [
    {
     "data": {
      "text/html": [
       "<div>\n",
       "<style scoped>\n",
       "    .dataframe tbody tr th:only-of-type {\n",
       "        vertical-align: middle;\n",
       "    }\n",
       "\n",
       "    .dataframe tbody tr th {\n",
       "        vertical-align: top;\n",
       "    }\n",
       "\n",
       "    .dataframe thead th {\n",
       "        text-align: right;\n",
       "    }\n",
       "</style>\n",
       "<table border=\"1\" class=\"dataframe\">\n",
       "  <thead>\n",
       "    <tr style=\"text-align: right;\">\n",
       "      <th></th>\n",
       "      <th>price_1</th>\n",
       "      <th>price_2</th>\n",
       "      <th>price_3</th>\n",
       "      <th>price_4</th>\n",
       "    </tr>\n",
       "    <tr>\n",
       "      <th>zip_code</th>\n",
       "      <th></th>\n",
       "      <th></th>\n",
       "      <th></th>\n",
       "      <th></th>\n",
       "    </tr>\n",
       "  </thead>\n",
       "  <tbody>\n",
       "    <tr>\n",
       "      <td>90001.0</td>\n",
       "      <td>65</td>\n",
       "      <td>25</td>\n",
       "      <td>0</td>\n",
       "      <td>0</td>\n",
       "    </tr>\n",
       "    <tr>\n",
       "      <td>90002.0</td>\n",
       "      <td>19</td>\n",
       "      <td>2</td>\n",
       "      <td>0</td>\n",
       "      <td>0</td>\n",
       "    </tr>\n",
       "    <tr>\n",
       "      <td>90003.0</td>\n",
       "      <td>50</td>\n",
       "      <td>8</td>\n",
       "      <td>0</td>\n",
       "      <td>1</td>\n",
       "    </tr>\n",
       "    <tr>\n",
       "      <td>90004.0</td>\n",
       "      <td>74</td>\n",
       "      <td>59</td>\n",
       "      <td>4</td>\n",
       "      <td>0</td>\n",
       "    </tr>\n",
       "    <tr>\n",
       "      <td>90005.0</td>\n",
       "      <td>48</td>\n",
       "      <td>62</td>\n",
       "      <td>2</td>\n",
       "      <td>0</td>\n",
       "    </tr>\n",
       "  </tbody>\n",
       "</table>\n",
       "</div>"
      ],
      "text/plain": [
       "          price_1  price_2  price_3  price_4\n",
       "zip_code                                    \n",
       "90001.0        65       25        0        0\n",
       "90002.0        19        2        0        0\n",
       "90003.0        50        8        0        1\n",
       "90004.0        74       59        4        0\n",
       "90005.0        48       62        2        0"
      ]
     },
     "execution_count": 9,
     "metadata": {},
     "output_type": "execute_result"
    }
   ],
   "source": [
    "count_price = (pd.crosstab(df[\"zip_code\"], df['price']))\n",
    "count_price.columns = ['price_1','price_2','price_3','price_4']\n",
    "count_price.head()"
   ]
  },
  {
   "cell_type": "markdown",
   "metadata": {},
   "source": [
    "# Break Down for Rating column"
   ]
  },
  {
   "cell_type": "code",
   "execution_count": 10,
   "metadata": {},
   "outputs": [
    {
     "data": {
      "text/html": [
       "<div>\n",
       "<style scoped>\n",
       "    .dataframe tbody tr th:only-of-type {\n",
       "        vertical-align: middle;\n",
       "    }\n",
       "\n",
       "    .dataframe tbody tr th {\n",
       "        vertical-align: top;\n",
       "    }\n",
       "\n",
       "    .dataframe thead th {\n",
       "        text-align: right;\n",
       "    }\n",
       "</style>\n",
       "<table border=\"1\" class=\"dataframe\">\n",
       "  <thead>\n",
       "    <tr style=\"text-align: right;\">\n",
       "      <th></th>\n",
       "      <th>rating_0.0</th>\n",
       "      <th>rating_1.0</th>\n",
       "      <th>rating_1.5</th>\n",
       "      <th>rating_2.0</th>\n",
       "      <th>rating_2.5</th>\n",
       "      <th>rating_3.0</th>\n",
       "      <th>rating_3.5</th>\n",
       "      <th>rating_4.0</th>\n",
       "      <th>rating_4.5</th>\n",
       "      <th>rating_5</th>\n",
       "    </tr>\n",
       "    <tr>\n",
       "      <th>zip_code</th>\n",
       "      <th></th>\n",
       "      <th></th>\n",
       "      <th></th>\n",
       "      <th></th>\n",
       "      <th></th>\n",
       "      <th></th>\n",
       "      <th></th>\n",
       "      <th></th>\n",
       "      <th></th>\n",
       "      <th></th>\n",
       "    </tr>\n",
       "  </thead>\n",
       "  <tbody>\n",
       "    <tr>\n",
       "      <td>90001.0</td>\n",
       "      <td>0</td>\n",
       "      <td>0</td>\n",
       "      <td>4</td>\n",
       "      <td>8</td>\n",
       "      <td>8</td>\n",
       "      <td>8</td>\n",
       "      <td>14</td>\n",
       "      <td>19</td>\n",
       "      <td>17</td>\n",
       "      <td>12</td>\n",
       "    </tr>\n",
       "    <tr>\n",
       "      <td>90002.0</td>\n",
       "      <td>0</td>\n",
       "      <td>0</td>\n",
       "      <td>3</td>\n",
       "      <td>4</td>\n",
       "      <td>1</td>\n",
       "      <td>0</td>\n",
       "      <td>1</td>\n",
       "      <td>6</td>\n",
       "      <td>3</td>\n",
       "      <td>3</td>\n",
       "    </tr>\n",
       "    <tr>\n",
       "      <td>90003.0</td>\n",
       "      <td>0</td>\n",
       "      <td>2</td>\n",
       "      <td>7</td>\n",
       "      <td>9</td>\n",
       "      <td>6</td>\n",
       "      <td>5</td>\n",
       "      <td>6</td>\n",
       "      <td>9</td>\n",
       "      <td>7</td>\n",
       "      <td>8</td>\n",
       "    </tr>\n",
       "    <tr>\n",
       "      <td>90004.0</td>\n",
       "      <td>0</td>\n",
       "      <td>0</td>\n",
       "      <td>1</td>\n",
       "      <td>2</td>\n",
       "      <td>12</td>\n",
       "      <td>15</td>\n",
       "      <td>24</td>\n",
       "      <td>48</td>\n",
       "      <td>22</td>\n",
       "      <td>13</td>\n",
       "    </tr>\n",
       "    <tr>\n",
       "      <td>90005.0</td>\n",
       "      <td>0</td>\n",
       "      <td>1</td>\n",
       "      <td>2</td>\n",
       "      <td>5</td>\n",
       "      <td>6</td>\n",
       "      <td>19</td>\n",
       "      <td>19</td>\n",
       "      <td>45</td>\n",
       "      <td>15</td>\n",
       "      <td>0</td>\n",
       "    </tr>\n",
       "  </tbody>\n",
       "</table>\n",
       "</div>"
      ],
      "text/plain": [
       "          rating_0.0  rating_1.0  rating_1.5  rating_2.0  rating_2.5  \\\n",
       "zip_code                                                               \n",
       "90001.0            0           0           4           8           8   \n",
       "90002.0            0           0           3           4           1   \n",
       "90003.0            0           2           7           9           6   \n",
       "90004.0            0           0           1           2          12   \n",
       "90005.0            0           1           2           5           6   \n",
       "\n",
       "          rating_3.0  rating_3.5  rating_4.0  rating_4.5  rating_5  \n",
       "zip_code                                                            \n",
       "90001.0            8          14          19          17        12  \n",
       "90002.0            0           1           6           3         3  \n",
       "90003.0            5           6           9           7         8  \n",
       "90004.0           15          24          48          22        13  \n",
       "90005.0           19          19          45          15         0  "
      ]
     },
     "execution_count": 10,
     "metadata": {},
     "output_type": "execute_result"
    }
   ],
   "source": [
    "count_rating = (pd.crosstab(df[\"zip_code\"], df['rating']))\n",
    "count_rating.columns = ['rating_0.0','rating_1.0','rating_1.5','rating_2.0','rating_2.5','rating_3.0','rating_3.5','rating_4.0','rating_4.5','rating_5']\n",
    "count_rating.head()"
   ]
  },
  {
   "cell_type": "markdown",
   "metadata": {},
   "source": [
    "## combine price and rating to zipcode file"
   ]
  },
  {
   "cell_type": "code",
   "execution_count": 11,
   "metadata": {},
   "outputs": [
    {
     "data": {
      "text/html": [
       "<div>\n",
       "<style scoped>\n",
       "    .dataframe tbody tr th:only-of-type {\n",
       "        vertical-align: middle;\n",
       "    }\n",
       "\n",
       "    .dataframe tbody tr th {\n",
       "        vertical-align: top;\n",
       "    }\n",
       "\n",
       "    .dataframe thead th {\n",
       "        text-align: right;\n",
       "    }\n",
       "</style>\n",
       "<table border=\"1\" class=\"dataframe\">\n",
       "  <thead>\n",
       "    <tr style=\"text-align: right;\">\n",
       "      <th></th>\n",
       "      <th>price_1</th>\n",
       "      <th>price_2</th>\n",
       "      <th>price_3</th>\n",
       "      <th>price_4</th>\n",
       "      <th>rating_0.0</th>\n",
       "      <th>rating_1.0</th>\n",
       "      <th>rating_1.5</th>\n",
       "      <th>rating_2.0</th>\n",
       "      <th>rating_2.5</th>\n",
       "      <th>rating_3.0</th>\n",
       "      <th>rating_3.5</th>\n",
       "      <th>rating_4.0</th>\n",
       "      <th>rating_4.5</th>\n",
       "      <th>rating_5</th>\n",
       "    </tr>\n",
       "    <tr>\n",
       "      <th>zip_code</th>\n",
       "      <th></th>\n",
       "      <th></th>\n",
       "      <th></th>\n",
       "      <th></th>\n",
       "      <th></th>\n",
       "      <th></th>\n",
       "      <th></th>\n",
       "      <th></th>\n",
       "      <th></th>\n",
       "      <th></th>\n",
       "      <th></th>\n",
       "      <th></th>\n",
       "      <th></th>\n",
       "      <th></th>\n",
       "    </tr>\n",
       "  </thead>\n",
       "  <tbody>\n",
       "    <tr>\n",
       "      <td>90001.0</td>\n",
       "      <td>65</td>\n",
       "      <td>25</td>\n",
       "      <td>0</td>\n",
       "      <td>0</td>\n",
       "      <td>0</td>\n",
       "      <td>0</td>\n",
       "      <td>4</td>\n",
       "      <td>8</td>\n",
       "      <td>8</td>\n",
       "      <td>8</td>\n",
       "      <td>14</td>\n",
       "      <td>19</td>\n",
       "      <td>17</td>\n",
       "      <td>12</td>\n",
       "    </tr>\n",
       "    <tr>\n",
       "      <td>90002.0</td>\n",
       "      <td>19</td>\n",
       "      <td>2</td>\n",
       "      <td>0</td>\n",
       "      <td>0</td>\n",
       "      <td>0</td>\n",
       "      <td>0</td>\n",
       "      <td>3</td>\n",
       "      <td>4</td>\n",
       "      <td>1</td>\n",
       "      <td>0</td>\n",
       "      <td>1</td>\n",
       "      <td>6</td>\n",
       "      <td>3</td>\n",
       "      <td>3</td>\n",
       "    </tr>\n",
       "    <tr>\n",
       "      <td>90003.0</td>\n",
       "      <td>50</td>\n",
       "      <td>8</td>\n",
       "      <td>0</td>\n",
       "      <td>1</td>\n",
       "      <td>0</td>\n",
       "      <td>2</td>\n",
       "      <td>7</td>\n",
       "      <td>9</td>\n",
       "      <td>6</td>\n",
       "      <td>5</td>\n",
       "      <td>6</td>\n",
       "      <td>9</td>\n",
       "      <td>7</td>\n",
       "      <td>8</td>\n",
       "    </tr>\n",
       "    <tr>\n",
       "      <td>90004.0</td>\n",
       "      <td>74</td>\n",
       "      <td>59</td>\n",
       "      <td>4</td>\n",
       "      <td>0</td>\n",
       "      <td>0</td>\n",
       "      <td>0</td>\n",
       "      <td>1</td>\n",
       "      <td>2</td>\n",
       "      <td>12</td>\n",
       "      <td>15</td>\n",
       "      <td>24</td>\n",
       "      <td>48</td>\n",
       "      <td>22</td>\n",
       "      <td>13</td>\n",
       "    </tr>\n",
       "    <tr>\n",
       "      <td>90005.0</td>\n",
       "      <td>48</td>\n",
       "      <td>62</td>\n",
       "      <td>2</td>\n",
       "      <td>0</td>\n",
       "      <td>0</td>\n",
       "      <td>1</td>\n",
       "      <td>2</td>\n",
       "      <td>5</td>\n",
       "      <td>6</td>\n",
       "      <td>19</td>\n",
       "      <td>19</td>\n",
       "      <td>45</td>\n",
       "      <td>15</td>\n",
       "      <td>0</td>\n",
       "    </tr>\n",
       "  </tbody>\n",
       "</table>\n",
       "</div>"
      ],
      "text/plain": [
       "          price_1  price_2  price_3  price_4  rating_0.0  rating_1.0  \\\n",
       "zip_code                                                               \n",
       "90001.0        65       25        0        0           0           0   \n",
       "90002.0        19        2        0        0           0           0   \n",
       "90003.0        50        8        0        1           0           2   \n",
       "90004.0        74       59        4        0           0           0   \n",
       "90005.0        48       62        2        0           0           1   \n",
       "\n",
       "          rating_1.5  rating_2.0  rating_2.5  rating_3.0  rating_3.5  \\\n",
       "zip_code                                                               \n",
       "90001.0            4           8           8           8          14   \n",
       "90002.0            3           4           1           0           1   \n",
       "90003.0            7           9           6           5           6   \n",
       "90004.0            1           2          12          15          24   \n",
       "90005.0            2           5           6          19          19   \n",
       "\n",
       "          rating_4.0  rating_4.5  rating_5  \n",
       "zip_code                                    \n",
       "90001.0           19          17        12  \n",
       "90002.0            6           3         3  \n",
       "90003.0            9           7         8  \n",
       "90004.0           48          22        13  \n",
       "90005.0           45          15         0  "
      ]
     },
     "execution_count": 11,
     "metadata": {},
     "output_type": "execute_result"
    }
   ],
   "source": [
    "df_count = pd.merge(count_price, count_rating, left_on = 'zip_code', right_on = 'zip_code')\n",
    "df_count.head()"
   ]
  },
  {
   "cell_type": "code",
   "execution_count": 12,
   "metadata": {
    "scrolled": true
   },
   "outputs": [
    {
     "data": {
      "text/plain": [
       "(322, 14)"
      ]
     },
     "execution_count": 12,
     "metadata": {},
     "output_type": "execute_result"
    }
   ],
   "source": [
    "df_count.shape"
   ]
  },
  {
   "cell_type": "code",
   "execution_count": 13,
   "metadata": {},
   "outputs": [
    {
     "data": {
      "text/plain": [
       "(322, 9)"
      ]
     },
     "execution_count": 13,
     "metadata": {},
     "output_type": "execute_result"
    }
   ],
   "source": [
    "df_pivot.shape"
   ]
  },
  {
   "cell_type": "markdown",
   "metadata": {},
   "source": [
    "## Below is the combined data for zipcode, price, and rating, without countvecrizer the catogory"
   ]
  },
  {
   "cell_type": "code",
   "execution_count": 14,
   "metadata": {},
   "outputs": [
    {
     "data": {
      "text/html": [
       "<div>\n",
       "<style scoped>\n",
       "    .dataframe tbody tr th:only-of-type {\n",
       "        vertical-align: middle;\n",
       "    }\n",
       "\n",
       "    .dataframe tbody tr th {\n",
       "        vertical-align: top;\n",
       "    }\n",
       "\n",
       "    .dataframe thead th {\n",
       "        text-align: right;\n",
       "    }\n",
       "</style>\n",
       "<table border=\"1\" class=\"dataframe\">\n",
       "  <thead>\n",
       "    <tr style=\"text-align: right;\">\n",
       "      <th></th>\n",
       "      <th>zip_code</th>\n",
       "      <th>avg_agi</th>\n",
       "      <th>count</th>\n",
       "      <th>latitude</th>\n",
       "      <th>longitude</th>\n",
       "      <th>review_count</th>\n",
       "      <th>price*rating</th>\n",
       "      <th>price*review_count</th>\n",
       "      <th>price_1</th>\n",
       "      <th>price_2</th>\n",
       "      <th>...</th>\n",
       "      <th>rating_0.0</th>\n",
       "      <th>rating_1.0</th>\n",
       "      <th>rating_1.5</th>\n",
       "      <th>rating_2.0</th>\n",
       "      <th>rating_2.5</th>\n",
       "      <th>rating_3.0</th>\n",
       "      <th>rating_3.5</th>\n",
       "      <th>rating_4.0</th>\n",
       "      <th>rating_4.5</th>\n",
       "      <th>rating_5</th>\n",
       "    </tr>\n",
       "  </thead>\n",
       "  <tbody>\n",
       "    <tr>\n",
       "      <td>0</td>\n",
       "      <td>90001.0</td>\n",
       "      <td>45650</td>\n",
       "      <td>90</td>\n",
       "      <td>33.976409</td>\n",
       "      <td>-118.248493</td>\n",
       "      <td>49.888889</td>\n",
       "      <td>4.649691</td>\n",
       "      <td>63.746914</td>\n",
       "      <td>65</td>\n",
       "      <td>25</td>\n",
       "      <td>...</td>\n",
       "      <td>0</td>\n",
       "      <td>0</td>\n",
       "      <td>4</td>\n",
       "      <td>8</td>\n",
       "      <td>8</td>\n",
       "      <td>8</td>\n",
       "      <td>14</td>\n",
       "      <td>19</td>\n",
       "      <td>17</td>\n",
       "      <td>12</td>\n",
       "    </tr>\n",
       "    <tr>\n",
       "      <td>1</td>\n",
       "      <td>90002.0</td>\n",
       "      <td>44463</td>\n",
       "      <td>21</td>\n",
       "      <td>33.954422</td>\n",
       "      <td>-118.245431</td>\n",
       "      <td>27.904762</td>\n",
       "      <td>3.702948</td>\n",
       "      <td>30.562358</td>\n",
       "      <td>19</td>\n",
       "      <td>2</td>\n",
       "      <td>...</td>\n",
       "      <td>0</td>\n",
       "      <td>0</td>\n",
       "      <td>3</td>\n",
       "      <td>4</td>\n",
       "      <td>1</td>\n",
       "      <td>0</td>\n",
       "      <td>1</td>\n",
       "      <td>6</td>\n",
       "      <td>3</td>\n",
       "      <td>3</td>\n",
       "    </tr>\n",
       "    <tr>\n",
       "      <td>2</td>\n",
       "      <td>90003.0</td>\n",
       "      <td>43342</td>\n",
       "      <td>59</td>\n",
       "      <td>33.971176</td>\n",
       "      <td>-118.271243</td>\n",
       "      <td>34.966102</td>\n",
       "      <td>3.800632</td>\n",
       "      <td>41.485205</td>\n",
       "      <td>50</td>\n",
       "      <td>8</td>\n",
       "      <td>...</td>\n",
       "      <td>0</td>\n",
       "      <td>2</td>\n",
       "      <td>7</td>\n",
       "      <td>9</td>\n",
       "      <td>6</td>\n",
       "      <td>5</td>\n",
       "      <td>6</td>\n",
       "      <td>9</td>\n",
       "      <td>7</td>\n",
       "      <td>8</td>\n",
       "    </tr>\n",
       "    <tr>\n",
       "      <td>3</td>\n",
       "      <td>90004.0</td>\n",
       "      <td>82091</td>\n",
       "      <td>137</td>\n",
       "      <td>34.075058</td>\n",
       "      <td>-118.304657</td>\n",
       "      <td>185.861314</td>\n",
       "      <td>5.657307</td>\n",
       "      <td>276.756993</td>\n",
       "      <td>74</td>\n",
       "      <td>59</td>\n",
       "      <td>...</td>\n",
       "      <td>0</td>\n",
       "      <td>0</td>\n",
       "      <td>1</td>\n",
       "      <td>2</td>\n",
       "      <td>12</td>\n",
       "      <td>15</td>\n",
       "      <td>24</td>\n",
       "      <td>48</td>\n",
       "      <td>22</td>\n",
       "      <td>13</td>\n",
       "    </tr>\n",
       "    <tr>\n",
       "      <td>4</td>\n",
       "      <td>90005.0</td>\n",
       "      <td>49310</td>\n",
       "      <td>112</td>\n",
       "      <td>34.059468</td>\n",
       "      <td>-118.300007</td>\n",
       "      <td>243.035714</td>\n",
       "      <td>5.676020</td>\n",
       "      <td>386.253189</td>\n",
       "      <td>48</td>\n",
       "      <td>62</td>\n",
       "      <td>...</td>\n",
       "      <td>0</td>\n",
       "      <td>1</td>\n",
       "      <td>2</td>\n",
       "      <td>5</td>\n",
       "      <td>6</td>\n",
       "      <td>19</td>\n",
       "      <td>19</td>\n",
       "      <td>45</td>\n",
       "      <td>15</td>\n",
       "      <td>0</td>\n",
       "    </tr>\n",
       "  </tbody>\n",
       "</table>\n",
       "<p>5 rows × 22 columns</p>\n",
       "</div>"
      ],
      "text/plain": [
       "   zip_code  avg_agi  count   latitude   longitude  review_count  \\\n",
       "0   90001.0    45650     90  33.976409 -118.248493     49.888889   \n",
       "1   90002.0    44463     21  33.954422 -118.245431     27.904762   \n",
       "2   90003.0    43342     59  33.971176 -118.271243     34.966102   \n",
       "3   90004.0    82091    137  34.075058 -118.304657    185.861314   \n",
       "4   90005.0    49310    112  34.059468 -118.300007    243.035714   \n",
       "\n",
       "   price*rating  price*review_count  price_1  price_2  ...  rating_0.0  \\\n",
       "0      4.649691           63.746914       65       25  ...           0   \n",
       "1      3.702948           30.562358       19        2  ...           0   \n",
       "2      3.800632           41.485205       50        8  ...           0   \n",
       "3      5.657307          276.756993       74       59  ...           0   \n",
       "4      5.676020          386.253189       48       62  ...           0   \n",
       "\n",
       "   rating_1.0  rating_1.5  rating_2.0  rating_2.5  rating_3.0  rating_3.5  \\\n",
       "0           0           4           8           8           8          14   \n",
       "1           0           3           4           1           0           1   \n",
       "2           2           7           9           6           5           6   \n",
       "3           0           1           2          12          15          24   \n",
       "4           1           2           5           6          19          19   \n",
       "\n",
       "   rating_4.0  rating_4.5  rating_5  \n",
       "0          19          17        12  \n",
       "1           6           3         3  \n",
       "2           9           7         8  \n",
       "3          48          22        13  \n",
       "4          45          15         0  \n",
       "\n",
       "[5 rows x 22 columns]"
      ]
     },
     "execution_count": 14,
     "metadata": {},
     "output_type": "execute_result"
    }
   ],
   "source": [
    "df_dummy = pd.merge(df_pivot, df_count, on=\"zip_code\")\n",
    "df_dummy.drop(columns = ['price','rating'] ,inplace = True)\n",
    "df_dummy.reset_index(inplace = True)\n",
    "df_dummy.head()"
   ]
  },
  {
   "cell_type": "code",
   "execution_count": 15,
   "metadata": {},
   "outputs": [],
   "source": [
    "df_dummy['zip_code'] = df_dummy['zip_code'].astype(str)"
   ]
  },
  {
   "cell_type": "code",
   "execution_count": 16,
   "metadata": {},
   "outputs": [
    {
     "data": {
      "text/plain": [
       "zip_code               object\n",
       "avg_agi                 int64\n",
       "count                   int64\n",
       "latitude              float64\n",
       "longitude             float64\n",
       "review_count          float64\n",
       "price*rating          float64\n",
       "price*review_count    float64\n",
       "price_1                 int64\n",
       "price_2                 int64\n",
       "price_3                 int64\n",
       "price_4                 int64\n",
       "rating_0.0              int64\n",
       "rating_1.0              int64\n",
       "rating_1.5              int64\n",
       "rating_2.0              int64\n",
       "rating_2.5              int64\n",
       "rating_3.0              int64\n",
       "rating_3.5              int64\n",
       "rating_4.0              int64\n",
       "rating_4.5              int64\n",
       "rating_5                int64\n",
       "dtype: object"
      ]
     },
     "execution_count": 16,
     "metadata": {},
     "output_type": "execute_result"
    }
   ],
   "source": [
    "df_dummy.dtypes"
   ]
  },
  {
   "cell_type": "markdown",
   "metadata": {},
   "source": [
    "# Making the category a matrix via countvectrizor "
   ]
  },
  {
   "cell_type": "code",
   "execution_count": 17,
   "metadata": {
    "scrolled": true
   },
   "outputs": [],
   "source": [
    "cate_dict = df['category'].to_dict()"
   ]
  },
  {
   "cell_type": "code",
   "execution_count": 18,
   "metadata": {},
   "outputs": [],
   "source": [
    "for i in cate_dict:\n",
    "    cate_dict[i] = cate_dict[i].replace('[', '')\n",
    "    cate_dict[i] = cate_dict[i].replace(']', '')\n",
    "    cate_dict[i] = cate_dict[i].replace('\\'', '')\n",
    "    cate_dict[i] = cate_dict[i].split(', ')"
   ]
  },
  {
   "cell_type": "code",
   "execution_count": 19,
   "metadata": {},
   "outputs": [
    {
     "data": {
      "text/html": [
       "<div>\n",
       "<style scoped>\n",
       "    .dataframe tbody tr th:only-of-type {\n",
       "        vertical-align: middle;\n",
       "    }\n",
       "\n",
       "    .dataframe tbody tr th {\n",
       "        vertical-align: top;\n",
       "    }\n",
       "\n",
       "    .dataframe thead th {\n",
       "        text-align: right;\n",
       "    }\n",
       "</style>\n",
       "<table border=\"1\" class=\"dataframe\">\n",
       "  <thead>\n",
       "    <tr style=\"text-align: right;\">\n",
       "      <th></th>\n",
       "      <th>0</th>\n",
       "      <th>1</th>\n",
       "      <th>2</th>\n",
       "      <th>3</th>\n",
       "      <th>4</th>\n",
       "    </tr>\n",
       "  </thead>\n",
       "  <tbody>\n",
       "    <tr>\n",
       "      <td>0</td>\n",
       "      <td>bbq</td>\n",
       "      <td>smokehouse</td>\n",
       "      <td>southern</td>\n",
       "      <td>None</td>\n",
       "      <td>None</td>\n",
       "    </tr>\n",
       "    <tr>\n",
       "      <td>1</td>\n",
       "      <td>sandwiches</td>\n",
       "      <td>None</td>\n",
       "      <td>None</td>\n",
       "      <td>None</td>\n",
       "      <td>None</td>\n",
       "    </tr>\n",
       "    <tr>\n",
       "      <td>2</td>\n",
       "      <td>juicebars</td>\n",
       "      <td>acaibowls</td>\n",
       "      <td>icecream</td>\n",
       "      <td>None</td>\n",
       "      <td>None</td>\n",
       "    </tr>\n",
       "    <tr>\n",
       "      <td>3</td>\n",
       "      <td>sandwiches</td>\n",
       "      <td>hotdogs</td>\n",
       "      <td>None</td>\n",
       "      <td>None</td>\n",
       "      <td>None</td>\n",
       "    </tr>\n",
       "    <tr>\n",
       "      <td>4</td>\n",
       "      <td>italian</td>\n",
       "      <td>None</td>\n",
       "      <td>None</td>\n",
       "      <td>None</td>\n",
       "      <td>None</td>\n",
       "    </tr>\n",
       "  </tbody>\n",
       "</table>\n",
       "</div>"
      ],
      "text/plain": [
       "            0           1         2     3     4\n",
       "0         bbq  smokehouse  southern  None  None\n",
       "1  sandwiches        None      None  None  None\n",
       "2   juicebars   acaibowls  icecream  None  None\n",
       "3  sandwiches     hotdogs      None  None  None\n",
       "4     italian        None      None  None  None"
      ]
     },
     "execution_count": 19,
     "metadata": {},
     "output_type": "execute_result"
    }
   ],
   "source": [
    "df_cate= pd.DataFrame.from_dict(cate_dict, orient = 'index')\n",
    "df_cate.head()"
   ]
  },
  {
   "cell_type": "code",
   "execution_count": 20,
   "metadata": {},
   "outputs": [
    {
     "data": {
      "text/html": [
       "<div>\n",
       "<style scoped>\n",
       "    .dataframe tbody tr th:only-of-type {\n",
       "        vertical-align: middle;\n",
       "    }\n",
       "\n",
       "    .dataframe tbody tr th {\n",
       "        vertical-align: top;\n",
       "    }\n",
       "\n",
       "    .dataframe thead th {\n",
       "        text-align: right;\n",
       "    }\n",
       "</style>\n",
       "<table border=\"1\" class=\"dataframe\">\n",
       "  <thead>\n",
       "    <tr style=\"text-align: right;\">\n",
       "      <th></th>\n",
       "      <th>0</th>\n",
       "      <th>1</th>\n",
       "      <th>2</th>\n",
       "      <th>3</th>\n",
       "      <th>4</th>\n",
       "      <th>zip_code</th>\n",
       "    </tr>\n",
       "  </thead>\n",
       "  <tbody>\n",
       "    <tr>\n",
       "      <td>0</td>\n",
       "      <td>bbq</td>\n",
       "      <td>smokehouse</td>\n",
       "      <td>southern</td>\n",
       "      <td>None</td>\n",
       "      <td>None</td>\n",
       "      <td>92821.0</td>\n",
       "    </tr>\n",
       "    <tr>\n",
       "      <td>1</td>\n",
       "      <td>sandwiches</td>\n",
       "      <td>None</td>\n",
       "      <td>None</td>\n",
       "      <td>None</td>\n",
       "      <td>None</td>\n",
       "      <td>92821.0</td>\n",
       "    </tr>\n",
       "    <tr>\n",
       "      <td>2</td>\n",
       "      <td>juicebars</td>\n",
       "      <td>acaibowls</td>\n",
       "      <td>icecream</td>\n",
       "      <td>None</td>\n",
       "      <td>None</td>\n",
       "      <td>92821.0</td>\n",
       "    </tr>\n",
       "    <tr>\n",
       "      <td>3</td>\n",
       "      <td>sandwiches</td>\n",
       "      <td>hotdogs</td>\n",
       "      <td>None</td>\n",
       "      <td>None</td>\n",
       "      <td>None</td>\n",
       "      <td>92821.0</td>\n",
       "    </tr>\n",
       "    <tr>\n",
       "      <td>4</td>\n",
       "      <td>italian</td>\n",
       "      <td>None</td>\n",
       "      <td>None</td>\n",
       "      <td>None</td>\n",
       "      <td>None</td>\n",
       "      <td>92821.0</td>\n",
       "    </tr>\n",
       "    <tr>\n",
       "      <td>...</td>\n",
       "      <td>...</td>\n",
       "      <td>...</td>\n",
       "      <td>...</td>\n",
       "      <td>...</td>\n",
       "      <td>...</td>\n",
       "      <td>...</td>\n",
       "    </tr>\n",
       "    <tr>\n",
       "      <td>27114</td>\n",
       "      <td>foodtrucks</td>\n",
       "      <td>sandwiches</td>\n",
       "      <td>salad</td>\n",
       "      <td>None</td>\n",
       "      <td>None</td>\n",
       "      <td>92841.0</td>\n",
       "    </tr>\n",
       "    <tr>\n",
       "      <td>27115</td>\n",
       "      <td>foodtrucks</td>\n",
       "      <td>tacos</td>\n",
       "      <td>None</td>\n",
       "      <td>None</td>\n",
       "      <td>None</td>\n",
       "      <td>92841.0</td>\n",
       "    </tr>\n",
       "    <tr>\n",
       "      <td>27116</td>\n",
       "      <td>cheesesteaks</td>\n",
       "      <td>sandwiches</td>\n",
       "      <td>chicken_wings</td>\n",
       "      <td>None</td>\n",
       "      <td>None</td>\n",
       "      <td>92845.0</td>\n",
       "    </tr>\n",
       "    <tr>\n",
       "      <td>27117</td>\n",
       "      <td>mexican</td>\n",
       "      <td>None</td>\n",
       "      <td>None</td>\n",
       "      <td>None</td>\n",
       "      <td>None</td>\n",
       "      <td>91764.0</td>\n",
       "    </tr>\n",
       "    <tr>\n",
       "      <td>27118</td>\n",
       "      <td>bakeries</td>\n",
       "      <td>desserts</td>\n",
       "      <td>cupcakes</td>\n",
       "      <td>None</td>\n",
       "      <td>None</td>\n",
       "      <td>92704.0</td>\n",
       "    </tr>\n",
       "  </tbody>\n",
       "</table>\n",
       "<p>27119 rows × 6 columns</p>\n",
       "</div>"
      ],
      "text/plain": [
       "                  0           1              2     3     4  zip_code\n",
       "0               bbq  smokehouse       southern  None  None   92821.0\n",
       "1        sandwiches        None           None  None  None   92821.0\n",
       "2         juicebars   acaibowls       icecream  None  None   92821.0\n",
       "3        sandwiches     hotdogs           None  None  None   92821.0\n",
       "4           italian        None           None  None  None   92821.0\n",
       "...             ...         ...            ...   ...   ...       ...\n",
       "27114    foodtrucks  sandwiches          salad  None  None   92841.0\n",
       "27115    foodtrucks       tacos           None  None  None   92841.0\n",
       "27116  cheesesteaks  sandwiches  chicken_wings  None  None   92845.0\n",
       "27117       mexican        None           None  None  None   91764.0\n",
       "27118      bakeries    desserts       cupcakes  None  None   92704.0\n",
       "\n",
       "[27119 rows x 6 columns]"
      ]
     },
     "execution_count": 20,
     "metadata": {},
     "output_type": "execute_result"
    }
   ],
   "source": [
    "df_cate['zip_code'] = df['zip_code']\n",
    "df_cate"
   ]
  },
  {
   "cell_type": "code",
   "execution_count": 21,
   "metadata": {},
   "outputs": [],
   "source": [
    "categories_df = df_cate.astype(str).groupby('zip_code').agg(lambda x: ' '.join(x.unique())) ##borrowwed from Erin Hwang "
   ]
  },
  {
   "cell_type": "code",
   "execution_count": 22,
   "metadata": {},
   "outputs": [
    {
     "data": {
      "text/html": [
       "<div>\n",
       "<style scoped>\n",
       "    .dataframe tbody tr th:only-of-type {\n",
       "        vertical-align: middle;\n",
       "    }\n",
       "\n",
       "    .dataframe tbody tr th {\n",
       "        vertical-align: top;\n",
       "    }\n",
       "\n",
       "    .dataframe thead th {\n",
       "        text-align: right;\n",
       "    }\n",
       "</style>\n",
       "<table border=\"1\" class=\"dataframe\">\n",
       "  <thead>\n",
       "    <tr style=\"text-align: right;\">\n",
       "      <th></th>\n",
       "      <th>0</th>\n",
       "      <th>1</th>\n",
       "      <th>2</th>\n",
       "      <th>3</th>\n",
       "      <th>4</th>\n",
       "      <th>cate_text_by_zip</th>\n",
       "    </tr>\n",
       "    <tr>\n",
       "      <th>zip_code</th>\n",
       "      <th></th>\n",
       "      <th></th>\n",
       "      <th></th>\n",
       "      <th></th>\n",
       "      <th></th>\n",
       "      <th></th>\n",
       "    </tr>\n",
       "  </thead>\n",
       "  <tbody>\n",
       "    <tr>\n",
       "      <td>90001.0</td>\n",
       "      <td>mexican foodtrucks burgers newamerican seafood...</td>\n",
       "      <td>None comfortfood sandwiches breakfast_brunch s...</td>\n",
       "      <td>None sandwiches catering bbq herbsandspices ch...</td>\n",
       "      <td>None</td>\n",
       "      <td>None</td>\n",
       "      <td>mexican foodtrucks burgers newamerican seafood...</td>\n",
       "    </tr>\n",
       "    <tr>\n",
       "      <td>90002.0</td>\n",
       "      <td>mexican pizza chicken_wings chinese sandwiches...</td>\n",
       "      <td>foodstands hotdogs None breakfast_brunch juice...</td>\n",
       "      <td>None desserts coffee foodstands chicken_wings ...</td>\n",
       "      <td>None</td>\n",
       "      <td>None</td>\n",
       "      <td>mexican pizza chicken_wings chinese sandwiches...</td>\n",
       "    </tr>\n",
       "    <tr>\n",
       "      <td>90003.0</td>\n",
       "      <td>breakfast_brunch grocery streetvendors mexican...</td>\n",
       "      <td>burgers bakeries mexican None coffee sandwiche...</td>\n",
       "      <td>mexican meats None sandwiches coffee greek ice...</td>\n",
       "      <td>None</td>\n",
       "      <td>None</td>\n",
       "      <td>breakfast_brunch grocery streetvendors mexican...</td>\n",
       "    </tr>\n",
       "    <tr>\n",
       "      <td>90004.0</td>\n",
       "      <td>coffee bbq filipino pizza korean gastropubs ba...</td>\n",
       "      <td>breakfast_brunch foodstands None kosher bbq ko...</td>\n",
       "      <td>cafes None salad german latin breakfast_brunch...</td>\n",
       "      <td>None</td>\n",
       "      <td>None</td>\n",
       "      <td>coffee bbq filipino pizza korean gastropubs ba...</td>\n",
       "    </tr>\n",
       "    <tr>\n",
       "      <td>90005.0</td>\n",
       "      <td>salvadoran bakeries bubbletea korean coffee br...</td>\n",
       "      <td>None shavedice bbq bubbletea newamerican sushi...</td>\n",
       "      <td>None icecream desserts korean italian noodles ...</td>\n",
       "      <td>None</td>\n",
       "      <td>None</td>\n",
       "      <td>salvadoran bakeries bubbletea korean coffee br...</td>\n",
       "    </tr>\n",
       "  </tbody>\n",
       "</table>\n",
       "</div>"
      ],
      "text/plain": [
       "                                                          0  \\\n",
       "zip_code                                                      \n",
       "90001.0   mexican foodtrucks burgers newamerican seafood...   \n",
       "90002.0   mexican pizza chicken_wings chinese sandwiches...   \n",
       "90003.0   breakfast_brunch grocery streetvendors mexican...   \n",
       "90004.0   coffee bbq filipino pizza korean gastropubs ba...   \n",
       "90005.0   salvadoran bakeries bubbletea korean coffee br...   \n",
       "\n",
       "                                                          1  \\\n",
       "zip_code                                                      \n",
       "90001.0   None comfortfood sandwiches breakfast_brunch s...   \n",
       "90002.0   foodstands hotdogs None breakfast_brunch juice...   \n",
       "90003.0   burgers bakeries mexican None coffee sandwiche...   \n",
       "90004.0   breakfast_brunch foodstands None kosher bbq ko...   \n",
       "90005.0   None shavedice bbq bubbletea newamerican sushi...   \n",
       "\n",
       "                                                          2     3     4  \\\n",
       "zip_code                                                                  \n",
       "90001.0   None sandwiches catering bbq herbsandspices ch...  None  None   \n",
       "90002.0   None desserts coffee foodstands chicken_wings ...  None  None   \n",
       "90003.0   mexican meats None sandwiches coffee greek ice...  None  None   \n",
       "90004.0   cafes None salad german latin breakfast_brunch...  None  None   \n",
       "90005.0   None icecream desserts korean italian noodles ...  None  None   \n",
       "\n",
       "                                           cate_text_by_zip  \n",
       "zip_code                                                     \n",
       "90001.0   mexican foodtrucks burgers newamerican seafood...  \n",
       "90002.0   mexican pizza chicken_wings chinese sandwiches...  \n",
       "90003.0   breakfast_brunch grocery streetvendors mexican...  \n",
       "90004.0   coffee bbq filipino pizza korean gastropubs ba...  \n",
       "90005.0   salvadoran bakeries bubbletea korean coffee br...  "
      ]
     },
     "execution_count": 22,
     "metadata": {},
     "output_type": "execute_result"
    }
   ],
   "source": [
    "categories_df['cate_text_by_zip'] = categories_df[0] + ' ' + categories_df[1] + ' ' + categories_df[2] + ' ' + categories_df[3] + ' ' + categories_df[4]\n",
    "categories_df.head()##borrowwed from Erin Hwang"
   ]
  },
  {
   "cell_type": "code",
   "execution_count": 23,
   "metadata": {},
   "outputs": [],
   "source": [
    "cvec = CountVectorizer()"
   ]
  },
  {
   "cell_type": "code",
   "execution_count": 24,
   "metadata": {},
   "outputs": [],
   "source": [
    "categories_df.reset_index(inplace = True)"
   ]
  },
  {
   "cell_type": "code",
   "execution_count": 25,
   "metadata": {},
   "outputs": [],
   "source": [
    "X = categories_df['cate_text_by_zip']\n",
    "y = categories_df['zip_code']"
   ]
  },
  {
   "cell_type": "code",
   "execution_count": 26,
   "metadata": {},
   "outputs": [
    {
     "data": {
      "text/html": [
       "<div>\n",
       "<style scoped>\n",
       "    .dataframe tbody tr th:only-of-type {\n",
       "        vertical-align: middle;\n",
       "    }\n",
       "\n",
       "    .dataframe tbody tr th {\n",
       "        vertical-align: top;\n",
       "    }\n",
       "\n",
       "    .dataframe thead th {\n",
       "        text-align: right;\n",
       "    }\n",
       "</style>\n",
       "<table border=\"1\" class=\"dataframe\">\n",
       "  <thead>\n",
       "    <tr style=\"text-align: right;\">\n",
       "      <th></th>\n",
       "      <th>acaibowls</th>\n",
       "      <th>accessories</th>\n",
       "      <th>acupuncture</th>\n",
       "      <th>afghani</th>\n",
       "      <th>african</th>\n",
       "      <th>airportlounges</th>\n",
       "      <th>amusementparks</th>\n",
       "      <th>antiques</th>\n",
       "      <th>appliances</th>\n",
       "      <th>arabian</th>\n",
       "      <th>...</th>\n",
       "      <th>whiskeybars</th>\n",
       "      <th>wholesale_stores</th>\n",
       "      <th>wholesalers</th>\n",
       "      <th>wine_bars</th>\n",
       "      <th>wineries</th>\n",
       "      <th>winetasteclasses</th>\n",
       "      <th>winetastingroom</th>\n",
       "      <th>womenscloth</th>\n",
       "      <th>wraps</th>\n",
       "      <th>yoga</th>\n",
       "    </tr>\n",
       "  </thead>\n",
       "  <tbody>\n",
       "    <tr>\n",
       "      <td>0</td>\n",
       "      <td>0</td>\n",
       "      <td>0</td>\n",
       "      <td>0</td>\n",
       "      <td>0</td>\n",
       "      <td>0</td>\n",
       "      <td>0</td>\n",
       "      <td>0</td>\n",
       "      <td>0</td>\n",
       "      <td>0</td>\n",
       "      <td>0</td>\n",
       "      <td>...</td>\n",
       "      <td>0</td>\n",
       "      <td>0</td>\n",
       "      <td>0</td>\n",
       "      <td>0</td>\n",
       "      <td>0</td>\n",
       "      <td>0</td>\n",
       "      <td>0</td>\n",
       "      <td>0</td>\n",
       "      <td>0</td>\n",
       "      <td>0</td>\n",
       "    </tr>\n",
       "    <tr>\n",
       "      <td>1</td>\n",
       "      <td>0</td>\n",
       "      <td>0</td>\n",
       "      <td>0</td>\n",
       "      <td>0</td>\n",
       "      <td>0</td>\n",
       "      <td>0</td>\n",
       "      <td>0</td>\n",
       "      <td>0</td>\n",
       "      <td>0</td>\n",
       "      <td>0</td>\n",
       "      <td>...</td>\n",
       "      <td>0</td>\n",
       "      <td>0</td>\n",
       "      <td>0</td>\n",
       "      <td>0</td>\n",
       "      <td>0</td>\n",
       "      <td>0</td>\n",
       "      <td>0</td>\n",
       "      <td>0</td>\n",
       "      <td>0</td>\n",
       "      <td>0</td>\n",
       "    </tr>\n",
       "    <tr>\n",
       "      <td>2</td>\n",
       "      <td>0</td>\n",
       "      <td>0</td>\n",
       "      <td>0</td>\n",
       "      <td>0</td>\n",
       "      <td>0</td>\n",
       "      <td>0</td>\n",
       "      <td>0</td>\n",
       "      <td>0</td>\n",
       "      <td>0</td>\n",
       "      <td>0</td>\n",
       "      <td>...</td>\n",
       "      <td>0</td>\n",
       "      <td>0</td>\n",
       "      <td>0</td>\n",
       "      <td>0</td>\n",
       "      <td>0</td>\n",
       "      <td>0</td>\n",
       "      <td>0</td>\n",
       "      <td>0</td>\n",
       "      <td>0</td>\n",
       "      <td>0</td>\n",
       "    </tr>\n",
       "    <tr>\n",
       "      <td>3</td>\n",
       "      <td>1</td>\n",
       "      <td>0</td>\n",
       "      <td>0</td>\n",
       "      <td>0</td>\n",
       "      <td>0</td>\n",
       "      <td>0</td>\n",
       "      <td>0</td>\n",
       "      <td>0</td>\n",
       "      <td>0</td>\n",
       "      <td>0</td>\n",
       "      <td>...</td>\n",
       "      <td>0</td>\n",
       "      <td>0</td>\n",
       "      <td>0</td>\n",
       "      <td>0</td>\n",
       "      <td>0</td>\n",
       "      <td>0</td>\n",
       "      <td>0</td>\n",
       "      <td>0</td>\n",
       "      <td>0</td>\n",
       "      <td>0</td>\n",
       "    </tr>\n",
       "    <tr>\n",
       "      <td>4</td>\n",
       "      <td>0</td>\n",
       "      <td>0</td>\n",
       "      <td>0</td>\n",
       "      <td>0</td>\n",
       "      <td>0</td>\n",
       "      <td>0</td>\n",
       "      <td>0</td>\n",
       "      <td>0</td>\n",
       "      <td>0</td>\n",
       "      <td>0</td>\n",
       "      <td>...</td>\n",
       "      <td>0</td>\n",
       "      <td>0</td>\n",
       "      <td>0</td>\n",
       "      <td>0</td>\n",
       "      <td>0</td>\n",
       "      <td>0</td>\n",
       "      <td>0</td>\n",
       "      <td>0</td>\n",
       "      <td>0</td>\n",
       "      <td>0</td>\n",
       "    </tr>\n",
       "  </tbody>\n",
       "</table>\n",
       "<p>5 rows × 353 columns</p>\n",
       "</div>"
      ],
      "text/plain": [
       "   acaibowls  accessories  acupuncture  afghani  african  airportlounges  \\\n",
       "0          0            0            0        0        0               0   \n",
       "1          0            0            0        0        0               0   \n",
       "2          0            0            0        0        0               0   \n",
       "3          1            0            0        0        0               0   \n",
       "4          0            0            0        0        0               0   \n",
       "\n",
       "   amusementparks  antiques  appliances  arabian  ...  whiskeybars  \\\n",
       "0               0         0           0        0  ...            0   \n",
       "1               0         0           0        0  ...            0   \n",
       "2               0         0           0        0  ...            0   \n",
       "3               0         0           0        0  ...            0   \n",
       "4               0         0           0        0  ...            0   \n",
       "\n",
       "   wholesale_stores  wholesalers  wine_bars  wineries  winetasteclasses  \\\n",
       "0                 0            0          0         0                 0   \n",
       "1                 0            0          0         0                 0   \n",
       "2                 0            0          0         0                 0   \n",
       "3                 0            0          0         0                 0   \n",
       "4                 0            0          0         0                 0   \n",
       "\n",
       "   winetastingroom  womenscloth  wraps  yoga  \n",
       "0                0            0      0     0  \n",
       "1                0            0      0     0  \n",
       "2                0            0      0     0  \n",
       "3                0            0      0     0  \n",
       "4                0            0      0     0  \n",
       "\n",
       "[5 rows x 353 columns]"
      ]
     },
     "execution_count": 26,
     "metadata": {},
     "output_type": "execute_result"
    }
   ],
   "source": [
    "df_cate = pd.DataFrame(cvec.fit_transform(X).toarray(),\n",
    "                columns=cvec.get_feature_names() ) #\n",
    "df_cate.head()"
   ]
  },
  {
   "cell_type": "markdown",
   "metadata": {},
   "source": [
    "## save the data with countvecrizer. As we tried model with countevecrizer on how frequent each category shows in each zip code and it did not perform well, our model uses the one without vecrerizer."
   ]
  },
  {
   "cell_type": "code",
   "execution_count": 27,
   "metadata": {
    "scrolled": true
   },
   "outputs": [
    {
     "data": {
      "text/html": [
       "<div>\n",
       "<style scoped>\n",
       "    .dataframe tbody tr th:only-of-type {\n",
       "        vertical-align: middle;\n",
       "    }\n",
       "\n",
       "    .dataframe tbody tr th {\n",
       "        vertical-align: top;\n",
       "    }\n",
       "\n",
       "    .dataframe thead th {\n",
       "        text-align: right;\n",
       "    }\n",
       "</style>\n",
       "<table border=\"1\" class=\"dataframe\">\n",
       "  <thead>\n",
       "    <tr style=\"text-align: right;\">\n",
       "      <th></th>\n",
       "      <th>zip_code</th>\n",
       "      <th>avg_agi</th>\n",
       "      <th>count</th>\n",
       "      <th>latitude</th>\n",
       "      <th>longitude</th>\n",
       "      <th>review_count</th>\n",
       "      <th>price*rating</th>\n",
       "      <th>price*review_count</th>\n",
       "      <th>price_1</th>\n",
       "      <th>price_2</th>\n",
       "      <th>...</th>\n",
       "      <th>whiskeybars</th>\n",
       "      <th>wholesale_stores</th>\n",
       "      <th>wholesalers</th>\n",
       "      <th>wine_bars</th>\n",
       "      <th>wineries</th>\n",
       "      <th>winetasteclasses</th>\n",
       "      <th>winetastingroom</th>\n",
       "      <th>womenscloth</th>\n",
       "      <th>wraps</th>\n",
       "      <th>yoga</th>\n",
       "    </tr>\n",
       "  </thead>\n",
       "  <tbody>\n",
       "    <tr>\n",
       "      <td>0</td>\n",
       "      <td>90001.0</td>\n",
       "      <td>45650</td>\n",
       "      <td>90</td>\n",
       "      <td>33.976409</td>\n",
       "      <td>-118.248493</td>\n",
       "      <td>49.888889</td>\n",
       "      <td>4.649691</td>\n",
       "      <td>63.746914</td>\n",
       "      <td>65</td>\n",
       "      <td>25</td>\n",
       "      <td>...</td>\n",
       "      <td>0</td>\n",
       "      <td>0</td>\n",
       "      <td>0</td>\n",
       "      <td>0</td>\n",
       "      <td>0</td>\n",
       "      <td>0</td>\n",
       "      <td>0</td>\n",
       "      <td>0</td>\n",
       "      <td>0</td>\n",
       "      <td>0</td>\n",
       "    </tr>\n",
       "    <tr>\n",
       "      <td>1</td>\n",
       "      <td>90002.0</td>\n",
       "      <td>44463</td>\n",
       "      <td>21</td>\n",
       "      <td>33.954422</td>\n",
       "      <td>-118.245431</td>\n",
       "      <td>27.904762</td>\n",
       "      <td>3.702948</td>\n",
       "      <td>30.562358</td>\n",
       "      <td>19</td>\n",
       "      <td>2</td>\n",
       "      <td>...</td>\n",
       "      <td>0</td>\n",
       "      <td>0</td>\n",
       "      <td>0</td>\n",
       "      <td>0</td>\n",
       "      <td>0</td>\n",
       "      <td>0</td>\n",
       "      <td>0</td>\n",
       "      <td>0</td>\n",
       "      <td>0</td>\n",
       "      <td>0</td>\n",
       "    </tr>\n",
       "    <tr>\n",
       "      <td>2</td>\n",
       "      <td>90003.0</td>\n",
       "      <td>43342</td>\n",
       "      <td>59</td>\n",
       "      <td>33.971176</td>\n",
       "      <td>-118.271243</td>\n",
       "      <td>34.966102</td>\n",
       "      <td>3.800632</td>\n",
       "      <td>41.485205</td>\n",
       "      <td>50</td>\n",
       "      <td>8</td>\n",
       "      <td>...</td>\n",
       "      <td>0</td>\n",
       "      <td>0</td>\n",
       "      <td>0</td>\n",
       "      <td>0</td>\n",
       "      <td>0</td>\n",
       "      <td>0</td>\n",
       "      <td>0</td>\n",
       "      <td>0</td>\n",
       "      <td>0</td>\n",
       "      <td>0</td>\n",
       "    </tr>\n",
       "    <tr>\n",
       "      <td>3</td>\n",
       "      <td>90004.0</td>\n",
       "      <td>82091</td>\n",
       "      <td>137</td>\n",
       "      <td>34.075058</td>\n",
       "      <td>-118.304657</td>\n",
       "      <td>185.861314</td>\n",
       "      <td>5.657307</td>\n",
       "      <td>276.756993</td>\n",
       "      <td>74</td>\n",
       "      <td>59</td>\n",
       "      <td>...</td>\n",
       "      <td>0</td>\n",
       "      <td>0</td>\n",
       "      <td>0</td>\n",
       "      <td>0</td>\n",
       "      <td>0</td>\n",
       "      <td>0</td>\n",
       "      <td>0</td>\n",
       "      <td>0</td>\n",
       "      <td>0</td>\n",
       "      <td>0</td>\n",
       "    </tr>\n",
       "    <tr>\n",
       "      <td>4</td>\n",
       "      <td>90005.0</td>\n",
       "      <td>49310</td>\n",
       "      <td>112</td>\n",
       "      <td>34.059468</td>\n",
       "      <td>-118.300007</td>\n",
       "      <td>243.035714</td>\n",
       "      <td>5.676020</td>\n",
       "      <td>386.253189</td>\n",
       "      <td>48</td>\n",
       "      <td>62</td>\n",
       "      <td>...</td>\n",
       "      <td>0</td>\n",
       "      <td>0</td>\n",
       "      <td>0</td>\n",
       "      <td>0</td>\n",
       "      <td>0</td>\n",
       "      <td>0</td>\n",
       "      <td>0</td>\n",
       "      <td>0</td>\n",
       "      <td>0</td>\n",
       "      <td>0</td>\n",
       "    </tr>\n",
       "  </tbody>\n",
       "</table>\n",
       "<p>5 rows × 375 columns</p>\n",
       "</div>"
      ],
      "text/plain": [
       "  zip_code  avg_agi  count   latitude   longitude  review_count  price*rating  \\\n",
       "0  90001.0    45650     90  33.976409 -118.248493     49.888889      4.649691   \n",
       "1  90002.0    44463     21  33.954422 -118.245431     27.904762      3.702948   \n",
       "2  90003.0    43342     59  33.971176 -118.271243     34.966102      3.800632   \n",
       "3  90004.0    82091    137  34.075058 -118.304657    185.861314      5.657307   \n",
       "4  90005.0    49310    112  34.059468 -118.300007    243.035714      5.676020   \n",
       "\n",
       "   price*review_count  price_1  price_2  ...  whiskeybars  wholesale_stores  \\\n",
       "0           63.746914       65       25  ...            0                 0   \n",
       "1           30.562358       19        2  ...            0                 0   \n",
       "2           41.485205       50        8  ...            0                 0   \n",
       "3          276.756993       74       59  ...            0                 0   \n",
       "4          386.253189       48       62  ...            0                 0   \n",
       "\n",
       "   wholesalers  wine_bars  wineries  winetasteclasses  winetastingroom  \\\n",
       "0            0          0         0                 0                0   \n",
       "1            0          0         0                 0                0   \n",
       "2            0          0         0                 0                0   \n",
       "3            0          0         0                 0                0   \n",
       "4            0          0         0                 0                0   \n",
       "\n",
       "   womenscloth  wraps  yoga  \n",
       "0            0      0     0  \n",
       "1            0      0     0  \n",
       "2            0      0     0  \n",
       "3            0      0     0  \n",
       "4            0      0     0  \n",
       "\n",
       "[5 rows x 375 columns]"
      ]
     },
     "execution_count": 27,
     "metadata": {},
     "output_type": "execute_result"
    }
   ],
   "source": [
    "df = pd.concat([df_dummy, df_cate], axis=1, sort=False)\n",
    "df.head()"
   ]
  },
  {
   "cell_type": "code",
   "execution_count": 28,
   "metadata": {},
   "outputs": [],
   "source": [
    "# df.to_csv('../data/data_cv.csv')"
   ]
  },
  {
   "cell_type": "markdown",
   "metadata": {},
   "source": [
    "## Begin to Model"
   ]
  },
  {
   "cell_type": "code",
   "execution_count": 29,
   "metadata": {},
   "outputs": [],
   "source": [
    "X = df_dummy.drop(columns=['avg_agi','latitude','longitude','zip_code'])\n",
    "#features = list(X.columns)\n",
    "y = df_dummy['avg_agi']"
   ]
  },
  {
   "cell_type": "code",
   "execution_count": 30,
   "metadata": {
    "scrolled": true
   },
   "outputs": [
    {
     "data": {
      "image/png": "[encoded data removed]",
      "text/plain": [
       "<Figure size 432x288 with 1 Axes>"
      ]
     },
     "metadata": {
      "needs_background": "light"
     },
     "output_type": "display_data"
    }
   ],
   "source": [
    "plt.hist(df[\"avg_agi\"], bins=20);"
   ]
  },
  {
   "cell_type": "code",
   "execution_count": 31,
   "metadata": {},
   "outputs": [],
   "source": [
    "y = np.log(df_dummy[\"avg_agi\"])  #y = np.log(df.copy()[\"ave_agi\"])"
   ]
  },
  {
   "cell_type": "code",
   "execution_count": 32,
   "metadata": {},
   "outputs": [
    {
     "data": {
      "image/png": "[encoded data removed]",
      "text/plain": [
       "<Figure size 432x288 with 1 Axes>"
      ]
     },
     "metadata": {
      "needs_background": "light"
     },
     "output_type": "display_data"
    }
   ],
   "source": [
    "plt.hist(y, bins=20);"
   ]
  },
  {
   "cell_type": "code",
   "execution_count": 33,
   "metadata": {},
   "outputs": [],
   "source": [
    "X_train, X_test, y_train, y_test = train_test_split(\n",
    "    X.copy(), y.copy(), random_state=42, test_size=0.3\n",
    ")"
   ]
  },
  {
   "cell_type": "markdown",
   "metadata": {},
   "source": [
    "# Trying different models\n",
    " - linear regression\n",
    " - knn regression\n",
    " - decision tree\n",
    " - bagging\n",
    " - random_forest\n",
    " - ada boost\n",
    " - support_vector"
   ]
  },
  {
   "cell_type": "code",
   "execution_count": 34,
   "metadata": {},
   "outputs": [
    {
     "name": "stderr",
     "output_type": "stream",
     "text": [
      "/Users/Work/anaconda3/lib/python3.7/site-packages/sklearn/ensemble/forest.py:245: FutureWarning: The default value of n_estimators will change from 10 in version 0.20 to 100 in 0.22.\n",
      "  \"10 in version 0.20 to 100 in 0.22.\", FutureWarning)\n",
      "/Users/Work/anaconda3/lib/python3.7/site-packages/sklearn/svm/base.py:193: FutureWarning: The default value of gamma will change from 'auto' to 'scale' in version 0.22 to account better for unscaled features. Set gamma explicitly to 'auto' or 'scale' to avoid this warning.\n",
      "  \"avoid this warning.\", FutureWarning)\n"
     ]
    },
    {
     "data": {
      "text/plain": [
       "SVR(C=1.0, cache_size=200, coef0=0.0, degree=3, epsilon=0.1,\n",
       "    gamma='auto_deprecated', kernel='rbf', max_iter=-1, shrinking=True,\n",
       "    tol=0.001, verbose=False)"
      ]
     },
     "execution_count": 34,
     "metadata": {},
     "output_type": "execute_result"
    }
   ],
   "source": [
    "linear_reg = LinearRegression()\n",
    "linear_reg.fit(X_train, y_train)\n",
    "\n",
    "knn_reg = KNeighborsRegressor()\n",
    "knn_reg.fit(X_train, y_train)\n",
    "\n",
    "cart_reg = DecisionTreeRegressor()\n",
    "cart_reg.fit(X_train, y_train)\n",
    "\n",
    "bagged_reg = BaggingRegressor()\n",
    "bagged_reg.fit(X_train, y_train)\n",
    "\n",
    "random_forest_reg = RandomForestRegressor()\n",
    "random_forest_reg.fit(X_train, y_train)\n",
    "\n",
    "adaboost_reg = AdaBoostRegressor()\n",
    "adaboost_reg.fit(X_train, y_train)\n",
    "\n",
    "support_vector_reg = SVR()\n",
    "support_vector_reg.fit(X_train, y_train)"
   ]
  },
  {
   "cell_type": "markdown",
   "metadata": {},
   "source": [
    "# Evaluate our models"
   ]
  },
  {
   "cell_type": "code",
   "execution_count": 35,
   "metadata": {},
   "outputs": [],
   "source": [
    "def rmse_score(model, X_train, X_test, y_train, y_test):\n",
    "    mse_train = mean_squared_error(y_true = y_train,\n",
    "                                  y_pred = model.predict(X_train))\n",
    "    mse_test = mean_squared_error(y_true = y_test,\n",
    "                                  y_pred = model.predict(X_test))\n",
    "    rmse_train = mse_train ** 0.5\n",
    "    rmse_test = mse_test ** 0.5\n",
    "    \n",
    "    print(\"The training RMSE for \" + str(model) + \" is: \" + str(rmse_train))\n",
    "    print(\"The testing RMSE for \" + str(model) + \" is: \" + str(rmse_test))\n",
    "    return (rmse_train, rmse_test)"
   ]
  },
  {
   "cell_type": "markdown",
   "metadata": {},
   "source": [
    "## Evaluate linear regression"
   ]
  },
  {
   "cell_type": "code",
   "execution_count": 36,
   "metadata": {
    "scrolled": false
   },
   "outputs": [
    {
     "name": "stdout",
     "output_type": "stream",
     "text": [
      "The training RMSE for LinearRegression(copy_X=True, fit_intercept=True, n_jobs=None, normalize=False) is: 0.2854316273525897\n",
      "The testing RMSE for LinearRegression(copy_X=True, fit_intercept=True, n_jobs=None, normalize=False) is: 0.28577703112150205\n"
     ]
    },
    {
     "data": {
      "text/plain": [
       "(0.2854316273525897, 0.28577703112150205)"
      ]
     },
     "execution_count": 36,
     "metadata": {},
     "output_type": "execute_result"
    }
   ],
   "source": [
    "rmse_score(linear_reg, X_train, X_test, y_train, y_test)"
   ]
  },
  {
   "cell_type": "code",
   "execution_count": 37,
   "metadata": {},
   "outputs": [
    {
     "name": "stdout",
     "output_type": "stream",
     "text": [
      "0.47194824695254023\n",
      "0.4726895259700069\n"
     ]
    }
   ],
   "source": [
    "print(linear_reg.score(X_train, y_train))\n",
    "print (linear_reg.score(X_test, y_test))"
   ]
  },
  {
   "cell_type": "code",
   "execution_count": 38,
   "metadata": {},
   "outputs": [
    {
     "data": {
      "text/plain": [
       "array([-7.34502699e-03,  1.38914213e-03,  1.11960437e-01, -4.45329085e-04,\n",
       "       -4.48760003e-03,  4.57086734e-04,  5.74438653e-03, -9.05890023e-03,\n",
       "        1.82145965e-17, -4.18563128e-02, -2.75353244e-02,  7.98051238e-03,\n",
       "        2.18485158e-02,  1.55781110e-02,  9.61974158e-03,  4.90461590e-03,\n",
       "        4.61396173e-03, -2.49884820e-03])"
      ]
     },
     "execution_count": 38,
     "metadata": {},
     "output_type": "execute_result"
    }
   ],
   "source": [
    "linear_reg.coef_"
   ]
  },
  {
   "cell_type": "markdown",
   "metadata": {},
   "source": [
    "## Evaluate Knn"
   ]
  },
  {
   "cell_type": "code",
   "execution_count": 39,
   "metadata": {},
   "outputs": [
    {
     "name": "stdout",
     "output_type": "stream",
     "text": [
      "The training RMSE for KNeighborsRegressor(algorithm='auto', leaf_size=30, metric='minkowski',\n",
      "                    metric_params=None, n_jobs=None, n_neighbors=5, p=2,\n",
      "                    weights='uniform') is: 0.23798696124452132\n",
      "The testing RMSE for KNeighborsRegressor(algorithm='auto', leaf_size=30, metric='minkowski',\n",
      "                    metric_params=None, n_jobs=None, n_neighbors=5, p=2,\n",
      "                    weights='uniform') is: 0.34107773170330197\n"
     ]
    },
    {
     "data": {
      "text/plain": [
       "(0.23798696124452132, 0.34107773170330197)"
      ]
     },
     "execution_count": 39,
     "metadata": {},
     "output_type": "execute_result"
    }
   ],
   "source": [
    "rmse_score(knn_reg, X_train, X_test, y_train, y_test)"
   ]
  },
  {
   "cell_type": "code",
   "execution_count": 40,
   "metadata": {},
   "outputs": [
    {
     "name": "stdout",
     "output_type": "stream",
     "text": [
      "0.6329048649860625\n",
      "0.24886415095370606\n"
     ]
    }
   ],
   "source": [
    "print(knn_reg.score(X_train, y_train))\n",
    "print (knn_reg.score(X_test, y_test))"
   ]
  },
  {
   "cell_type": "markdown",
   "metadata": {},
   "source": [
    "## Evaluate decision tree"
   ]
  },
  {
   "cell_type": "code",
   "execution_count": 41,
   "metadata": {
    "scrolled": false
   },
   "outputs": [
    {
     "name": "stdout",
     "output_type": "stream",
     "text": [
      "The training RMSE for DecisionTreeRegressor(criterion='mse', max_depth=None, max_features=None,\n",
      "                      max_leaf_nodes=None, min_impurity_decrease=0.0,\n",
      "                      min_impurity_split=None, min_samples_leaf=1,\n",
      "                      min_samples_split=2, min_weight_fraction_leaf=0.0,\n",
      "                      presort=False, random_state=None, splitter='best') is: 1.782300934611769e-05\n",
      "The testing RMSE for DecisionTreeRegressor(criterion='mse', max_depth=None, max_features=None,\n",
      "                      max_leaf_nodes=None, min_impurity_decrease=0.0,\n",
      "                      min_impurity_split=None, min_samples_leaf=1,\n",
      "                      min_samples_split=2, min_weight_fraction_leaf=0.0,\n",
      "                      presort=False, random_state=None, splitter='best') is: 0.37472345844038146\n"
     ]
    },
    {
     "data": {
      "text/plain": [
       "(1.782300934611769e-05, 0.37472345844038146)"
      ]
     },
     "execution_count": 41,
     "metadata": {},
     "output_type": "execute_result"
    }
   ],
   "source": [
    "rmse_score(cart_reg, X_train, X_test, y_train, y_test)"
   ]
  },
  {
   "cell_type": "code",
   "execution_count": 42,
   "metadata": {},
   "outputs": [
    {
     "name": "stdout",
     "output_type": "stream",
     "text": [
      "0.9999999979411042\n",
      "0.09336282839043852\n"
     ]
    }
   ],
   "source": [
    "print(cart_reg.score(X_train, y_train))\n",
    "print (cart_reg.score(X_test, y_test))"
   ]
  },
  {
   "cell_type": "markdown",
   "metadata": {},
   "source": [
    "## Evaluate Bagging model"
   ]
  },
  {
   "cell_type": "code",
   "execution_count": 43,
   "metadata": {
    "scrolled": true
   },
   "outputs": [
    {
     "name": "stdout",
     "output_type": "stream",
     "text": [
      "The training RMSE for BaggingRegressor(base_estimator=None, bootstrap=True, bootstrap_features=False,\n",
      "                 max_features=1.0, max_samples=1.0, n_estimators=10,\n",
      "                 n_jobs=None, oob_score=False, random_state=None, verbose=0,\n",
      "                 warm_start=False) is: 0.11194727072087893\n",
      "The testing RMSE for BaggingRegressor(base_estimator=None, bootstrap=True, bootstrap_features=False,\n",
      "                 max_features=1.0, max_samples=1.0, n_estimators=10,\n",
      "                 n_jobs=None, oob_score=False, random_state=None, verbose=0,\n",
      "                 warm_start=False) is: 0.29407347966594466\n"
     ]
    },
    {
     "data": {
      "text/plain": [
       "(0.11194727072087893, 0.29407347966594466)"
      ]
     },
     "execution_count": 43,
     "metadata": {},
     "output_type": "execute_result"
    }
   ],
   "source": [
    "rmse_score(bagged_reg, X_train, X_test, y_train, y_test)"
   ]
  },
  {
   "cell_type": "code",
   "execution_count": 44,
   "metadata": {},
   "outputs": [
    {
     "name": "stdout",
     "output_type": "stream",
     "text": [
      "0.9187732042569602\n",
      "0.4416281975412011\n"
     ]
    }
   ],
   "source": [
    "print(bagged_reg.score(X_train, y_train))\n",
    "print (bagged_reg.score(X_test, y_test))"
   ]
  },
  {
   "cell_type": "markdown",
   "metadata": {},
   "source": [
    "## Evaluate random forest"
   ]
  },
  {
   "cell_type": "code",
   "execution_count": 45,
   "metadata": {},
   "outputs": [
    {
     "name": "stdout",
     "output_type": "stream",
     "text": [
      "The training RMSE for RandomForestRegressor(bootstrap=True, criterion='mse', max_depth=None,\n",
      "                      max_features='auto', max_leaf_nodes=None,\n",
      "                      min_impurity_decrease=0.0, min_impurity_split=None,\n",
      "                      min_samples_leaf=1, min_samples_split=2,\n",
      "                      min_weight_fraction_leaf=0.0, n_estimators=10,\n",
      "                      n_jobs=None, oob_score=False, random_state=None,\n",
      "                      verbose=0, warm_start=False) is: 0.12067292414861946\n",
      "The testing RMSE for RandomForestRegressor(bootstrap=True, criterion='mse', max_depth=None,\n",
      "                      max_features='auto', max_leaf_nodes=None,\n",
      "                      min_impurity_decrease=0.0, min_impurity_split=None,\n",
      "                      min_samples_leaf=1, min_samples_split=2,\n",
      "                      min_weight_fraction_leaf=0.0, n_estimators=10,\n",
      "                      n_jobs=None, oob_score=False, random_state=None,\n",
      "                      verbose=0, warm_start=False) is: 0.28716322020395074\n"
     ]
    },
    {
     "data": {
      "text/plain": [
       "(0.12067292414861946, 0.28716322020395074)"
      ]
     },
     "execution_count": 45,
     "metadata": {},
     "output_type": "execute_result"
    }
   ],
   "source": [
    "rmse_score(random_forest_reg, X_train, X_test, y_train, y_test)"
   ]
  },
  {
   "cell_type": "code",
   "execution_count": 46,
   "metadata": {},
   "outputs": [
    {
     "name": "stdout",
     "output_type": "stream",
     "text": [
      "0.9056173917288735\n",
      "0.4675615785211461\n"
     ]
    }
   ],
   "source": [
    "print(random_forest_reg.score(X_train, y_train))\n",
    "print (random_forest_reg.score(X_test, y_test))"
   ]
  },
  {
   "cell_type": "markdown",
   "metadata": {},
   "source": [
    "## Evaluate adaboost"
   ]
  },
  {
   "cell_type": "code",
   "execution_count": 47,
   "metadata": {},
   "outputs": [
    {
     "name": "stdout",
     "output_type": "stream",
     "text": [
      "The training RMSE for AdaBoostRegressor(base_estimator=None, learning_rate=1.0, loss='linear',\n",
      "                  n_estimators=50, random_state=None) is: 0.2003685340308441\n",
      "The testing RMSE for AdaBoostRegressor(base_estimator=None, learning_rate=1.0, loss='linear',\n",
      "                  n_estimators=50, random_state=None) is: 0.28660932905036735\n"
     ]
    },
    {
     "data": {
      "text/plain": [
       "(0.2003685340308441, 0.28660932905036735)"
      ]
     },
     "execution_count": 47,
     "metadata": {},
     "output_type": "execute_result"
    }
   ],
   "source": [
    "rmse_score(adaboost_reg, X_train, X_test, y_train, y_test)"
   ]
  },
  {
   "cell_type": "code",
   "execution_count": 48,
   "metadata": {},
   "outputs": [
    {
     "name": "stdout",
     "output_type": "stream",
     "text": [
      "0.7397855899790439\n",
      "0.4696135718908583\n"
     ]
    }
   ],
   "source": [
    "print(adaboost_reg.score(X_train, y_train))\n",
    "print (adaboost_reg.score(X_test, y_test))"
   ]
  },
  {
   "cell_type": "markdown",
   "metadata": {},
   "source": [
    "## Evaluate Support vector regression"
   ]
  },
  {
   "cell_type": "code",
   "execution_count": 49,
   "metadata": {},
   "outputs": [
    {
     "name": "stdout",
     "output_type": "stream",
     "text": [
      "The training RMSE for SVR(C=1.0, cache_size=200, coef0=0.0, degree=3, epsilon=0.1,\n",
      "    gamma='auto_deprecated', kernel='rbf', max_iter=-1, shrinking=True,\n",
      "    tol=0.001, verbose=False) is: 0.09612372900631759\n",
      "The testing RMSE for SVR(C=1.0, cache_size=200, coef0=0.0, degree=3, epsilon=0.1,\n",
      "    gamma='auto_deprecated', kernel='rbf', max_iter=-1, shrinking=True,\n",
      "    tol=0.001, verbose=False) is: 0.4023430487886547\n"
     ]
    },
    {
     "data": {
      "text/plain": [
       "(0.09612372900631759, 0.4023430487886547)"
      ]
     },
     "execution_count": 49,
     "metadata": {},
     "output_type": "execute_result"
    }
   ],
   "source": [
    "rmse_score(support_vector_reg, X_train, X_test, y_train, y_test)"
   ]
  },
  {
   "cell_type": "code",
   "execution_count": 50,
   "metadata": {
    "scrolled": true
   },
   "outputs": [
    {
     "name": "stdout",
     "output_type": "stream",
     "text": [
      "0.9401128670115707\n",
      "-0.0452129035232578\n"
     ]
    }
   ],
   "source": [
    "print(support_vector_reg.score(X_train, y_train))\n",
    "print (support_vector_reg.score(X_test, y_test))"
   ]
  },
  {
   "cell_type": "markdown",
   "metadata": {},
   "source": [
    "## Test Model with pipelines"
   ]
  },
  {
   "cell_type": "markdown",
   "metadata": {},
   "source": [
    "\n"
   ]
  },
  {
   "cell_type": "code",
   "execution_count": 51,
   "metadata": {},
   "outputs": [
    {
     "name": "stdout",
     "output_type": "stream",
     "text": [
      "Fitting 5 folds for each of 24 candidates, totalling 120 fits\n"
     ]
    },
    {
     "name": "stderr",
     "output_type": "stream",
     "text": [
      "[Parallel(n_jobs=1)]: Using backend SequentialBackend with 1 concurrent workers.\n"
     ]
    },
    {
     "name": "stdout",
     "output_type": "stream",
     "text": [
      "0.2987747241699259\n"
     ]
    },
    {
     "name": "stderr",
     "output_type": "stream",
     "text": [
      "[Parallel(n_jobs=1)]: Done 120 out of 120 | elapsed:    0.4s finished\n"
     ]
    },
    {
     "data": {
      "text/plain": [
       "Pipeline(memory=None,\n",
       "         steps=[('linear',\n",
       "                 LinearRegression(copy_X=True, fit_intercept=True, n_jobs=1,\n",
       "                                  normalize=False))],\n",
       "         verbose=False)"
      ]
     },
     "execution_count": 51,
     "metadata": {},
     "output_type": "execute_result"
    }
   ],
   "source": [
    "pipe = Pipeline([\n",
    "    ('linear', LinearRegression())\n",
    "])\n",
    "\n",
    "pipe_params = {\n",
    "                 'linear__fit_intercept': [True,False], \n",
    "                 'linear__normalize': [True, False],\n",
    "                 'linear__copy_X': [True, False],\n",
    "                 'linear__n_jobs': [1,5,10]\n",
    "}\n",
    "\n",
    "pipe_gridsearch = GridSearchCV(pipe, \n",
    "                                 pipe_params, \n",
    "                                 cv=5, \n",
    "                                 verbose=1)\n",
    "pipe_gridsearch.fit(X_train, y_train);\n",
    "print(pipe_gridsearch.best_score_)\n",
    "pipe_gridsearch.best_estimator_"
   ]
  },
  {
   "cell_type": "code",
   "execution_count": 52,
   "metadata": {},
   "outputs": [
    {
     "name": "stderr",
     "output_type": "stream",
     "text": [
      "[Parallel(n_jobs=1)]: Using backend SequentialBackend with 1 concurrent workers.\n"
     ]
    },
    {
     "name": "stdout",
     "output_type": "stream",
     "text": [
      "Fitting 5 folds for each of 10 candidates, totalling 50 fits\n"
     ]
    },
    {
     "name": "stderr",
     "output_type": "stream",
     "text": [
      "[Parallel(n_jobs=1)]: Done  50 out of  50 | elapsed:    0.2s finished\n"
     ]
    },
    {
     "data": {
      "text/plain": [
       "0.37705695677653783"
      ]
     },
     "execution_count": 52,
     "metadata": {},
     "output_type": "execute_result"
    }
   ],
   "source": [
    "knn_params = {\n",
    "    'n_neighbors': range(1, 51, 10),\n",
    "    'metric': ['euclidean', 'manhattan']\n",
    "}\n",
    "knn_gridsearch = GridSearchCV(KNeighborsRegressor(), \n",
    "                              knn_params, \n",
    "                              cv=5, \n",
    "                              verbose=1)\n",
    "knn_gridsearch.fit(X_train, y_train);\n",
    "best_knn = knn_gridsearch.best_estimator_\n",
    "best_knn.score(X_test, y_test)"
   ]
  },
  {
   "cell_type": "code",
   "execution_count": 53,
   "metadata": {},
   "outputs": [
    {
     "name": "stdout",
     "output_type": "stream",
     "text": [
      "Fitting 5 folds for each of 3 candidates, totalling 15 fits\n"
     ]
    },
    {
     "name": "stderr",
     "output_type": "stream",
     "text": [
      "[Parallel(n_jobs=1)]: Using backend SequentialBackend with 1 concurrent workers.\n",
      "[Parallel(n_jobs=1)]: Done  15 out of  15 | elapsed:    0.1s finished\n"
     ]
    },
    {
     "data": {
      "text/plain": [
       "0.010068636155538324"
      ]
     },
     "execution_count": 53,
     "metadata": {},
     "output_type": "execute_result"
    }
   ],
   "source": [
    "cart_params = {\n",
    "    'max_depth': [15,25,50]\n",
    "    \n",
    "}\n",
    "cart_gridsearch = GridSearchCV(DecisionTreeRegressor(), \n",
    "                              cart_params, \n",
    "                              cv=5, \n",
    "                              verbose=1)\n",
    "cart_gridsearch.fit(X_train, y_train);\n",
    "best_cart = cart_gridsearch.best_estimator_\n",
    "best_cart.score(X_test, y_test)"
   ]
  },
  {
   "cell_type": "code",
   "execution_count": 54,
   "metadata": {},
   "outputs": [
    {
     "data": {
      "text/plain": [
       "BaggingRegressor(base_estimator=None, bootstrap=True, bootstrap_features=False,\n",
       "                 max_features=1.0, max_samples=1.0, n_estimators=10,\n",
       "                 n_jobs=None, oob_score=False, random_state=None, verbose=0,\n",
       "                 warm_start=False)"
      ]
     },
     "execution_count": 54,
     "metadata": {},
     "output_type": "execute_result"
    }
   ],
   "source": [
    "BaggingRegressor()"
   ]
  },
  {
   "cell_type": "code",
   "execution_count": 55,
   "metadata": {},
   "outputs": [
    {
     "name": "stderr",
     "output_type": "stream",
     "text": [
      "[Parallel(n_jobs=1)]: Using backend SequentialBackend with 1 concurrent workers.\n"
     ]
    },
    {
     "name": "stdout",
     "output_type": "stream",
     "text": [
      "Fitting 5 folds for each of 3 candidates, totalling 15 fits\n"
     ]
    },
    {
     "name": "stderr",
     "output_type": "stream",
     "text": [
      "[Parallel(n_jobs=1)]: Done  15 out of  15 | elapsed:    3.3s finished\n"
     ]
    },
    {
     "name": "stdout",
     "output_type": "stream",
     "text": [
      "BaggingRegressor(base_estimator=None, bootstrap=True, bootstrap_features=False,\n",
      "                 max_features=1.0, max_samples=1.0, n_estimators=160,\n",
      "                 n_jobs=None, oob_score=False, random_state=None, verbose=0,\n",
      "                 warm_start=False)\n"
     ]
    },
    {
     "data": {
      "text/plain": [
       "0.49812913428201555"
      ]
     },
     "execution_count": 55,
     "metadata": {},
     "output_type": "execute_result"
    }
   ],
   "source": [
    "bag_params = {\n",
    "    'n_estimators': [120,140,160],\n",
    "    \n",
    "    \n",
    "}\n",
    "bag_gridsearch = GridSearchCV(BaggingRegressor(),\n",
    "                              bag_params,\n",
    "                              cv=5, \n",
    "                              verbose=1)\n",
    "bag_gridsearch.fit(X_train, y_train);\n",
    "best_bag = bag_gridsearch.best_estimator_\n",
    "print (best_bag)\n",
    "best_bag.score(X_test, y_test)"
   ]
  },
  {
   "cell_type": "code",
   "execution_count": 56,
   "metadata": {},
   "outputs": [
    {
     "name": "stdout",
     "output_type": "stream",
     "text": [
      "Fitting 5 folds for each of 12 candidates, totalling 60 fits\n"
     ]
    },
    {
     "name": "stderr",
     "output_type": "stream",
     "text": [
      "[Parallel(n_jobs=1)]: Using backend SequentialBackend with 1 concurrent workers.\n"
     ]
    },
    {
     "name": "stdout",
     "output_type": "stream",
     "text": [
      "RandomForestRegressor(bootstrap=True, criterion='mse', max_depth=9,\n",
      "                      max_features='auto', max_leaf_nodes=None,\n",
      "                      min_impurity_decrease=0.0, min_impurity_split=None,\n",
      "                      min_samples_leaf=1, min_samples_split=2,\n",
      "                      min_weight_fraction_leaf=0.0, n_estimators=100,\n",
      "                      n_jobs=None, oob_score=False, random_state=None,\n",
      "                      verbose=0, warm_start=False)\n"
     ]
    },
    {
     "name": "stderr",
     "output_type": "stream",
     "text": [
      "[Parallel(n_jobs=1)]: Done  60 out of  60 | elapsed:    9.2s finished\n"
     ]
    },
    {
     "data": {
      "text/plain": [
       "0.5020095665131115"
      ]
     },
     "execution_count": 56,
     "metadata": {},
     "output_type": "execute_result"
    }
   ],
   "source": [
    "rf_params = {\n",
    "    'n_estimators': [100,110,120],\n",
    "    'max_depth':[6,7,8,9]\n",
    "    \n",
    "    \n",
    "}\n",
    "rf_gridsearch = GridSearchCV(RandomForestRegressor(), \n",
    "                              rf_params,\n",
    "                              cv=5, \n",
    "                              verbose=1)\n",
    "rf_gridsearch.fit(X_train, y_train);\n",
    "best_rf = rf_gridsearch.best_estimator_\n",
    "print (best_rf)\n",
    "best_rf.score(X_test, y_test)"
   ]
  },
  {
   "cell_type": "code",
   "execution_count": 57,
   "metadata": {},
   "outputs": [
    {
     "data": {
      "text/plain": [
       "AdaBoostRegressor(base_estimator=None, learning_rate=1.0, loss='linear',\n",
       "                  n_estimators=50, random_state=None)"
      ]
     },
     "execution_count": 57,
     "metadata": {},
     "output_type": "execute_result"
    }
   ],
   "source": [
    "AdaBoostRegressor()"
   ]
  },
  {
   "cell_type": "code",
   "execution_count": 58,
   "metadata": {},
   "outputs": [
    {
     "name": "stderr",
     "output_type": "stream",
     "text": [
      "[Parallel(n_jobs=1)]: Using backend SequentialBackend with 1 concurrent workers.\n"
     ]
    },
    {
     "name": "stdout",
     "output_type": "stream",
     "text": [
      "Fitting 5 folds for each of 3 candidates, totalling 15 fits\n",
      "AdaBoostRegressor(base_estimator=None, learning_rate=1.0, loss='linear',\n",
      "                  n_estimators=85, random_state=None)\n"
     ]
    },
    {
     "name": "stderr",
     "output_type": "stream",
     "text": [
      "[Parallel(n_jobs=1)]: Done  15 out of  15 | elapsed:    1.9s finished\n"
     ]
    },
    {
     "data": {
      "text/plain": [
       "0.44649325282507746"
      ]
     },
     "execution_count": 58,
     "metadata": {},
     "output_type": "execute_result"
    }
   ],
   "source": [
    "ada_params = {\n",
    "    'n_estimators': [75,85,90]\n",
    "}\n",
    "ada_gridsearch = GridSearchCV(AdaBoostRegressor(), \n",
    "                              ada_params, \n",
    "                              cv=5, \n",
    "                              verbose=1)\n",
    "ada_gridsearch.fit(X_train, y_train);\n",
    "best_ada = ada_gridsearch.best_estimator_\n",
    "print (best_ada)\n",
    "best_ada.score(X_test, y_test)"
   ]
  },
  {
   "cell_type": "code",
   "execution_count": null,
   "metadata": {},
   "outputs": [],
   "source": []
  },
  {
   "cell_type": "code",
   "execution_count": 59,
   "metadata": {},
   "outputs": [
    {
     "name": "stderr",
     "output_type": "stream",
     "text": [
      "[Parallel(n_jobs=1)]: Using backend SequentialBackend with 1 concurrent workers.\n",
      "/Users/Work/anaconda3/lib/python3.7/site-packages/sklearn/svm/base.py:193: FutureWarning: The default value of gamma will change from 'auto' to 'scale' in version 0.22 to account better for unscaled features. Set gamma explicitly to 'auto' or 'scale' to avoid this warning.\n",
      "  \"avoid this warning.\", FutureWarning)\n",
      "/Users/Work/anaconda3/lib/python3.7/site-packages/sklearn/svm/base.py:193: FutureWarning: The default value of gamma will change from 'auto' to 'scale' in version 0.22 to account better for unscaled features. Set gamma explicitly to 'auto' or 'scale' to avoid this warning.\n",
      "  \"avoid this warning.\", FutureWarning)\n",
      "/Users/Work/anaconda3/lib/python3.7/site-packages/sklearn/svm/base.py:193: FutureWarning: The default value of gamma will change from 'auto' to 'scale' in version 0.22 to account better for unscaled features. Set gamma explicitly to 'auto' or 'scale' to avoid this warning.\n",
      "  \"avoid this warning.\", FutureWarning)\n",
      "/Users/Work/anaconda3/lib/python3.7/site-packages/sklearn/svm/base.py:193: FutureWarning: The default value of gamma will change from 'auto' to 'scale' in version 0.22 to account better for unscaled features. Set gamma explicitly to 'auto' or 'scale' to avoid this warning.\n",
      "  \"avoid this warning.\", FutureWarning)\n",
      "/Users/Work/anaconda3/lib/python3.7/site-packages/sklearn/svm/base.py:193: FutureWarning: The default value of gamma will change from 'auto' to 'scale' in version 0.22 to account better for unscaled features. Set gamma explicitly to 'auto' or 'scale' to avoid this warning.\n",
      "  \"avoid this warning.\", FutureWarning)\n"
     ]
    },
    {
     "name": "stdout",
     "output_type": "stream",
     "text": [
      "Fitting 5 folds for each of 2 candidates, totalling 10 fits\n",
      "SVR(C=1.0, cache_size=200, coef0=0.0, degree=2, epsilon=0.1,\n",
      "    gamma='auto_deprecated', kernel='rbf', max_iter=-1, shrinking=True,\n",
      "    tol=0.001, verbose=False)\n"
     ]
    },
    {
     "name": "stderr",
     "output_type": "stream",
     "text": [
      "/Users/Work/anaconda3/lib/python3.7/site-packages/sklearn/svm/base.py:193: FutureWarning: The default value of gamma will change from 'auto' to 'scale' in version 0.22 to account better for unscaled features. Set gamma explicitly to 'auto' or 'scale' to avoid this warning.\n",
      "  \"avoid this warning.\", FutureWarning)\n",
      "/Users/Work/anaconda3/lib/python3.7/site-packages/sklearn/svm/base.py:193: FutureWarning: The default value of gamma will change from 'auto' to 'scale' in version 0.22 to account better for unscaled features. Set gamma explicitly to 'auto' or 'scale' to avoid this warning.\n",
      "  \"avoid this warning.\", FutureWarning)\n",
      "/Users/Work/anaconda3/lib/python3.7/site-packages/sklearn/svm/base.py:193: FutureWarning: The default value of gamma will change from 'auto' to 'scale' in version 0.22 to account better for unscaled features. Set gamma explicitly to 'auto' or 'scale' to avoid this warning.\n",
      "  \"avoid this warning.\", FutureWarning)\n",
      "/Users/Work/anaconda3/lib/python3.7/site-packages/sklearn/svm/base.py:193: FutureWarning: The default value of gamma will change from 'auto' to 'scale' in version 0.22 to account better for unscaled features. Set gamma explicitly to 'auto' or 'scale' to avoid this warning.\n",
      "  \"avoid this warning.\", FutureWarning)\n",
      "/Users/Work/anaconda3/lib/python3.7/site-packages/sklearn/svm/base.py:193: FutureWarning: The default value of gamma will change from 'auto' to 'scale' in version 0.22 to account better for unscaled features. Set gamma explicitly to 'auto' or 'scale' to avoid this warning.\n",
      "  \"avoid this warning.\", FutureWarning)\n",
      "[Parallel(n_jobs=1)]: Done  10 out of  10 | elapsed:    0.1s finished\n",
      "/Users/Work/anaconda3/lib/python3.7/site-packages/sklearn/svm/base.py:193: FutureWarning: The default value of gamma will change from 'auto' to 'scale' in version 0.22 to account better for unscaled features. Set gamma explicitly to 'auto' or 'scale' to avoid this warning.\n",
      "  \"avoid this warning.\", FutureWarning)\n"
     ]
    },
    {
     "data": {
      "text/plain": [
       "-0.0452129035232578"
      ]
     },
     "execution_count": 59,
     "metadata": {},
     "output_type": "execute_result"
    }
   ],
   "source": [
    "svr_params = {\n",
    "    'degree': [2,3]\n",
    "}\n",
    "svr_gridsearch = GridSearchCV(SVR(), \n",
    "                              svr_params, \n",
    "                              cv=5, \n",
    "                              verbose=1)\n",
    "svr_gridsearch.fit(X_train, y_train);\n",
    "best_svr = svr_gridsearch.best_estimator_\n",
    "print (best_svr)\n",
    "best_svr.score(X_test, y_test)"
   ]
  },
  {
   "cell_type": "markdown",
   "metadata": {},
   "source": [
    "|model|RMSE Train|RMSE Test|R2 Train|R2 Test|pipeline R2 test|\n",
    "| --- | --- | --- | --- | ---|---|\n",
    "|Linear Regression| 0.42|0.46|0.50|0.44|0.42|\n",
    "|KNN Regression| 0.39|0.51|0.60|0.37|0.39|\n",
    "|Decision Tree Regression| 8.11e05|0.56|0.99|0.16|0.001|\n",
    "|Baggin Regression| 0.19|0.46|0.89|0.45|0.54|\n",
    "|Random Forest Regression| 0.17|0.42|0.90|0.39|0.52|\n",
    "|Adaboost Regression| 0.29|0.42|0.77|0.53|0.519|\n",
    "|support vector Regression| 0.17|0.62|0.92|-0.01|-0.01|"
   ]
  },
  {
   "cell_type": "markdown",
   "metadata": {},
   "source": [
    "# Using KMean Cluster to group Zipcodes"
   ]
  },
  {
   "cell_type": "code",
   "execution_count": 60,
   "metadata": {},
   "outputs": [
    {
     "data": {
      "text/html": [
       "<div>\n",
       "<style scoped>\n",
       "    .dataframe tbody tr th:only-of-type {\n",
       "        vertical-align: middle;\n",
       "    }\n",
       "\n",
       "    .dataframe tbody tr th {\n",
       "        vertical-align: top;\n",
       "    }\n",
       "\n",
       "    .dataframe thead th {\n",
       "        text-align: right;\n",
       "    }\n",
       "</style>\n",
       "<table border=\"1\" class=\"dataframe\">\n",
       "  <thead>\n",
       "    <tr style=\"text-align: right;\">\n",
       "      <th></th>\n",
       "      <th>count</th>\n",
       "      <th>review_count</th>\n",
       "      <th>price*rating</th>\n",
       "      <th>price*review_count</th>\n",
       "      <th>price_1</th>\n",
       "      <th>price_2</th>\n",
       "      <th>price_3</th>\n",
       "      <th>price_4</th>\n",
       "      <th>rating_0.0</th>\n",
       "      <th>rating_1.0</th>\n",
       "      <th>rating_1.5</th>\n",
       "      <th>rating_2.0</th>\n",
       "      <th>rating_2.5</th>\n",
       "      <th>rating_3.0</th>\n",
       "      <th>rating_3.5</th>\n",
       "      <th>rating_4.0</th>\n",
       "      <th>rating_4.5</th>\n",
       "      <th>rating_5</th>\n",
       "    </tr>\n",
       "  </thead>\n",
       "  <tbody>\n",
       "    <tr>\n",
       "      <td>0</td>\n",
       "      <td>90</td>\n",
       "      <td>49.888889</td>\n",
       "      <td>4.649691</td>\n",
       "      <td>63.746914</td>\n",
       "      <td>65</td>\n",
       "      <td>25</td>\n",
       "      <td>0</td>\n",
       "      <td>0</td>\n",
       "      <td>0</td>\n",
       "      <td>0</td>\n",
       "      <td>4</td>\n",
       "      <td>8</td>\n",
       "      <td>8</td>\n",
       "      <td>8</td>\n",
       "      <td>14</td>\n",
       "      <td>19</td>\n",
       "      <td>17</td>\n",
       "      <td>12</td>\n",
       "    </tr>\n",
       "    <tr>\n",
       "      <td>1</td>\n",
       "      <td>21</td>\n",
       "      <td>27.904762</td>\n",
       "      <td>3.702948</td>\n",
       "      <td>30.562358</td>\n",
       "      <td>19</td>\n",
       "      <td>2</td>\n",
       "      <td>0</td>\n",
       "      <td>0</td>\n",
       "      <td>0</td>\n",
       "      <td>0</td>\n",
       "      <td>3</td>\n",
       "      <td>4</td>\n",
       "      <td>1</td>\n",
       "      <td>0</td>\n",
       "      <td>1</td>\n",
       "      <td>6</td>\n",
       "      <td>3</td>\n",
       "      <td>3</td>\n",
       "    </tr>\n",
       "    <tr>\n",
       "      <td>2</td>\n",
       "      <td>59</td>\n",
       "      <td>34.966102</td>\n",
       "      <td>3.800632</td>\n",
       "      <td>41.485205</td>\n",
       "      <td>50</td>\n",
       "      <td>8</td>\n",
       "      <td>0</td>\n",
       "      <td>1</td>\n",
       "      <td>0</td>\n",
       "      <td>2</td>\n",
       "      <td>7</td>\n",
       "      <td>9</td>\n",
       "      <td>6</td>\n",
       "      <td>5</td>\n",
       "      <td>6</td>\n",
       "      <td>9</td>\n",
       "      <td>7</td>\n",
       "      <td>8</td>\n",
       "    </tr>\n",
       "    <tr>\n",
       "      <td>3</td>\n",
       "      <td>137</td>\n",
       "      <td>185.861314</td>\n",
       "      <td>5.657307</td>\n",
       "      <td>276.756993</td>\n",
       "      <td>74</td>\n",
       "      <td>59</td>\n",
       "      <td>4</td>\n",
       "      <td>0</td>\n",
       "      <td>0</td>\n",
       "      <td>0</td>\n",
       "      <td>1</td>\n",
       "      <td>2</td>\n",
       "      <td>12</td>\n",
       "      <td>15</td>\n",
       "      <td>24</td>\n",
       "      <td>48</td>\n",
       "      <td>22</td>\n",
       "      <td>13</td>\n",
       "    </tr>\n",
       "    <tr>\n",
       "      <td>4</td>\n",
       "      <td>112</td>\n",
       "      <td>243.035714</td>\n",
       "      <td>5.676020</td>\n",
       "      <td>386.253189</td>\n",
       "      <td>48</td>\n",
       "      <td>62</td>\n",
       "      <td>2</td>\n",
       "      <td>0</td>\n",
       "      <td>0</td>\n",
       "      <td>1</td>\n",
       "      <td>2</td>\n",
       "      <td>5</td>\n",
       "      <td>6</td>\n",
       "      <td>19</td>\n",
       "      <td>19</td>\n",
       "      <td>45</td>\n",
       "      <td>15</td>\n",
       "      <td>0</td>\n",
       "    </tr>\n",
       "  </tbody>\n",
       "</table>\n",
       "</div>"
      ],
      "text/plain": [
       "   count  review_count  price*rating  price*review_count  price_1  price_2  \\\n",
       "0     90     49.888889      4.649691           63.746914       65       25   \n",
       "1     21     27.904762      3.702948           30.562358       19        2   \n",
       "2     59     34.966102      3.800632           41.485205       50        8   \n",
       "3    137    185.861314      5.657307          276.756993       74       59   \n",
       "4    112    243.035714      5.676020          386.253189       48       62   \n",
       "\n",
       "   price_3  price_4  rating_0.0  rating_1.0  rating_1.5  rating_2.0  \\\n",
       "0        0        0           0           0           4           8   \n",
       "1        0        0           0           0           3           4   \n",
       "2        0        1           0           2           7           9   \n",
       "3        4        0           0           0           1           2   \n",
       "4        2        0           0           1           2           5   \n",
       "\n",
       "   rating_2.5  rating_3.0  rating_3.5  rating_4.0  rating_4.5  rating_5  \n",
       "0           8           8          14          19          17        12  \n",
       "1           1           0           1           6           3         3  \n",
       "2           6           5           6           9           7         8  \n",
       "3          12          15          24          48          22        13  \n",
       "4           6          19          19          45          15         0  "
      ]
     },
     "execution_count": 60,
     "metadata": {},
     "output_type": "execute_result"
    }
   ],
   "source": [
    "X.head()"
   ]
  },
  {
   "cell_type": "code",
   "execution_count": 61,
   "metadata": {},
   "outputs": [],
   "source": [
    "def transfer_tune(X, y, k):\n",
    "    location_data = df_dummy[[\"latitude\", \"longitude\"]]\n",
    "    km = KMeans(n_clusters=k,random_state = 42 )\n",
    "    km.fit(location_data)\n",
    "    X.loc[:, \"cluster\"] = km.predict(location_data)\n",
    "    X_dummy = pd.get_dummies(columns=[\"cluster\"], data=X)\n",
    "    X_train, X_test, y_train, y_test = train_test_split(\n",
    "        X_dummy.copy(), y.copy(), random_state=42, test_size=0.3\n",
    "    )\n",
    "    best_rf.fit(X_train, y_train)\n",
    "    r2 =best_rf.score(X_test, y_test)\n",
    "    print(f\"{k} : {r2}\")"
   ]
  },
  {
   "cell_type": "code",
   "execution_count": 62,
   "metadata": {},
   "outputs": [
    {
     "name": "stdout",
     "output_type": "stream",
     "text": [
      "20 : 0.488085622431947\n",
      "21 : 0.5281322115038495\n",
      "22 : 0.5225881136277866\n",
      "23 : 0.5028869324222045\n",
      "24 : 0.5131750248399849\n",
      "25 : 0.49955878148570787\n",
      "26 : 0.530135233656203\n",
      "27 : 0.5014765590907149\n",
      "28 : 0.5196690711530692\n",
      "29 : 0.5126740352256453\n",
      "30 : 0.5187463242659904\n",
      "31 : 0.5261187259298137\n",
      "32 : 0.5352658404110746\n",
      "33 : 0.5006993824022119\n",
      "34 : 0.5128779133831691\n",
      "35 : 0.5152149851885772\n",
      "36 : 0.5370082668342568\n",
      "37 : 0.5204405400667217\n",
      "38 : 0.5381297570882142\n",
      "39 : 0.53268022893456\n",
      "40 : 0.5030302589637718\n",
      "41 : 0.5364910206666788\n",
      "42 : 0.5238688342577844\n",
      "43 : 0.5309609090789559\n",
      "44 : 0.4997440528021889\n",
      "45 : 0.5026069445318475\n",
      "46 : 0.5163861224567594\n",
      "47 : 0.5000932692107004\n",
      "48 : 0.5162752927717598\n",
      "49 : 0.5107767620353302\n"
     ]
    }
   ],
   "source": [
    "for k in range(20, 50, 1):\n",
    "    transfer_tune(X, y, k)"
   ]
  },
  {
   "cell_type": "code",
   "execution_count": 63,
   "metadata": {},
   "outputs": [
    {
     "name": "stdout",
     "output_type": "stream",
     "text": [
      "0.5309989246155564\n"
     ]
    }
   ],
   "source": [
    "location_data = df_dummy[[\"latitude\", \"longitude\"]]\n",
    "km = KMeans(n_clusters=58, random_state = 42)\n",
    "km.fit(location_data)\n",
    "X.loc[:, \"cluster\"] = km.predict(location_data)\n",
    "X_dummy = pd.get_dummies(columns=[\"cluster\"], data=X)\n",
    "X_train, X_test, y_train, y_test = train_test_split(\n",
    "        X_dummy.copy(), y.copy(), random_state=42, test_size=0.3\n",
    ")\n",
    "\n",
    "best_rf.fit(X_train, y_train)\n",
    "r2 = best_rf.score(X_test, y_test)\n",
    "print (r2)"
   ]
  },
  {
   "cell_type": "code",
   "execution_count": 64,
   "metadata": {},
   "outputs": [
    {
     "data": {
      "text/plain": [
       "Index(['count', 'review_count', 'price*rating', 'price*review_count',\n",
       "       'price_1', 'price_2', 'price_3', 'price_4', 'rating_0.0', 'rating_1.0',\n",
       "       'rating_1.5', 'rating_2.0', 'rating_2.5', 'rating_3.0', 'rating_3.5',\n",
       "       'rating_4.0', 'rating_4.5', 'rating_5', 'cluster_0', 'cluster_1',\n",
       "       'cluster_2', 'cluster_3', 'cluster_4', 'cluster_5', 'cluster_6',\n",
       "       'cluster_7', 'cluster_8', 'cluster_9', 'cluster_10', 'cluster_11',\n",
       "       'cluster_12', 'cluster_13', 'cluster_14', 'cluster_15', 'cluster_16',\n",
       "       'cluster_17', 'cluster_18', 'cluster_19', 'cluster_20', 'cluster_21',\n",
       "       'cluster_22', 'cluster_23', 'cluster_24', 'cluster_25', 'cluster_26',\n",
       "       'cluster_27', 'cluster_28', 'cluster_29', 'cluster_30', 'cluster_31',\n",
       "       'cluster_32', 'cluster_33', 'cluster_34', 'cluster_35', 'cluster_36',\n",
       "       'cluster_37', 'cluster_38', 'cluster_39', 'cluster_40', 'cluster_41',\n",
       "       'cluster_42', 'cluster_43', 'cluster_44', 'cluster_45', 'cluster_46',\n",
       "       'cluster_47', 'cluster_48', 'cluster_49', 'cluster_50', 'cluster_51',\n",
       "       'cluster_52', 'cluster_53', 'cluster_54', 'cluster_55', 'cluster_56',\n",
       "       'cluster_57'],\n",
       "      dtype='object')"
      ]
     },
     "execution_count": 64,
     "metadata": {},
     "output_type": "execute_result"
    }
   ],
   "source": [
    "# Columns used in this order, need to copy and paste to app.py\n",
    "# Because Pandas rearranges order in alphabetical order when save to csv\n",
    "\n",
    "X_train.columns"
   ]
  },
  {
   "cell_type": "code",
   "execution_count": 65,
   "metadata": {},
   "outputs": [
    {
     "data": {
      "image/png": "[encoded data removed]",
      "text/plain": [
       "<Figure size 720x720 with 1 Axes>"
      ]
     },
     "metadata": {
      "needs_background": "light"
     },
     "output_type": "display_data"
    }
   ],
   "source": [
    "plt.figure(figsize=(10, 10))\n",
    "plt.scatter(df_dummy.latitude, df_dummy.longitude, c=km.labels_, s=8, cmap=\"tab20\")\n",
    "plt.xlabel(\"latitude\", fontsize = 20)\n",
    "plt.ylabel(\"longitude\", fontsize = 20)\n",
    "plt.title('Model with Clusters', fontsize = 24);"
   ]
  },
  {
   "cell_type": "code",
   "execution_count": 66,
   "metadata": {},
   "outputs": [],
   "source": [
    "# creating .csv file to make predictions from in Flask app\n",
    "\n",
    "X_cluster = pd.concat([X_train,X_test],axis = 0, sort = False)\n",
    "X_cluster = pd.concat([df_dummy['zip_code'],X_cluster.sort_index()],axis = 1)\n",
    "\n",
    "X_cluster.to_csv('../data/X_cluster.csv')"
   ]
  },
  {
   "cell_type": "code",
   "execution_count": 67,
   "metadata": {},
   "outputs": [],
   "source": [
    "y_pred = best_bag.predict(X_test)"
   ]
  },
  {
   "cell_type": "code",
   "execution_count": 68,
   "metadata": {},
   "outputs": [],
   "source": [
    "residuals = np.exp(y_test )- np.exp(y_pred)"
   ]
  },
  {
   "cell_type": "code",
   "execution_count": 69,
   "metadata": {},
   "outputs": [
    {
     "data": {
      "text/plain": [
       "7949.596197962976"
      ]
     },
     "execution_count": 69,
     "metadata": {},
     "output_type": "execute_result"
    }
   ],
   "source": [
    "residuals.mean()"
   ]
  },
  {
   "cell_type": "code",
   "execution_count": 70,
   "metadata": {},
   "outputs": [
    {
     "data": {
      "text/plain": [
       "Text(0.5, 1.0, 'Residual Mean')"
      ]
     },
     "execution_count": 70,
     "metadata": {},
     "output_type": "execute_result"
    },
    {
     "data": {
      "image/png": "[encoded data removed]",
      "text/plain": [
       "<Figure size 432x288 with 1 Axes>"
      ]
     },
     "metadata": {
      "needs_background": "light"
     },
     "output_type": "display_data"
    }
   ],
   "source": [
    "plt.scatter(y_pred, residuals)\n",
    "plt.axhline(0, color='r')\n",
    "plt.title('Residual Mean',size = 20)\n",
    "#plt.savefig('./plots/residual.png')"
   ]
  },
  {
   "cell_type": "code",
   "execution_count": 71,
   "metadata": {},
   "outputs": [
    {
     "data": {
      "image/png": "[encoded data removed]",
      "text/plain": [
       "<Figure size 864x648 with 1 Axes>"
      ]
     },
     "metadata": {
      "needs_background": "light"
     },
     "output_type": "display_data"
    }
   ],
   "source": [
    "\n",
    "plt.figure(figsize=(12,9))\n",
    "plt.rc('font', size=22)\n",
    "# Generate a scatterplot of predicted values versus actual values.\n",
    "plt.scatter(y_pred, y_test, s=5, alpha = 0.5)\n",
    "\n",
    "# Plot a line.\n",
    "plt.plot([10, np.max(y_test)],\n",
    "         [10, np.max(y_test)],\n",
    "         color = 'black')\n",
    "\n",
    "# Tweak title and axis labels.\n",
    "plt.xlabel(\"Predicted Values: $\\hat{y}$\", fontsize = 20)\n",
    "plt.ylabel(\"Actual Values: $y$\", fontsize = 20)\n",
    "plt.title('Predicted Values vs. Actual Values', fontsize = 24);"
   ]
  },
  {
   "cell_type": "code",
   "execution_count": 72,
   "metadata": {},
   "outputs": [],
   "source": [
    "# Pickle to be used in Flask app; using pickle from 05 - Advanced Modeling instead\n",
    "# pickle.dump(best_bag, open('../flask_app_complete/model.p', 'wb'))"
   ]
  },
  {
   "cell_type": "code",
   "execution_count": null,
   "metadata": {},
   "outputs": [],
   "source": []
  }
 ],
 "metadata": {
  "kernelspec": {
   "display_name": "Python 3",
   "language": "python",
   "name": "python3"
  },
  "language_info": {
   "codemirror_mode": {
    "name": "ipython",
    "version": 3
   },
   "file_extension": ".py",
   "mimetype": "text/x-python",
   "name": "python",
   "nbconvert_exporter": "python",
   "pygments_lexer": "ipython3",
   "version": "3.7.3"
  }
 },
 "nbformat": 4,
 "nbformat_minor": 2
}
