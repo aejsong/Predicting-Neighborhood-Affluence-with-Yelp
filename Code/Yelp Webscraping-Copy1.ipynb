{
 "cells": [
  {
   "cell_type": "markdown",
   "metadata": {},
   "source": [
    "# Yelp API Webscraping"
   ]
  },
  {
   "cell_type": "code",
   "execution_count": 17,
   "metadata": {},
   "outputs": [],
   "source": [
    "import pandas as pd \n",
    "import json\n",
    "import requests\n",
    "import time"
   ]
  },
  {
   "cell_type": "markdown",
   "metadata": {},
   "source": [
    "# Compiled Code\n",
    "- Don't forget to comment so we can understand!\n",
    "\n",
    "## known issues:\n",
    "- function populates dataframe with NaN rows\n",
    "- do we want business name?\n",
    "- businesses have multiple categories and function only picks up one at a time\n",
    "    - currently the 'alias' portion picks up the alias of the business (name), not the category alias"
   ]
  },
  {
   "cell_type": "code",
   "execution_count": 7,
   "metadata": {},
   "outputs": [],
   "source": [
    "# NOTHING IN THIS CELL NEEDS TO GET CHANGED \n",
    "# IF YOU HAVE YOUR API KEY IN 'creds.json' IN ./Assets\n",
    "\n",
    "# format your json file as a dictionary containing api key with DOUBLE QUOTES\n",
    "# {\"api\": \"your_super_long_api_key\"}\n",
    "creds_file = open('../Assets/creds.json')\n",
    "\n",
    "# load credentials into variable\n",
    "yelp_credentials = json.loads(creds_file.read())\n",
    "api_key = yelp_credentials['api']\n",
    "headers = {'Authorization': 'Bearer %s' % api_key}\n",
    "\n",
    "# this is the url we use to make broad business searches\n",
    "# https://www.yelp.com/developers/documentation/v3/business_search\n",
    "\n",
    "url = 'https://api.yelp.com/v3/businesses/search'"
   ]
  },
  {
   "cell_type": "code",
   "execution_count": 8,
   "metadata": {},
   "outputs": [],
   "source": [
    "# depending on what we want to search we can change values in this dictionary\n",
    "params = {'term':'food', 'location': 'Los Angeles'}"
   ]
  },
  {
   "cell_type": "code",
   "execution_count": 9,
   "metadata": {},
   "outputs": [
    {
     "name": "stdout",
     "output_type": "stream",
     "text": [
      "Status Code: 200\n"
     ]
    }
   ],
   "source": [
    "# ONLY RUN THIS CELL IF YOU WANT TO MAKE A REQUEST\n",
    "req = requests.get(url, params=params, headers=headers)\n",
    "print(f'Status Code: {req.status_code}')"
   ]
  },
  {
   "cell_type": "code",
   "execution_count": 10,
   "metadata": {},
   "outputs": [],
   "source": [
    "yelp = json.loads(req.text)"
   ]
  },
  {
   "cell_type": "code",
   "execution_count": 11,
   "metadata": {},
   "outputs": [
    {
     "data": {
      "text/plain": [
       "{'id': 'CbW8U0QAwh5XRkaLt0xNZA',\n",
       " 'alias': 'masa-of-echo-park-los-angeles',\n",
       " 'name': 'Masa of Echo Park',\n",
       " 'image_url': 'https://s3-media3.fl.yelpcdn.com/bphoto/k8LDtpavOtjYyjgHcErZaA/o.jpg',\n",
       " 'is_closed': False,\n",
       " 'url': 'https://www.yelp.com/biz/masa-of-echo-park-los-angeles?adjust_creative=1hBkN0UhEY8hcT3qXV3ivQ&utm_campaign=yelp_api_v3&utm_medium=api_v3_business_search&utm_source=1hBkN0UhEY8hcT3qXV3ivQ',\n",
       " 'review_count': 4023,\n",
       " 'categories': [{'alias': 'newamerican', 'title': 'American (New)'},\n",
       "  {'alias': 'pizza', 'title': 'Pizza'},\n",
       "  {'alias': 'salad', 'title': 'Salad'}],\n",
       " 'rating': 4.0,\n",
       " 'coordinates': {'latitude': 34.077585, 'longitude': -118.259599},\n",
       " 'transactions': ['pickup'],\n",
       " 'price': '$$',\n",
       " 'location': {'address1': '1800 W Sunset Blvd',\n",
       "  'address2': None,\n",
       "  'address3': '',\n",
       "  'city': 'Los Angeles',\n",
       "  'zip_code': '90026',\n",
       "  'country': 'US',\n",
       "  'state': 'CA',\n",
       "  'display_address': ['1800 W Sunset Blvd', 'Los Angeles, CA 90026']},\n",
       " 'phone': '+12139891558',\n",
       " 'display_phone': '(213) 989-1558',\n",
       " 'distance': 5962.124763619859}"
      ]
     },
     "execution_count": 11,
     "metadata": {},
     "output_type": "execute_result"
    }
   ],
   "source": [
    "businesses_object = yelp['businesses']\n",
    "businesses_object[15]\n",
    "\n",
    "# id\n",
    "# coordinates\n",
    "# price\n",
    "# review_count\n",
    "# rating\n",
    "# location > zip_code\n",
    "# location > city\n",
    "# categories > alias"
   ]
  },
  {
   "cell_type": "code",
   "execution_count": 26,
   "metadata": {},
   "outputs": [],
   "source": [
    "# stole this function from project 3 - jerry\n",
    "\n",
    "def get_price(yelp_object):\n",
    "    businesses = []\n",
    "    # empty list container containing dictionaries representing each unique business\n",
    "    \n",
    "    businesses_object = yelp_object['businesses']\n",
    "    \n",
    "    # looking at each subreddit which is passed into our function\n",
    "    for i, business in enumerate(list(businesses_object)):\n",
    "        \n",
    "        # each dictionary will contain all of the desired information from each post\n",
    "        business_dict = {}\n",
    "\n",
    "        if 'price' in businesses_object[i].keys():\n",
    "            business_dict['id']           = business['id']\n",
    "            business_dict['latitude']     = business['coordinates']['latitude']\n",
    "            business_dict['longitude']    = business['coordinates']['longitude']\n",
    "            business_dict['price']        = business['price']\n",
    "            business_dict['review_count'] = business['review_count']\n",
    "            business_dict['rating']       = business['rating']\n",
    "            business_dict['zip_code']     = business['location']['zip_code']\n",
    "            business_dict['city']         = business['location']['city']\n",
    "            business_dict['alias']        = business['alias']\n",
    "\n",
    "        # populate the posts list with each post dictionary\n",
    "        businesses.append(business_dict)\n",
    "\n",
    "        # just a little sanity check to see how far along our function is going\n",
    "        #print(f'{i+1} out of {len(businesses_object)}')\n",
    "    return businesses\n",
    "    #businesses = pd.DataFrame(businesses)\n",
    "   \n",
    "    "
   ]
  },
  {
   "cell_type": "code",
   "execution_count": 28,
   "metadata": {
    "scrolled": true
   },
   "outputs": [
    {
     "data": {
      "text/plain": [
       "list"
      ]
     },
     "execution_count": 28,
     "metadata": {},
     "output_type": "execute_result"
    }
   ],
   "source": []
  },
  {
   "cell_type": "code",
   "execution_count": 52,
   "metadata": {},
   "outputs": [
    {
     "ename": "KeyboardInterrupt",
     "evalue": "",
     "output_type": "error",
     "traceback": [
      "\u001b[1;31m---------------------------------------------------------------------------\u001b[0m",
      "\u001b[1;31mKeyboardInterrupt\u001b[0m                         Traceback (most recent call last)",
      "\u001b[1;32m<ipython-input-52-426e43807617>\u001b[0m in \u001b[0;36m<module>\u001b[1;34m\u001b[0m\n\u001b[0;32m      2\u001b[0m \u001b[1;32mwhile\u001b[0m \u001b[1;32mTrue\u001b[0m\u001b[1;33m:\u001b[0m\u001b[1;33m\u001b[0m\u001b[1;33m\u001b[0m\u001b[0m\n\u001b[0;32m      3\u001b[0m     \u001b[0mbusiness_list\u001b[0m\u001b[1;33m.\u001b[0m\u001b[0mextend\u001b[0m\u001b[1;33m(\u001b[0m\u001b[0mget_price\u001b[0m\u001b[1;33m(\u001b[0m\u001b[0myelp\u001b[0m\u001b[1;33m)\u001b[0m\u001b[1;33m)\u001b[0m\u001b[1;33m\u001b[0m\u001b[1;33m\u001b[0m\u001b[0m\n\u001b[1;32m----> 4\u001b[1;33m     \u001b[0mtime\u001b[0m\u001b[1;33m.\u001b[0m\u001b[0msleep\u001b[0m\u001b[1;33m(\u001b[0m\u001b[1;36m1\u001b[0m\u001b[1;33m)\u001b[0m\u001b[1;33m\u001b[0m\u001b[1;33m\u001b[0m\u001b[0m\n\u001b[0m",
      "\u001b[1;31mKeyboardInterrupt\u001b[0m: "
     ]
    }
   ],
   "source": [
    "business_list = []\n",
    "while True:\n",
    "    business_list.extend(get_price(yelp))\n",
    "    time.sleep(1)"
   ]
  },
  {
   "cell_type": "code",
   "execution_count": 53,
   "metadata": {
    "scrolled": false
   },
   "outputs": [
    {
     "data": {
      "text/plain": [
       "6100"
      ]
     },
     "execution_count": 53,
     "metadata": {},
     "output_type": "execute_result"
    }
   ],
   "source": [
    "len(business_list)"
   ]
  },
  {
   "cell_type": "code",
   "execution_count": 54,
   "metadata": {},
   "outputs": [],
   "source": [
    "df = pd.DataFrame(business_list)"
   ]
  },
  {
   "cell_type": "code",
   "execution_count": 56,
   "metadata": {},
   "outputs": [
    {
     "data": {
      "text/html": [
       "<div>\n",
       "<style scoped>\n",
       "    .dataframe tbody tr th:only-of-type {\n",
       "        vertical-align: middle;\n",
       "    }\n",
       "\n",
       "    .dataframe tbody tr th {\n",
       "        vertical-align: top;\n",
       "    }\n",
       "\n",
       "    .dataframe thead th {\n",
       "        text-align: right;\n",
       "    }\n",
       "</style>\n",
       "<table border=\"1\" class=\"dataframe\">\n",
       "  <thead>\n",
       "    <tr style=\"text-align: right;\">\n",
       "      <th></th>\n",
       "      <th>id</th>\n",
       "      <th>latitude</th>\n",
       "      <th>longitude</th>\n",
       "      <th>price</th>\n",
       "      <th>review_count</th>\n",
       "      <th>rating</th>\n",
       "      <th>zip_code</th>\n",
       "      <th>city</th>\n",
       "      <th>alias</th>\n",
       "    </tr>\n",
       "  </thead>\n",
       "  <tbody>\n",
       "    <tr>\n",
       "      <td>0</td>\n",
       "      <td>CcqraT0cuGKYEcZ1ri_kxg</td>\n",
       "      <td>34.040403</td>\n",
       "      <td>-118.253512</td>\n",
       "      <td>$$</td>\n",
       "      <td>689.0</td>\n",
       "      <td>5.0</td>\n",
       "      <td>90015</td>\n",
       "      <td>Los Angeles</td>\n",
       "      <td>broken-mouth-lees-homestyle-los-angeles-5</td>\n",
       "    </tr>\n",
       "    <tr>\n",
       "      <td>1</td>\n",
       "      <td>KQBGm5G8IDkE8LeNY45mbA</td>\n",
       "      <td>34.045605</td>\n",
       "      <td>-118.236061</td>\n",
       "      <td>$$</td>\n",
       "      <td>8205.0</td>\n",
       "      <td>4.0</td>\n",
       "      <td>90013</td>\n",
       "      <td>Los Angeles</td>\n",
       "      <td>wurstküche-los-angeles-2</td>\n",
       "    </tr>\n",
       "    <tr>\n",
       "      <td>2</td>\n",
       "      <td>pjh40JY5YwWeV8aKhkXERg</td>\n",
       "      <td>34.065770</td>\n",
       "      <td>-118.308470</td>\n",
       "      <td>$</td>\n",
       "      <td>702.0</td>\n",
       "      <td>4.5</td>\n",
       "      <td>90020</td>\n",
       "      <td>Los Angeles</td>\n",
       "      <td>myungrang-hot-dog-california-market-la-los-ang...</td>\n",
       "    </tr>\n",
       "    <tr>\n",
       "      <td>3</td>\n",
       "      <td>b4SH4SbQUJfXxh6hNkF0wg</td>\n",
       "      <td>34.050529</td>\n",
       "      <td>-118.248619</td>\n",
       "      <td>$</td>\n",
       "      <td>5597.0</td>\n",
       "      <td>4.0</td>\n",
       "      <td>90013</td>\n",
       "      <td>Los Angeles</td>\n",
       "      <td>eggslut-los-angeles-7</td>\n",
       "    </tr>\n",
       "    <tr>\n",
       "      <td>4</td>\n",
       "      <td>sYn3SNQP-j2t2XSwjlCbRg</td>\n",
       "      <td>34.064690</td>\n",
       "      <td>-118.308760</td>\n",
       "      <td>$$</td>\n",
       "      <td>1618.0</td>\n",
       "      <td>4.5</td>\n",
       "      <td>90020</td>\n",
       "      <td>Los Angeles</td>\n",
       "      <td>montys-good-burger-los-angeles</td>\n",
       "    </tr>\n",
       "    <tr>\n",
       "      <td>...</td>\n",
       "      <td>...</td>\n",
       "      <td>...</td>\n",
       "      <td>...</td>\n",
       "      <td>...</td>\n",
       "      <td>...</td>\n",
       "      <td>...</td>\n",
       "      <td>...</td>\n",
       "      <td>...</td>\n",
       "      <td>...</td>\n",
       "    </tr>\n",
       "    <tr>\n",
       "      <td>6095</td>\n",
       "      <td>CbW8U0QAwh5XRkaLt0xNZA</td>\n",
       "      <td>34.077585</td>\n",
       "      <td>-118.259599</td>\n",
       "      <td>$$</td>\n",
       "      <td>4023.0</td>\n",
       "      <td>4.0</td>\n",
       "      <td>90026</td>\n",
       "      <td>Los Angeles</td>\n",
       "      <td>masa-of-echo-park-los-angeles</td>\n",
       "    </tr>\n",
       "    <tr>\n",
       "      <td>6096</td>\n",
       "      <td>fjWpZPr4YDJRKdnj0fqlkg</td>\n",
       "      <td>34.083320</td>\n",
       "      <td>-118.327380</td>\n",
       "      <td>$$</td>\n",
       "      <td>33.0</td>\n",
       "      <td>5.0</td>\n",
       "      <td>90038</td>\n",
       "      <td>Los Angeles</td>\n",
       "      <td>omakase-teriyaki-los-angeles</td>\n",
       "    </tr>\n",
       "    <tr>\n",
       "      <td>6097</td>\n",
       "      <td>ohosmz6FXVAeoW5nUkYwng</td>\n",
       "      <td>34.090596</td>\n",
       "      <td>-118.277172</td>\n",
       "      <td>$$</td>\n",
       "      <td>2151.0</td>\n",
       "      <td>4.5</td>\n",
       "      <td>90026</td>\n",
       "      <td>Los Angeles</td>\n",
       "      <td>pine-and-crane-los-angeles</td>\n",
       "    </tr>\n",
       "    <tr>\n",
       "      <td>6098</td>\n",
       "      <td>NaN</td>\n",
       "      <td>NaN</td>\n",
       "      <td>NaN</td>\n",
       "      <td>NaN</td>\n",
       "      <td>NaN</td>\n",
       "      <td>NaN</td>\n",
       "      <td>NaN</td>\n",
       "      <td>NaN</td>\n",
       "      <td>NaN</td>\n",
       "    </tr>\n",
       "    <tr>\n",
       "      <td>6099</td>\n",
       "      <td>PQGsaaJ9YVL_Sgiy7aB70Q</td>\n",
       "      <td>34.063440</td>\n",
       "      <td>-118.298310</td>\n",
       "      <td>$</td>\n",
       "      <td>223.0</td>\n",
       "      <td>4.0</td>\n",
       "      <td>90020</td>\n",
       "      <td>Los Angeles</td>\n",
       "      <td>street-food-of-seoul-los-angeles</td>\n",
       "    </tr>\n",
       "  </tbody>\n",
       "</table>\n",
       "<p>6100 rows × 9 columns</p>\n",
       "</div>"
      ],
      "text/plain": [
       "                          id   latitude   longitude price  review_count  \\\n",
       "0     CcqraT0cuGKYEcZ1ri_kxg  34.040403 -118.253512    $$         689.0   \n",
       "1     KQBGm5G8IDkE8LeNY45mbA  34.045605 -118.236061    $$        8205.0   \n",
       "2     pjh40JY5YwWeV8aKhkXERg  34.065770 -118.308470     $         702.0   \n",
       "3     b4SH4SbQUJfXxh6hNkF0wg  34.050529 -118.248619     $        5597.0   \n",
       "4     sYn3SNQP-j2t2XSwjlCbRg  34.064690 -118.308760    $$        1618.0   \n",
       "...                      ...        ...         ...   ...           ...   \n",
       "6095  CbW8U0QAwh5XRkaLt0xNZA  34.077585 -118.259599    $$        4023.0   \n",
       "6096  fjWpZPr4YDJRKdnj0fqlkg  34.083320 -118.327380    $$          33.0   \n",
       "6097  ohosmz6FXVAeoW5nUkYwng  34.090596 -118.277172    $$        2151.0   \n",
       "6098                     NaN        NaN         NaN   NaN           NaN   \n",
       "6099  PQGsaaJ9YVL_Sgiy7aB70Q  34.063440 -118.298310     $         223.0   \n",
       "\n",
       "      rating zip_code         city  \\\n",
       "0        5.0    90015  Los Angeles   \n",
       "1        4.0    90013  Los Angeles   \n",
       "2        4.5    90020  Los Angeles   \n",
       "3        4.0    90013  Los Angeles   \n",
       "4        4.5    90020  Los Angeles   \n",
       "...      ...      ...          ...   \n",
       "6095     4.0    90026  Los Angeles   \n",
       "6096     5.0    90038  Los Angeles   \n",
       "6097     4.5    90026  Los Angeles   \n",
       "6098     NaN      NaN          NaN   \n",
       "6099     4.0    90020  Los Angeles   \n",
       "\n",
       "                                                  alias  \n",
       "0             broken-mouth-lees-homestyle-los-angeles-5  \n",
       "1                              wurstküche-los-angeles-2  \n",
       "2     myungrang-hot-dog-california-market-la-los-ang...  \n",
       "3                                 eggslut-los-angeles-7  \n",
       "4                        montys-good-burger-los-angeles  \n",
       "...                                                 ...  \n",
       "6095                      masa-of-echo-park-los-angeles  \n",
       "6096                       omakase-teriyaki-los-angeles  \n",
       "6097                         pine-and-crane-los-angeles  \n",
       "6098                                                NaN  \n",
       "6099                   street-food-of-seoul-los-angeles  \n",
       "\n",
       "[6100 rows x 9 columns]"
      ]
     },
     "execution_count": 56,
     "metadata": {},
     "output_type": "execute_result"
    }
   ],
   "source": [
    "df"
   ]
  },
  {
   "cell_type": "code",
   "execution_count": 58,
   "metadata": {},
   "outputs": [],
   "source": [
    "df.to_csv('../data/echo1023.csv')"
   ]
  },
  {
   "cell_type": "markdown",
   "metadata": {},
   "source": [
    "## aerika section"
   ]
  },
  {
   "cell_type": "code",
   "execution_count": 1,
   "metadata": {},
   "outputs": [
    {
     "ename": "NameError",
     "evalue": "name 'hi' is not defined",
     "output_type": "error",
     "traceback": [
      "\u001b[0;31m---------------------------------------------------------------------------\u001b[0m",
      "\u001b[0;31mNameError\u001b[0m                                 Traceback (most recent call last)",
      "\u001b[0;32m<ipython-input-1-55ca6286e3e4>\u001b[0m in \u001b[0;36m<module>\u001b[0;34m\u001b[0m\n\u001b[0;32m----> 1\u001b[0;31m \u001b[0mhi\u001b[0m\u001b[0;34m\u001b[0m\u001b[0;34m\u001b[0m\u001b[0m\n\u001b[0m",
      "\u001b[0;31mNameError\u001b[0m: name 'hi' is not defined"
     ]
    }
   ],
   "source": [
    "hi"
   ]
  },
  {
   "cell_type": "code",
   "execution_count": 2,
   "metadata": {},
   "outputs": [
    {
     "ename": "NameError",
     "evalue": "name 'my' is not defined",
     "output_type": "error",
     "traceback": [
      "\u001b[0;31m---------------------------------------------------------------------------\u001b[0m",
      "\u001b[0;31mNameError\u001b[0m                                 Traceback (most recent call last)",
      "\u001b[0;32m<ipython-input-2-8c42a99f2faf>\u001b[0m in \u001b[0;36m<module>\u001b[0;34m\u001b[0m\n\u001b[0;32m----> 1\u001b[0;31m \u001b[0mmy\u001b[0m\u001b[0;34m\u001b[0m\u001b[0;34m\u001b[0m\u001b[0m\n\u001b[0m",
      "\u001b[0;31mNameError\u001b[0m: name 'my' is not defined"
     ]
    }
   ],
   "source": [
    "my"
   ]
  },
  {
   "cell_type": "code",
   "execution_count": 3,
   "metadata": {},
   "outputs": [
    {
     "ename": "NameError",
     "evalue": "name 'name' is not defined",
     "output_type": "error",
     "traceback": [
      "\u001b[0;31m---------------------------------------------------------------------------\u001b[0m",
      "\u001b[0;31mNameError\u001b[0m                                 Traceback (most recent call last)",
      "\u001b[0;32m<ipython-input-3-9bc0cb2ed6de>\u001b[0m in \u001b[0;36m<module>\u001b[0;34m\u001b[0m\n\u001b[0;32m----> 1\u001b[0;31m \u001b[0mname\u001b[0m\u001b[0;34m\u001b[0m\u001b[0;34m\u001b[0m\u001b[0m\n\u001b[0m",
      "\u001b[0;31mNameError\u001b[0m: name 'name' is not defined"
     ]
    }
   ],
   "source": [
    "name"
   ]
  },
  {
   "cell_type": "markdown",
   "metadata": {},
   "source": [
    "## echo section"
   ]
  },
  {
   "cell_type": "markdown",
   "metadata": {},
   "source": [
    "added comment"
   ]
  },
  {
   "cell_type": "code",
   "execution_count": null,
   "metadata": {},
   "outputs": [],
   "source": [
    "added cell"
   ]
  },
  {
   "cell_type": "markdown",
   "metadata": {},
   "source": [
    "## jerry section"
   ]
  },
  {
   "cell_type": "code",
   "execution_count": null,
   "metadata": {},
   "outputs": [],
   "source": [
    "# ds;alkfjds;lfkas;dghas'dlfjas;dlkfjas'dfj"
   ]
  },
  {
   "cell_type": "code",
   "execution_count": 1,
   "metadata": {},
   "outputs": [],
   "source": [
    "# this is another change a;sdfja;dfkasd;fajsd;fasdkfjas;fwef"
   ]
  },
  {
   "cell_type": "code",
   "execution_count": 2,
   "metadata": {},
   "outputs": [],
   "source": [
    "# yet another change ;asdlfkjas;dknva;djaweoifsd;laknfas;dfknasd"
   ]
  },
  {
   "cell_type": "code",
   "execution_count": 3,
   "metadata": {},
   "outputs": [
    {
     "data": {
      "text/plain": [
       "3.831008000716577e+22"
      ]
     },
     "execution_count": 3,
     "metadata": {},
     "output_type": "execute_result"
    }
   ],
   "source": [
    "x = np.exp(52)\n",
    "x"
   ]
  },
  {
   "cell_type": "code",
   "execution_count": null,
   "metadata": {},
   "outputs": [],
   "source": []
  },
  {
   "cell_type": "code",
   "execution_count": null,
   "metadata": {},
   "outputs": [],
   "source": []
  },
  {
   "cell_type": "code",
   "execution_count": null,
   "metadata": {},
   "outputs": [],
   "source": []
  },
  {
   "cell_type": "code",
   "execution_count": null,
   "metadata": {},
   "outputs": [],
   "source": []
  },
  {
   "cell_type": "code",
   "execution_count": null,
   "metadata": {},
   "outputs": [],
   "source": []
  },
  {
   "cell_type": "code",
   "execution_count": null,
   "metadata": {},
   "outputs": [],
   "source": []
  },
  {
   "cell_type": "code",
   "execution_count": null,
   "metadata": {},
   "outputs": [],
   "source": []
  },
  {
   "cell_type": "code",
   "execution_count": null,
   "metadata": {},
   "outputs": [],
   "source": []
  }
 ],
 "metadata": {
  "kernelspec": {
   "display_name": "Python 3",
   "language": "python",
   "name": "python3"
  },
  "language_info": {
   "codemirror_mode": {
    "name": "ipython",
    "version": 3
   },
   "file_extension": ".py",
   "mimetype": "text/x-python",
   "name": "python",
   "nbconvert_exporter": "python",
   "pygments_lexer": "ipython3",
   "version": "3.7.3"
  }
 },
 "nbformat": 4,
 "nbformat_minor": 2
}
